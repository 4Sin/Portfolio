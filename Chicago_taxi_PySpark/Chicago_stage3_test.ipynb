{
 "cells": [
  {
   "cell_type": "code",
   "execution_count": 1,
   "id": "2b4df4f1-7da6-4e2a-b363-fe1353d8ccb8",
   "metadata": {
    "scrolled": true
   },
   "outputs": [
    {
     "name": "stdout",
     "output_type": "stream",
     "text": [
      "Requirement already satisfied: prophet in /opt/conda/lib/python3.11/site-packages (1.1.4)\n",
      "Requirement already satisfied: cmdstanpy>=1.0.4 in /opt/conda/lib/python3.11/site-packages (from prophet) (1.1.0)\n",
      "Requirement already satisfied: numpy>=1.15.4 in /opt/conda/lib/python3.11/site-packages (from prophet) (1.24.4)\n",
      "Requirement already satisfied: matplotlib>=2.0.0 in /opt/conda/lib/python3.11/site-packages (from prophet) (3.7.2)\n",
      "Requirement already satisfied: pandas>=1.0.4 in /opt/conda/lib/python3.11/site-packages (from prophet) (1.5.3)\n",
      "Requirement already satisfied: LunarCalendar>=0.0.9 in /opt/conda/lib/python3.11/site-packages (from prophet) (0.0.9)\n",
      "Requirement already satisfied: convertdate>=2.1.2 in /opt/conda/lib/python3.11/site-packages (from prophet) (2.4.0)\n",
      "Requirement already satisfied: holidays>=0.25 in /opt/conda/lib/python3.11/site-packages (from prophet) (0.32)\n",
      "Requirement already satisfied: python-dateutil>=2.8.0 in /opt/conda/lib/python3.11/site-packages (from prophet) (2.8.2)\n",
      "Requirement already satisfied: tqdm>=4.36.1 in /opt/conda/lib/python3.11/site-packages (from prophet) (4.66.1)\n",
      "Requirement already satisfied: importlib-resources in /opt/conda/lib/python3.11/site-packages (from prophet) (6.0.1)\n",
      "Requirement already satisfied: pymeeus<=1,>=0.3.13 in /opt/conda/lib/python3.11/site-packages (from convertdate>=2.1.2->prophet) (0.5.12)\n",
      "Requirement already satisfied: ephem>=3.7.5.3 in /opt/conda/lib/python3.11/site-packages (from LunarCalendar>=0.0.9->prophet) (4.1.4)\n",
      "Requirement already satisfied: pytz in /opt/conda/lib/python3.11/site-packages (from LunarCalendar>=0.0.9->prophet) (2023.3)\n",
      "Requirement already satisfied: contourpy>=1.0.1 in /opt/conda/lib/python3.11/site-packages (from matplotlib>=2.0.0->prophet) (1.1.0)\n",
      "Requirement already satisfied: cycler>=0.10 in /opt/conda/lib/python3.11/site-packages (from matplotlib>=2.0.0->prophet) (0.11.0)\n",
      "Requirement already satisfied: fonttools>=4.22.0 in /opt/conda/lib/python3.11/site-packages (from matplotlib>=2.0.0->prophet) (4.42.1)\n",
      "Requirement already satisfied: kiwisolver>=1.0.1 in /opt/conda/lib/python3.11/site-packages (from matplotlib>=2.0.0->prophet) (1.4.5)\n",
      "Requirement already satisfied: packaging>=20.0 in /opt/conda/lib/python3.11/site-packages (from matplotlib>=2.0.0->prophet) (23.1)\n",
      "Requirement already satisfied: pillow>=6.2.0 in /opt/conda/lib/python3.11/site-packages (from matplotlib>=2.0.0->prophet) (10.0.0)\n",
      "Requirement already satisfied: pyparsing<3.1,>=2.3.1 in /opt/conda/lib/python3.11/site-packages (from matplotlib>=2.0.0->prophet) (3.0.9)\n",
      "Requirement already satisfied: six>=1.5 in /opt/conda/lib/python3.11/site-packages (from python-dateutil>=2.8.0->prophet) (1.16.0)\n",
      "Note: you may need to restart the kernel to use updated packages.\n"
     ]
    }
   ],
   "source": [
    "pip install prophet"
   ]
  },
  {
   "cell_type": "code",
   "execution_count": 2,
   "id": "dd3c0b45-989c-4baf-a802-d6c744c557d6",
   "metadata": {},
   "outputs": [
    {
     "name": "stderr",
     "output_type": "stream",
     "text": [
      "Importing plotly failed. Interactive plots will not work.\n"
     ]
    }
   ],
   "source": [
    "import pandas as pd\n",
    "import numpy as np\n",
    "import seaborn as sns\n",
    "import matplotlib.pyplot as plt\n",
    "import pyspark.sql.functions as F\n",
    "from prophet import Prophet\n",
    "\n",
    "from pyspark import SparkContext, SparkConf\n",
    "from pyspark.sql import SparkSession\n",
    "from pyspark.sql.types import *\n",
    "from pyspark.sql.functions import *\n",
    "from pyspark.sql.window import Window\n",
    "\n",
    "from pyspark.ml import Pipeline\n",
    "from pyspark.ml.feature import VectorAssembler, StandardScaler\n",
    "from pyspark.ml.evaluation import RegressionEvaluator\n",
    "from pyspark.ml.regression import LinearRegression"
   ]
  },
  {
   "cell_type": "code",
   "execution_count": 3,
   "id": "3dabc69c-e95b-4630-8902-47000d6dc722",
   "metadata": {},
   "outputs": [],
   "source": [
    "SPARK_MASTER_IP = '172.18.0.2' \n",
    "spark = SparkSession.builder.appName(\"pyspark-taxi-forecasting_stage2\") \\\n",
    "    .master(f\"spark://{SPARK_MASTER_IP}:7077\") \\\n",
    "    .config('spark.local.dir', 'spark_tmp/') \\\n",
    "    .config(\"spark.executor.cores\", 1) \\\n",
    "    .config(\"spark.task.cpus\", 1) \\\n",
    "    .getOrCreate()"
   ]
  },
  {
   "cell_type": "markdown",
   "id": "6f929899-b9a0-4563-9545-578919454fc7",
   "metadata": {},
   "source": [
    "spark = SparkSession.builder.appName(\"Introduction to Spark\").getOrCreate()"
   ]
  },
  {
   "cell_type": "code",
   "execution_count": 4,
   "id": "752633ce-1f11-485b-b3ca-b410a00b9538",
   "metadata": {
    "scrolled": true
   },
   "outputs": [
    {
     "data": {
      "text/html": [
       "\n",
       "            <div>\n",
       "                <p><b>SparkSession - in-memory</b></p>\n",
       "                \n",
       "        <div>\n",
       "            <p><b>SparkContext</b></p>\n",
       "\n",
       "            <p><a href=\"http://296123346d94:4040\">Spark UI</a></p>\n",
       "\n",
       "            <dl>\n",
       "              <dt>Version</dt>\n",
       "                <dd><code>v3.4.1</code></dd>\n",
       "              <dt>Master</dt>\n",
       "                <dd><code>spark://172.18.0.2:7077</code></dd>\n",
       "              <dt>AppName</dt>\n",
       "                <dd><code>pyspark-taxi-forecasting_stage2</code></dd>\n",
       "            </dl>\n",
       "        </div>\n",
       "        \n",
       "            </div>\n",
       "        "
      ],
      "text/plain": [
       "<pyspark.sql.session.SparkSession at 0x7f17a0d9b0d0>"
      ]
     },
     "execution_count": 4,
     "metadata": {},
     "output_type": "execute_result"
    }
   ],
   "source": [
    "spark"
   ]
  },
  {
   "cell_type": "markdown",
   "id": "1d4c46a6-482c-49dc-8416-9294695f6437",
   "metadata": {},
   "source": [
    "# Создадим признаки задерки и скользящего среднего"
   ]
  },
  {
   "cell_type": "code",
   "execution_count": 5,
   "id": "c84bd6f8-48bf-4172-97e2-88b29bb14074",
   "metadata": {
    "scrolled": true
   },
   "outputs": [],
   "source": [
    "all_hours = spark.read.csv(\"all_hours_onlycode.csv\", header = True, inferSchema = True)"
   ]
  },
  {
   "cell_type": "code",
   "execution_count": 6,
   "id": "637d98a1-3fc9-407c-bf93-81217db83258",
   "metadata": {},
   "outputs": [],
   "source": [
    "test = spark.read.csv(\"y_true_2023-07-31_23-00_UTC0.csv\", header = True, inferSchema = True)\n",
    "test = test.withColumn('ds', test['hours']) \\\n",
    "    .withColumn('pickup_community_area', test['Pickup Community Area']) \\\n",
    "    .withColumn('y', test['trips_count'])"
   ]
  },
  {
   "cell_type": "code",
   "execution_count": 7,
   "id": "1f2e941b-555c-4661-91f6-489765e6aaf8",
   "metadata": {
    "scrolled": true
   },
   "outputs": [
    {
     "name": "stdout",
     "output_type": "stream",
     "text": [
      "+---------------------+-------------------+-----------+-------------------+---------------------+---+\n",
      "|Pickup Community Area|              hours|trips_count|                 ds|pickup_community_area|  y|\n",
      "+---------------------+-------------------+-----------+-------------------+---------------------+---+\n",
      "|                    0|2023-07-31 23:00:00|         22|2023-07-31 23:00:00|                    0| 22|\n",
      "|                    1|2023-07-31 23:00:00|          2|2023-07-31 23:00:00|                    1|  2|\n",
      "|                    2|2023-07-31 23:00:00|          1|2023-07-31 23:00:00|                    2|  1|\n",
      "|                    3|2023-07-31 23:00:00|          5|2023-07-31 23:00:00|                    3|  5|\n",
      "|                    4|2023-07-31 23:00:00|          0|2023-07-31 23:00:00|                    4|  0|\n",
      "|                    5|2023-07-31 23:00:00|          4|2023-07-31 23:00:00|                    5|  4|\n",
      "|                    6|2023-07-31 23:00:00|         49|2023-07-31 23:00:00|                    6| 49|\n",
      "|                    7|2023-07-31 23:00:00|          8|2023-07-31 23:00:00|                    7|  8|\n",
      "|                    8|2023-07-31 23:00:00|         63|2023-07-31 23:00:00|                    8| 63|\n",
      "|                    9|2023-07-31 23:00:00|          0|2023-07-31 23:00:00|                    9|  0|\n",
      "|                   10|2023-07-31 23:00:00|          2|2023-07-31 23:00:00|                   10|  2|\n",
      "|                   11|2023-07-31 23:00:00|          1|2023-07-31 23:00:00|                   11|  1|\n",
      "|                   12|2023-07-31 23:00:00|          0|2023-07-31 23:00:00|                   12|  0|\n",
      "|                   13|2023-07-31 23:00:00|          0|2023-07-31 23:00:00|                   13|  0|\n",
      "|                   14|2023-07-31 23:00:00|          1|2023-07-31 23:00:00|                   14|  1|\n",
      "|                   15|2023-07-31 23:00:00|          0|2023-07-31 23:00:00|                   15|  0|\n",
      "|                   16|2023-07-31 23:00:00|          1|2023-07-31 23:00:00|                   16|  1|\n",
      "|                   17|2023-07-31 23:00:00|          0|2023-07-31 23:00:00|                   17|  0|\n",
      "|                   18|2023-07-31 23:00:00|          0|2023-07-31 23:00:00|                   18|  0|\n",
      "|                   19|2023-07-31 23:00:00|          0|2023-07-31 23:00:00|                   19|  0|\n",
      "+---------------------+-------------------+-----------+-------------------+---------------------+---+\n",
      "only showing top 20 rows\n",
      "\n"
     ]
    },
    {
     "data": {
      "text/plain": [
       "78"
      ]
     },
     "execution_count": 7,
     "metadata": {},
     "output_type": "execute_result"
    }
   ],
   "source": [
    "test.show()\n",
    "test.count()"
   ]
  },
  {
   "cell_type": "code",
   "execution_count": 8,
   "id": "60197e5b-c921-4482-9476-3fe2ca794764",
   "metadata": {
    "scrolled": true
   },
   "outputs": [],
   "source": [
    "column_list = [\"pickup_community_area\"]\n",
    "  \n",
    "\n",
    "Windowspec = Window.partitionBy([\"pickup_community_area\"]).orderBy(all_hours.hour_cons.desc())\n",
    "  \n",
    "all_hours_lagged = all_hours.withColumn(\n",
    "    'med_cost_lagged1', lag(all_hours['cost_median'], -1).over(Windowspec)).withColumn(\n",
    "    'med_miles_lagged1', lag(all_hours['miles_median'], -1).over(Windowspec)).withColumn(\n",
    "    'med_seconds_lagged1', lag(all_hours['seconds_median'], -1).over(Windowspec)).withColumn(\n",
    "    'trips_count_lagged1', lag(all_hours['trips_count'], -1).over(Windowspec)).withColumn(\n",
    "    'trips_count_lagged2', lag(all_hours['trips_count'], -2).over(Windowspec)).withColumn(\n",
    "    'trips_count_lagged3', lag(all_hours['trips_count'], -3).over(Windowspec)).withColumn(\n",
    "    'trips_count_lagged12', lag(all_hours['trips_count'], -12).over(Windowspec)).withColumn(\n",
    "    'trips_count_lagged24', lag(all_hours['trips_count'], -24).over(Windowspec)).withColumn(\n",
    "    'trips_count_lagged_week', lag(all_hours['trips_count'], -24*7).over(Windowspec))\n",
    "\n",
    "all_hours_lagged = all_hours_lagged.withColumn(\n",
    "    'rolling_average_on3hours', avg(all_hours_lagged['trips_count_lagged1'],).over(Windowspec.rowsBetween(-3, -0))) \\\n",
    "    .withColumn('rolling_average_on24hours', avg(all_hours_lagged['trips_count_lagged1'],).over(Windowspec.rowsBetween(-24, -0))) \\\n",
    "    .na.drop('any').cache()\n"
   ]
  },
  {
   "cell_type": "markdown",
   "id": "7bd76a88-b3d6-4ffd-a971-32acbd5f21cc",
   "metadata": {},
   "source": [
    "# Проведем предсказания с помощью модели Prophet"
   ]
  },
  {
   "cell_type": "markdown",
   "id": "8b605309-2f99-4c5a-8dc0-2a23ca6a2b10",
   "metadata": {},
   "source": [
    "## Разделим данные для Prophet"
   ]
  },
  {
   "cell_type": "code",
   "execution_count": 9,
   "id": "ded169bc-f925-40b0-a856-9dfad4d3587a",
   "metadata": {
    "scrolled": true
   },
   "outputs": [
    {
     "name": "stdout",
     "output_type": "stream",
     "text": [
      "== Physical Plan ==\n",
      "InMemoryTableScan [pickup_community_area#18, ds#396, y#397]\n",
      "   +- InMemoryRelation [pickup_community_area#18, ds#396, y#397], StorageLevel(disk, memory, deserialized, 1 replicas)\n",
      "         +- Exchange hashpartitioning(pickup_community_area#18, 4), REPARTITION_BY_NUM, [plan_id=157]\n",
      "            +- *(1) Project [pickup_community_area#18, hour_cons#19 AS ds#396, trips_count#21 AS y#397]\n",
      "               +- *(1) Filter (isnotnull(hour_cons#19) AND (hour_cons#19 < 2023-07-31 23:00:00))\n",
      "                  +- InMemoryTableScan [hour_cons#19, pickup_community_area#18, trips_count#21], [isnotnull(hour_cons#19), (hour_cons#19 < 2023-07-31 23:00:00)]\n",
      "                        +- InMemoryRelation [_c0#17, pickup_community_area#18, hour_cons#19, taxi_countdist#20, trips_count#21, cost_median#22, miles_median#23, seconds_median#24, med_cost_lagged1#114, med_miles_lagged1#125, med_seconds_lagged1#136, trips_count_lagged1#148, trips_count_lagged2#161, trips_count_lagged3#175, trips_count_lagged12#190, trips_count_lagged24#206, trips_count_lagged_week#223, rolling_average_on3hours#242, rolling_average_on24hours#262], StorageLevel(disk, memory, deserialized, 1 replicas)\n",
      "                              +- *(2) Filter atleastnnonnulls(19, _c0#17, pickup_community_area#18, hour_cons#19, taxi_countdist#20, trips_count#21, cost_median#22, miles_median#23, seconds_median#24, med_cost_lagged1#114, med_miles_lagged1#125, med_seconds_lagged1#136, trips_count_lagged1#148, trips_count_lagged2#161, trips_count_lagged3#175, trips_count_lagged12#190, trips_count_lagged24#206, trips_count_lagged_week#223, rolling_average_on3hours#242, rolling_average_on24hours#262)\n",
      "                                 +- Window [lag(trips_count#21, 168, null) windowspecdefinition(pickup_community_area#18, hour_cons#19 DESC NULLS LAST, specifiedwindowframe(RowFrame, 168, 168)) AS trips_count_lagged_week#223, avg(trips_count_lagged1#148) windowspecdefinition(pickup_community_area#18, hour_cons#19 DESC NULLS LAST, specifiedwindowframe(RowFrame, -3, currentrow$())) AS rolling_average_on3hours#242, avg(trips_count_lagged1#148) windowspecdefinition(pickup_community_area#18, hour_cons#19 DESC NULLS LAST, specifiedwindowframe(RowFrame, -24, currentrow$())) AS rolling_average_on24hours#262], [pickup_community_area#18], [hour_cons#19 DESC NULLS LAST]\n",
      "                                    +- Window [lag(cost_median#22, 1, null) windowspecdefinition(pickup_community_area#18, hour_cons#19 DESC NULLS LAST, specifiedwindowframe(RowFrame, 1, 1)) AS med_cost_lagged1#114, lag(miles_median#23, 1, null) windowspecdefinition(pickup_community_area#18, hour_cons#19 DESC NULLS LAST, specifiedwindowframe(RowFrame, 1, 1)) AS med_miles_lagged1#125, lag(seconds_median#24, 1, null) windowspecdefinition(pickup_community_area#18, hour_cons#19 DESC NULLS LAST, specifiedwindowframe(RowFrame, 1, 1)) AS med_seconds_lagged1#136, lag(trips_count#21, 1, null) windowspecdefinition(pickup_community_area#18, hour_cons#19 DESC NULLS LAST, specifiedwindowframe(RowFrame, 1, 1)) AS trips_count_lagged1#148, lag(trips_count#21, 2, null) windowspecdefinition(pickup_community_area#18, hour_cons#19 DESC NULLS LAST, specifiedwindowframe(RowFrame, 2, 2)) AS trips_count_lagged2#161, lag(trips_count#21, 3, null) windowspecdefinition(pickup_community_area#18, hour_cons#19 DESC NULLS LAST, specifiedwindowframe(RowFrame, 3, 3)) AS trips_count_lagged3#175, lag(trips_count#21, 12, null) windowspecdefinition(pickup_community_area#18, hour_cons#19 DESC NULLS LAST, specifiedwindowframe(RowFrame, 12, 12)) AS trips_count_lagged12#190, lag(trips_count#21, 24, null) windowspecdefinition(pickup_community_area#18, hour_cons#19 DESC NULLS LAST, specifiedwindowframe(RowFrame, 24, 24)) AS trips_count_lagged24#206], [pickup_community_area#18], [hour_cons#19 DESC NULLS LAST]\n",
      "                                       +- *(1) Sort [pickup_community_area#18 ASC NULLS FIRST, hour_cons#19 DESC NULLS LAST], false, 0\n",
      "                                          +- Exchange hashpartitioning(pickup_community_area#18, 200), ENSURE_REQUIREMENTS, [plan_id=140]\n",
      "                                             +- FileScan csv [_c0#17,pickup_community_area#18,hour_cons#19,taxi_countdist#20,trips_count#21,cost_median#22,miles_median#23,seconds_median#24] Batched: false, DataFilters: [], Format: CSV, Location: InMemoryFileIndex(1 paths)[file:/work/all_hours_onlycode.csv], PartitionFilters: [], PushedFilters: [], ReadSchema: struct<_c0:int,pickup_community_area:int,hour_cons:timestamp,taxi_countdist:int,trips_count:int,c...\n",
      "\n",
      "\n"
     ]
    }
   ],
   "source": [
    "train_proph = all_hours_lagged.filter((all_hours_lagged.hour_cons < '2023-07-31 23:00:00')) \\\n",
    "    .selectExpr( 'pickup_community_area',\n",
    "    'hour_cons as ds', 'trips_count as y')\n",
    "# Partition the data dfsp_partitionned\n",
    "train_proph.createOrReplaceTempView(\"pickup_community_area\")\n",
    "sql = \"select * from pickup_community_area\"\n",
    "train_proph = (spark.sql(sql)\\\n",
    "   .repartition(spark.sparkContext.defaultParallelism, \n",
    "   ['pickup_community_area'])).cache()\n",
    "train_proph.explain()"
   ]
  },
  {
   "cell_type": "code",
   "execution_count": 10,
   "id": "cccfdd6a-30fd-4652-add2-d99c97f940ef",
   "metadata": {
    "scrolled": true
   },
   "outputs": [],
   "source": [
    "valid_proph = all_hours_lagged.filter(all_hours_lagged.hour_cons == '2023-07-31 23:00:00') \\\n",
    "    .selectExpr( 'pickup_community_area',\n",
    "    'hour_cons as ds', 'trips_count as y') \\\n",
    "    .withColumn(\"y\",col(\"y\").cast(DoubleType()))"
   ]
  },
  {
   "cell_type": "markdown",
   "id": "b2b45b03-c418-4fe8-8b76-3e9e2bd5f1e6",
   "metadata": {},
   "source": [
    "## Проведем обучение и предсказание модели через функцию Pandas_udf"
   ]
  },
  {
   "cell_type": "code",
   "execution_count": 11,
   "id": "053a52e5-5d08-432a-8bf9-3ac38e62f938",
   "metadata": {},
   "outputs": [],
   "source": [
    "# Define a schema\n",
    "schema = StructType([ \\\n",
    "                     StructField('pickup_community_area', IntegerType()), \n",
    "                     StructField('ds', TimestampType()),\n",
    "                     StructField('y', FloatType()),\n",
    "                     StructField('yhat', DoubleType()),\n",
    "                     StructField('daily', DoubleType()),\n",
    "                     StructField('weekly', DoubleType())\n",
    "                    ])"
   ]
  },
  {
   "cell_type": "code",
   "execution_count": 12,
   "id": "a377bec3-0d64-45ad-ac1e-892df332fb68",
   "metadata": {
    "scrolled": true
   },
   "outputs": [
    {
     "name": "stderr",
     "output_type": "stream",
     "text": [
      "/usr/local/spark/python/pyspark/sql/pandas/group_ops.py:103: UserWarning: It is preferred to use 'applyInPandas' over this API. This API will be deprecated in the future releases. See SPARK-28264 for more details.\n",
      "  warnings.warn(\n"
     ]
    }
   ],
   "source": [
    "# define the Pandas UDF\n",
    "@pandas_udf(schema, PandasUDFType.GROUPED_MAP)\n",
    "def apply_model(store_pd):  # instantiate the model and set parameters\n",
    "  model = Prophet(\n",
    "      interval_width=0.95,\n",
    "      growth='linear',\n",
    "      n_changepoints = 150,\n",
    "      daily_seasonality=True,\n",
    "      weekly_seasonality=True,\n",
    "      yearly_seasonality=True,\n",
    "      seasonality_mode='additive'\n",
    "  )  # fit the model to historical data\n",
    "  model.fit(store_pd)  # Create a data frame that lists 90 dates starting from Jan 1 2018\n",
    "  future = model.make_future_dataframe(\n",
    "      periods=1, #valid_proph.filter(valid_proph.pickup_community_area==community_num).count(),\n",
    "      freq='h',\n",
    "      include_history=True\n",
    "   )  # Out of sample prediction\n",
    "  prediction = model.predict(future)  # Create a data frame that contains store, item, y, and yhat\n",
    "  f_pd = prediction[['ds', 'yhat', 'daily', 'weekly']]\n",
    "  st_pd = store_pd[['ds', 'pickup_community_area', 'y']]\n",
    "  result_pd = f_pd.join(st_pd.set_index('ds'), on='ds', how='left')  # fill store and item\n",
    "  result_pd['pickup_community_area'] = store_pd['pickup_community_area'].iloc[0]\n",
    "  return result_pd[['pickup_community_area', 'ds', 'y', 'yhat',\n",
    "                    'daily', 'weekly']]# Apply the function to all store-items\n",
    "# Print the results - calculate the time to run\n",
    "results = train_proph.groupby(['pickup_community_area']).apply(apply_model).cache()\n"
   ]
  },
  {
   "cell_type": "markdown",
   "id": "2b50a44d-ae06-408d-b03a-1f6acb82bf22",
   "metadata": {},
   "source": [
    "# Проведем обучение и предсказания"
   ]
  },
  {
   "cell_type": "markdown",
   "id": "5484c982-cfb1-4d1f-9baa-09096fa6991f",
   "metadata": {},
   "source": [
    "## Выделим тренировочную и тестовую выборки"
   ]
  },
  {
   "cell_type": "code",
   "execution_count": 13,
   "id": "9b4bbcf7-bf04-4c0c-a568-9b3e724559bf",
   "metadata": {
    "scrolled": true
   },
   "outputs": [],
   "source": [
    "train_lr = all_hours_lagged.filter((all_hours_lagged.hour_cons < '2023-07-31 23:00:00')) \\\n",
    "    .selectExpr( 'pickup_community_area',\n",
    "    'med_cost_lagged1','med_miles_lagged1','med_seconds_lagged1',\n",
    "    'trips_count_lagged1', 'trips_count_lagged2', 'trips_count_lagged3', \n",
    "    'trips_count_lagged12', 'trips_count_lagged24','trips_count_lagged_week',\n",
    "    'rolling_average_on3hours',\n",
    "    'rolling_average_on24hours',\n",
    "    'hour_cons as ds', 'trips_count as y') \\\n",
    "        .join(results['pickup_community_area', 'ds', 'daily', 'weekly'], on=['ds','pickup_community_area'] , how='inner').cache()"
   ]
  },
  {
   "cell_type": "code",
   "execution_count": 14,
   "id": "a388dfc6-fdad-4eaa-bbe5-308b38e15358",
   "metadata": {
    "scrolled": true
   },
   "outputs": [],
   "source": [
    "test_lr = all_hours_lagged.filter(all_hours_lagged.hour_cons == '2023-07-31 23:00:00') \\\n",
    "    .selectExpr('pickup_community_area',\n",
    "    'med_cost_lagged1','med_miles_lagged1','med_seconds_lagged1',\n",
    "    'trips_count_lagged1', 'trips_count_lagged2', 'trips_count_lagged3', \n",
    "    'trips_count_lagged12', 'trips_count_lagged24','trips_count_lagged_week',\n",
    "    'rolling_average_on3hours',\n",
    "    'rolling_average_on24hours',\n",
    "    'hour_cons as ds').join(     #'trips_count as y') \\\n",
    "    results['pickup_community_area', 'ds', 'daily', 'weekly'], on=['ds','pickup_community_area'] , how='inner').cache()"
   ]
  },
  {
   "cell_type": "code",
   "execution_count": 15,
   "id": "ce71e862-4a67-4818-9a09-e0557e7530d0",
   "metadata": {},
   "outputs": [],
   "source": [
    "featureCols = [\n",
    "    'med_cost_lagged1','med_miles_lagged1','med_seconds_lagged1',\n",
    "    'trips_count_lagged1', 'trips_count_lagged2', 'trips_count_lagged3', \n",
    "    'trips_count_lagged12', 'trips_count_lagged24','trips_count_lagged_week',\n",
    "    'rolling_average_on3hours',\n",
    "    'rolling_average_on24hours',\n",
    "     'daily', 'weekly'\n",
    "]"
   ]
  },
  {
   "cell_type": "markdown",
   "id": "1a9228b0-a527-4d79-80f8-87a9bfe91109",
   "metadata": {},
   "source": [
    "## Создадим pipeline"
   ]
  },
  {
   "cell_type": "code",
   "execution_count": 16,
   "id": "6dc9e4b3-d8ca-4142-bc44-4cf4b724f3de",
   "metadata": {
    "scrolled": true
   },
   "outputs": [],
   "source": [
    "# положить фичи в вектор\n",
    "assembler = VectorAssembler(inputCols=featureCols, outputCol=\"features\") "
   ]
  },
  {
   "cell_type": "code",
   "execution_count": 17,
   "id": "2f3e7efb-00b7-49f8-a3fd-fd8c6a6b05d4",
   "metadata": {},
   "outputs": [],
   "source": [
    "standardScaler = StandardScaler(inputCol=\"features\", outputCol=\"features_scaled\", withStd = True)"
   ]
  },
  {
   "cell_type": "code",
   "execution_count": 18,
   "id": "0ad6f8fe-8fd3-4f25-b4c7-e93b37fb343e",
   "metadata": {},
   "outputs": [],
   "source": [
    "lr = (LinearRegression(featuresCol='features_scaled', labelCol=\"y\", predictionCol='y_pred')) \n",
    "#                               maxIter=10, regParam=0.3, elasticNetParam=0.8, standardization=False))"
   ]
  },
  {
   "cell_type": "code",
   "execution_count": 19,
   "id": "793485ca-3a54-4b0d-b8bc-24c3bf499246",
   "metadata": {},
   "outputs": [],
   "source": [
    "pipeline = Pipeline(stages=[assembler, standardScaler, lr])"
   ]
  },
  {
   "cell_type": "code",
   "execution_count": 20,
   "id": "6c5b2f96-6f10-4c80-bd07-53922840a52d",
   "metadata": {},
   "outputs": [],
   "source": [
    "evaluator = RegressionEvaluator(predictionCol=\"y_pred\", labelCol='y', metricName='mae')"
   ]
  },
  {
   "cell_type": "markdown",
   "id": "49ee8292-a8d7-4316-b88a-861350b9e147",
   "metadata": {},
   "source": [
    "# Реализуем регрессию для каждого региона через функцию"
   ]
  },
  {
   "cell_type": "code",
   "execution_count": 21,
   "id": "0b8d8535-2e73-457c-a62e-69f9959b0180",
   "metadata": {},
   "outputs": [],
   "source": [
    "def modelsandpredictions(func_community):\n",
    "        \n",
    "    temp_train = train_lr.filter(train_lr.pickup_community_area == func_community)\n",
    "    temp_test = test_lr.filter(test_lr.pickup_community_area == func_community)\n",
    "    \n",
    "    temp_lr = pipeline.fit(temp_train)\n",
    "    temp_pred = temp_lr.transform(temp_test)\n",
    "    temp_predandtrue = temp_pred.select(\n",
    "                                        'pickup_community_area',\n",
    "                                        'ds',\n",
    "                                        \"y_pred\", \n",
    "                                        ).withColumn(\"y_pred\",F.round(temp_pred[\"y_pred\"],0)) \n",
    "    temp_predandtrue = temp_predandtrue.withColumn('y_pred', F.when((F.col(\"y_pred\") <= 0), 0)\\\n",
    "        .otherwise(temp_predandtrue.y_pred)).cache()\n",
    "    #temp_lr = lr.fit(temp_train.union(temp_test))\n",
    "    #temp_lr.write().overwrite().save(\"/models/lr{0}\".format(i))\n",
    "    return temp_predandtrue"
   ]
  },
  {
   "cell_type": "code",
   "execution_count": 22,
   "id": "6945a542-6dc4-4793-9de3-d02d29bb747c",
   "metadata": {},
   "outputs": [],
   "source": [
    "preds_schema = StructType([ \\\n",
    "    StructField(\"pickup_community_area\",IntegerType (),True), \\\n",
    "    StructField(\"ds\",TimestampType(),True), \\\n",
    "    StructField(\"y_pred\",FloatType(),True) \\\n",
    "  ])"
   ]
  },
  {
   "cell_type": "code",
   "execution_count": 23,
   "id": "ddd7ab8c-c2ba-4091-941f-0c5e6909a4bf",
   "metadata": {
    "scrolled": true
   },
   "outputs": [
    {
     "name": "stdout",
     "output_type": "stream",
     "text": [
      "CPU times: user 5.89 s, sys: 2.53 s, total: 8.43 s\n",
      "Wall time: 12min 24s\n"
     ]
    }
   ],
   "source": [
    "%%time\n",
    "test_preds = spark.createDataFrame([],preds_schema)\n",
    "for i in range(78):\n",
    "    test_preds = test_preds.union(modelsandpredictions(i))"
   ]
  },
  {
   "cell_type": "code",
   "execution_count": 24,
   "id": "b84af7dd-d99c-4a80-a368-827b8388915b",
   "metadata": {
    "scrolled": true
   },
   "outputs": [
    {
     "name": "stdout",
     "output_type": "stream",
     "text": [
      "+---------------------+-------------------+------+\n",
      "|pickup_community_area|                 ds|y_pred|\n",
      "+---------------------+-------------------+------+\n",
      "|                    0|2023-07-31 23:00:00|   0.0|\n",
      "|                    1|2023-07-31 23:00:00|   2.0|\n",
      "|                    2|2023-07-31 23:00:00|   0.0|\n",
      "|                    3|2023-07-31 23:00:00|   3.0|\n",
      "|                    4|2023-07-31 23:00:00|   2.0|\n",
      "+---------------------+-------------------+------+\n",
      "only showing top 5 rows\n",
      "\n"
     ]
    },
    {
     "data": {
      "text/plain": [
       "78"
      ]
     },
     "execution_count": 24,
     "metadata": {},
     "output_type": "execute_result"
    }
   ],
   "source": [
    "test_preds.show(5)\n",
    "test_preds.count()"
   ]
  },
  {
   "cell_type": "code",
   "execution_count": 25,
   "id": "f699dcd9-b811-468c-bb94-b6c28ffbd88c",
   "metadata": {
    "scrolled": true
   },
   "outputs": [],
   "source": [
    "trueandpreds = test.join(test_preds, on=['ds','pickup_community_area'], how='inner') \\\n",
    "    .select(\n",
    "        test.ds,\n",
    "        test.pickup_community_area,\n",
    "        test.y,\n",
    "        test_preds.y_pred).cache()"
   ]
  },
  {
   "cell_type": "markdown",
   "id": "b632519d-6ac6-4b68-bba1-5e2b644efa72",
   "metadata": {},
   "source": [
    "## Посмотрим финальные предсказания и оценим их"
   ]
  },
  {
   "cell_type": "code",
   "execution_count": 22,
   "id": "0731d40c-7333-4c2e-8ebe-920313ddad63",
   "metadata": {
    "scrolled": true
   },
   "outputs": [
    {
     "name": "stdout",
     "output_type": "stream",
     "text": [
      "+-------------------+---------------------+---+------+\n",
      "|                 ds|pickup_community_area|  y|y_pred|\n",
      "+-------------------+---------------------+---+------+\n",
      "|2023-07-31 23:00:00|                   77|  2|   4.0|\n",
      "|2023-07-31 23:00:00|                   76|160| 205.0|\n",
      "|2023-07-31 23:00:00|                   75|  0|   3.0|\n",
      "|2023-07-31 23:00:00|                   74|  0|   0.0|\n",
      "|2023-07-31 23:00:00|                   73|  0|   0.0|\n",
      "|2023-07-31 23:00:00|                   72|  0|   1.0|\n",
      "|2023-07-31 23:00:00|                   71|  0|   2.0|\n",
      "|2023-07-31 23:00:00|                   70|  0|   2.0|\n",
      "|2023-07-31 23:00:00|                   69|  2|   0.0|\n",
      "|2023-07-31 23:00:00|                   68|  0|   3.0|\n",
      "|2023-07-31 23:00:00|                   67|  0|   1.0|\n",
      "|2023-07-31 23:00:00|                   66|  2|   1.0|\n",
      "|2023-07-31 23:00:00|                   65|  0|   1.0|\n",
      "|2023-07-31 23:00:00|                   64|  0|   0.0|\n",
      "|2023-07-31 23:00:00|                   63|  0|   0.0|\n",
      "|2023-07-31 23:00:00|                   62|  0|   0.0|\n",
      "|2023-07-31 23:00:00|                   61|  0|   1.0|\n",
      "|2023-07-31 23:00:00|                   60|  0|   0.0|\n",
      "|2023-07-31 23:00:00|                   59|  0|   0.0|\n",
      "|2023-07-31 23:00:00|                   58|  0|   0.0|\n",
      "|2023-07-31 23:00:00|                   57|  1|   0.0|\n",
      "|2023-07-31 23:00:00|                   56| 31|  34.0|\n",
      "|2023-07-31 23:00:00|                   55|  0|   0.0|\n",
      "|2023-07-31 23:00:00|                   54|  0|   1.0|\n",
      "|2023-07-31 23:00:00|                   53|  0|   2.0|\n",
      "|2023-07-31 23:00:00|                   52|  0|   0.0|\n",
      "|2023-07-31 23:00:00|                   51|  0|   0.0|\n",
      "|2023-07-31 23:00:00|                   50|  3|   0.0|\n",
      "|2023-07-31 23:00:00|                   49|  1|   1.0|\n",
      "|2023-07-31 23:00:00|                   48|  0|   1.0|\n",
      "|2023-07-31 23:00:00|                   47|  0|   0.0|\n",
      "|2023-07-31 23:00:00|                   46|  0|   0.0|\n",
      "|2023-07-31 23:00:00|                   45|  0|   1.0|\n",
      "|2023-07-31 23:00:00|                   44|  0|   2.0|\n",
      "|2023-07-31 23:00:00|                   43|  1|   2.0|\n",
      "|2023-07-31 23:00:00|                   42|  0|   0.0|\n",
      "|2023-07-31 23:00:00|                   41|  5|   0.0|\n",
      "|2023-07-31 23:00:00|                   40|  0|   0.0|\n",
      "|2023-07-31 23:00:00|                   39|  0|   0.0|\n",
      "|2023-07-31 23:00:00|                   38|  0|   1.0|\n",
      "|2023-07-31 23:00:00|                   37|  0|   2.0|\n",
      "|2023-07-31 23:00:00|                   36|  1|   1.0|\n",
      "|2023-07-31 23:00:00|                   35|  1|   0.0|\n",
      "|2023-07-31 23:00:00|                   34|  1|   3.0|\n",
      "|2023-07-31 23:00:00|                   33|  4|   4.0|\n",
      "|2023-07-31 23:00:00|                   32| 28|  42.0|\n",
      "|2023-07-31 23:00:00|                   31|  0|   0.0|\n",
      "|2023-07-31 23:00:00|                   30|  0|   0.0|\n",
      "|2023-07-31 23:00:00|                   29|  0|   1.0|\n",
      "|2023-07-31 23:00:00|                   28| 31|  33.0|\n",
      "|2023-07-31 23:00:00|                   27|  0|   0.0|\n",
      "|2023-07-31 23:00:00|                   26|  0|   1.0|\n",
      "|2023-07-31 23:00:00|                   25|  0|   0.0|\n",
      "|2023-07-31 23:00:00|                   24|  1|   4.0|\n",
      "|2023-07-31 23:00:00|                   23|  2|   0.0|\n",
      "|2023-07-31 23:00:00|                   22|  5|   0.0|\n",
      "|2023-07-31 23:00:00|                   21|  0|   1.0|\n",
      "|2023-07-31 23:00:00|                   20|  0|   0.0|\n",
      "|2023-07-31 23:00:00|                   19|  0|   0.0|\n",
      "|2023-07-31 23:00:00|                   18|  0|   0.0|\n",
      "|2023-07-31 23:00:00|                   17|  0|   0.0|\n",
      "|2023-07-31 23:00:00|                   16|  1|   1.0|\n",
      "|2023-07-31 23:00:00|                   15|  0|   0.0|\n",
      "|2023-07-31 23:00:00|                   14|  1|   1.0|\n",
      "|2023-07-31 23:00:00|                   13|  0|   0.0|\n",
      "|2023-07-31 23:00:00|                   12|  0|   1.0|\n",
      "|2023-07-31 23:00:00|                   11|  1|   0.0|\n",
      "|2023-07-31 23:00:00|                   10|  2|   1.0|\n",
      "|2023-07-31 23:00:00|                    9|  0|   0.0|\n",
      "|2023-07-31 23:00:00|                    8| 63|  73.0|\n",
      "|2023-07-31 23:00:00|                    7|  8|   7.0|\n",
      "|2023-07-31 23:00:00|                    6| 49|  48.0|\n",
      "|2023-07-31 23:00:00|                    5|  4|   1.0|\n",
      "|2023-07-31 23:00:00|                    4|  0|   2.0|\n",
      "|2023-07-31 23:00:00|                    3|  5|   3.0|\n",
      "|2023-07-31 23:00:00|                    2|  1|   0.0|\n",
      "|2023-07-31 23:00:00|                    1|  2|   2.0|\n",
      "|2023-07-31 23:00:00|                    0| 22|   0.0|\n",
      "+-------------------+---------------------+---+------+\n",
      "\n",
      "LinearRegression MAE: 2.1025641025641026\n",
      "MAPE: [Row(avg((abs(((y - y_pred) / y)) * 100))=65.79573756314875)]\n",
      "CPU times: user 4.02 s, sys: 1.55 s, total: 5.57 s\n",
      "Wall time: 13min 26s\n"
     ]
    }
   ],
   "source": [
    "%%time\n",
    "trueandpreds.sort(trueandpreds.pickup_community_area.desc()).show(80)\n",
    "print(\"LinearRegression MAE: {0}\".format(evaluator.evaluate(trueandpreds)))\n",
    "print('MAPE:',\n",
    "    trueandpreds.select(avg((100*abs((trueandpreds.y - trueandpreds.y_pred) / trueandpreds.y)))).collect())"
   ]
  },
  {
   "cell_type": "markdown",
   "id": "2ba8d541-2d90-45c0-bb4d-6cb2cb88fddf",
   "metadata": {},
   "source": [
    "    Окончательные ошибки отдельных Линейных регрессий для каждого района составили\n",
    "    МАЕ: 2.1025641025641026\n",
    "    МАРЕ: 65.79573756314875\n",
    "\n",
    "    Возможно, тестовые данные были обработаны иначе. Необходимо определить и скоординировать в частности, работу с пропусками и заполнение района 0 в тестовых и тренировочных данных."
   ]
  }
 ],
 "metadata": {
  "kernelspec": {
   "display_name": "Python 3 (ipykernel)",
   "language": "python",
   "name": "python3"
  },
  "language_info": {
   "codemirror_mode": {
    "name": "ipython",
    "version": 3
   },
   "file_extension": ".py",
   "mimetype": "text/x-python",
   "name": "python",
   "nbconvert_exporter": "python",
   "pygments_lexer": "ipython3",
   "version": "3.11.5"
  }
 },
 "nbformat": 4,
 "nbformat_minor": 5
}
