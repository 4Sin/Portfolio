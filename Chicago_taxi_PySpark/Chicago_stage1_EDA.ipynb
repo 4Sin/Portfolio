{
 "cells": [
  {
   "cell_type": "markdown",
   "id": "002d60f8-0395-4853-8731-fc013cc3391f",
   "metadata": {},
   "source": [
    "## Прогноз количества заказов такси"
   ]
  },
  {
   "cell_type": "markdown",
   "id": "0803c0a7-3fe6-4d8b-8951-f996d53ca3f6",
   "metadata": {},
   "source": [
    "Агрегатор такси в Чикаго хочет прогнозировать количество заказов в каждом районе. \n",
    "Это необходимо, чтобы в моменты пиковой нагрузки привлекать больше водителей, а во время спада оотправлять их в другие места. \n",
    "Для обучения модели машинного обучения предоставлены данные о 10 млн заказов такси за 2022 и 2023 год.\n",
    "Информацию собирает регулирующий орган. Из соображений конфиденциальности, идентификатор такси соответствует заданному номеру медальона такси, переписные участки в некоторых случаях скрыты, а время округляется до ближайших 15 минут.\n",
    "\n",
    "Метриками качества приняты МАЕ и MAPE.\n",
    "\n",
    "По условиям проекта, необходимо развернуть локальные контейнеры через Docker и произвести большую часть работ в PySpark."
   ]
  },
  {
   "cell_type": "markdown",
   "id": "dadd99ae-97e3-4a56-a798-383ed0beffc3",
   "metadata": {},
   "source": [
    "### Импортируем библиотеки, загрузим данные, посмотрим их состав"
   ]
  },
  {
   "cell_type": "code",
   "execution_count": null,
   "id": "c5aa97ab-65e4-4c9d-b4aa-e2fbbc3e8692",
   "metadata": {
    "scrolled": true
   },
   "outputs": [],
   "source": [
    "pip install prophet"
   ]
  },
  {
   "cell_type": "code",
   "execution_count": 2,
   "id": "bfdf0fd2-b06a-46ee-ab91-65bf6725c806",
   "metadata": {},
   "outputs": [
    {
     "name": "stdout",
     "output_type": "stream",
     "text": [
      "Requirement already satisfied: plotly in /opt/conda/lib/python3.11/site-packages (5.16.1)\n",
      "Requirement already satisfied: tenacity>=6.2.0 in /opt/conda/lib/python3.11/site-packages (from plotly) (8.2.3)\n",
      "Requirement already satisfied: packaging in /opt/conda/lib/python3.11/site-packages (from plotly) (23.1)\n",
      "Note: you may need to restart the kernel to use updated packages.\n"
     ]
    }
   ],
   "source": [
    "pip install --upgrade plotly"
   ]
  },
  {
   "cell_type": "code",
   "execution_count": 3,
   "id": "add0c93c-deea-4c55-91f3-f06b412cacc1",
   "metadata": {},
   "outputs": [],
   "source": [
    "import pandas as pd\n",
    "import numpy as np\n",
    "import seaborn as sns\n",
    "import matplotlib.pyplot as plt\n",
    "import tracemalloc\n",
    "\n",
    "from pyspark.sql import SparkSession\n",
    "from pyspark.sql.functions import *\n",
    "import pyspark.sql.functions as F\n",
    "from pyspark.sql.types import *\n",
    "from pyspark.sql.window import Window"
   ]
  },
  {
   "cell_type": "code",
   "execution_count": 4,
   "id": "c543a3ab-369b-4309-94ef-1680eef82777",
   "metadata": {
    "scrolled": true
   },
   "outputs": [],
   "source": [
    "SPARK_MASTER_IP = '172.18.0.2' \n",
    "spark = SparkSession.builder.appName(\"pyspark-taxi-forecasting\") \\\n",
    "    .master(f\"spark://{SPARK_MASTER_IP}:7077\") \\\n",
    "    .config(\"spark.executor.cores\", 1) \\\n",
    "    .config('spark.local.dir', 'spark_tmp/') \\\n",
    "    .config(\"spark.task.cpus\", 1) \\\n",
    "    .getOrCreate()"
   ]
  },
  {
   "cell_type": "markdown",
   "id": "f88d2dbb-7d99-4d0f-8515-eacfceca02eb",
   "metadata": {},
   "source": [
    "spark = SparkSession.builder.appName(\"Introduction to Spark\").getOrCreate()"
   ]
  },
  {
   "cell_type": "code",
   "execution_count": 5,
   "id": "6c881dda-8000-49e3-8181-09ba5ac49884",
   "metadata": {
    "scrolled": true
   },
   "outputs": [
    {
     "data": {
      "text/html": [
       "\n",
       "            <div>\n",
       "                <p><b>SparkSession - in-memory</b></p>\n",
       "                \n",
       "        <div>\n",
       "            <p><b>SparkContext</b></p>\n",
       "\n",
       "            <p><a href=\"http://f0f53ecc6a3c:4040\">Spark UI</a></p>\n",
       "\n",
       "            <dl>\n",
       "              <dt>Version</dt>\n",
       "                <dd><code>v3.4.1</code></dd>\n",
       "              <dt>Master</dt>\n",
       "                <dd><code>spark://172.18.0.2:7077</code></dd>\n",
       "              <dt>AppName</dt>\n",
       "                <dd><code>pyspark-taxi-forecasting</code></dd>\n",
       "            </dl>\n",
       "        </div>\n",
       "        \n",
       "            </div>\n",
       "        "
      ],
      "text/plain": [
       "<pyspark.sql.session.SparkSession at 0x7fbff3026690>"
      ]
     },
     "execution_count": 5,
     "metadata": {},
     "output_type": "execute_result"
    }
   ],
   "source": [
    "spark"
   ]
  },
  {
   "cell_type": "markdown",
   "id": "288e9087-1ec2-40f1-b420-d88d40ded408",
   "metadata": {},
   "source": [
    "О поездках на такси сообщается городу Чикаго в его роли регулирующего органа. Чтобы защитить конфиденциальность, но обеспечить совокупный анализ, идентификатор такси соответствует любому заданному номеру медальона такси, но не показывает номер, переписные участки в некоторых случаях скрыты, а время округляется до ближайших 15 минут."
   ]
  },
  {
   "cell_type": "code",
   "execution_count": 6,
   "id": "ac8bfe6b-0840-4f46-b4a5-6b4451f54841",
   "metadata": {
    "scrolled": true
   },
   "outputs": [
    {
     "name": "stdout",
     "output_type": "stream",
     "text": [
      "+--------------------+--------------------+--------------------+--------------------+------------+----------+-------------------+--------------------+---------------------+----------------------+-----+----+-----+------+----------+------------+--------------------+------------------------+-------------------------+------------------------+-------------------------+--------------------------+--------------------------+\n",
      "|             Trip ID|             Taxi ID|Trip Start Timestamp|  Trip End Timestamp|Trip Seconds|Trip Miles|Pickup Census Tract|Dropoff Census Tract|Pickup Community Area|Dropoff Community Area| Fare|Tips|Tolls|Extras|Trip Total|Payment Type|             Company|Pickup Centroid Latitude|Pickup Centroid Longitude|Pickup Centroid Location|Dropoff Centroid Latitude|Dropoff Centroid Longitude|Dropoff Centroid  Location|\n",
      "+--------------------+--------------------+--------------------+--------------------+------------+----------+-------------------+--------------------+---------------------+----------------------+-----+----+-----+------+----------+------------+--------------------+------------------------+-------------------------+------------------------+-------------------------+--------------------------+--------------------------+\n",
      "|bcfa19f2539021c05...|368ce5511598af2cc...|01/01/2022 12:00:...|01/01/2022 12:00:...|         152|       0.1|               null|                null|                 null|                  null| 3.75| 0.0|  0.0|   0.0|      3.75|        Cash|    Medallion Leasin|                    null|                     null|                    null|                     null|                      null|                      null|\n",
      "|2aba69ff015f9ea8e...|449fa490955275713...|01/01/2022 12:00:...|01/01/2022 12:30:...|        2360|     17.44|               null|                null|                 null|                     8|47.75| 0.0|  0.0|   5.0|     52.75|        Cash|           Flash Cab|                    null|                     null|                    null|             41.899602111|             -87.633308037|      POINT (-87.633308...|\n",
      "|54d812a0b88f8f970...|f98ae5e71fdda8806...|01/01/2022 12:00:...|01/01/2022 12:00:...|         536|      4.83|               null|                null|                   28|                    22|14.75| 0.0|  0.0|   0.0|     14.75|        Cash|          Globe Taxi|            41.874005383|             -87.66351755|    POINT (-87.663517...|              41.92276062|             -87.699155343|      POINT (-87.699155...|\n",
      "|7125b9e03a0f16c2d...|8eca35a570101ad24...|01/01/2022 12:00:...|01/01/2022 12:15:...|         897|      2.07|               null|                null|                    8|                    32| 9.75| 0.0|  0.0|   1.5|     11.25|        Cash|            Sun Taxi|            41.899602111|            -87.633308037|    POINT (-87.633308...|             41.878865584|             -87.625192142|      POINT (-87.625192...|\n",
      "|f1a650ee419b4e52d...|e2d8418fcdb061eee...|01/01/2022 12:00:...|01/01/2022 12:30:...|        2200|      2.48|               null|                null|                    8|                    32| 9.36|2.14|  0.0|   0.0|      11.5|      Mobile|Chicago Independents|            41.899602111|            -87.633308037|    POINT (-87.633308...|             41.878865584|             -87.625192142|      POINT (-87.625192...|\n",
      "+--------------------+--------------------+--------------------+--------------------+------------+----------+-------------------+--------------------+---------------------+----------------------+-----+----+-----+------+----------+------------+--------------------+------------------------+-------------------------+------------------------+-------------------------+--------------------------+--------------------------+\n",
      "only showing top 5 rows\n",
      "\n"
     ]
    }
   ],
   "source": [
    "dfsp22 = spark.read.csv(\"Taxi_Trips_-_2022.csv\", header = True, inferSchema = True)\n",
    "dfsp22.show(5)"
   ]
  },
  {
   "cell_type": "code",
   "execution_count": 7,
   "id": "2c5ce1ac-5c58-4091-88ae-1725142aaf0e",
   "metadata": {
    "scrolled": true
   },
   "outputs": [
    {
     "name": "stdout",
     "output_type": "stream",
     "text": [
      "+--------------------+--------------------+--------------------+--------------------+------------+----------+-------------------+--------------------+---------------------+----------------------+-----+----+-----+------+----------+------------+--------------------+------------------------+-------------------------+------------------------+-------------------------+--------------------------+--------------------------+\n",
      "|             Trip ID|             Taxi ID|Trip Start Timestamp|  Trip End Timestamp|Trip Seconds|Trip Miles|Pickup Census Tract|Dropoff Census Tract|Pickup Community Area|Dropoff Community Area| Fare|Tips|Tolls|Extras|Trip Total|Payment Type|             Company|Pickup Centroid Latitude|Pickup Centroid Longitude|Pickup Centroid Location|Dropoff Centroid Latitude|Dropoff Centroid Longitude|Dropoff Centroid  Location|\n",
      "+--------------------+--------------------+--------------------+--------------------+------------+----------+-------------------+--------------------+---------------------+----------------------+-----+----+-----+------+----------+------------+--------------------+------------------------+-------------------------+------------------------+-------------------------+--------------------------+--------------------------+\n",
      "|0fca59218b1168827...|e2c349c7cbb608d55...|01/01/2023 12:00:...|01/01/2023 12:15:...|        1037|      4.82|               null|                null|                    6|                    32|15.75|3.25|  0.0|   0.0|      19.5| Credit Card|Taxicab Insurance...|            41.944226601|            -87.655998182|    POINT (-87.655998...|             41.878865584|             -87.625192142|      POINT (-87.625192...|\n",
      "|1e539d6e7501164c6...|4ab7a7510c1ebcc9b...|01/01/2023 12:00:...|01/01/2023 12:15:...|        1341|     16.63|               null|                null|                   76|                     8| 41.5| 5.0|  0.0|   6.0|      53.0| Credit Card|            Sun Taxi|            41.980264315|            -87.913624596|    POINT (-87.913624...|             41.899602111|             -87.633308037|      POINT (-87.633308...|\n",
      "|2b3c5200439d51f62...|8c76eb82f069c0731...|01/01/2023 12:00:...|01/01/2023 12:15:...|         844|      3.84|               null|                null|                   24|                     8|16.14|4.03|  0.0|   0.0|     20.17|      Mobile|            Sun Taxi|            41.901206994|            -87.676355989|    POINT (-87.676355...|             41.899602111|             -87.633308037|      POINT (-87.633308...|\n",
      "|45b2ea39cfff64d61...|a688de71e9eb70603...|01/01/2023 12:00:...|01/01/2023 12:00:...|         361|      0.63|               null|                null|                   32|                    32|  5.5| 0.0|  0.0|   1.0|       6.5|        Cash|         5 Star Taxi|            41.878865584|            -87.625192142|    POINT (-87.625192...|             41.878865584|             -87.625192142|      POINT (-87.625192...|\n",
      "|464df6aaaf97ca874...|8b1a88e5a09cfd55c...|01/01/2023 12:00:...|01/01/2023 12:15:...|         704|      0.99|               null|                null|                   14|                    14| 7.75| 0.0|  0.0|   0.0|      7.75|        Cash|           Flash Cab|               41.968069|            -87.721559063|    POINT (-87.721559...|                41.968069|             -87.721559063|      POINT (-87.721559...|\n",
      "+--------------------+--------------------+--------------------+--------------------+------------+----------+-------------------+--------------------+---------------------+----------------------+-----+----+-----+------+----------+------------+--------------------+------------------------+-------------------------+------------------------+-------------------------+--------------------------+--------------------------+\n",
      "only showing top 5 rows\n",
      "\n"
     ]
    }
   ],
   "source": [
    "dfsp23 = spark.read.csv(\"Taxi_Trips_-_2023.csv\", header = True, inferSchema = True)\n",
    "lim23 = '2023-07-31 23:00'\n",
    "dfsp23 = dfsp23.filter(F.to_timestamp(F.col('Trip Start Timestamp'), 'MM/dd/yyyy hh:mm:ss a')<lim23)\n",
    "dfsp23.show(5)"
   ]
  },
  {
   "cell_type": "markdown",
   "id": "7ccfd18a-2490-406a-a389-a401284f62b0",
   "metadata": {},
   "source": [
    "    В последнем часе наблюдений 2023-08-01 00:00 поездок мало, заказчик просил его не учитывать.\n",
    "\n",
    "    в качестве тестового берем 2023-07-31 23:00, поэтому сразу отрежем все наблюдения по нему."
   ]
  },
  {
   "cell_type": "code",
   "execution_count": 8,
   "id": "3a5196ab-4161-4434-a92c-b3ba47a692c1",
   "metadata": {
    "scrolled": true
   },
   "outputs": [
    {
     "name": "stdout",
     "output_type": "stream",
     "text": [
      "<class 'pyspark.sql.dataframe.DataFrame'>\n",
      "root\n",
      " |-- Trip ID: string (nullable = true)\n",
      " |-- Taxi ID: string (nullable = true)\n",
      " |-- Trip Start Timestamp: string (nullable = true)\n",
      " |-- Trip End Timestamp: string (nullable = true)\n",
      " |-- Trip Seconds: integer (nullable = true)\n",
      " |-- Trip Miles: double (nullable = true)\n",
      " |-- Pickup Census Tract: long (nullable = true)\n",
      " |-- Dropoff Census Tract: long (nullable = true)\n",
      " |-- Pickup Community Area: integer (nullable = true)\n",
      " |-- Dropoff Community Area: integer (nullable = true)\n",
      " |-- Fare: double (nullable = true)\n",
      " |-- Tips: double (nullable = true)\n",
      " |-- Tolls: double (nullable = true)\n",
      " |-- Extras: double (nullable = true)\n",
      " |-- Trip Total: double (nullable = true)\n",
      " |-- Payment Type: string (nullable = true)\n",
      " |-- Company: string (nullable = true)\n",
      " |-- Pickup Centroid Latitude: double (nullable = true)\n",
      " |-- Pickup Centroid Longitude: double (nullable = true)\n",
      " |-- Pickup Centroid Location: string (nullable = true)\n",
      " |-- Dropoff Centroid Latitude: double (nullable = true)\n",
      " |-- Dropoff Centroid Longitude: double (nullable = true)\n",
      " |-- Dropoff Centroid  Location: string (nullable = true)\n",
      "\n"
     ]
    }
   ],
   "source": [
    "print(type(dfsp22))\n",
    "dfsp22.printSchema()"
   ]
  },
  {
   "cell_type": "markdown",
   "id": "1a187ded-ab99-4f72-8d9d-04dce64081c5",
   "metadata": {},
   "source": [
    "# Объединим данные, обработаем дубликаты, пропуски, выбросы"
   ]
  },
  {
   "cell_type": "code",
   "execution_count": 9,
   "id": "12fca427-e47a-4361-a4b0-05603a42be23",
   "metadata": {},
   "outputs": [
    {
     "name": "stdout",
     "output_type": "stream",
     "text": [
      "Данные за 2022 и 2023 годы успешно объединены\n"
     ]
    }
   ],
   "source": [
    "if dfsp22.columns != dfsp23.columns:\n",
    "    print('разная структура')\n",
    "else:\n",
    "    dfsp = dfsp22.union(dfsp23).cache()\n",
    "    print('Данные за 2022 и 2023 годы успешно объединены')\n"
   ]
  },
  {
   "cell_type": "code",
   "execution_count": 10,
   "id": "813a64af-e85c-4af4-9bd5-0be3a95caefa",
   "metadata": {},
   "outputs": [
    {
     "name": "stdout",
     "output_type": "stream",
     "text": [
      "как и заявлено в описании данных, полных дубликатов нет\n"
     ]
    }
   ],
   "source": [
    "#проверим на дубликаты\n",
    "df = dfsp.dropDuplicates(dfsp.columns)\n",
    "if df.count() == dfsp.count():\n",
    "    print('как и заявлено в описании данных, полных дубликатов нет')\n",
    "\n",
    "else: \n",
    "    print('Полных дубликатов', dfsp.dropDuplicates(dfsp.columns))\n"
   ]
  },
  {
   "cell_type": "code",
   "execution_count": 11,
   "id": "29dfac62-c295-4a9c-bbbc-a59d4155c71a",
   "metadata": {},
   "outputs": [
    {
     "name": "stdout",
     "output_type": "stream",
     "text": [
      "['trip_id', 'taxi_id', 'trip_start_timestamp', 'trip_end_timestamp', 'trip_seconds', 'trip_miles', 'pickup_census_tract', 'dropoff_census_tract', 'pickup_community_area', 'dropoff_community_area', 'fare', 'tips', 'tolls', 'extras', 'trip_total', 'payment_type', 'company', 'pickup_centroid_latitude', 'pickup_centroid_longitude', 'pickup_centroid_location', 'dropoff_centroid_latitude', 'dropoff_centroid_longitude', 'dropoff_centroid__location']\n"
     ]
    }
   ],
   "source": [
    "#переименуем колонки в df\n",
    "for col in dfsp.columns:\n",
    "    dfsp = dfsp.withColumnRenamed(col, col.lower().replace(' ', '_'))\n",
    "print(dfsp.columns)"
   ]
  },
  {
   "cell_type": "code",
   "execution_count": 12,
   "id": "a0b28a8e-559f-46c1-b841-893507afa588",
   "metadata": {},
   "outputs": [
    {
     "name": "stdout",
     "output_type": "stream",
     "text": [
      "Количество используемой памяти 1_536 байт, пиковое 14_432 байт\n"
     ]
    }
   ],
   "source": [
    "tracemalloc.start()\n",
    "def mem_use():\n",
    "    mem_size, mem_peak = tracemalloc.get_traced_memory()\n",
    "    print(f'Количество используемой памяти {mem_size:_} байт, '\n",
    "          f'пиковое {mem_peak:_} байт')\n",
    "\n",
    "mem_use()"
   ]
  },
  {
   "cell_type": "code",
   "execution_count": 13,
   "id": "909fd821-d509-407e-aea4-ee678e49568e",
   "metadata": {
    "scrolled": true
   },
   "outputs": [
    {
     "name": "stdout",
     "output_type": "stream",
     "text": [
      "+------------------------------+------------------------------+----------------------+----------------------+------------+----------+-------------------+--------------------+---------------------+----------------------+-----+----+-----+------+----------+------------+--------------------+------------------------+-------------------------+------------------------------+-------------------------+--------------------------+------------------------------+\n",
      "|                       trip_id|                       taxi_id|  trip_start_timestamp|    trip_end_timestamp|trip_seconds|trip_miles|pickup_census_tract|dropoff_census_tract|pickup_community_area|dropoff_community_area| fare|tips|tolls|extras|trip_total|payment_type|             company|pickup_centroid_latitude|pickup_centroid_longitude|      pickup_centroid_location|dropoff_centroid_latitude|dropoff_centroid_longitude|    dropoff_centroid__location|\n",
      "+------------------------------+------------------------------+----------------------+----------------------+------------+----------+-------------------+--------------------+---------------------+----------------------+-----+----+-----+------+----------+------------+--------------------+------------------------+-------------------------+------------------------------+-------------------------+--------------------------+------------------------------+\n",
      "|bcfa19f2539021c054809d4c399...|368ce5511598af2cc07efdb6806...|01/01/2022 12:00:00 AM|01/01/2022 12:00:00 AM|         152|       0.1|               null|                null|                 null|                  null| 3.75| 0.0|  0.0|   0.0|      3.75|        Cash|    Medallion Leasin|                    null|                     null|                          null|                     null|                      null|                          null|\n",
      "|2aba69ff015f9ea8e7bff43cab7...|449fa4909552757130d09d98ebc...|01/01/2022 12:00:00 AM|01/01/2022 12:30:00 AM|        2360|     17.44|               null|                null|                 null|                     8|47.75| 0.0|  0.0|   5.0|     52.75|        Cash|           Flash Cab|                    null|                     null|                          null|             41.899602111|             -87.633308037|POINT (-87.6333080367 41.89...|\n",
      "|54d812a0b88f8f9707825261014...|f98ae5e71fdda8806710af321dc...|01/01/2022 12:00:00 AM|01/01/2022 12:00:00 AM|         536|      4.83|               null|                null|                   28|                    22|14.75| 0.0|  0.0|   0.0|     14.75|        Cash|          Globe Taxi|            41.874005383|             -87.66351755|POINT (-87.6635175498 41.87...|              41.92276062|             -87.699155343|POINT (-87.6991553432 41.92...|\n",
      "|7125b9e03a0f16c2dfb5eaf73ed...|8eca35a570101ad24c638f1f43e...|01/01/2022 12:00:00 AM|01/01/2022 12:15:00 AM|         897|      2.07|               null|                null|                    8|                    32| 9.75| 0.0|  0.0|   1.5|     11.25|        Cash|            Sun Taxi|            41.899602111|            -87.633308037|POINT (-87.6333080367 41.89...|             41.878865584|             -87.625192142|POINT (-87.6251921424 41.87...|\n",
      "|f1a650ee419b4e52d766432e6f8...|e2d8418fcdb061eee0a4318fba0...|01/01/2022 12:00:00 AM|01/01/2022 12:30:00 AM|        2200|      2.48|               null|                null|                    8|                    32| 9.36|2.14|  0.0|   0.0|      11.5|      Mobile|Chicago Independents|            41.899602111|            -87.633308037|POINT (-87.6333080367 41.89...|             41.878865584|             -87.625192142|POINT (-87.6251921424 41.87...|\n",
      "+------------------------------+------------------------------+----------------------+----------------------+------------+----------+-------------------+--------------------+---------------------+----------------------+-----+----+-----+------+----------+------------+--------------------+------------------------+-------------------------+------------------------------+-------------------------+--------------------------+------------------------------+\n",
      "only showing top 5 rows\n",
      "\n"
     ]
    },
    {
     "data": {
      "text/plain": [
       "10165684"
      ]
     },
     "execution_count": 13,
     "metadata": {},
     "output_type": "execute_result"
    }
   ],
   "source": [
    "dfsp.show(5, truncate = 30)\n",
    "dfsp.count()"
   ]
  },
  {
   "cell_type": "code",
   "execution_count": 14,
   "id": "a69805cc-c79d-4d1f-a890-60091f91e043",
   "metadata": {
    "scrolled": true
   },
   "outputs": [
    {
     "name": "stdout",
     "output_type": "stream",
     "text": [
      "+---------------------+\n",
      "|pickup_community_area|\n",
      "+---------------------+\n",
      "|                 null|\n",
      "|                    1|\n",
      "|                    2|\n",
      "|                    3|\n",
      "|                    4|\n",
      "|                    5|\n",
      "|                    6|\n",
      "|                    7|\n",
      "|                    8|\n",
      "|                    9|\n",
      "|                   10|\n",
      "|                   11|\n",
      "|                   12|\n",
      "|                   13|\n",
      "|                   14|\n",
      "|                   15|\n",
      "|                   16|\n",
      "|                   17|\n",
      "|                   18|\n",
      "|                   19|\n",
      "|                   20|\n",
      "|                   21|\n",
      "|                   22|\n",
      "|                   23|\n",
      "|                   24|\n",
      "|                   25|\n",
      "|                   26|\n",
      "|                   27|\n",
      "|                   28|\n",
      "|                   29|\n",
      "|                   30|\n",
      "|                   31|\n",
      "|                   32|\n",
      "|                   33|\n",
      "|                   34|\n",
      "|                   35|\n",
      "|                   36|\n",
      "|                   37|\n",
      "|                   38|\n",
      "|                   39|\n",
      "|                   40|\n",
      "|                   41|\n",
      "|                   42|\n",
      "|                   43|\n",
      "|                   44|\n",
      "|                   45|\n",
      "|                   46|\n",
      "|                   47|\n",
      "|                   48|\n",
      "|                   49|\n",
      "|                   50|\n",
      "|                   51|\n",
      "|                   52|\n",
      "|                   53|\n",
      "|                   54|\n",
      "|                   55|\n",
      "|                   56|\n",
      "|                   57|\n",
      "|                   58|\n",
      "|                   59|\n",
      "|                   60|\n",
      "|                   61|\n",
      "|                   62|\n",
      "|                   63|\n",
      "|                   64|\n",
      "|                   65|\n",
      "|                   66|\n",
      "|                   67|\n",
      "|                   68|\n",
      "|                   69|\n",
      "|                   70|\n",
      "|                   71|\n",
      "|                   72|\n",
      "|                   73|\n",
      "|                   74|\n",
      "|                   75|\n",
      "|                   76|\n",
      "|                   77|\n",
      "+---------------------+\n",
      "\n"
     ]
    },
    {
     "data": {
      "text/plain": [
       "78"
      ]
     },
     "execution_count": 14,
     "metadata": {},
     "output_type": "execute_result"
    }
   ],
   "source": [
    "dfsp.select('pickup_community_area').distinct().sort(dfsp.pickup_community_area.asc()).show(80)\n",
    "dfsp.select('pickup_community_area').distinct().count()"
   ]
  },
  {
   "cell_type": "code",
   "execution_count": 15,
   "id": "70b5295c-99c1-4f73-9c9a-6b9261840414",
   "metadata": {
    "scrolled": true
   },
   "outputs": [
    {
     "data": {
      "text/html": [
       "<div>\n",
       "<style scoped>\n",
       "    .dataframe tbody tr th:only-of-type {\n",
       "        vertical-align: middle;\n",
       "    }\n",
       "\n",
       "    .dataframe tbody tr th {\n",
       "        vertical-align: top;\n",
       "    }\n",
       "\n",
       "    .dataframe thead th {\n",
       "        text-align: right;\n",
       "    }\n",
       "</style>\n",
       "<table border=\"1\" class=\"dataframe\">\n",
       "  <thead>\n",
       "    <tr style=\"text-align: right;\">\n",
       "      <th></th>\n",
       "      <th>count</th>\n",
       "    </tr>\n",
       "  </thead>\n",
       "  <tbody>\n",
       "    <tr>\n",
       "      <th>pickup_census_tract</th>\n",
       "      <td>5891728</td>\n",
       "    </tr>\n",
       "    <tr>\n",
       "      <th>dropoff_census_tract</th>\n",
       "      <td>5872822</td>\n",
       "    </tr>\n",
       "    <tr>\n",
       "      <th>dropoff_community_area</th>\n",
       "      <td>998271</td>\n",
       "    </tr>\n",
       "    <tr>\n",
       "      <th>dropoff_centroid__location</th>\n",
       "      <td>939636</td>\n",
       "    </tr>\n",
       "    <tr>\n",
       "      <th>dropoff_centroid_longitude</th>\n",
       "      <td>939636</td>\n",
       "    </tr>\n",
       "    <tr>\n",
       "      <th>dropoff_centroid_latitude</th>\n",
       "      <td>939636</td>\n",
       "    </tr>\n",
       "    <tr>\n",
       "      <th>pickup_community_area</th>\n",
       "      <td>681597</td>\n",
       "    </tr>\n",
       "    <tr>\n",
       "      <th>pickup_centroid_location</th>\n",
       "      <td>677907</td>\n",
       "    </tr>\n",
       "    <tr>\n",
       "      <th>pickup_centroid_longitude</th>\n",
       "      <td>677907</td>\n",
       "    </tr>\n",
       "    <tr>\n",
       "      <th>pickup_centroid_latitude</th>\n",
       "      <td>677907</td>\n",
       "    </tr>\n",
       "    <tr>\n",
       "      <th>extras</th>\n",
       "      <td>8938</td>\n",
       "    </tr>\n",
       "    <tr>\n",
       "      <th>trip_total</th>\n",
       "      <td>8938</td>\n",
       "    </tr>\n",
       "    <tr>\n",
       "      <th>tips</th>\n",
       "      <td>8938</td>\n",
       "    </tr>\n",
       "    <tr>\n",
       "      <th>tolls</th>\n",
       "      <td>8938</td>\n",
       "    </tr>\n",
       "    <tr>\n",
       "      <th>fare</th>\n",
       "      <td>8938</td>\n",
       "    </tr>\n",
       "    <tr>\n",
       "      <th>trip_seconds</th>\n",
       "      <td>2183</td>\n",
       "    </tr>\n",
       "    <tr>\n",
       "      <th>trip_end_timestamp</th>\n",
       "      <td>260</td>\n",
       "    </tr>\n",
       "    <tr>\n",
       "      <th>trip_miles</th>\n",
       "      <td>69</td>\n",
       "    </tr>\n",
       "    <tr>\n",
       "      <th>taxi_id</th>\n",
       "      <td>0</td>\n",
       "    </tr>\n",
       "    <tr>\n",
       "      <th>payment_type</th>\n",
       "      <td>0</td>\n",
       "    </tr>\n",
       "    <tr>\n",
       "      <th>company</th>\n",
       "      <td>0</td>\n",
       "    </tr>\n",
       "    <tr>\n",
       "      <th>trip_start_timestamp</th>\n",
       "      <td>0</td>\n",
       "    </tr>\n",
       "    <tr>\n",
       "      <th>trip_id</th>\n",
       "      <td>0</td>\n",
       "    </tr>\n",
       "  </tbody>\n",
       "</table>\n",
       "</div>"
      ],
      "text/plain": [
       "                              count\n",
       "pickup_census_tract         5891728\n",
       "dropoff_census_tract        5872822\n",
       "dropoff_community_area       998271\n",
       "dropoff_centroid__location   939636\n",
       "dropoff_centroid_longitude   939636\n",
       "dropoff_centroid_latitude    939636\n",
       "pickup_community_area        681597\n",
       "pickup_centroid_location     677907\n",
       "pickup_centroid_longitude    677907\n",
       "pickup_centroid_latitude     677907\n",
       "extras                         8938\n",
       "trip_total                     8938\n",
       "tips                           8938\n",
       "tolls                          8938\n",
       "fare                           8938\n",
       "trip_seconds                   2183\n",
       "trip_end_timestamp              260\n",
       "trip_miles                       69\n",
       "taxi_id                           0\n",
       "payment_type                      0\n",
       "company                           0\n",
       "trip_start_timestamp              0\n",
       "trip_id                           0"
      ]
     },
     "execution_count": 15,
     "metadata": {},
     "output_type": "execute_result"
    }
   ],
   "source": [
    "# Посчитаем пропуски\n",
    "def count_missings(spark_df,sort=True):\n",
    "    \"\"\"\n",
    "    Counts number of nulls and nans in each column\n",
    "    \"\"\"\n",
    "    df = spark_df.select([F.count(F.when(F.isnan(c) | F.isnull(c), c)).alias(c) for (c,c_type) in spark_df.dtypes if c_type not in ('timestamp')]).toPandas()\n",
    "\n",
    "    if len(df) == 0:\n",
    "        print(\"There are no any missing values!\")\n",
    "        return None\n",
    "\n",
    "    if sort:\n",
    "        return df.rename(index={0: 'count'}).T.sort_values(\"count\",ascending=False)\n",
    "\n",
    "    return df\n",
    "count_missings(dfsp)"
   ]
  },
  {
   "cell_type": "markdown",
   "id": "37b03762-c05e-4e9e-bb03-3d63b8c15a81",
   "metadata": {},
   "source": [
    "    По задаче нам необходимо предсказть количество заказов и необходимое количество машин в Community. Если в строке нет данных о районе, \n",
    "    отсутствует определяющий признак. Такие строки мы не сможем использовать."
   ]
  },
  {
   "cell_type": "markdown",
   "id": "be157ba5-8910-4867-82f1-c2ab40fc95b6",
   "metadata": {},
   "source": [
    "## Посмотрим цензусы пропусков в Коммьюнити"
   ]
  },
  {
   "cell_type": "code",
   "execution_count": 16,
   "id": "f3de91b9-cc86-48db-a39e-f815434c41d9",
   "metadata": {},
   "outputs": [],
   "source": [
    "empty_census = dfsp.filter('pickup_community_area is NULL and pickup_census_tract is not NULL').select(\n",
    "    'pickup_census_tract', 'pickup_community_area').distinct()"
   ]
  },
  {
   "cell_type": "code",
   "execution_count": 17,
   "id": "4e5b2180-df21-4bdd-a8eb-4adc3a16ef4b",
   "metadata": {
    "scrolled": true
   },
   "outputs": [
    {
     "name": "stdout",
     "output_type": "stream",
     "text": [
      "+-------------------+\n",
      "|pickup_census_tract|\n",
      "+-------------------+\n",
      "|        17031827901|\n",
      "|        17031802900|\n",
      "|        17031802801|\n",
      "|        17031827801|\n",
      "|        17031810301|\n",
      "|        17031807600|\n",
      "|        17031808002|\n",
      "|        17031807300|\n",
      "|        17031770700|\n",
      "|        17031770800|\n",
      "|        17031806202|\n",
      "|        17031806104|\n",
      "|        17031811600|\n",
      "|        17031802402|\n",
      "|        17031804603|\n",
      "|        17031809400|\n",
      "|        17031806004|\n",
      "|        17031816200|\n",
      "|        17031804609|\n",
      "|        17031806600|\n",
      "+-------------------+\n",
      "only showing top 20 rows\n",
      "\n"
     ]
    }
   ],
   "source": [
    "empty_census = empty_census.select('pickup_census_tract')\n",
    "empty_census.show()"
   ]
  },
  {
   "cell_type": "code",
   "execution_count": 18,
   "id": "53327697-a644-46b3-92b2-abcaa784187a",
   "metadata": {},
   "outputs": [
    {
     "data": {
      "text/plain": [
       "4991"
      ]
     },
     "execution_count": 18,
     "metadata": {},
     "output_type": "execute_result"
    }
   ],
   "source": [
    "dfsp.filter('pickup_community_area is NULL and pickup_census_tract is not NULL').select(\n",
    "    'pickup_census_tract', 'pickup_community_area').count()"
   ]
  },
  {
   "cell_type": "markdown",
   "id": "0c89bd35-8bd6-4c48-81e0-28586b1a03e5",
   "metadata": {},
   "source": [
    "### Промежуточный вывод:\n",
    "    Для обучения предотоставлены данные о 10 млн заказов. в данных есть следующие артефакты:\n",
    "    1. данные о времени представлены в формате строк.\n",
    "    2. пропуски, в том числе 681620 в столбцах с районом\n",
    "        - у некоторых пропусков в районах есть Цензус. \n",
    "        По карте эти цензусы находятся в разных пригородах, пока обозначим их как 0 Community.\n",
    "        Можно в дальнейшем заполнить из ближайшими соседями или вручную.\n",
    "        https://www.chicagocityscape.com/index.php - здесь можно найти расположение цензусов вне городской черты\n",
    "        https://www.chicagocityscape.com/maps/index.php?place=censustract-17031801500\n",
    "        - остальные пропуски в районах придется удалить, потому что отсутствует определяющий признак"
   ]
  },
  {
   "cell_type": "code",
   "execution_count": 19,
   "id": "d1e5a8a4-0946-4229-912d-cb8143d246d3",
   "metadata": {},
   "outputs": [],
   "source": [
    "dfsp = dfsp.withColumn(\n",
    "    'pickup_community_area',\n",
    "    #when((F.col(\"pickup_census_tract\") == '17031770700'), 76)\\\n",
    "    when((dfsp.pickup_census_tract.isNotNull() & dfsp.pickup_community_area.isNull()), 0) \\\n",
    "  #  F.when((F.col(\"pickup_census_tract\") is not NULL'), 0)\\\n",
    "    #.when((F.col(\"ts\") == 'L') & (F.col('days_r') >=0) & (F.col('days_r') <= 7), 1)\\\n",
    "    .otherwise(dfsp.pickup_community_area))"
   ]
  },
  {
   "cell_type": "code",
   "execution_count": 20,
   "id": "850832ca-d2ea-427a-b27d-1f5a2f04c552",
   "metadata": {
    "scrolled": true
   },
   "outputs": [
    {
     "name": "stdout",
     "output_type": "stream",
     "text": [
      "+--------------------+--------------------+--------------------+--------------------+------------+----------+-------------------+--------------------+---------------------+----------------------+-----+----+-----+------+----------+------------+--------------------+------------------------+-------------------------+------------------------+-------------------------+--------------------------+--------------------------+\n",
      "|             trip_id|             taxi_id|trip_start_timestamp|  trip_end_timestamp|trip_seconds|trip_miles|pickup_census_tract|dropoff_census_tract|pickup_community_area|dropoff_community_area| fare|tips|tolls|extras|trip_total|payment_type|             company|pickup_centroid_latitude|pickup_centroid_longitude|pickup_centroid_location|dropoff_centroid_latitude|dropoff_centroid_longitude|dropoff_centroid__location|\n",
      "+--------------------+--------------------+--------------------+--------------------+------------+----------+-------------------+--------------------+---------------------+----------------------+-----+----+-----+------+----------+------------+--------------------+------------------------+-------------------------+------------------------+-------------------------+--------------------------+--------------------------+\n",
      "|bcfa19f2539021c05...|368ce5511598af2cc...|01/01/2022 12:00:...|01/01/2022 12:00:...|         152|       0.1|               null|                null|                 null|                  null| 3.75| 0.0|  0.0|   0.0|      3.75|        Cash|    Medallion Leasin|                    null|                     null|                    null|                     null|                      null|                      null|\n",
      "|2aba69ff015f9ea8e...|449fa490955275713...|01/01/2022 12:00:...|01/01/2022 12:30:...|        2360|     17.44|               null|                null|                 null|                     8|47.75| 0.0|  0.0|   5.0|     52.75|        Cash|           Flash Cab|                    null|                     null|                    null|             41.899602111|             -87.633308037|      POINT (-87.633308...|\n",
      "|54d812a0b88f8f970...|f98ae5e71fdda8806...|01/01/2022 12:00:...|01/01/2022 12:00:...|         536|      4.83|               null|                null|                   28|                    22|14.75| 0.0|  0.0|   0.0|     14.75|        Cash|          Globe Taxi|            41.874005383|             -87.66351755|    POINT (-87.663517...|              41.92276062|             -87.699155343|      POINT (-87.699155...|\n",
      "|7125b9e03a0f16c2d...|8eca35a570101ad24...|01/01/2022 12:00:...|01/01/2022 12:15:...|         897|      2.07|               null|                null|                    8|                    32| 9.75| 0.0|  0.0|   1.5|     11.25|        Cash|            Sun Taxi|            41.899602111|            -87.633308037|    POINT (-87.633308...|             41.878865584|             -87.625192142|      POINT (-87.625192...|\n",
      "|f1a650ee419b4e52d...|e2d8418fcdb061eee...|01/01/2022 12:00:...|01/01/2022 12:30:...|        2200|      2.48|               null|                null|                    8|                    32| 9.36|2.14|  0.0|   0.0|      11.5|      Mobile|Chicago Independents|            41.899602111|            -87.633308037|    POINT (-87.633308...|             41.878865584|             -87.625192142|      POINT (-87.625192...|\n",
      "+--------------------+--------------------+--------------------+--------------------+------------+----------+-------------------+--------------------+---------------------+----------------------+-----+----+-----+------+----------+------------+--------------------+------------------------+-------------------------+------------------------+-------------------------+--------------------------+--------------------------+\n",
      "only showing top 5 rows\n",
      "\n"
     ]
    }
   ],
   "source": [
    "dfsp.show(5)"
   ]
  },
  {
   "cell_type": "code",
   "execution_count": 21,
   "id": "100b585a-308f-4288-94b8-6f32c082ddda",
   "metadata": {},
   "outputs": [
    {
     "data": {
      "text/plain": [
       "0"
      ]
     },
     "execution_count": 21,
     "metadata": {},
     "output_type": "execute_result"
    }
   ],
   "source": [
    "dfsp.filter('pickup_community_area is NULL and pickup_census_tract is not NULL').select(\n",
    "    'pickup_census_tract', 'pickup_community_area').count()"
   ]
  },
  {
   "cell_type": "code",
   "execution_count": 22,
   "id": "65538079-73f9-4182-a291-f4a88a77898f",
   "metadata": {
    "scrolled": true
   },
   "outputs": [
    {
     "data": {
      "text/plain": [
       "676606"
      ]
     },
     "execution_count": 22,
     "metadata": {},
     "output_type": "execute_result"
    }
   ],
   "source": [
    "dfsp.filter('pickup_community_area is NULL').count()"
   ]
  },
  {
   "cell_type": "code",
   "execution_count": 23,
   "id": "5df707fc-0ab0-40f6-a315-f6fde041fb73",
   "metadata": {
    "scrolled": true
   },
   "outputs": [
    {
     "data": {
      "text/html": [
       "<div>\n",
       "<style scoped>\n",
       "    .dataframe tbody tr th:only-of-type {\n",
       "        vertical-align: middle;\n",
       "    }\n",
       "\n",
       "    .dataframe tbody tr th {\n",
       "        vertical-align: top;\n",
       "    }\n",
       "\n",
       "    .dataframe thead th {\n",
       "        text-align: right;\n",
       "    }\n",
       "</style>\n",
       "<table border=\"1\" class=\"dataframe\">\n",
       "  <thead>\n",
       "    <tr style=\"text-align: right;\">\n",
       "      <th></th>\n",
       "      <th>count</th>\n",
       "    </tr>\n",
       "  </thead>\n",
       "  <tbody>\n",
       "    <tr>\n",
       "      <th>dropoff_census_tract</th>\n",
       "      <td>5376331</td>\n",
       "    </tr>\n",
       "    <tr>\n",
       "      <th>pickup_census_tract</th>\n",
       "      <td>5215122</td>\n",
       "    </tr>\n",
       "    <tr>\n",
       "      <th>dropoff_community_area</th>\n",
       "      <td>670458</td>\n",
       "    </tr>\n",
       "    <tr>\n",
       "      <th>dropoff_centroid__location</th>\n",
       "      <td>618879</td>\n",
       "    </tr>\n",
       "    <tr>\n",
       "      <th>dropoff_centroid_longitude</th>\n",
       "      <td>618879</td>\n",
       "    </tr>\n",
       "    <tr>\n",
       "      <th>dropoff_centroid_latitude</th>\n",
       "      <td>618879</td>\n",
       "    </tr>\n",
       "    <tr>\n",
       "      <th>fare</th>\n",
       "      <td>8138</td>\n",
       "    </tr>\n",
       "    <tr>\n",
       "      <th>trip_total</th>\n",
       "      <td>8138</td>\n",
       "    </tr>\n",
       "    <tr>\n",
       "      <th>extras</th>\n",
       "      <td>8138</td>\n",
       "    </tr>\n",
       "    <tr>\n",
       "      <th>tolls</th>\n",
       "      <td>8138</td>\n",
       "    </tr>\n",
       "    <tr>\n",
       "      <th>tips</th>\n",
       "      <td>8138</td>\n",
       "    </tr>\n",
       "    <tr>\n",
       "      <th>trip_seconds</th>\n",
       "      <td>1798</td>\n",
       "    </tr>\n",
       "    <tr>\n",
       "      <th>pickup_centroid_latitude</th>\n",
       "      <td>1301</td>\n",
       "    </tr>\n",
       "    <tr>\n",
       "      <th>pickup_centroid_longitude</th>\n",
       "      <td>1301</td>\n",
       "    </tr>\n",
       "    <tr>\n",
       "      <th>pickup_centroid_location</th>\n",
       "      <td>1301</td>\n",
       "    </tr>\n",
       "    <tr>\n",
       "      <th>trip_end_timestamp</th>\n",
       "      <td>140</td>\n",
       "    </tr>\n",
       "    <tr>\n",
       "      <th>trip_miles</th>\n",
       "      <td>60</td>\n",
       "    </tr>\n",
       "    <tr>\n",
       "      <th>taxi_id</th>\n",
       "      <td>0</td>\n",
       "    </tr>\n",
       "    <tr>\n",
       "      <th>pickup_community_area</th>\n",
       "      <td>0</td>\n",
       "    </tr>\n",
       "    <tr>\n",
       "      <th>payment_type</th>\n",
       "      <td>0</td>\n",
       "    </tr>\n",
       "    <tr>\n",
       "      <th>company</th>\n",
       "      <td>0</td>\n",
       "    </tr>\n",
       "    <tr>\n",
       "      <th>trip_start_timestamp</th>\n",
       "      <td>0</td>\n",
       "    </tr>\n",
       "    <tr>\n",
       "      <th>trip_id</th>\n",
       "      <td>0</td>\n",
       "    </tr>\n",
       "  </tbody>\n",
       "</table>\n",
       "</div>"
      ],
      "text/plain": [
       "                              count\n",
       "dropoff_census_tract        5376331\n",
       "pickup_census_tract         5215122\n",
       "dropoff_community_area       670458\n",
       "dropoff_centroid__location   618879\n",
       "dropoff_centroid_longitude   618879\n",
       "dropoff_centroid_latitude    618879\n",
       "fare                           8138\n",
       "trip_total                     8138\n",
       "extras                         8138\n",
       "tolls                          8138\n",
       "tips                           8138\n",
       "trip_seconds                   1798\n",
       "pickup_centroid_latitude       1301\n",
       "pickup_centroid_longitude      1301\n",
       "pickup_centroid_location       1301\n",
       "trip_end_timestamp              140\n",
       "trip_miles                       60\n",
       "taxi_id                           0\n",
       "pickup_community_area             0\n",
       "payment_type                      0\n",
       "company                           0\n",
       "trip_start_timestamp              0\n",
       "trip_id                           0"
      ]
     },
     "execution_count": 23,
     "metadata": {},
     "output_type": "execute_result"
    }
   ],
   "source": [
    "dfsp_filtered = dfsp.na.drop(how = \"all\", subset = [\"pickup_community_area\", 'pickup_census_tract'])\n",
    "count_missings(dfsp_filtered)"
   ]
  },
  {
   "cell_type": "code",
   "execution_count": 24,
   "id": "3b2823b7-3ff3-4fd9-916c-86589de5f2bf",
   "metadata": {
    "scrolled": true
   },
   "outputs": [
    {
     "name": "stdout",
     "output_type": "stream",
     "text": [
      "+---------------------+\n",
      "|pickup_community_area|\n",
      "+---------------------+\n",
      "|                    0|\n",
      "|                    1|\n",
      "|                    2|\n",
      "|                    3|\n",
      "|                    4|\n",
      "|                    5|\n",
      "|                    6|\n",
      "|                    7|\n",
      "|                    8|\n",
      "|                    9|\n",
      "|                   10|\n",
      "|                   11|\n",
      "|                   12|\n",
      "|                   13|\n",
      "|                   14|\n",
      "|                   15|\n",
      "|                   16|\n",
      "|                   17|\n",
      "|                   18|\n",
      "|                   19|\n",
      "|                   20|\n",
      "|                   21|\n",
      "|                   22|\n",
      "|                   23|\n",
      "|                   24|\n",
      "|                   25|\n",
      "|                   26|\n",
      "|                   27|\n",
      "|                   28|\n",
      "|                   29|\n",
      "|                   30|\n",
      "|                   31|\n",
      "|                   32|\n",
      "|                   33|\n",
      "|                   34|\n",
      "|                   35|\n",
      "|                   36|\n",
      "|                   37|\n",
      "|                   38|\n",
      "|                   39|\n",
      "|                   40|\n",
      "|                   41|\n",
      "|                   42|\n",
      "|                   43|\n",
      "|                   44|\n",
      "|                   45|\n",
      "|                   46|\n",
      "|                   47|\n",
      "|                   48|\n",
      "|                   49|\n",
      "|                   50|\n",
      "|                   51|\n",
      "|                   52|\n",
      "|                   53|\n",
      "|                   54|\n",
      "|                   55|\n",
      "|                   56|\n",
      "|                   57|\n",
      "|                   58|\n",
      "|                   59|\n",
      "|                   60|\n",
      "|                   61|\n",
      "|                   62|\n",
      "|                   63|\n",
      "|                   64|\n",
      "|                   65|\n",
      "|                   66|\n",
      "|                   67|\n",
      "|                   68|\n",
      "|                   69|\n",
      "|                   70|\n",
      "|                   71|\n",
      "|                   72|\n",
      "|                   73|\n",
      "|                   74|\n",
      "|                   75|\n",
      "|                   76|\n",
      "|                   77|\n",
      "+---------------------+\n",
      "\n"
     ]
    }
   ],
   "source": [
    "dfsp_filtered.select('pickup_community_area').distinct().sort(dfsp.pickup_community_area.asc()).show(80)"
   ]
  },
  {
   "cell_type": "code",
   "execution_count": 25,
   "id": "01300d18-f439-4bd8-ba28-9697c2c54792",
   "metadata": {},
   "outputs": [
    {
     "data": {
      "text/plain": [
       "9489078"
      ]
     },
     "execution_count": 25,
     "metadata": {},
     "output_type": "execute_result"
    }
   ],
   "source": [
    "dfsp_filtered.count()"
   ]
  },
  {
   "cell_type": "markdown",
   "id": "51fe06cb-7936-4e6b-82d8-c379766bc080",
   "metadata": {},
   "source": [
    "    Устранили пропуски в районах - осталось 9489526 - потеряли около 7%"
   ]
  },
  {
   "cell_type": "markdown",
   "id": "ce3fbd81-c6c1-4c8d-9b54-f7254fcf40a3",
   "metadata": {},
   "source": [
    "## Проверим пропуски в колонках по времени, расстоянию и деньгам"
   ]
  },
  {
   "cell_type": "code",
   "execution_count": 26,
   "id": "bd894c58-4a9b-4aa9-9e45-5458752cead3",
   "metadata": {
    "scrolled": true
   },
   "outputs": [
    {
     "name": "stdout",
     "output_type": "stream",
     "text": [
      "+----------------------+----------------------+----------+------------+----------+-----+\n",
      "|trip_start_timestamp  |trip_end_timestamp    |trip_miles|trip_seconds|trip_total|fare |\n",
      "+----------------------+----------------------+----------+------------+----------+-----+\n",
      "|01/01/2022 02:45:00 AM|01/03/2022 03:45:00 PM|45.08     |null        |107.0     |106.0|\n",
      "|01/01/2022 05:30:00 AM|01/02/2022 10:30:00 AM|8.24      |null        |22.5      |22.5 |\n",
      "|01/02/2022 12:00:00 AM|null                  |0.0       |null        |0.0       |0.0  |\n",
      "|01/02/2022 10:45:00 PM|01/04/2022 09:00:00 AM|1.43      |null        |7.75      |7.75 |\n",
      "|01/03/2022 03:30:00 PM|null                  |0.0       |null        |0.0       |0.0  |\n",
      "|01/03/2022 04:15:00 PM|01/05/2022 12:45:00 PM|0.0       |null        |3.25      |3.25 |\n",
      "|01/04/2022 12:15:00 PM|01/05/2022 11:30:00 PM|0.15      |null        |3.5       |3.5  |\n",
      "|01/05/2022 07:30:00 PM|01/11/2022 04:45:00 PM|9.19      |null        |28.5      |24.5 |\n",
      "|01/06/2022 01:15:00 PM|01/06/2022 01:15:00 PM|0.0       |null        |null      |null |\n",
      "|01/07/2022 03:00:00 PM|01/09/2022 02:45:00 PM|3.71      |null        |16.75     |14.5 |\n",
      "+----------------------+----------------------+----------+------------+----------+-----+\n",
      "only showing top 10 rows\n",
      "\n"
     ]
    }
   ],
   "source": [
    "dfsp_filtered.filter('trip_seconds is NULL').select(\n",
    "    'trip_start_timestamp', 'trip_end_timestamp', \n",
    "    'trip_miles', 'trip_seconds', 'trip_total', 'fare').show(10, False)"
   ]
  },
  {
   "cell_type": "code",
   "execution_count": 27,
   "id": "c1417f97-5e30-4901-bcd5-a24070eea529",
   "metadata": {},
   "outputs": [
    {
     "name": "stdout",
     "output_type": "stream",
     "text": [
      "+----------------------+----------------------+----------+------------+----------+-----+\n",
      "|trip_end_timestamp    |trip_end_timestamp    |trip_miles|trip_seconds|trip_total|fare |\n",
      "+----------------------+----------------------+----------+------------+----------+-----+\n",
      "|01/01/2022 01:15:00 AM|01/01/2022 01:15:00 AM|null      |1022        |36.52     |29.83|\n",
      "|01/01/2022 08:15:00 PM|01/01/2022 08:15:00 PM|null      |379         |23.68     |20.26|\n",
      "|01/02/2022 12:45:00 PM|01/02/2022 12:45:00 PM|null      |2           |12.93     |10.53|\n",
      "|01/03/2022 07:00:00 AM|01/03/2022 07:00:00 AM|null      |15          |11.5      |9.36 |\n",
      "|01/03/2022 01:15:00 PM|01/03/2022 01:15:00 PM|null      |978         |19.4      |15.82|\n",
      "|01/07/2022 06:00:00 AM|01/07/2022 06:00:00 AM|null      |50          |12.57     |9.36 |\n",
      "|01/07/2022 01:15:00 PM|01/07/2022 01:15:00 PM|null      |215         |11.5      |9.36 |\n",
      "|01/08/2022 03:30:00 PM|01/08/2022 03:30:00 PM|null      |1973        |37.02     |30.24|\n",
      "|01/09/2022 01:15:00 AM|01/09/2022 01:15:00 AM|null      |2           |11.5      |9.36 |\n",
      "|01/09/2022 02:30:00 AM|01/09/2022 02:30:00 AM|null      |887         |29.96     |24.46|\n",
      "+----------------------+----------------------+----------+------------+----------+-----+\n",
      "only showing top 10 rows\n",
      "\n"
     ]
    }
   ],
   "source": [
    "dfsp_filtered.filter('trip_miles is NULL').select(\n",
    "        'trip_end_timestamp', 'trip_end_timestamp', \n",
    "        'trip_miles', 'trip_seconds', 'trip_total', 'fare').show(10, False)"
   ]
  },
  {
   "cell_type": "code",
   "execution_count": 28,
   "id": "520d0fb5-9793-4006-8b35-a3655ddd4fd4",
   "metadata": {},
   "outputs": [
    {
     "name": "stdout",
     "output_type": "stream",
     "text": [
      "+----------------------+----------------------+----------+------------+----------+----+\n",
      "|trip_end_timestamp    |trip_end_timestamp    |trip_miles|trip_seconds|trip_total|fare|\n",
      "+----------------------+----------------------+----------+------------+----------+----+\n",
      "|01/02/2022 06:45:00 PM|01/02/2022 06:45:00 PM|1.38      |306         |null      |null|\n",
      "|01/03/2022 01:15:00 AM|01/03/2022 01:15:00 AM|0.0       |40          |null      |null|\n",
      "|01/03/2022 02:15:00 PM|01/03/2022 02:15:00 PM|7.15      |3254        |null      |null|\n",
      "|01/04/2022 05:30:00 PM|01/04/2022 05:30:00 PM|4.33      |1281        |null      |null|\n",
      "|01/04/2022 08:00:00 PM|01/04/2022 08:00:00 PM|0.06      |3           |null      |null|\n",
      "|01/05/2022 04:15:00 AM|01/05/2022 04:15:00 AM|0.63      |70          |null      |null|\n",
      "|01/05/2022 01:15:00 PM|01/05/2022 01:15:00 PM|0.31      |103         |null      |null|\n",
      "|01/05/2022 05:30:00 PM|01/05/2022 05:30:00 PM|0.09      |85          |null      |null|\n",
      "|01/06/2022 12:00:00 PM|01/06/2022 12:00:00 PM|0.38      |192         |null      |null|\n",
      "|01/06/2022 01:15:00 PM|01/06/2022 01:15:00 PM|0.0       |null        |null      |null|\n",
      "+----------------------+----------------------+----------+------------+----------+----+\n",
      "only showing top 10 rows\n",
      "\n"
     ]
    }
   ],
   "source": [
    "dfsp_filtered.filter('trip_total is NULL').select(\n",
    "    'trip_end_timestamp', 'trip_end_timestamp', \n",
    "    'trip_miles', 'trip_seconds', 'trip_total', 'fare').show(10, False)"
   ]
  },
  {
   "cell_type": "markdown",
   "id": "07fbebaa-1434-41ec-a211-52bd50584c8b",
   "metadata": {},
   "source": [
    "    Пропуски по длительности поездки идут вразнобой, \n",
    "    метки времени начала и окончания поездки отсутствуют или совпадают. \n",
    "    Видимо, был либо сбой системы подсчета, либо поездка не была совершена. \n",
    "    Таких данных немного, пока удалим их, чтобы не искажать данные заполнением.\n",
    "    По деньгам и расстоянию, скорее всего подсчет проводится автоматически и отсутствие данных означает сбои. \n",
    "    Их тоже пока удалим. это в сумме около 8 тысяч строк - 0,08%."
   ]
  },
  {
   "cell_type": "code",
   "execution_count": 29,
   "id": "d24d7879-9aa1-48a4-8ec8-fc269cd6a5c7",
   "metadata": {},
   "outputs": [
    {
     "name": "stdout",
     "output_type": "stream",
     "text": [
      "Количество используемой памяти 7_642_908 байт, пиковое 7_702_316 байт\n"
     ]
    }
   ],
   "source": [
    "mem_use()"
   ]
  },
  {
   "cell_type": "code",
   "execution_count": 30,
   "id": "612a2d58-c30e-419b-a09f-568830aaffca",
   "metadata": {
    "scrolled": true
   },
   "outputs": [
    {
     "data": {
      "text/html": [
       "<div>\n",
       "<style scoped>\n",
       "    .dataframe tbody tr th:only-of-type {\n",
       "        vertical-align: middle;\n",
       "    }\n",
       "\n",
       "    .dataframe tbody tr th {\n",
       "        vertical-align: top;\n",
       "    }\n",
       "\n",
       "    .dataframe thead th {\n",
       "        text-align: right;\n",
       "    }\n",
       "</style>\n",
       "<table border=\"1\" class=\"dataframe\">\n",
       "  <thead>\n",
       "    <tr style=\"text-align: right;\">\n",
       "      <th></th>\n",
       "      <th>count</th>\n",
       "    </tr>\n",
       "  </thead>\n",
       "  <tbody>\n",
       "    <tr>\n",
       "      <th>dropoff_census_tract</th>\n",
       "      <td>5371782</td>\n",
       "    </tr>\n",
       "    <tr>\n",
       "      <th>pickup_census_tract</th>\n",
       "      <td>5210863</td>\n",
       "    </tr>\n",
       "    <tr>\n",
       "      <th>dropoff_community_area</th>\n",
       "      <td>669464</td>\n",
       "    </tr>\n",
       "    <tr>\n",
       "      <th>dropoff_centroid__location</th>\n",
       "      <td>617971</td>\n",
       "    </tr>\n",
       "    <tr>\n",
       "      <th>dropoff_centroid_longitude</th>\n",
       "      <td>617971</td>\n",
       "    </tr>\n",
       "    <tr>\n",
       "      <th>dropoff_centroid_latitude</th>\n",
       "      <td>617971</td>\n",
       "    </tr>\n",
       "    <tr>\n",
       "      <th>pickup_centroid_location</th>\n",
       "      <td>1295</td>\n",
       "    </tr>\n",
       "    <tr>\n",
       "      <th>pickup_centroid_longitude</th>\n",
       "      <td>1295</td>\n",
       "    </tr>\n",
       "    <tr>\n",
       "      <th>pickup_centroid_latitude</th>\n",
       "      <td>1295</td>\n",
       "    </tr>\n",
       "    <tr>\n",
       "      <th>extras</th>\n",
       "      <td>0</td>\n",
       "    </tr>\n",
       "    <tr>\n",
       "      <th>company</th>\n",
       "      <td>0</td>\n",
       "    </tr>\n",
       "    <tr>\n",
       "      <th>payment_type</th>\n",
       "      <td>0</td>\n",
       "    </tr>\n",
       "    <tr>\n",
       "      <th>trip_total</th>\n",
       "      <td>0</td>\n",
       "    </tr>\n",
       "    <tr>\n",
       "      <th>trip_id</th>\n",
       "      <td>0</td>\n",
       "    </tr>\n",
       "    <tr>\n",
       "      <th>tolls</th>\n",
       "      <td>0</td>\n",
       "    </tr>\n",
       "    <tr>\n",
       "      <th>taxi_id</th>\n",
       "      <td>0</td>\n",
       "    </tr>\n",
       "    <tr>\n",
       "      <th>fare</th>\n",
       "      <td>0</td>\n",
       "    </tr>\n",
       "    <tr>\n",
       "      <th>pickup_community_area</th>\n",
       "      <td>0</td>\n",
       "    </tr>\n",
       "    <tr>\n",
       "      <th>trip_miles</th>\n",
       "      <td>0</td>\n",
       "    </tr>\n",
       "    <tr>\n",
       "      <th>trip_seconds</th>\n",
       "      <td>0</td>\n",
       "    </tr>\n",
       "    <tr>\n",
       "      <th>trip_end_timestamp</th>\n",
       "      <td>0</td>\n",
       "    </tr>\n",
       "    <tr>\n",
       "      <th>trip_start_timestamp</th>\n",
       "      <td>0</td>\n",
       "    </tr>\n",
       "    <tr>\n",
       "      <th>tips</th>\n",
       "      <td>0</td>\n",
       "    </tr>\n",
       "  </tbody>\n",
       "</table>\n",
       "</div>"
      ],
      "text/plain": [
       "                              count\n",
       "dropoff_census_tract        5371782\n",
       "pickup_census_tract         5210863\n",
       "dropoff_community_area       669464\n",
       "dropoff_centroid__location   617971\n",
       "dropoff_centroid_longitude   617971\n",
       "dropoff_centroid_latitude    617971\n",
       "pickup_centroid_location       1295\n",
       "pickup_centroid_longitude      1295\n",
       "pickup_centroid_latitude       1295\n",
       "extras                            0\n",
       "company                           0\n",
       "payment_type                      0\n",
       "trip_total                        0\n",
       "trip_id                           0\n",
       "tolls                             0\n",
       "taxi_id                           0\n",
       "fare                              0\n",
       "pickup_community_area             0\n",
       "trip_miles                        0\n",
       "trip_seconds                      0\n",
       "trip_end_timestamp                0\n",
       "trip_start_timestamp              0\n",
       "tips                              0"
      ]
     },
     "execution_count": 30,
     "metadata": {},
     "output_type": "execute_result"
    }
   ],
   "source": [
    "dfsp_filtered = dfsp_filtered.na.drop(how = \"any\", subset = [\"trip_seconds\", 'trip_miles', 'trip_total'])\n",
    "count_missings(dfsp_filtered)"
   ]
  },
  {
   "cell_type": "code",
   "execution_count": 31,
   "id": "d18e6e53-62b3-4016-b411-0e34ef078811",
   "metadata": {},
   "outputs": [
    {
     "data": {
      "text/plain": [
       "DataFrame[trip_id: string, taxi_id: string, trip_start_timestamp: string, trip_end_timestamp: string, trip_seconds: int, trip_miles: double, pickup_census_tract: bigint, dropoff_census_tract: bigint, pickup_community_area: int, dropoff_community_area: int, fare: double, tips: double, tolls: double, extras: double, trip_total: double, payment_type: string, company: string, pickup_centroid_latitude: double, pickup_centroid_longitude: double, pickup_centroid_location: string, dropoff_centroid_latitude: double, dropoff_centroid_longitude: double, dropoff_centroid__location: string]"
      ]
     },
     "execution_count": 31,
     "metadata": {},
     "output_type": "execute_result"
    }
   ],
   "source": [
    "dfsp.unpersist(blocking = True)"
   ]
  },
  {
   "cell_type": "code",
   "execution_count": 32,
   "id": "bc268ffe-28a4-4d94-9885-d099fa8fdfa7",
   "metadata": {},
   "outputs": [
    {
     "name": "stdout",
     "output_type": "stream",
     "text": [
      "Количество используемой памяти 7_688_988 байт, пиковое 7_812_279 байт\n"
     ]
    }
   ],
   "source": [
    "mem_use()"
   ]
  },
  {
   "cell_type": "markdown",
   "id": "171a21f0-0263-465c-9652-6ecce454c791",
   "metadata": {},
   "source": [
    "## Посмотрим нулевые значения"
   ]
  },
  {
   "cell_type": "code",
   "execution_count": 33,
   "id": "fa59ed6b-8c00-4333-82a1-0bff31acd204",
   "metadata": {},
   "outputs": [
    {
     "data": {
      "text/plain": [
       "207086"
      ]
     },
     "execution_count": 33,
     "metadata": {},
     "output_type": "execute_result"
    }
   ],
   "source": [
    "dfsp_filtered.filter('trip_seconds == 0').select(\n",
    "    'trip_end_timestamp',\n",
    "    'trip_end_timestamp', 'trip_miles', 'trip_seconds', 'trip_total', 'fare').count()"
   ]
  },
  {
   "cell_type": "code",
   "execution_count": 34,
   "id": "08d459f4-da49-4cc6-9852-f036f53f2b19",
   "metadata": {},
   "outputs": [
    {
     "data": {
      "text/plain": [
       "1111744"
      ]
     },
     "execution_count": 34,
     "metadata": {},
     "output_type": "execute_result"
    }
   ],
   "source": [
    "dfsp_filtered.filter('trip_miles ==0.0').select(\n",
    "    'trip_end_timestamp',\n",
    "    'trip_end_timestamp', 'trip_miles', 'trip_seconds', 'trip_total', 'fare').count()"
   ]
  },
  {
   "cell_type": "code",
   "execution_count": 35,
   "id": "154d3d9a-b781-4465-93da-aadab4b37558",
   "metadata": {},
   "outputs": [
    {
     "data": {
      "text/plain": [
       "7782"
      ]
     },
     "execution_count": 35,
     "metadata": {},
     "output_type": "execute_result"
    }
   ],
   "source": [
    "dfsp_filtered.filter('trip_total ==0').select(\n",
    "    'trip_end_timestamp',\n",
    "    'trip_end_timestamp', 'trip_miles', 'trip_seconds', 'trip_total', 'fare').count()"
   ]
  },
  {
   "cell_type": "code",
   "execution_count": 36,
   "id": "0ee761f2-ea94-4f0d-93d5-ed5eb4239b51",
   "metadata": {},
   "outputs": [
    {
     "name": "stdout",
     "output_type": "stream",
     "text": [
      "+------------+------------------+-----------------+-------------------+-----------------+\n",
      "|trip_seconds|   avg(trip_total)|        avg(fare)|    avg(trip_miles)|avg(trip_seconds)|\n",
      "+------------+------------------+-----------------+-------------------+-----------------+\n",
      "|           0|13.124867349796725|8.236687270023085|0.28704518895531284|              0.0|\n",
      "+------------+------------------+-----------------+-------------------+-----------------+\n",
      "\n"
     ]
    }
   ],
   "source": [
    "dfsp_filtered.filter('trip_seconds == 0').select(\n",
    "    'trip_end_timestamp','trip_end_timestamp', \n",
    "    'trip_total', 'fare', 'trip_miles', 'trip_seconds').groupby('trip_seconds').mean().show()"
   ]
  },
  {
   "cell_type": "code",
   "execution_count": 37,
   "id": "5962b945-d6f2-406a-953f-196f7208e16b",
   "metadata": {
    "scrolled": true
   },
   "outputs": [
    {
     "name": "stdout",
     "output_type": "stream",
     "text": [
      "+----------+------------------+-----------------+---------------+---------+\n",
      "|trip_total|   avg(trip_miles)|avg(trip_seconds)|avg(trip_total)|avg(fare)|\n",
      "+----------+------------------+-----------------+---------------+---------+\n",
      "|       0.0|2.0700539707016192|744.3969416602416|            0.0|      0.0|\n",
      "+----------+------------------+-----------------+---------------+---------+\n",
      "\n"
     ]
    }
   ],
   "source": [
    "dfsp_filtered.filter('trip_total == 0').select(\n",
    "    'trip_end_timestamp',\n",
    "    'trip_end_timestamp', 'trip_miles', 'trip_seconds', 'trip_total', 'fare').groupby('trip_total').mean().show()"
   ]
  },
  {
   "cell_type": "code",
   "execution_count": 38,
   "id": "396bde45-49b3-43dd-a45d-65616f4bc9c0",
   "metadata": {},
   "outputs": [
    {
     "name": "stdout",
     "output_type": "stream",
     "text": [
      "+----------+---------------+-----------------+-----------------+------------------+\n",
      "|trip_miles|avg(trip_miles)|avg(trip_seconds)|  avg(trip_total)|         avg(fare)|\n",
      "+----------+---------------+-----------------+-----------------+------------------+\n",
      "|       0.0|            0.0|579.7355461329227|19.35912257677995|15.133533754173664|\n",
      "+----------+---------------+-----------------+-----------------+------------------+\n",
      "\n"
     ]
    }
   ],
   "source": [
    "dfsp_filtered.filter('trip_miles == 0').select(\n",
    "    'trip_end_timestamp',\n",
    "    'trip_end_timestamp', 'trip_miles', 'trip_seconds', 'trip_total', 'fare').groupby('trip_miles').mean().show()"
   ]
  },
  {
   "cell_type": "markdown",
   "id": "27e4be6a-c1e7-4511-8b29-8d71989b31b9",
   "metadata": {},
   "source": [
    "    Проверка 0 так же проказала большое количество утерянных данных. \n",
    "    В сумме получается около 1,3 млн строк с 0 в одной из колонок. при этом остальные данные присутствуют.\n",
    "    Такие данные можно попробовать использовать в обучении.\n",
    "    На этом этапе выявим их, но не будем менять. \n",
    "    В случае потери качества при обучении моделей, обработаем эти 0.\n",
    "\n",
    "    промежуточный датасэт - dfsp_filtered"
   ]
  },
  {
   "cell_type": "markdown",
   "id": "c444ecf4-87f2-4a0e-8765-46e0a97a66c6",
   "metadata": {},
   "source": [
    "## Обработаем выбросы"
   ]
  },
  {
   "cell_type": "code",
   "execution_count": 39,
   "id": "7c4574c6-7d7d-493f-b841-5c83a0965339",
   "metadata": {},
   "outputs": [],
   "source": [
    "dfpd_for_graphs = dfsp_filtered.orderBy(rand()).limit(10**5).select('pickup_centroid_latitude', 'pickup_centroid_longitude',\n",
    "                                  'trip_total', 'trip_seconds', 'trip_miles', 'fare'\n",
    "                                    ).toPandas()"
   ]
  },
  {
   "cell_type": "code",
   "execution_count": 40,
   "id": "51f5bd03-14d7-4375-aaf3-670474149ce5",
   "metadata": {
    "scrolled": true
   },
   "outputs": [
    {
     "name": "stdout",
     "output_type": "stream",
     "text": [
      "count    100000.000000\n",
      "mean       1186.351610\n",
      "std        1765.861168\n",
      "min           0.000000\n",
      "25%         460.000000\n",
      "50%         854.000000\n",
      "75%        1620.000000\n",
      "max       81737.000000\n",
      "Name: trip_seconds, dtype: float64\n",
      "4260.0\n",
      "4.0\n"
     ]
    },
    {
     "data": {
      "image/png": "[encoded data removed]",
      "text/plain": [
       "<Figure size 640x480 with 1 Axes>"
      ]
     },
     "metadata": {},
     "output_type": "display_data"
    }
   ],
   "source": [
    "print(dfpd_for_graphs['trip_seconds'].describe())\n",
    "print(dfpd_for_graphs['trip_seconds'].quantile(0.99))\n",
    "print(dfpd_for_graphs['trip_seconds'].quantile(0.025))\n",
    "\n",
    "dfpd_for_graphs['trip_seconds'].plot.hist(bins=400)#, range =(0.0, trip_seconds['trip_seconds'].quantile(0.975)))\n",
    "plt.xlim(0.0, 10000)#trip_seconds.quantile(0.99))\n",
    "plt.show()"
   ]
  },
  {
   "cell_type": "code",
   "execution_count": 41,
   "id": "d015a6ac-3243-49d0-a062-1f23099c40d9",
   "metadata": {},
   "outputs": [
    {
     "name": "stdout",
     "output_type": "stream",
     "text": [
      "[4.0, 4080.0]\n"
     ]
    }
   ],
   "source": [
    "trip_seconds_quant = dfsp_filtered.approxQuantile(\"trip_seconds\", [0.025, 0.99], 0.005)\n",
    "print(trip_seconds_quant)"
   ]
  },
  {
   "cell_type": "code",
   "execution_count": 42,
   "id": "399c7fd9-c71b-49cb-9400-818cf85788dc",
   "metadata": {
    "scrolled": true
   },
   "outputs": [
    {
     "name": "stdout",
     "output_type": "stream",
     "text": [
      "count    100000.000000\n",
      "mean          6.001367\n",
      "std           7.354992\n",
      "min           0.000000\n",
      "25%           0.880000\n",
      "50%           2.510000\n",
      "75%          10.700000\n",
      "max         601.400000\n",
      "Name: trip_miles, dtype: float64\n",
      "25.2\n",
      "0.0\n"
     ]
    },
    {
     "data": {
      "image/png": "[encoded data removed]",
      "text/plain": [
       "<Figure size 640x480 with 1 Axes>"
      ]
     },
     "metadata": {},
     "output_type": "display_data"
    }
   ],
   "source": [
    "print(dfpd_for_graphs['trip_miles'].describe())\n",
    "print(dfpd_for_graphs['trip_miles'].quantile(0.99))\n",
    "print(dfpd_for_graphs['trip_miles'].quantile(0.1))\n",
    "\n",
    "dfpd_for_graphs['trip_miles'].plot.hist(bins=1000)\n",
    "plt.xlim(0.0, 35)#trip_miles['trip_miles'].quantile(0.99))\n",
    "\n",
    "plt.show()"
   ]
  },
  {
   "cell_type": "code",
   "execution_count": 43,
   "id": "e0e4fb0f-faba-47a6-946a-9f3392bf9a91",
   "metadata": {},
   "outputs": [
    {
     "name": "stdout",
     "output_type": "stream",
     "text": [
      "[0.0, 23.94]\n"
     ]
    }
   ],
   "source": [
    "trip_miles_quant = dfsp_filtered.approxQuantile(\"trip_miles\", [0.025, 0.99], 0.005)\n",
    "print(trip_miles_quant)"
   ]
  },
  {
   "cell_type": "code",
   "execution_count": 44,
   "id": "664894f3-ce42-4ab7-8f20-6a8aaef96baf",
   "metadata": {
    "scrolled": true
   },
   "outputs": [
    {
     "name": "stdout",
     "output_type": "stream",
     "text": [
      "count    100000.000000\n",
      "mean         25.955690\n",
      "std          43.778698\n",
      "min           0.000000\n",
      "25%           9.947500\n",
      "50%          16.390000\n",
      "75%          37.250000\n",
      "max        6080.650000\n",
      "Name: trip_total, dtype: float64\n",
      "92.50079999999959\n",
      "6.5\n"
     ]
    },
    {
     "data": {
      "image/png": "[encoded data removed]",
      "text/plain": [
       "<Figure size 640x480 with 1 Axes>"
      ]
     },
     "metadata": {},
     "output_type": "display_data"
    }
   ],
   "source": [
    "print(dfpd_for_graphs['trip_total'].describe())\n",
    "print(dfpd_for_graphs['trip_total'].quantile(0.99))\n",
    "print(dfpd_for_graphs['trip_total'].quantile(0.1))\n",
    "\n",
    "dfpd_for_graphs['trip_total'].plot.hist(bins=1000)\n",
    "plt.xlim(0.0, 150)#trip_total['trip_total'].quantile(0.99))\n",
    "plt.show()"
   ]
  },
  {
   "cell_type": "code",
   "execution_count": 45,
   "id": "7f14fb01-dd89-4117-bc13-8487887d4a70",
   "metadata": {},
   "outputs": [
    {
     "name": "stdout",
     "output_type": "stream",
     "text": [
      "[3.25, 96.4]\n"
     ]
    }
   ],
   "source": [
    "trip_total_quant = dfsp_filtered.approxQuantile(\"trip_total\", [0.025, 0.994], 0.005)\n",
    "print(trip_total_quant)"
   ]
  },
  {
   "cell_type": "markdown",
   "id": "00d88173-73a9-4f70-95ee-17ecc3f0cc93",
   "metadata": {},
   "source": [
    "    Квантили не выглядят выбросами. Поездка может длиться 4000 секунд, 23 мили и стоить 100 долларов.\n",
    "    Похоже, что квантили, даже 99% не отражают выбросы.\n",
    "    Лучше отсечем выбросы не по квантилям, а по абсолютным значениям:\n",
    "        5500 секунд(2 часа)\n",
    "        50 миль - город по диагонали приблизительно 28,5 миль\n",
    "        300 $   "
   ]
  },
  {
   "cell_type": "code",
   "execution_count": 46,
   "id": "c0875b84-28dc-47c6-b36c-ddbbc697372f",
   "metadata": {},
   "outputs": [
    {
     "data": {
      "text/plain": [
       "35636"
      ]
     },
     "execution_count": 46,
     "metadata": {},
     "output_type": "execute_result"
    }
   ],
   "source": [
    "dfsp_filtered.filter((dfsp_filtered.trip_seconds > 5500)  #trip_seconds_quant[1]) \\\n",
    "                    |(dfsp_filtered.trip_miles > 50)  #trip_miles_quant[1]) \\\n",
    "                     |(dfsp_filtered.trip_total > 300)  #trip_total_quant[1])\n",
    "                    ).count()"
   ]
  },
  {
   "cell_type": "code",
   "execution_count": 47,
   "id": "24c5eb1e-1c16-48d1-8332-d94935df5337",
   "metadata": {},
   "outputs": [
    {
     "data": {
      "text/plain": [
       "9478824"
      ]
     },
     "execution_count": 47,
     "metadata": {},
     "output_type": "execute_result"
    }
   ],
   "source": [
    "dfsp_contracted = dfsp_filtered.filter((dfsp_filtered.trip_seconds <= 5500)  #trip_seconds_quant[1]) \\\n",
    "                    |(dfsp_filtered.trip_miles <= 50)  #trip_miles_quant[1]) \\\n",
    "                     |(dfsp_filtered.trip_total <= 300)  #trip_total_quant[1])\n",
    "                    )\n",
    "dfsp_contracted.count()"
   ]
  },
  {
   "cell_type": "code",
   "execution_count": 48,
   "id": "3b70932b-5c42-4b4c-9b88-70006b52074c",
   "metadata": {},
   "outputs": [
    {
     "name": "stdout",
     "output_type": "stream",
     "text": [
      "Количество используемой памяти 35_154_934 байт, пиковое 69_688_763 байт\n"
     ]
    }
   ],
   "source": [
    "mem_use()"
   ]
  },
  {
   "cell_type": "markdown",
   "id": "7409d5f9-db21-4a7e-a96b-d1ba7de5e7e3",
   "metadata": {},
   "source": [
    "    После удаления того, что принято за выбросы, осталось 9,48 млн данных - около 90%.\n",
    "    Часть данных можно сохранить проведя более детальный разбор выбросов."
   ]
  },
  {
   "cell_type": "markdown",
   "id": "75ab957c-170e-4c67-8a0f-611b71b76ea8",
   "metadata": {},
   "source": [
    "## Обработаем данные о времени: изменим формат на Timestamp и округлим до часа"
   ]
  },
  {
   "cell_type": "code",
   "execution_count": 49,
   "id": "8e13ebc6-0801-4cfa-be85-a110593d969c",
   "metadata": {
    "scrolled": true
   },
   "outputs": [
    {
     "name": "stdout",
     "output_type": "stream",
     "text": [
      "root\n",
      " |-- trip_id: string (nullable = true)\n",
      " |-- taxi_id: string (nullable = true)\n",
      " |-- trip_start_timestamp: timestamp (nullable = true)\n",
      " |-- trip_end_timestamp: timestamp (nullable = true)\n",
      " |-- trip_seconds: integer (nullable = true)\n",
      " |-- trip_miles: double (nullable = true)\n",
      " |-- pickup_census_tract: long (nullable = true)\n",
      " |-- dropoff_census_tract: long (nullable = true)\n",
      " |-- pickup_community_area: integer (nullable = true)\n",
      " |-- dropoff_community_area: integer (nullable = true)\n",
      " |-- fare: double (nullable = true)\n",
      " |-- tips: double (nullable = true)\n",
      " |-- tolls: double (nullable = true)\n",
      " |-- extras: double (nullable = true)\n",
      " |-- trip_total: double (nullable = true)\n",
      " |-- payment_type: string (nullable = true)\n",
      " |-- company: string (nullable = true)\n",
      " |-- pickup_centroid_latitude: double (nullable = true)\n",
      " |-- pickup_centroid_longitude: double (nullable = true)\n",
      " |-- pickup_centroid_location: string (nullable = true)\n",
      " |-- dropoff_centroid_latitude: double (nullable = true)\n",
      " |-- dropoff_centroid_longitude: double (nullable = true)\n",
      " |-- dropoff_centroid__location: string (nullable = true)\n",
      "\n"
     ]
    }
   ],
   "source": [
    "#Timestamp String to DateType\n",
    "dfsp_contracted = dfsp_contracted \\\n",
    "    .withColumn(\"trip_end_timestamp\", F.date_trunc(\"hour\", to_timestamp(\"trip_end_timestamp\", \"MM/dd/yyyy hh:mm:ss a\"))) \\\n",
    "            .withColumn(\"trip_start_timestamp\", F.date_trunc(\"hour\", to_timestamp(\"trip_start_timestamp\", \"MM/dd/yyyy hh:mm:ss a\")))\n",
    "dfsp_contracted.printSchema()"
   ]
  },
  {
   "cell_type": "markdown",
   "id": "936d259c-cf8e-4fa0-8f48-b62f43b23a17",
   "metadata": {},
   "source": [
    "    максимальная метка времени взятия пассажира 2023-08-01 00:00:00"
   ]
  },
  {
   "cell_type": "code",
   "execution_count": 50,
   "id": "41b0ec4f-e7fa-407c-9427-b50d24ea6e7c",
   "metadata": {
    "scrolled": true
   },
   "outputs": [
    {
     "name": "stdout",
     "output_type": "stream",
     "text": [
      "+--------------------+-------------------+\n",
      "|trip_start_timestamp| trip_end_timestamp|\n",
      "+--------------------+-------------------+\n",
      "| 2022-01-01 00:00:00|2022-01-01 00:00:00|\n",
      "| 2022-01-01 00:00:00|2022-01-01 00:00:00|\n",
      "| 2022-01-01 00:00:00|2022-01-01 00:00:00|\n",
      "| 2022-01-01 00:00:00|2022-01-01 00:00:00|\n",
      "| 2022-01-01 00:00:00|2022-01-01 00:00:00|\n",
      "+--------------------+-------------------+\n",
      "only showing top 5 rows\n",
      "\n",
      "+--------------------+-------------------+\n",
      "|trip_start_timestamp| trip_end_timestamp|\n",
      "+--------------------+-------------------+\n",
      "| 2023-07-31 22:00:00|2023-07-31 22:00:00|\n",
      "| 2023-07-31 22:00:00|2023-07-31 22:00:00|\n",
      "| 2023-07-31 22:00:00|2023-07-31 22:00:00|\n",
      "| 2023-07-31 22:00:00|2023-07-31 22:00:00|\n",
      "| 2023-07-31 22:00:00|2023-07-31 22:00:00|\n",
      "+--------------------+-------------------+\n",
      "only showing top 5 rows\n",
      "\n",
      "+----------------------------------------+--------------------+-------------------+\n",
      "|trip_id                                 |trip_start_timestamp|trip_end_timestamp |\n",
      "+----------------------------------------+--------------------+-------------------+\n",
      "|015fc6b1f3e7b70b9d5fb41bb9b8c7e9e8d8ef07|2023-06-01 01:00:00 |2023-06-01 01:00:00|\n",
      "|06fff25f2374b62e84f89f8917765492ad220729|2023-06-01 01:00:00 |2023-06-01 01:00:00|\n",
      "|0a4d1da869df7f05b2cbf218b0bc45fd7629f680|2023-06-01 01:00:00 |2023-06-01 01:00:00|\n",
      "|0d76135ab1a1ce119a3a44dbd8699afe16901688|2023-06-01 01:00:00 |2023-06-01 01:00:00|\n",
      "|0db2a5170c6edfb166b8bec878f9799f3b1b63b7|2023-06-01 01:00:00 |2023-06-01 01:00:00|\n",
      "|1cc666f8c1e0462805d48127b1714cabc77c085a|2023-06-01 01:00:00 |2023-06-01 01:00:00|\n",
      "|22a562a8097c1a743ece2d635a58dbdb82a862b1|2023-06-01 01:00:00 |2023-06-01 01:00:00|\n",
      "|240e490b8358a7ebf51065a3ed73707bbcc73e9c|2023-06-01 01:00:00 |2023-06-01 01:00:00|\n",
      "|28a4885e556b8f459b9c165bf12edf4b9918b656|2023-06-01 01:00:00 |2023-06-01 01:00:00|\n",
      "|31434918039efc3ee3d2058de5c2a4842a6546a0|2023-06-01 01:00:00 |2023-06-01 01:00:00|\n",
      "+----------------------------------------+--------------------+-------------------+\n",
      "only showing top 10 rows\n",
      "\n"
     ]
    }
   ],
   "source": [
    "dfsp_timed = dfsp_contracted.withColumn(\"trip_start_timestamp\", F.date_trunc(\"hour\", dfsp_contracted.trip_start_timestamp)) \\\n",
    "                   .withColumn(\"trip_end_timestamp\", F.date_trunc(\"hour\", dfsp_contracted.trip_end_timestamp))\n",
    "#dfsp_timed = dfsp_timed.withColumn(\"trip_end_timestamp\", F.date_trunc(\"hour\", dfsp_timed.trip_end_timestamp))\n",
    "dfsp_timed.select('trip_start_timestamp', 'trip_end_timestamp').show(5)\n",
    "dfsp_timed.sort(dfsp_timed.trip_start_timestamp.desc()).select('trip_start_timestamp', 'trip_end_timestamp').show(5)\n",
    "dfsp_timed.filter((dfsp_timed[\"trip_start_timestamp\"] > '2023-06-01 00:00:00') &\n",
    "            (dfsp_timed[\"trip_start_timestamp\"] < '2023-07-01 00:00:00')).select(\n",
    "                    'trip_id', 'trip_start_timestamp', 'trip_end_timestamp').show(10, False)"
   ]
  },
  {
   "cell_type": "markdown",
   "id": "74cc7976-69fa-4cd4-a555-8cd6223e7f79",
   "metadata": {},
   "source": [
    "# Построим карту точек подбора пассажиров с цветами по длительности поездки и расстоянию."
   ]
  },
  {
   "cell_type": "code",
   "execution_count": 51,
   "id": "8bfd23db-2d5e-4fa2-8fae-706e89fd8550",
   "metadata": {},
   "outputs": [
    {
     "name": "stdout",
     "output_type": "stream",
     "text": [
      "+-------------------+-------------------+----------+\n",
      "|trip_end_timestamp |trip_end_timestamp |trip_miles|\n",
      "+-------------------+-------------------+----------+\n",
      "|2022-01-01 00:00:00|2022-01-01 00:00:00|0.0       |\n",
      "|2022-01-01 00:00:00|2022-01-01 00:00:00|0.0       |\n",
      "|2022-01-01 00:00:00|2022-01-01 00:00:00|0.0       |\n",
      "|2022-01-01 00:00:00|2022-01-01 00:00:00|0.0       |\n",
      "|2022-01-01 00:00:00|2022-01-01 00:00:00|0.0       |\n",
      "+-------------------+-------------------+----------+\n",
      "only showing top 5 rows\n",
      "\n"
     ]
    },
    {
     "data": {
      "text/plain": [
       "1296328"
      ]
     },
     "execution_count": 51,
     "metadata": {},
     "output_type": "execute_result"
    }
   ],
   "source": [
    "dfsp_contracted.filter(\"trip_miles ==0.0\").select('trip_end_timestamp',\n",
    "    'trip_end_timestamp', 'trip_miles').show(5, False)\n",
    "dfsp_contracted.filter(\"trip_miles <=0.1\").count()"
   ]
  },
  {
   "cell_type": "code",
   "execution_count": 52,
   "id": "80e8fdd4-b46b-4f56-95eb-b750a4969026",
   "metadata": {},
   "outputs": [
    {
     "name": "stdout",
     "output_type": "stream",
     "text": [
      "+----------+------------------+------------------+---------------+-----------------+\n",
      "|trip_miles|   avg(trip_total)|         avg(fare)|avg(trip_miles)|avg(trip_seconds)|\n",
      "+----------+------------------+------------------+---------------+-----------------+\n",
      "|       0.0|19.359122576779953|15.133533754173664|            0.0|579.7355461329227|\n",
      "+----------+------------------+------------------+---------------+-----------------+\n",
      "\n"
     ]
    }
   ],
   "source": [
    "dfsp_contracted.filter(\"trip_miles ==0.0\").select(\n",
    "    'trip_total', 'fare', 'trip_miles', 'trip_seconds').groupby('trip_miles').mean().show()"
   ]
  },
  {
   "cell_type": "code",
   "execution_count": 53,
   "id": "dc2ef705-2c84-476b-84ed-ee59f0766fef",
   "metadata": {
    "scrolled": true
   },
   "outputs": [],
   "source": [
    "for_feature = dfsp_contracted.orderBy(rand()).limit(10**5).select('pickup_centroid_latitude', 'pickup_centroid_longitude',\n",
    "                                  'trip_total', 'trip_seconds', 'trip_miles', 'fare'\n",
    "                                    ).toPandas()"
   ]
  },
  {
   "cell_type": "code",
   "execution_count": 54,
   "id": "79a912a0-4e32-450c-a16c-8ffbebc5056d",
   "metadata": {},
   "outputs": [
    {
     "name": "stdout",
     "output_type": "stream",
     "text": [
      "<class 'pandas.core.frame.DataFrame'>\n",
      "RangeIndex: 100000 entries, 0 to 99999\n",
      "Data columns (total 6 columns):\n",
      " #   Column                     Non-Null Count   Dtype  \n",
      "---  ------                     --------------   -----  \n",
      " 0   pickup_centroid_latitude   99988 non-null   float64\n",
      " 1   pickup_centroid_longitude  99988 non-null   float64\n",
      " 2   trip_total                 100000 non-null  float64\n",
      " 3   trip_seconds               100000 non-null  int32  \n",
      " 4   trip_miles                 100000 non-null  float64\n",
      " 5   fare                       100000 non-null  float64\n",
      "dtypes: float64(5), int32(1)\n",
      "memory usage: 4.2 MB\n"
     ]
    },
    {
     "data": {
      "text/html": [
       "<div>\n",
       "<style scoped>\n",
       "    .dataframe tbody tr th:only-of-type {\n",
       "        vertical-align: middle;\n",
       "    }\n",
       "\n",
       "    .dataframe tbody tr th {\n",
       "        vertical-align: top;\n",
       "    }\n",
       "\n",
       "    .dataframe thead th {\n",
       "        text-align: right;\n",
       "    }\n",
       "</style>\n",
       "<table border=\"1\" class=\"dataframe\">\n",
       "  <thead>\n",
       "    <tr style=\"text-align: right;\">\n",
       "      <th></th>\n",
       "      <th>pickup_centroid_latitude</th>\n",
       "      <th>pickup_centroid_longitude</th>\n",
       "      <th>trip_total</th>\n",
       "      <th>trip_seconds</th>\n",
       "      <th>trip_miles</th>\n",
       "      <th>fare</th>\n",
       "    </tr>\n",
       "  </thead>\n",
       "  <tbody>\n",
       "    <tr>\n",
       "      <th>0</th>\n",
       "      <td>41.823713</td>\n",
       "      <td>-87.602350</td>\n",
       "      <td>20.00</td>\n",
       "      <td>1080</td>\n",
       "      <td>6.87</td>\n",
       "      <td>20.00</td>\n",
       "    </tr>\n",
       "    <tr>\n",
       "      <th>1</th>\n",
       "      <td>41.879255</td>\n",
       "      <td>-87.642649</td>\n",
       "      <td>13.00</td>\n",
       "      <td>792</td>\n",
       "      <td>1.87</td>\n",
       "      <td>9.50</td>\n",
       "    </tr>\n",
       "    <tr>\n",
       "      <th>2</th>\n",
       "      <td>41.895033</td>\n",
       "      <td>-87.619711</td>\n",
       "      <td>10.25</td>\n",
       "      <td>960</td>\n",
       "      <td>1.90</td>\n",
       "      <td>10.25</td>\n",
       "    </tr>\n",
       "    <tr>\n",
       "      <th>3</th>\n",
       "      <td>41.874005</td>\n",
       "      <td>-87.663518</td>\n",
       "      <td>17.00</td>\n",
       "      <td>897</td>\n",
       "      <td>5.59</td>\n",
       "      <td>17.00</td>\n",
       "    </tr>\n",
       "    <tr>\n",
       "      <th>4</th>\n",
       "      <td>41.938666</td>\n",
       "      <td>-87.711211</td>\n",
       "      <td>30.50</td>\n",
       "      <td>1020</td>\n",
       "      <td>0.70</td>\n",
       "      <td>30.50</td>\n",
       "    </tr>\n",
       "  </tbody>\n",
       "</table>\n",
       "</div>"
      ],
      "text/plain": [
       "   pickup_centroid_latitude  pickup_centroid_longitude  trip_total  \\\n",
       "0                 41.823713                 -87.602350       20.00   \n",
       "1                 41.879255                 -87.642649       13.00   \n",
       "2                 41.895033                 -87.619711       10.25   \n",
       "3                 41.874005                 -87.663518       17.00   \n",
       "4                 41.938666                 -87.711211       30.50   \n",
       "\n",
       "   trip_seconds  trip_miles   fare  \n",
       "0          1080        6.87  20.00  \n",
       "1           792        1.87   9.50  \n",
       "2           960        1.90  10.25  \n",
       "3           897        5.59  17.00  \n",
       "4          1020        0.70  30.50  "
      ]
     },
     "execution_count": 54,
     "metadata": {},
     "output_type": "execute_result"
    }
   ],
   "source": [
    "dfpd_for_graphs.info()\n",
    "dfpd_for_graphs.head()"
   ]
  },
  {
   "cell_type": "code",
   "execution_count": 55,
   "id": "686c4d60-271f-44bb-b946-3f2ee8829283",
   "metadata": {},
   "outputs": [
    {
     "data": {
      "image/png": "[encoded data removed]",
      "text/plain": [
       "<Figure size 1000x800 with 2 Axes>"
      ]
     },
     "metadata": {},
     "output_type": "display_data"
    }
   ],
   "source": [
    "x = for_feature['pickup_centroid_longitude']\n",
    "y = for_feature['pickup_centroid_latitude']\n",
    "fig, (ax1, ax2) = plt.subplots(1, 2)\n",
    "ax1.scatter(x, y, c=dfpd_for_graphs['trip_miles'], cmap='viridis')\n",
    "ax2.scatter(x, y, c=dfpd_for_graphs['trip_total'], cmap='plasma')\n",
    "fig.set_size_inches(10, 8)\n",
    "ax1.set_title('trip_seconds')\n",
    "ax1.set_xlabel('pickup_centroid_longitude')\n",
    "ax1.set_ylabel('pickup_centroid_latitude')\n",
    "ax2.set_title('trip_total')\n",
    "ax2.set_xlabel('pickup_centroid_longitude')\n",
    "ax2.set_ylabel('pickup_centroid_latitude')\n",
    "plt.show()"
   ]
  },
  {
   "cell_type": "markdown",
   "id": "9333ae75-a16a-4c1e-94b7-21ec5bde3d24",
   "metadata": {},
   "source": [
    "# Пока удалим колонки, которые предположительно не будут влиять на целевой показатель. Если модели не будут набирать достаточной точности, рассмотрим их возврат"
   ]
  },
  {
   "cell_type": "code",
   "execution_count": 56,
   "id": "b6d0168b-a37b-4efb-853e-c884d32f6128",
   "metadata": {},
   "outputs": [
    {
     "name": "stdout",
     "output_type": "stream",
     "text": [
      "+--------------------+--------------------+--------------------+-------------------+------------+----------+---------------------+----------------------+----------+------------------------+-------------------------+\n",
      "|             trip_id|             taxi_id|trip_start_timestamp| trip_end_timestamp|trip_seconds|trip_miles|pickup_community_area|dropoff_community_area|trip_total|pickup_centroid_latitude|pickup_centroid_longitude|\n",
      "+--------------------+--------------------+--------------------+-------------------+------------+----------+---------------------+----------------------+----------+------------------------+-------------------------+\n",
      "|54d812a0b88f8f970...|f98ae5e71fdda8806...| 2022-01-01 00:00:00|2022-01-01 00:00:00|         536|      4.83|                   28|                    22|     14.75|            41.874005383|             -87.66351755|\n",
      "|7125b9e03a0f16c2d...|8eca35a570101ad24...| 2022-01-01 00:00:00|2022-01-01 00:00:00|         897|      2.07|                    8|                    32|     11.25|            41.899602111|            -87.633308037|\n",
      "|f1a650ee419b4e52d...|e2d8418fcdb061eee...| 2022-01-01 00:00:00|2022-01-01 00:00:00|        2200|      2.48|                    8|                    32|      11.5|            41.899602111|            -87.633308037|\n",
      "|040caea96573c5743...|b9a58663518c48b09...| 2022-01-01 00:00:00|2022-01-01 00:00:00|        1256|     13.29|                   76|                  null|      40.0|            41.980264315|            -87.913624596|\n",
      "|058322b4ecd94483a...|c9867d006415cbc16...| 2022-01-01 00:00:00|2022-01-01 00:00:00|           0|       0.0|                   33|                    33|      3.25|            41.857183858|            -87.620334624|\n",
      "+--------------------+--------------------+--------------------+-------------------+------------+----------+---------------------+----------------------+----------+------------------------+-------------------------+\n",
      "only showing top 5 rows\n",
      "\n"
     ]
    },
    {
     "data": {
      "text/plain": [
       "78"
      ]
     },
     "execution_count": 56,
     "metadata": {},
     "output_type": "execute_result"
    }
   ],
   "source": [
    "dfsp_timed = dfsp_timed.drop('pickup_census_tract', 'pickup_centroid_location', \n",
    "                 'tips', 'tolls', 'extras', \n",
    "                 \"fare\", 'company', 'payment_type', \n",
    "                 'dropoff_census_tract', 'dropoff_centroid_latitude', \n",
    "                'dropoff_centroid_longitude', 'dropoff_centroid__location')\n",
    "dfsp_timed.show(5)\n",
    "dfsp_timed.select('pickup_community_area').distinct().count()"
   ]
  },
  {
   "cell_type": "markdown",
   "id": "49290435-cc41-48ef-bb9c-2b10f658b143",
   "metadata": {},
   "source": [
    "# Проведем агрегацию данных по часу и коммьюнити, далее в этот набор данных будем добавлять признаки"
   ]
  },
  {
   "cell_type": "code",
   "execution_count": 57,
   "id": "aa96a0eb-0a07-4956-90d4-d3694217438e",
   "metadata": {},
   "outputs": [],
   "source": [
    "dfsp_timed_agg = dfsp_timed.groupby('pickup_community_area', \"trip_start_timestamp\").agg(\n",
    "    count('trip_id').alias('trips_count'), \n",
    "    median(\"trip_total\").alias('cost_median'), \n",
    "    median('trip_miles').alias('miles_median'),\n",
    "    median(\"trip_seconds\").alias('seconds_median'),\n",
    "    median(\"pickup_centroid_latitude\").alias('centroid_lat_median'),\n",
    "    median(\"pickup_centroid_longitude\").alias('centroid_long_median'),\n",
    "    countDistinct('taxi_id').alias('taxi_countdist')\n",
    ").cache()\n",
    "#dfsp_timed_agg.sort('trip_start_timestamp').show(5)\n",
    "#dfsp_timed_agg.printSchema()"
   ]
  },
  {
   "cell_type": "markdown",
   "id": "c8d431a9-ac1a-4061-b1c8-6d04f30eb051",
   "metadata": {},
   "source": [
    "    В итоге, наш целевой показатель - trips_count"
   ]
  },
  {
   "cell_type": "code",
   "execution_count": 58,
   "id": "c33df50b-46b0-4a59-99ce-fd96c45c4ee4",
   "metadata": {},
   "outputs": [],
   "source": [
    "rand_community = np.random.randint(77)"
   ]
  },
  {
   "cell_type": "markdown",
   "id": "69d3e185-230c-42bd-90a3-683bf6ae1ee2",
   "metadata": {},
   "source": [
    "    Потерялись часы, где не было поездок в районе."
   ]
  },
  {
   "cell_type": "markdown",
   "id": "20e11159-3578-4724-ada9-b42b219fbb4a",
   "metadata": {},
   "source": [
    "## Восполним утерянные часы"
   ]
  },
  {
   "cell_type": "code",
   "execution_count": 60,
   "id": "8bbe31bf-36c0-454f-95a8-9c26f5002046",
   "metadata": {},
   "outputs": [],
   "source": [
    "max_hour = '2023-07-31 23:00:00'#max(dfsp_timed.trip_start_timestamp) \n",
    "min_hour = '2022-01-01 00:00:00' #min(dfsp_timed.trip_start_timestamp)# "
   ]
  },
  {
   "cell_type": "code",
   "execution_count": 61,
   "id": "1ad6a95f-3694-4c8d-87d1-d7f2947c630d",
   "metadata": {
    "scrolled": true
   },
   "outputs": [],
   "source": [
    "hours = spark.createDataFrame([(min_hour, max_hour)], [\"min_hour\", \"max_hour\"])\n",
    "hours = hours.selectExpr(\"explode(sequence(to_timestamp(min_hour), to_timestamp(max_hour), interval 1 hour)) as time\") \n",
    "\n",
    "hours=hours.select(F.date_trunc('hour', hours.time).alias(\"hour_cons\")).cache()"
   ]
  },
  {
   "cell_type": "code",
   "execution_count": null,
   "id": "b1c48e82-c979-4d99-9290-9dbd14141e40",
   "metadata": {
    "scrolled": true
   },
   "outputs": [],
   "source": [
    "hours.sort(hours.hour_cons.desc()).show(5)\n",
    "hours.show(5)\n",
    "hours.count()"
   ]
  },
  {
   "cell_type": "code",
   "execution_count": 62,
   "id": "1c1cf639-50a3-4ba7-ac8b-582d6fcb09b1",
   "metadata": {},
   "outputs": [],
   "source": [
    "allhours_schema = StructType([ \\\n",
    "                                StructField(\"hour_cons\",TimestampType(),True), \\\n",
    "                                StructField(\"pickup_community_area\",IntegerType (),True) \\\n",
    "                              ])\n",
    "all_hours = spark.createDataFrame([], allhours_schema)\n",
    "for i in range(78):\n",
    "    temp = hours.withColumn('pickup_community_area', lit(i))\n",
    "    all_hours = all_hours.union(temp)"
   ]
  },
  {
   "cell_type": "code",
   "execution_count": null,
   "id": "561c74cc-0192-484b-9325-67c69fab557b",
   "metadata": {
    "scrolled": true
   },
   "outputs": [],
   "source": [
    "all_hours.show(5)\n",
    "all_hours.filter('pickup_community_area==77').sort(all_hours.hour_cons.desc()).show(5)\n",
    "all_hours.count()"
   ]
  },
  {
   "cell_type": "markdown",
   "id": "f1dcfe5b-47e9-40c6-ba1b-d4e45f7a3b9c",
   "metadata": {},
   "source": [
    "## Закинем в ДФ со всеми районами и часами агрегированные данные"
   ]
  },
  {
   "cell_type": "code",
   "execution_count": 63,
   "id": "a3b00787-4656-49c2-9458-3a421f58a84c",
   "metadata": {
    "scrolled": true
   },
   "outputs": [],
   "source": [
    "all_hours = all_hours \\\n",
    "    .join(dfsp_timed_agg, (all_hours.hour_cons == dfsp_timed_agg.trip_start_timestamp) &\n",
    "    (all_hours.pickup_community_area == dfsp_timed_agg.pickup_community_area), 'left_outer').select(\n",
    "    all_hours.pickup_community_area,\n",
    "    all_hours.hour_cons,\n",
    "    dfsp_timed_agg.taxi_countdist,\n",
    "    dfsp_timed_agg.trips_count,\n",
    "    dfsp_timed_agg.cost_median,\n",
    "    dfsp_timed_agg.miles_median,\n",
    "    dfsp_timed_agg.seconds_median,\n",
    "    dfsp_timed_agg.taxi_countdist\n",
    "    ).na.fill(value=0).cache()\n",
    "\n",
    "#all_hours = all_hours.na.fill(value=0)\n",
    "#all_hours.filter(all_hours.pickup_community_area==rand_community).sort(all_hours.hour_cons.desc()).show(30)\n",
    "#all_hours.filter(all_hours.pickup_community_area==rand_community).count()"
   ]
  },
  {
   "cell_type": "code",
   "execution_count": null,
   "id": "a736ffc0-d6e1-4931-b9b9-110f4cc4b83a",
   "metadata": {
    "scrolled": true
   },
   "outputs": [],
   "source": [
    "dfsp_timed_agg.filter(dfsp_timed.pickup_community_area==rand_community).sort(dfsp_timed.trip_start_timestamp.desc()).show(30)"
   ]
  },
  {
   "cell_type": "code",
   "execution_count": 64,
   "id": "116e03d4-de5e-4fc4-b74a-d829b5f313af",
   "metadata": {},
   "outputs": [
    {
     "name": "stdout",
     "output_type": "stream",
     "text": [
      "Количество используемой памяти 48_973_572 байт, пиковое 76_008_173 байт\n"
     ]
    }
   ],
   "source": [
    "mem_use()"
   ]
  },
  {
   "cell_type": "code",
   "execution_count": null,
   "id": "35f9454e-dff8-4e46-bb72-53cccceb9d60",
   "metadata": {
    "scrolled": true
   },
   "outputs": [],
   "source": [
    "all_hours.explain()"
   ]
  },
  {
   "cell_type": "code",
   "execution_count": null,
   "id": "b1af1e59-e7c8-46f0-abb6-7d6aa30bc5cf",
   "metadata": {
    "scrolled": true
   },
   "outputs": [],
   "source": [
    "all_hours.toPandas().to_csv('all_hours.csv')\n",
    "#all_hours.repartition(1).write.mode('overwrite').csv(\"all_hours\")"
   ]
  },
  {
   "cell_type": "markdown",
   "id": "09524275-0ae1-4acd-86b0-17995dee2ab6",
   "metadata": {},
   "source": [
    "# Итог первого этапа:\n",
    "    составили сгруппированные данные по району и времени. \n",
    "    Восстановили полную временную шкалу.\n",
    "    Выделили целевой признак trips_count\n",
    "    промежуточный датасэт -  all_hours"
   ]
  },
  {
   "cell_type": "code",
   "execution_count": null,
   "id": "9c93e1c8-43df-479f-91b3-98c77d6d1f44",
   "metadata": {},
   "outputs": [],
   "source": []
  }
 ],
 "metadata": {
  "kernelspec": {
   "display_name": "Python 3 (ipykernel)",
   "language": "python",
   "name": "python3"
  },
  "language_info": {
   "codemirror_mode": {
    "name": "ipython",
    "version": 3
   },
   "file_extension": ".py",
   "mimetype": "text/x-python",
   "name": "python",
   "nbconvert_exporter": "python",
   "pygments_lexer": "ipython3",
   "version": "3.11.5"
  }
 },
 "nbformat": 4,
 "nbformat_minor": 5
}
