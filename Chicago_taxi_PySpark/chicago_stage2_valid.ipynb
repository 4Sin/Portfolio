{
 "cells": [
  {
   "cell_type": "code",
   "execution_count": 1,
   "id": "4cd6348e-a6ec-4721-99ef-9d3b926ecc44",
   "metadata": {
    "scrolled": true
   },
   "outputs": [
    {
     "name": "stdout",
     "output_type": "stream",
     "text": [
      "Requirement already satisfied: prophet in /opt/conda/lib/python3.11/site-packages (1.1.4)\n",
      "Requirement already satisfied: cmdstanpy>=1.0.4 in /opt/conda/lib/python3.11/site-packages (from prophet) (1.1.0)\n",
      "Requirement already satisfied: numpy>=1.15.4 in /opt/conda/lib/python3.11/site-packages (from prophet) (1.24.4)\n",
      "Requirement already satisfied: matplotlib>=2.0.0 in /opt/conda/lib/python3.11/site-packages (from prophet) (3.7.2)\n",
      "Requirement already satisfied: pandas>=1.0.4 in /opt/conda/lib/python3.11/site-packages (from prophet) (1.5.3)\n",
      "Requirement already satisfied: LunarCalendar>=0.0.9 in /opt/conda/lib/python3.11/site-packages (from prophet) (0.0.9)\n",
      "Requirement already satisfied: convertdate>=2.1.2 in /opt/conda/lib/python3.11/site-packages (from prophet) (2.4.0)\n",
      "Requirement already satisfied: holidays>=0.25 in /opt/conda/lib/python3.11/site-packages (from prophet) (0.32)\n",
      "Requirement already satisfied: python-dateutil>=2.8.0 in /opt/conda/lib/python3.11/site-packages (from prophet) (2.8.2)\n",
      "Requirement already satisfied: tqdm>=4.36.1 in /opt/conda/lib/python3.11/site-packages (from prophet) (4.66.1)\n",
      "Requirement already satisfied: importlib-resources in /opt/conda/lib/python3.11/site-packages (from prophet) (6.0.1)\n",
      "Requirement already satisfied: pymeeus<=1,>=0.3.13 in /opt/conda/lib/python3.11/site-packages (from convertdate>=2.1.2->prophet) (0.5.12)\n",
      "Requirement already satisfied: ephem>=3.7.5.3 in /opt/conda/lib/python3.11/site-packages (from LunarCalendar>=0.0.9->prophet) (4.1.4)\n",
      "Requirement already satisfied: pytz in /opt/conda/lib/python3.11/site-packages (from LunarCalendar>=0.0.9->prophet) (2023.3)\n",
      "Requirement already satisfied: contourpy>=1.0.1 in /opt/conda/lib/python3.11/site-packages (from matplotlib>=2.0.0->prophet) (1.1.0)\n",
      "Requirement already satisfied: cycler>=0.10 in /opt/conda/lib/python3.11/site-packages (from matplotlib>=2.0.0->prophet) (0.11.0)\n",
      "Requirement already satisfied: fonttools>=4.22.0 in /opt/conda/lib/python3.11/site-packages (from matplotlib>=2.0.0->prophet) (4.42.1)\n",
      "Requirement already satisfied: kiwisolver>=1.0.1 in /opt/conda/lib/python3.11/site-packages (from matplotlib>=2.0.0->prophet) (1.4.5)\n",
      "Requirement already satisfied: packaging>=20.0 in /opt/conda/lib/python3.11/site-packages (from matplotlib>=2.0.0->prophet) (23.1)\n",
      "Requirement already satisfied: pillow>=6.2.0 in /opt/conda/lib/python3.11/site-packages (from matplotlib>=2.0.0->prophet) (10.0.0)\n",
      "Requirement already satisfied: pyparsing<3.1,>=2.3.1 in /opt/conda/lib/python3.11/site-packages (from matplotlib>=2.0.0->prophet) (3.0.9)\n",
      "Requirement already satisfied: six>=1.5 in /opt/conda/lib/python3.11/site-packages (from python-dateutil>=2.8.0->prophet) (1.16.0)\n",
      "Note: you may need to restart the kernel to use updated packages.\n"
     ]
    }
   ],
   "source": [
    "pip install prophet"
   ]
  },
  {
   "cell_type": "code",
   "execution_count": 2,
   "id": "873ad2a6-288b-43a3-8f3a-ca0d75ccc3e4",
   "metadata": {},
   "outputs": [
    {
     "name": "stderr",
     "output_type": "stream",
     "text": [
      "Importing plotly failed. Interactive plots will not work.\n"
     ]
    }
   ],
   "source": [
    "import pandas as pd\n",
    "import numpy as np\n",
    "import seaborn as sns\n",
    "import matplotlib.pyplot as plt\n",
    "import pyspark.sql.functions as F\n",
    "from prophet import Prophet\n",
    "\n",
    "from pyspark import SparkContext, SparkConf\n",
    "from pyspark.sql import SparkSession\n",
    "from pyspark.sql.types import *\n",
    "from pyspark.sql.functions import *\n",
    "from pyspark.sql.window import Window\n",
    "\n",
    "from pyspark.ml import Pipeline\n",
    "from pyspark.ml.feature import VectorAssembler, StandardScaler\n",
    "from pyspark.ml.evaluation import RegressionEvaluator\n",
    "from pyspark.ml.regression import LinearRegression, RandomForestRegressor"
   ]
  },
  {
   "cell_type": "code",
   "execution_count": 3,
   "id": "bfdfaffb-31c1-49ca-8c5d-f318bac7cb69",
   "metadata": {},
   "outputs": [],
   "source": [
    "SPARK_MASTER_IP = '172.18.0.2' \n",
    "spark = SparkSession.builder.appName(\"pyspark-taxi-forecasting_stage2\") \\\n",
    "    .master(f\"spark://{SPARK_MASTER_IP}:7077\") \\\n",
    "    .config('spark.local.dir', 'spark_tmp/') \\\n",
    "    .config(\"spark.executor.cores\", 1) \\\n",
    "    .config(\"spark.task.cpus\", 1) \\\n",
    "    .getOrCreate()"
   ]
  },
  {
   "cell_type": "markdown",
   "id": "6bec7d7d-0ac8-4d5a-9b8f-0f53eabf7f50",
   "metadata": {},
   "source": [
    "spark = SparkSession.builder.appName(\"Introduction to Spark\").getOrCreate()"
   ]
  },
  {
   "cell_type": "code",
   "execution_count": 4,
   "id": "66c8a54c-a495-4ce8-8320-01eb360525aa",
   "metadata": {
    "scrolled": true
   },
   "outputs": [
    {
     "data": {
      "text/html": [
       "\n",
       "            <div>\n",
       "                <p><b>SparkSession - in-memory</b></p>\n",
       "                \n",
       "        <div>\n",
       "            <p><b>SparkContext</b></p>\n",
       "\n",
       "            <p><a href=\"http://6026552846af:4040\">Spark UI</a></p>\n",
       "\n",
       "            <dl>\n",
       "              <dt>Version</dt>\n",
       "                <dd><code>v3.4.1</code></dd>\n",
       "              <dt>Master</dt>\n",
       "                <dd><code>spark://172.18.0.2:7077</code></dd>\n",
       "              <dt>AppName</dt>\n",
       "                <dd><code>pyspark-taxi-forecasting_stage2</code></dd>\n",
       "            </dl>\n",
       "        </div>\n",
       "        \n",
       "            </div>\n",
       "        "
      ],
      "text/plain": [
       "<pyspark.sql.session.SparkSession at 0x7f175fb8b250>"
      ]
     },
     "execution_count": 4,
     "metadata": {},
     "output_type": "execute_result"
    }
   ],
   "source": [
    "spark"
   ]
  },
  {
   "cell_type": "markdown",
   "id": "c0b78769-77e3-4776-91cb-be53a1a94672",
   "metadata": {},
   "source": [
    "# Создадим признаки задерки и скользящего среднего"
   ]
  },
  {
   "cell_type": "code",
   "execution_count": 5,
   "id": "cd668f5c-2448-4627-b4b7-f4c875b9281a",
   "metadata": {
    "scrolled": true
   },
   "outputs": [],
   "source": [
    "all_hours = spark.read.csv(\"all_hours_onlycode.csv\", header = True, inferSchema = True)"
   ]
  },
  {
   "cell_type": "code",
   "execution_count": 6,
   "id": "22321aef-ff75-427a-9001-3a3ed1221dd5",
   "metadata": {
    "scrolled": true
   },
   "outputs": [
    {
     "name": "stdout",
     "output_type": "stream",
     "text": [
      "+---+---------------------+-------------------+--------------+-----------+-----------+------------+--------------+\n",
      "|_c0|pickup_community_area|hour_cons          |taxi_countdist|trips_count|cost_median|miles_median|seconds_median|\n",
      "+---+---------------------+-------------------+--------------+-----------+-----------+------------+--------------+\n",
      "|0  |0                    |2022-01-01 05:00:00|0             |0          |0.0        |0.0         |0.0           |\n",
      "|1  |0                    |2022-01-10 11:00:00|0             |0          |0.0        |0.0         |0.0           |\n",
      "|2  |0                    |2022-01-16 14:00:00|0             |0          |0.0        |0.0         |0.0           |\n",
      "|3  |0                    |2022-01-19 06:00:00|0             |0          |0.0        |0.0         |0.0           |\n",
      "|4  |0                    |2022-02-16 06:00:00|0             |0          |0.0        |0.0         |0.0           |\n",
      "+---+---------------------+-------------------+--------------+-----------+-----------+------------+--------------+\n",
      "only showing top 5 rows\n",
      "\n",
      "root\n",
      " |-- _c0: integer (nullable = true)\n",
      " |-- pickup_community_area: integer (nullable = true)\n",
      " |-- hour_cons: timestamp (nullable = true)\n",
      " |-- taxi_countdist: integer (nullable = true)\n",
      " |-- trips_count: integer (nullable = true)\n",
      " |-- cost_median: double (nullable = true)\n",
      " |-- miles_median: double (nullable = true)\n",
      " |-- seconds_median: double (nullable = true)\n",
      "\n"
     ]
    },
    {
     "data": {
      "text/plain": [
       "1080222"
      ]
     },
     "execution_count": 6,
     "metadata": {},
     "output_type": "execute_result"
    }
   ],
   "source": [
    "all_hours.show(5, False)\n",
    "all_hours.printSchema()\n",
    "all_hours.count()"
   ]
  },
  {
   "cell_type": "code",
   "execution_count": 7,
   "id": "87b794cc-1f40-4de5-a01e-848474986187",
   "metadata": {
    "scrolled": true
   },
   "outputs": [
    {
     "name": "stdout",
     "output_type": "stream",
     "text": [
      "+---+---------------------+---------+--------------+-----------+-----------+------------+--------------+----------------+-----------------+-------------------+-------------------+-------------------+-------------------+--------------------+--------------------+-----------------------+------------------------+-------------------------+\n",
      "|_c0|pickup_community_area|hour_cons|taxi_countdist|trips_count|cost_median|miles_median|seconds_median|med_cost_lagged1|med_miles_lagged1|med_seconds_lagged1|trips_count_lagged1|trips_count_lagged2|trips_count_lagged3|trips_count_lagged12|trips_count_lagged24|trips_count_lagged_week|rolling_average_on3hours|rolling_average_on24hours|\n",
      "+---+---------------------+---------+--------------+-----------+-----------+------------+--------------+----------------+-----------------+-------------------+-------------------+-------------------+-------------------+--------------------+--------------------+-----------------------+------------------------+-------------------------+\n",
      "+---+---------------------+---------+--------------+-----------+-----------+------------+--------------+----------------+-----------------+-------------------+-------------------+-------------------+-------------------+--------------------+--------------------+-----------------------+------------------------+-------------------------+\n",
      "\n"
     ]
    }
   ],
   "source": [
    "column_list = [\"pickup_community_area\"]\n",
    "  \n",
    "\n",
    "Windowspec = Window.partitionBy([\"pickup_community_area\"]).orderBy(all_hours.hour_cons.desc())\n",
    "  \n",
    "all_hours_lagged = all_hours.filter(all_hours.hour_cons < '2023-07-31 23:00:00').withColumn(\n",
    "    'med_cost_lagged1', lag(all_hours['cost_median'], -1).over(Windowspec)).withColumn(\n",
    "    'med_miles_lagged1', lag(all_hours['miles_median'], -1).over(Windowspec)).withColumn(\n",
    "    'med_seconds_lagged1', lag(all_hours['seconds_median'], -1).over(Windowspec)).withColumn(\n",
    "    'trips_count_lagged1', lag(all_hours['trips_count'], -1).over(Windowspec)).withColumn(\n",
    "    'trips_count_lagged2', lag(all_hours['trips_count'], -2).over(Windowspec)).withColumn(\n",
    "    'trips_count_lagged3', lag(all_hours['trips_count'], -3).over(Windowspec)).withColumn(\n",
    "    'trips_count_lagged12', lag(all_hours['trips_count'], -12).over(Windowspec)).withColumn(\n",
    "    'trips_count_lagged24', lag(all_hours['trips_count'], -24).over(Windowspec)).withColumn(\n",
    "    'trips_count_lagged_week', lag(all_hours['trips_count'], -24*7).over(Windowspec))\n",
    "\n",
    "all_hours_lagged = all_hours_lagged.withColumn(\n",
    "    'rolling_average_on3hours', avg(all_hours_lagged['trips_count_lagged1'],).over(Windowspec.rowsBetween(-3, -0))) \\\n",
    "    .withColumn('rolling_average_on24hours', avg(all_hours_lagged['trips_count_lagged1'],).over(Windowspec.rowsBetween(-24, -0)))\n",
    "\n",
    "all_hours_lagged.filter('rolling_average_on3hours is NULL').show()"
   ]
  },
  {
   "cell_type": "code",
   "execution_count": 8,
   "id": "b61a5365-3c37-4684-b249-bf24c03b7d3c",
   "metadata": {},
   "outputs": [],
   "source": [
    "all_hours_lagged = all_hours_lagged.na.drop('any').cache()"
   ]
  },
  {
   "cell_type": "code",
   "execution_count": 9,
   "id": "43daf787-d077-4dc1-9d63-3d0564f953e5",
   "metadata": {},
   "outputs": [
    {
     "data": {
      "text/plain": [
       "1066962"
      ]
     },
     "execution_count": 9,
     "metadata": {},
     "output_type": "execute_result"
    }
   ],
   "source": [
    "all_hours_lagged.count()"
   ]
  },
  {
   "cell_type": "markdown",
   "id": "593469ad-493f-4ad6-b726-ac7975c269af",
   "metadata": {},
   "source": [
    "# Выделим тестовую выборку"
   ]
  },
  {
   "cell_type": "code",
   "execution_count": 10,
   "id": "d8b1a11a-044b-4893-8125-6501a16dd141",
   "metadata": {
    "scrolled": true
   },
   "outputs": [
    {
     "name": "stdout",
     "output_type": "stream",
     "text": [
      "+-------+---------------------+-------------------+--------------+-----------+-----------+------------+--------------+----------------+-----------------+-------------------+-------------------+-------------------+-------------------+--------------------+--------------------+-----------------------+------------------------+-------------------------+\n",
      "|    _c0|pickup_community_area|          hour_cons|taxi_countdist|trips_count|cost_median|miles_median|seconds_median|med_cost_lagged1|med_miles_lagged1|med_seconds_lagged1|trips_count_lagged1|trips_count_lagged2|trips_count_lagged3|trips_count_lagged12|trips_count_lagged24|trips_count_lagged_week|rolling_average_on3hours|rolling_average_on24hours|\n",
      "+-------+---------------------+-------------------+--------------+-----------+-----------+------------+--------------+----------------+-----------------+-------------------+-------------------+-------------------+-------------------+--------------------+--------------------+-----------------------+------------------------+-------------------------+\n",
      "| 752181|                   31|2023-05-31 23:00:00|             2|          2|       3.75|        0.24|          67.0|             0.0|              0.0|                0.0|                  0|                  1|                  0|                   1|                   1|                      1|                     0.5|                     1.04|\n",
      "|   7515|                   31|2023-05-31 22:00:00|             0|          0|        0.0|         0.0|           0.0|           16.75|              5.6|              840.0|                  1|                  0|                  0|                   0|                   1|                      0|                    0.75|                      1.0|\n",
      "| 115340|                   31|2023-05-31 21:00:00|             1|          1|      16.75|         5.6|         840.0|             0.0|              0.0|                0.0|                  0|                  0|                  1|                   2|                   1|                      0|                    0.75|                     0.96|\n",
      "| 191184|                   31|2023-05-31 20:00:00|             0|          0|        0.0|         0.0|           0.0|             0.0|              0.0|                0.0|                  0|                  1|                  0|                   2|                   0|                      0|                    0.25|                     0.96|\n",
      "|1017501|                   31|2023-05-31 19:00:00|             0|          0|        0.0|         0.0|           0.0|            30.5|            10.33|             2454.0|                  1|                  0|                  0|                   0|                   0|                      0|                     0.5|                     0.96|\n",
      "+-------+---------------------+-------------------+--------------+-----------+-----------+------------+--------------+----------------+-----------------+-------------------+-------------------+-------------------+-------------------+--------------------+--------------------+-----------------------+------------------------+-------------------------+\n",
      "only showing top 5 rows\n",
      "\n"
     ]
    },
    {
     "data": {
      "text/plain": [
       "952848"
      ]
     },
     "execution_count": 10,
     "metadata": {},
     "output_type": "execute_result"
    }
   ],
   "source": [
    "train_df = all_hours_lagged.filter((all_hours_lagged.hour_cons < '2023-06-01 00:00:00')) \n",
    "train_df.show(5)\n",
    "train_df.count()"
   ]
  },
  {
   "cell_type": "code",
   "execution_count": 11,
   "id": "2ae5c482-e9ca-4cc5-aa7d-6796e011ef9b",
   "metadata": {},
   "outputs": [],
   "source": [
    "valid_df = all_hours_lagged.filter(all_hours_lagged.hour_cons >= '2023-06-01 00:00:00')"
   ]
  },
  {
   "cell_type": "markdown",
   "id": "f00de79d-fa55-4f6a-8c35-46f9d004d245",
   "metadata": {},
   "source": [
    "# Проведем предсказания с помощью модели Prophet"
   ]
  },
  {
   "cell_type": "markdown",
   "id": "379a3cf8-5051-42ec-8830-20de935417ef",
   "metadata": {},
   "source": [
    "## Разделим данные для Prophet"
   ]
  },
  {
   "cell_type": "code",
   "execution_count": 12,
   "id": "0a47c0a6-960e-4728-ba88-44cb6ad3f8c3",
   "metadata": {
    "scrolled": true
   },
   "outputs": [
    {
     "name": "stdout",
     "output_type": "stream",
     "text": [
      "== Physical Plan ==\n",
      "InMemoryTableScan [pickup_community_area#18, ds#1917, y#1918]\n",
      "   +- InMemoryRelation [pickup_community_area#18, ds#1917, y#1918], StorageLevel(disk, memory, deserialized, 1 replicas)\n",
      "         +- Exchange hashpartitioning(pickup_community_area#18, 4), REPARTITION_BY_NUM, [plan_id=385]\n",
      "            +- *(1) Project [pickup_community_area#18, hour_cons#19 AS ds#1917, trips_count#21 AS y#1918]\n",
      "               +- *(1) Filter (isnotnull(hour_cons#19) AND (hour_cons#19 < 2023-06-01 00:00:00))\n",
      "                  +- InMemoryTableScan [hour_cons#19, pickup_community_area#18, trips_count#21], [isnotnull(hour_cons#19), (hour_cons#19 < 2023-06-01 00:00:00)]\n",
      "                        +- InMemoryRelation [_c0#17, pickup_community_area#18, hour_cons#19, taxi_countdist#20, trips_count#21, cost_median#22, miles_median#23, seconds_median#24, med_cost_lagged1#88, med_miles_lagged1#98, med_seconds_lagged1#109, trips_count_lagged1#121, trips_count_lagged2#134, trips_count_lagged3#148, trips_count_lagged12#163, trips_count_lagged24#179, trips_count_lagged_week#196, rolling_average_on3hours#215, rolling_average_on24hours#235], StorageLevel(disk, memory, deserialized, 1 replicas)\n",
      "                              +- *(3) Filter atleastnnonnulls(19, _c0#17, pickup_community_area#18, hour_cons#19, taxi_countdist#20, trips_count#21, cost_median#22, miles_median#23, seconds_median#24, med_cost_lagged1#88, med_miles_lagged1#98, med_seconds_lagged1#109, trips_count_lagged1#121, trips_count_lagged2#134, trips_count_lagged3#148, trips_count_lagged12#163, trips_count_lagged24#179, trips_count_lagged_week#196, rolling_average_on3hours#215, rolling_average_on24hours#235)\n",
      "                                 +- Window [lag(trips_count#21, 168, null) windowspecdefinition(pickup_community_area#18, hour_cons#19 DESC NULLS LAST, specifiedwindowframe(RowFrame, 168, 168)) AS trips_count_lagged_week#196, avg(trips_count_lagged1#121) windowspecdefinition(pickup_community_area#18, hour_cons#19 DESC NULLS LAST, specifiedwindowframe(RowFrame, -3, currentrow$())) AS rolling_average_on3hours#215, avg(trips_count_lagged1#121) windowspecdefinition(pickup_community_area#18, hour_cons#19 DESC NULLS LAST, specifiedwindowframe(RowFrame, -24, currentrow$())) AS rolling_average_on24hours#235], [pickup_community_area#18], [hour_cons#19 DESC NULLS LAST]\n",
      "                                    +- Window [lag(cost_median#22, 1, null) windowspecdefinition(pickup_community_area#18, hour_cons#19 DESC NULLS LAST, specifiedwindowframe(RowFrame, 1, 1)) AS med_cost_lagged1#88, lag(miles_median#23, 1, null) windowspecdefinition(pickup_community_area#18, hour_cons#19 DESC NULLS LAST, specifiedwindowframe(RowFrame, 1, 1)) AS med_miles_lagged1#98, lag(seconds_median#24, 1, null) windowspecdefinition(pickup_community_area#18, hour_cons#19 DESC NULLS LAST, specifiedwindowframe(RowFrame, 1, 1)) AS med_seconds_lagged1#109, lag(trips_count#21, 1, null) windowspecdefinition(pickup_community_area#18, hour_cons#19 DESC NULLS LAST, specifiedwindowframe(RowFrame, 1, 1)) AS trips_count_lagged1#121, lag(trips_count#21, 2, null) windowspecdefinition(pickup_community_area#18, hour_cons#19 DESC NULLS LAST, specifiedwindowframe(RowFrame, 2, 2)) AS trips_count_lagged2#134, lag(trips_count#21, 3, null) windowspecdefinition(pickup_community_area#18, hour_cons#19 DESC NULLS LAST, specifiedwindowframe(RowFrame, 3, 3)) AS trips_count_lagged3#148, lag(trips_count#21, 12, null) windowspecdefinition(pickup_community_area#18, hour_cons#19 DESC NULLS LAST, specifiedwindowframe(RowFrame, 12, 12)) AS trips_count_lagged12#163, lag(trips_count#21, 24, null) windowspecdefinition(pickup_community_area#18, hour_cons#19 DESC NULLS LAST, specifiedwindowframe(RowFrame, 24, 24)) AS trips_count_lagged24#179], [pickup_community_area#18], [hour_cons#19 DESC NULLS LAST]\n",
      "                                       +- *(2) Sort [pickup_community_area#18 ASC NULLS FIRST, hour_cons#19 DESC NULLS LAST], false, 0\n",
      "                                          +- Exchange hashpartitioning(pickup_community_area#18, 200), ENSURE_REQUIREMENTS, [plan_id=368]\n",
      "                                             +- *(1) Filter (isnotnull(hour_cons#19) AND (hour_cons#19 < 2023-07-31 23:00:00))\n",
      "                                                +- FileScan csv [_c0#17,pickup_community_area#18,hour_cons#19,taxi_countdist#20,trips_count#21,cost_median#22,miles_median#23,seconds_median#24] Batched: false, DataFilters: [isnotnull(hour_cons#19), (hour_cons#19 < 2023-07-31 23:00:00)], Format: CSV, Location: InMemoryFileIndex(1 paths)[file:/work/all_hours_onlycode.csv], PartitionFilters: [], PushedFilters: [IsNotNull(hour_cons), LessThan(hour_cons,2023-07-31 23:00:00.0)], ReadSchema: struct<_c0:int,pickup_community_area:int,hour_cons:timestamp,taxi_countdist:int,trips_count:int,c...\n",
      "\n",
      "\n"
     ]
    }
   ],
   "source": [
    "train_proph = train_df.selectExpr( 'pickup_community_area',\n",
    "    'hour_cons as ds', 'trips_count as y')\n",
    "# Partition the data dfsp_partitionned\n",
    "train_proph.createOrReplaceTempView(\"pickup_community_area\")\n",
    "sql = \"select * from pickup_community_area\"\n",
    "train_proph = (spark.sql(sql)\\\n",
    "   .repartition(spark.sparkContext.defaultParallelism, \n",
    "   ['pickup_community_area'])).cache()\n",
    "train_proph.explain()"
   ]
  },
  {
   "cell_type": "code",
   "execution_count": 13,
   "id": "ebbe1d5e-381e-483e-b135-c44507035f65",
   "metadata": {
    "scrolled": true
   },
   "outputs": [
    {
     "name": "stdout",
     "output_type": "stream",
     "text": [
      "+---------------------+-------------------+---+\n",
      "|pickup_community_area|                 ds|  y|\n",
      "+---------------------+-------------------+---+\n",
      "|                    0|2023-06-01 00:00:00|0.0|\n",
      "|                    1|2023-06-01 00:00:00|0.0|\n",
      "|                    2|2023-06-01 00:00:00|0.0|\n",
      "|                    3|2023-06-01 00:00:00|5.0|\n",
      "|                    4|2023-06-01 00:00:00|1.0|\n",
      "+---------------------+-------------------+---+\n",
      "only showing top 5 rows\n",
      "\n"
     ]
    },
    {
     "data": {
      "text/plain": [
       "114114"
      ]
     },
     "execution_count": 13,
     "metadata": {},
     "output_type": "execute_result"
    }
   ],
   "source": [
    "valid_proph = all_hours_lagged.filter(all_hours_lagged.hour_cons >= '2023-06-01 00:00:00')\n",
    "valid_proph = valid_proph.selectExpr( 'pickup_community_area',\n",
    "    'hour_cons as ds', 'trips_count as y')\n",
    "valid_proph = valid_proph.withColumn(\"y\",col(\"y\").cast(DoubleType()))\n",
    "valid_proph.sort('ds', 'pickup_community_area').show(5)\n",
    "\n",
    "valid_proph.count()"
   ]
  },
  {
   "cell_type": "markdown",
   "id": "173561e3-a534-4b48-869a-64eab23e01f7",
   "metadata": {},
   "source": [
    "## Проведем обучение и предсказание модели через функцию Pandas_udf"
   ]
  },
  {
   "cell_type": "code",
   "execution_count": 14,
   "id": "faab525c-1701-45df-97b3-36294880e6df",
   "metadata": {},
   "outputs": [],
   "source": [
    "# Define a schema\n",
    "schema = StructType([ \\\n",
    "                     StructField('pickup_community_area', IntegerType()), \n",
    "                     StructField('ds', TimestampType()),\n",
    "                     StructField('y', FloatType()),\n",
    "                     StructField('yhat', DoubleType()),\n",
    "                     StructField('daily', DoubleType()),\n",
    "                     StructField('weekly', DoubleType())\n",
    "                    ])"
   ]
  },
  {
   "cell_type": "code",
   "execution_count": 15,
   "id": "c30f8707-e7bf-40ec-ac29-2547d9c9521b",
   "metadata": {
    "scrolled": true
   },
   "outputs": [
    {
     "name": "stderr",
     "output_type": "stream",
     "text": [
      "/usr/local/spark/python/pyspark/sql/pandas/group_ops.py:103: UserWarning: It is preferred to use 'applyInPandas' over this API. This API will be deprecated in the future releases. See SPARK-28264 for more details.\n",
      "  warnings.warn(\n"
     ]
    },
    {
     "name": "stdout",
     "output_type": "stream",
     "text": [
      "+---------------------+-------------------+---+-------------------+--------------------+--------------------+\n",
      "|pickup_community_area|                 ds|  y|               yhat|               daily|              weekly|\n",
      "+---------------------+-------------------+---+-------------------+--------------------+--------------------+\n",
      "|                   12|2022-01-08 00:00:00|0.0|0.20231954443989342| -0.1784954999970698|0.021810553109612267|\n",
      "|                   12|2022-01-08 01:00:00|0.0|  0.151072439417259| -0.2472482910063795| 0.03707963538849078|\n",
      "|                   12|2022-01-08 02:00:00|0.0|0.20872559994415502| -0.2060371224482073| 0.05128641702274067|\n",
      "|                   12|2022-01-08 03:00:00|0.0|0.28963271068141927|-0.14027894934349808| 0.06420160776229275|\n",
      "|                   12|2022-01-08 04:00:00|0.0|0.35326562049559396|-0.09029063828459362| 0.07561399314801055|\n",
      "|                   12|2022-01-08 05:00:00|0.0|  0.408986484687335|-0.04651993686699541| 0.08533354616960559|\n",
      "|                   12|2022-01-08 06:00:00|0.0|0.48481737334860114|0.019221300001950808| 0.09319426192732264|\n",
      "|                   12|2022-01-08 07:00:00|1.0| 0.5997750523297193| 0.12608937183408936| 0.09905667686679458|\n",
      "|                   12|2022-01-08 08:00:00|0.0| 0.7536666852626617|  0.2740022650754085|  0.1028100382843703|\n",
      "|                   12|2022-01-08 09:00:00|0.0| 0.9204889312840744| 0.43703696095824374| 0.10437409419445595|\n",
      "|                   12|2022-01-08 10:00:00|1.0| 1.0370277172273026|  0.5520278224536744| 0.10370047856710479|\n",
      "|                   12|2022-01-08 11:00:00|1.0| 1.0062425987363253|  0.5219499945444915| 0.10077367216646246|\n",
      "|                   12|2022-01-08 12:00:00|4.0| 0.7426043781308568| 0.26125649999740774| 0.09561152464017497|\n",
      "|                   12|2022-01-08 13:00:00|1.0| 0.2505986312484943| -0.2256183084934901| 0.08826532921658314|\n",
      "|                   12|2022-01-08 14:00:00|0.0|-0.3223275008787502| -0.7913115810432371| 0.07881944711365887|\n",
      "|                   12|2022-01-08 15:00:00|2.0|-0.7237940150218897| -1.1835598506510452| 0.06739048461484749|\n",
      "|                   12|2022-01-08 16:00:00|1.0|-0.7302950391394907|  -1.179004765070415| 0.05412603155186241|\n",
      "|                   12|2022-01-08 17:00:00|1.0|-0.2965740948605695| -0.7325666636484522|0.039202975658401765|\n",
      "|                   12|2022-01-08 18:00:00|1.0| 0.3917216900103946|-0.03009670000223...|0.022825412737930584|\n",
      "|                   12|2022-01-08 19:00:00|1.0| 1.0142644823664657|  0.6078485275579613|0.005222177958807105|\n",
      "+---------------------+-------------------+---+-------------------+--------------------+--------------------+\n",
      "only showing top 20 rows\n",
      "\n"
     ]
    }
   ],
   "source": [
    "# define the Pandas UDF\n",
    "@pandas_udf(schema, PandasUDFType.GROUPED_MAP)\n",
    "def apply_model(store_pd):  # instantiate the model and set parameters\n",
    "  model = Prophet(\n",
    "      interval_width=0.95,\n",
    "      growth='linear',\n",
    "      n_changepoints = 150,\n",
    "      daily_seasonality=True,\n",
    "      weekly_seasonality=True,\n",
    "      yearly_seasonality=True,\n",
    "      seasonality_mode='additive'\n",
    "  )  # fit the model to historical data\n",
    "  model.fit(store_pd)  # Create a data frame that lists 90 dates starting from Jan 1 2018\n",
    "  future = model.make_future_dataframe(\n",
    "      periods=1465, #valid_proph.filter(valid_proph.pickup_community_area==community_num).count(),\n",
    "      freq='h',\n",
    "      include_history=True\n",
    "   )  # Out of sample prediction\n",
    "  prediction = model.predict(future)  # Create a data frame that contains store, item, y, and yhat\n",
    "  f_pd = prediction[['ds', 'yhat', 'daily', 'weekly']]\n",
    "  st_pd = store_pd[['ds', 'pickup_community_area', 'y']]\n",
    "  result_pd = f_pd.join(st_pd.set_index('ds'), on='ds', how='left')  # fill store and item\n",
    "  result_pd['pickup_community_area'] = store_pd['pickup_community_area'].iloc[0]\n",
    "  return result_pd[['pickup_community_area', 'ds', 'y', 'yhat',\n",
    "                    'daily', 'weekly']]# Apply the function to all store-items\n",
    "# Print the results - calculate the time to run\n",
    "results = train_proph.groupby(['pickup_community_area']).apply(apply_model).cache()\n",
    "\n",
    "results.show()"
   ]
  },
  {
   "cell_type": "code",
   "execution_count": 16,
   "id": "0e71b651-73f1-4d0a-abf2-c683240f6fc9",
   "metadata": {},
   "outputs": [
    {
     "data": {
      "text/plain": [
       "1067118"
      ]
     },
     "execution_count": 16,
     "metadata": {},
     "output_type": "execute_result"
    }
   ],
   "source": [
    "results[['yhat']].count()"
   ]
  },
  {
   "cell_type": "markdown",
   "id": "b6c1c4e7-16a5-4d57-87d0-550605708606",
   "metadata": {},
   "source": [
    "## Оценим полученный прогноз"
   ]
  },
  {
   "cell_type": "code",
   "execution_count": 17,
   "id": "f4158f30-a2e1-4fbc-9bb8-6fcc89e0fe87",
   "metadata": {
    "scrolled": true
   },
   "outputs": [
    {
     "name": "stdout",
     "output_type": "stream",
     "text": [
      "+---------------------+-------------------+------------------+--------+\n",
      "|pickup_community_area|                 ds|              yhat|yhat_int|\n",
      "+---------------------+-------------------+------------------+--------+\n",
      "|                   76|2023-06-01 00:00:00|-4.593405868776557|     0.0|\n",
      "|                   76|2023-06-01 01:00:00| 31.00775394244262|    31.0|\n",
      "|                   76|2023-06-01 02:00:00| 83.14185643054287|    83.0|\n",
      "|                   76|2023-06-01 03:00:00| 107.8617906222579|   108.0|\n",
      "|                   76|2023-06-01 04:00:00|113.59148657154336|   114.0|\n",
      "+---------------------+-------------------+------------------+--------+\n",
      "only showing top 5 rows\n",
      "\n"
     ]
    },
    {
     "data": {
      "text/plain": [
       "114270"
      ]
     },
     "execution_count": 17,
     "metadata": {},
     "output_type": "execute_result"
    }
   ],
   "source": [
    "predictions = results.filter(results['ds'] >= '2023-06-01 00:00:00').select(\n",
    "    'pickup_community_area', 'ds', 'yhat')\n",
    "predictions = predictions.withColumn(\"yhat_int\",F.round(predictions[\"yhat\"],0))\n",
    "predictions = predictions.withColumn('yhat_int', F.when((F.col(\"yhat_int\") <= 0), 0)\\\n",
    "    .otherwise(predictions.yhat_int)).cache()\n",
    "    \n",
    "\n",
    "predictions.filter('pickup_community_area == 76').show(5)\n",
    "predictions.count()"
   ]
  },
  {
   "cell_type": "code",
   "execution_count": 18,
   "id": "2f889110-7ed1-4dde-b287-de49d82ba906",
   "metadata": {},
   "outputs": [],
   "source": [
    "valid_df_withyhat = valid_proph.join(predictions, on=['ds','pickup_community_area'] , how='inner')  # fill store and item"
   ]
  },
  {
   "cell_type": "code",
   "execution_count": 19,
   "id": "a7d77431-1dc7-451c-9036-8df3717651fc",
   "metadata": {},
   "outputs": [
    {
     "name": "stdout",
     "output_type": "stream",
     "text": [
      "+-------------------+---------------------+---+------------------+--------+\n",
      "|                 ds|pickup_community_area|  y|              yhat|yhat_int|\n",
      "+-------------------+---------------------+---+------------------+--------+\n",
      "|2023-07-31 22:00:00|                   31|0.0|0.7175533403456423|     1.0|\n",
      "|2023-07-31 21:00:00|                   31|0.0|0.9173915116418299|     1.0|\n",
      "|2023-07-31 20:00:00|                   31|0.0|1.3922614451832205|     1.0|\n",
      "|2023-07-31 19:00:00|                   31|0.0| 1.790951213205458|     2.0|\n",
      "|2023-07-31 18:00:00|                   31|1.0|1.7873218122449517|     2.0|\n",
      "+-------------------+---------------------+---+------------------+--------+\n",
      "only showing top 5 rows\n",
      "\n"
     ]
    },
    {
     "data": {
      "text/plain": [
       "114114"
      ]
     },
     "execution_count": 19,
     "metadata": {},
     "output_type": "execute_result"
    }
   ],
   "source": [
    "valid_df_withyhat.show(5)\n",
    "valid_df_withyhat.count()"
   ]
  },
  {
   "cell_type": "code",
   "execution_count": 20,
   "id": "5247cd72-a503-4d7a-b6b4-e3d5e6459a25",
   "metadata": {},
   "outputs": [
    {
     "name": "stdout",
     "output_type": "stream",
     "text": [
      "Prphet MAE: 7.962528699370805\n"
     ]
    }
   ],
   "source": [
    "evaluator = RegressionEvaluator(predictionCol=\"yhat_int\", labelCol='y', metricName='mae')\n",
    "print(\"Prphet MAE: {0}\".format(evaluator.evaluate(valid_df_withyhat)))"
   ]
  },
  {
   "cell_type": "code",
   "execution_count": 21,
   "id": "a9f12b1b-7795-49be-97f2-26beab838d5b",
   "metadata": {},
   "outputs": [
    {
     "name": "stdout",
     "output_type": "stream",
     "text": [
      "MAPE: [Row(avg((abs(((y - yhat_int) / y)) * 100))=93.11438089016634)]\n"
     ]
    }
   ],
   "source": [
    "print('MAPE:',\n",
    "    valid_df_withyhat.select(avg((100*abs((valid_df_withyhat.y - valid_df_withyhat.yhat_int) / valid_df_withyhat.y)))).collect())"
   ]
  },
  {
   "cell_type": "markdown",
   "id": "82688d41-47dc-4481-b449-9d56e51ced58",
   "metadata": {},
   "source": [
    "    мае - 7,9. Предсказания модели Prоphet показали низкое качество.\n",
    "    Мы будем обучать другие модели, из Prophet можем взять данные о сезонности."
   ]
  },
  {
   "cell_type": "markdown",
   "id": "e17f10b7-63af-4d13-8270-d2baa9672cfb",
   "metadata": {},
   "source": [
    "## Выделим из прогноза данные о сезонности"
   ]
  },
  {
   "cell_type": "code",
   "execution_count": 22,
   "id": "fba71940-5cfa-40a5-a3c6-ca466b7fb2fc",
   "metadata": {},
   "outputs": [
    {
     "data": {
      "text/plain": [
       "['pickup_community_area', 'ds', 'y', 'yhat', 'daily', 'weekly']"
      ]
     },
     "execution_count": 22,
     "metadata": {},
     "output_type": "execute_result"
    }
   ],
   "source": [
    "results.columns"
   ]
  },
  {
   "cell_type": "markdown",
   "id": "58a22525-0304-4ed6-a9ae-2c924b75ea63",
   "metadata": {},
   "source": [
    "# Проведем стандартизацию и соберем все признаки в 1 вектор"
   ]
  },
  {
   "cell_type": "code",
   "execution_count": 23,
   "id": "14761bef-de50-4495-8281-48614537c58b",
   "metadata": {
    "scrolled": true
   },
   "outputs": [],
   "source": [
    "train_lr = all_hours_lagged.filter((all_hours_lagged.hour_cons < '2023-06-01 00:00:00')) \\\n",
    "    .selectExpr( 'pickup_community_area',\n",
    "    'med_cost_lagged1','med_miles_lagged1','med_seconds_lagged1',\n",
    "    'trips_count_lagged1', 'trips_count_lagged2', 'trips_count_lagged3', \n",
    "    'trips_count_lagged12', 'trips_count_lagged24','trips_count_lagged_week',\n",
    "    'rolling_average_on3hours',\n",
    "    'rolling_average_on24hours',\n",
    "    'hour_cons as ds', 'trips_count as y') \\\n",
    "        .join(results['pickup_community_area', 'ds', 'daily', 'weekly'], on=['ds','pickup_community_area'] , how='inner').cache()"
   ]
  },
  {
   "cell_type": "code",
   "execution_count": 24,
   "id": "1f3d4cda-f5b5-4d72-ba1f-6bbab0686407",
   "metadata": {
    "scrolled": true
   },
   "outputs": [
    {
     "name": "stdout",
     "output_type": "stream",
     "text": [
      "root\n",
      " |-- ds: timestamp (nullable = true)\n",
      " |-- pickup_community_area: integer (nullable = true)\n",
      " |-- med_cost_lagged1: double (nullable = true)\n",
      " |-- med_miles_lagged1: double (nullable = true)\n",
      " |-- med_seconds_lagged1: double (nullable = true)\n",
      " |-- trips_count_lagged1: integer (nullable = true)\n",
      " |-- trips_count_lagged2: integer (nullable = true)\n",
      " |-- trips_count_lagged3: integer (nullable = true)\n",
      " |-- trips_count_lagged12: integer (nullable = true)\n",
      " |-- trips_count_lagged24: integer (nullable = true)\n",
      " |-- trips_count_lagged_week: integer (nullable = true)\n",
      " |-- rolling_average_on3hours: double (nullable = true)\n",
      " |-- rolling_average_on24hours: double (nullable = true)\n",
      " |-- y: integer (nullable = true)\n",
      " |-- daily: double (nullable = true)\n",
      " |-- weekly: double (nullable = true)\n",
      "\n",
      "+-------------------+---------------------+----------------+-----------------+-------------------+-------------------+-------------------+-------------------+--------------------+--------------------+-----------------------+------------------------+-------------------------+---+--------------------+--------------------+\n",
      "|                 ds|pickup_community_area|med_cost_lagged1|med_miles_lagged1|med_seconds_lagged1|trips_count_lagged1|trips_count_lagged2|trips_count_lagged3|trips_count_lagged12|trips_count_lagged24|trips_count_lagged_week|rolling_average_on3hours|rolling_average_on24hours|  y|               daily|              weekly|\n",
      "+-------------------+---------------------+----------------+-----------------+-------------------+-------------------+-------------------+-------------------+--------------------+--------------------+-----------------------+------------------------+-------------------------+---+--------------------+--------------------+\n",
      "|2022-01-08 00:00:00|                   55|             0.0|              0.0|                0.0|                  0|                  0|                  1|                   0|                   0|                      0|                     0.0|                     0.28|  0|-0.24604955999934885| 0.03716177514607648|\n",
      "|2022-01-08 05:00:00|                   37|             0.0|              0.0|                0.0|                  0|                  1|                  0|                   2|                   0|                      0|                    0.75|                     1.52|  0|-0.00191712141979...| 0.22455300716398305|\n",
      "|2022-01-08 06:00:00|                    1|           17.75|             5.92|              923.0|                  1|                  3|                  2|                   3|                   3|                      1|                     2.0|                      3.8|  3| 0.15518781999785852|-0.04096268832846762|\n",
      "|2022-01-08 08:00:00|                   42|             0.0|              0.0|                0.0|                  0|                  0|                  0|                   1|                   2|                      0|                    1.25|                      1.0|  2| 0.29179977808073676|-0.00346263717704...|\n",
      "|2022-01-08 08:00:00|                   56|             0.0|              0.0|                0.0|                  0|                  0|                  0|                  20|                   2|                      2|                    2.25|                     7.68|  4|   5.662727522045358|      7.617434139724|\n",
      "+-------------------+---------------------+----------------+-----------------+-------------------+-------------------+-------------------+-------------------+--------------------+--------------------+-----------------------+------------------------+-------------------------+---+--------------------+--------------------+\n",
      "only showing top 5 rows\n",
      "\n"
     ]
    },
    {
     "data": {
      "text/plain": [
       "952848"
      ]
     },
     "execution_count": 24,
     "metadata": {},
     "output_type": "execute_result"
    }
   ],
   "source": [
    "train_lr.printSchema()\n",
    "train_lr.show(5)\n",
    "train_lr.count()"
   ]
  },
  {
   "cell_type": "code",
   "execution_count": 25,
   "id": "f83a7c6f-82ee-44fe-9c3a-7c9a312b1aad",
   "metadata": {},
   "outputs": [],
   "source": [
    "featureCols = [\n",
    "    'med_cost_lagged1','med_miles_lagged1','med_seconds_lagged1',\n",
    "    'trips_count_lagged1', 'trips_count_lagged2', 'trips_count_lagged3', \n",
    "    'trips_count_lagged12', 'trips_count_lagged24','trips_count_lagged_week',\n",
    "    'rolling_average_on3hours',\n",
    "    'rolling_average_on24hours',\n",
    "     'daily', 'weekly'\n",
    "]"
   ]
  },
  {
   "cell_type": "code",
   "execution_count": 26,
   "id": "d5a8152d-629a-49c4-a557-4b487063754d",
   "metadata": {
    "scrolled": true
   },
   "outputs": [],
   "source": [
    "# положить фичи в вектор\n",
    "assembler = VectorAssembler(inputCols=featureCols, outputCol=\"features\") \n",
    "assembled_df = assembler.transform(train_lr)"
   ]
  },
  {
   "cell_type": "code",
   "execution_count": 27,
   "id": "0e5e0420-9682-4a72-9ba5-e07a669ef777",
   "metadata": {
    "scrolled": true
   },
   "outputs": [
    {
     "name": "stdout",
     "output_type": "stream",
     "text": [
      "+-------------------+---------------------+------------------+------------------+-------------------+-------------------+-------------------+-------------------+--------------------+--------------------+-----------------------+------------------------+-------------------------+---+----------------------+---------------------+--------------------------------------------------------------------------------------------------------------+\n",
      "|ds                 |pickup_community_area|med_cost_lagged1  |med_miles_lagged1 |med_seconds_lagged1|trips_count_lagged1|trips_count_lagged2|trips_count_lagged3|trips_count_lagged12|trips_count_lagged24|trips_count_lagged_week|rolling_average_on3hours|rolling_average_on24hours|y  |daily                 |weekly               |features                                                                                                      |\n",
      "+-------------------+---------------------+------------------+------------------+-------------------+-------------------+-------------------+-------------------+--------------------+--------------------+-----------------------+------------------------+-------------------------+---+----------------------+---------------------+--------------------------------------------------------------------------------------------------------------+\n",
      "|2022-01-08 00:00:00|55                   |0.0               |0.0               |0.0                |0                  |0                  |1                  |0                   |0                   |0                      |0.0                     |0.28                     |0  |-0.24604955999934885  |0.03716177514607648  |(13,[5,10,11,12],[1.0,0.28,-0.24604955999934885,0.03716177514607648])                                         |\n",
      "|2022-01-08 05:00:00|37                   |0.0               |0.0               |0.0                |0                  |1                  |0                  |2                   |0                   |0                      |0.75                    |1.52                     |0  |-0.0019171214197924048|0.22455300716398305  |(13,[4,6,9,10,11,12],[1.0,2.0,0.75,1.52,-0.0019171214197924048,0.22455300716398305])                          |\n",
      "|2022-01-08 06:00:00|1                    |17.75             |5.92              |923.0              |1                  |3                  |2                  |3                   |3                   |1                      |2.0                     |3.8                      |3  |0.15518781999785852   |-0.04096268832846762 |[17.75,5.92,923.0,1.0,3.0,2.0,3.0,3.0,1.0,2.0,3.8,0.15518781999785852,-0.04096268832846762]                   |\n",
      "|2022-01-08 08:00:00|42                   |0.0               |0.0               |0.0                |0                  |0                  |0                  |1                   |2                   |0                      |1.25                    |1.0                      |2  |0.29179977808073676   |-0.003462637177049574|(13,[6,7,9,10,11,12],[1.0,2.0,1.25,1.0,0.29179977808073676,-0.003462637177049574])                            |\n",
      "|2022-01-08 08:00:00|56                   |0.0               |0.0               |0.0                |0                  |0                  |0                  |20                  |2                   |2                      |2.25                    |7.68                     |4  |5.662727522045358     |7.617434139724       |(13,[6,7,8,9,10,11,12],[20.0,2.0,2.0,2.25,7.68,5.662727522045358,7.617434139724])                             |\n",
      "|2022-01-08 15:00:00|69                   |25.25             |9.5               |1140.0             |7                  |8                  |4                  |0                   |5                   |1                      |4.75                    |2.48                     |5  |-1.572401856393276    |0.047151704381781616 |[25.25,9.5,1140.0,7.0,8.0,4.0,0.0,5.0,1.0,4.75,2.48,-1.572401856393276,0.047151704381781616]                  |\n",
      "|2022-01-08 20:00:00|21                   |0.0               |0.0               |0.0                |0                  |1                  |1                  |1                   |0                   |1                      |0.0                     |0.96                     |0  |-0.028477733694523933 |0.048376931352679085 |(13,[4,5,6,8,10,11,12],[1.0,1.0,1.0,1.0,0.96,-0.028477733694523933,0.048376931352679085])                     |\n",
      "|2022-01-08 23:00:00|62                   |0.0               |0.0               |0.0                |0                  |0                  |0                  |0                   |0                   |0                      |0.25                    |0.16                     |0  |0.10839818063507828   |-0.04475131198510937 |(13,[9,10,11,12],[0.25,0.16,0.10839818063507828,-0.04475131198510937])                                        |\n",
      "|2022-01-09 01:00:00|28                   |13.655000000000001|0.57              |751.0              |22                 |33                 |22                 |54                  |15                  |10                     |14.25                   |17.68                    |19 |7.930697750806521     |2.1700049433270583   |[13.655000000000001,0.57,751.0,22.0,33.0,22.0,54.0,15.0,10.0,14.25,17.68,7.930697750806521,2.1700049433270583]|\n",
      "|2022-01-09 02:00:00|45                   |0.0               |0.0               |0.0                |0                  |0                  |0                  |2                   |0                   |0                      |0.25                    |0.2                      |0  |0.32864326164939683   |0.0649233893983663   |(13,[6,9,10,11,12],[2.0,0.25,0.2,0.32864326164939683,0.0649233893983663])                                     |\n",
      "|2022-01-09 03:00:00|15                   |8.25              |1.1               |720.0              |1                  |1                  |0                  |0                   |0                   |0                      |0.5                     |0.64                     |0  |0.10137817181515997   |-0.024552134744593418|[8.25,1.1,720.0,1.0,1.0,0.0,0.0,0.0,0.0,0.5,0.64,0.10137817181515997,-0.024552134744593418]                   |\n",
      "|2022-01-09 03:00:00|61                   |0.0               |0.0               |0.0                |0                  |0                  |0                  |0                   |0                   |0                      |0.0                     |0.44                     |0  |-0.09860869354544992  |-0.14032633511029308 |(13,[10,11,12],[0.44,-0.09860869354544992,-0.14032633511029308])                                              |\n",
      "|2022-01-09 15:00:00|42                   |14.875            |4.745             |793.5              |2                  |6                  |5                  |0                   |2                   |1                      |2.5                     |1.8                      |2  |-1.4381729581349052   |-0.2024364075225849  |[14.875,4.745,793.5,2.0,6.0,5.0,0.0,2.0,1.0,2.5,1.8,-1.4381729581349052,-0.2024364075225849]                  |\n",
      "|2022-01-10 07:00:00|58                   |30.75             |11.72             |1217.0             |1                  |0                  |0                  |0                   |0                   |0                      |1.0                     |0.36                     |0  |-0.03792454067584691  |-0.1810139847625382  |[30.75,11.72,1217.0,1.0,0.0,0.0,0.0,0.0,0.0,1.0,0.36,-0.03792454067584691,-0.1810139847625382]                |\n",
      "|2022-01-10 09:00:00|60                   |18.82             |3.0               |731.0              |1                  |0                  |0                  |2                   |0                   |1                      |1.25                    |0.72                     |3  |-0.0070880875151679065|0.02474165869153639  |[18.82,3.0,731.0,1.0,0.0,0.0,2.0,0.0,1.0,1.25,0.72,-0.0070880875151679065,0.02474165869153639]                |\n",
      "|2022-01-10 10:00:00|21                   |0.0               |0.0               |0.0                |0                  |1                  |2                  |3                   |0                   |2                      |1.5                     |1.44                     |0  |0.4205523457943945    |-0.22192173293317874 |[0.0,0.0,0.0,0.0,1.0,2.0,3.0,0.0,2.0,1.5,1.44,0.4205523457943945,-0.22192173293317874]                        |\n",
      "|2022-01-10 10:00:00|71                   |29.32             |10.905000000000001|1243.5             |6                  |1                  |0                  |0                   |0                   |2                      |3.25                    |1.32                     |2  |0.6501167808065742    |0.7486742728882454   |[29.32,10.905000000000001,1243.5,6.0,1.0,0.0,0.0,0.0,2.0,3.25,1.32,0.6501167808065742,0.7486742728882454]     |\n",
      "|2022-01-10 11:00:00|75                   |26.0              |3.02              |1471.0             |5                  |2                  |3                  |0                   |2                   |2                      |2.75                    |0.96                     |2  |1.0448282092352135    |1.2147271788412348   |[26.0,3.02,1471.0,5.0,2.0,3.0,0.0,2.0,2.0,2.75,0.96,1.0448282092352135,1.2147271788412348]                    |\n",
      "|2022-01-10 15:00:00|69                   |21.5              |4.6000000000000005|743.5              |4                  |6                  |10                 |1                   |5                   |4                      |4.75                    |3.36                     |2  |-1.5724018563976498   |0.2690270435909466   |[21.5,4.6000000000000005,743.5,4.0,6.0,10.0,1.0,5.0,4.0,4.75,3.36,-1.5724018563976498,0.2690270435909466]     |\n",
      "|2022-01-10 17:00:00|29                   |21.0              |7.140000000000001 |1390.5             |2                  |1                  |0                  |0                   |0                   |0                      |1.0                     |0.68                     |2  |0.7864266009580804    |-0.20072164965463263 |[21.0,7.140000000000001,1390.5,2.0,1.0,0.0,0.0,0.0,0.0,1.0,0.68,0.7864266009580804,-0.20072164965463263]      |\n",
      "+-------------------+---------------------+------------------+------------------+-------------------+-------------------+-------------------+-------------------+--------------------+--------------------+-----------------------+------------------------+-------------------------+---+----------------------+---------------------+--------------------------------------------------------------------------------------------------------------+\n",
      "only showing top 20 rows\n",
      "\n"
     ]
    }
   ],
   "source": [
    "assembled_df.show(20, False)"
   ]
  },
  {
   "cell_type": "code",
   "execution_count": 28,
   "id": "d9642ec5-34e3-4669-b16e-9e423a5bf661",
   "metadata": {},
   "outputs": [],
   "source": [
    "standardScaler = StandardScaler(inputCol=\"features\", outputCol=\"features_scaled\", withStd = True)"
   ]
  },
  {
   "cell_type": "code",
   "execution_count": 29,
   "id": "9727c43a-2cb0-4058-9bd4-92ef39b04766",
   "metadata": {
    "scrolled": true
   },
   "outputs": [],
   "source": [
    "train_lr_scaled = standardScaler.fit(assembled_df).transform(assembled_df).cache()"
   ]
  },
  {
   "cell_type": "code",
   "execution_count": 30,
   "id": "29071ea7-8e7a-48c6-b069-6e4c63e57800",
   "metadata": {
    "scrolled": true
   },
   "outputs": [
    {
     "name": "stdout",
     "output_type": "stream",
     "text": [
      "+-------------------+---------------------+----------------+-----------------+-------------------+-------------------+-------------------+-------------------+--------------------+--------------------+-----------------------+------------------------+-------------------------+---+--------------------+--------------------+--------------------+--------------------+\n",
      "|                 ds|pickup_community_area|med_cost_lagged1|med_miles_lagged1|med_seconds_lagged1|trips_count_lagged1|trips_count_lagged2|trips_count_lagged3|trips_count_lagged12|trips_count_lagged24|trips_count_lagged_week|rolling_average_on3hours|rolling_average_on24hours|  y|               daily|              weekly|            features|     features_scaled|\n",
      "+-------------------+---------------------+----------------+-----------------+-------------------+-------------------+-------------------+-------------------+--------------------+--------------------+-----------------------+------------------------+-------------------------+---+--------------------+--------------------+--------------------+--------------------+\n",
      "|2022-01-08 00:00:00|                   55|             0.0|              0.0|                0.0|                  0|                  0|                  1|                   0|                   0|                      0|                     0.0|                     0.28|  0|-0.24604955999934885| 0.03716177514607648|(13,[5,10,11,12],...|(13,[5,10,11,12],...|\n",
      "|2022-01-08 05:00:00|                   37|             0.0|              0.0|                0.0|                  0|                  1|                  0|                   2|                   0|                      0|                    0.75|                     1.52|  0|-0.00191712141979...| 0.22455300716398305|(13,[4,6,9,10,11,...|(13,[4,6,9,10,11,...|\n",
      "|2022-01-08 06:00:00|                    1|           17.75|             5.92|              923.0|                  1|                  3|                  2|                   3|                   3|                      1|                     2.0|                      3.8|  3| 0.15518781999785852|-0.04096268832846762|[17.75,5.92,923.0...|[0.80037338870872...|\n",
      "|2022-01-08 08:00:00|                   42|             0.0|              0.0|                0.0|                  0|                  0|                  0|                   1|                   2|                      0|                    1.25|                      1.0|  2| 0.29179977808073676|-0.00346263717704...|(13,[6,7,9,10,11,...|(13,[6,7,9,10,11,...|\n",
      "|2022-01-08 08:00:00|                   56|             0.0|              0.0|                0.0|                  0|                  0|                  0|                  20|                   2|                      2|                    2.25|                     7.68|  4|   5.662727522045358|      7.617434139724|(13,[6,7,8,9,10,1...|(13,[6,7,8,9,10,1...|\n",
      "+-------------------+---------------------+----------------+-----------------+-------------------+-------------------+-------------------+-------------------+--------------------+--------------------+-----------------------+------------------------+-------------------------+---+--------------------+--------------------+--------------------+--------------------+\n",
      "only showing top 5 rows\n",
      "\n"
     ]
    },
    {
     "data": {
      "text/plain": [
       "952848"
      ]
     },
     "execution_count": 30,
     "metadata": {},
     "output_type": "execute_result"
    }
   ],
   "source": [
    "train_lr_scaled.show(5)\n",
    "train_lr_scaled.count()"
   ]
  },
  {
   "cell_type": "markdown",
   "id": "457022e2-d389-462e-a40a-1c7858d846f5",
   "metadata": {},
   "source": [
    "## Проведем стандартизацию тестовых признаков"
   ]
  },
  {
   "cell_type": "code",
   "execution_count": 31,
   "id": "7343b742-638b-4844-a5eb-72eb74133c9e",
   "metadata": {
    "scrolled": true
   },
   "outputs": [
    {
     "data": {
      "text/plain": [
       "114114"
      ]
     },
     "execution_count": 31,
     "metadata": {},
     "output_type": "execute_result"
    }
   ],
   "source": [
    "valid_lr = all_hours_lagged.filter(all_hours_lagged.hour_cons >= '2023-06-01 00:00:00') \\\n",
    "    .selectExpr('pickup_community_area',\n",
    "    'med_cost_lagged1','med_miles_lagged1','med_seconds_lagged1',\n",
    "    'trips_count_lagged1', 'trips_count_lagged2', 'trips_count_lagged3', \n",
    "    'trips_count_lagged12', 'trips_count_lagged24','trips_count_lagged_week',\n",
    "    'rolling_average_on3hours',\n",
    "    'rolling_average_on24hours',\n",
    "    'hour_cons as ds', 'trips_count as y') \\\n",
    "        .join(results['pickup_community_area', 'ds', 'daily', 'weekly'], on=['ds','pickup_community_area'] , how='inner').cache()\n",
    "valid_lr.count()"
   ]
  },
  {
   "cell_type": "code",
   "execution_count": 32,
   "id": "591b427c-3265-43a9-a64a-37b40a9bf9ee",
   "metadata": {
    "scrolled": true
   },
   "outputs": [],
   "source": [
    "valid_lr_scaled = assembler.transform(valid_lr)"
   ]
  },
  {
   "cell_type": "code",
   "execution_count": 33,
   "id": "2faf26ca-6433-445c-acb2-462cf2e47cd6",
   "metadata": {},
   "outputs": [],
   "source": [
    "valid_lr_scaled = standardScaler.fit(train_lr_scaled[['features']]).transform(valid_lr_scaled)"
   ]
  },
  {
   "cell_type": "code",
   "execution_count": 34,
   "id": "79792933-182a-42c2-b97b-83f4033a7e26",
   "metadata": {
    "scrolled": true
   },
   "outputs": [
    {
     "name": "stdout",
     "output_type": "stream",
     "text": [
      "+-------------------+---------------------+----------------+------------------+-------------------+-------------------+-------------------+-------------------+--------------------+--------------------+-----------------------+------------------------+-------------------------+---+-------------------+--------------------+-----------------------------------------------------------------------------------------------------------+---------------------------------------------------------------------------------------------------------------------------------------------------------------------------------------------------------------------------------------------------------------------+\n",
      "|ds                 |pickup_community_area|med_cost_lagged1|med_miles_lagged1 |med_seconds_lagged1|trips_count_lagged1|trips_count_lagged2|trips_count_lagged3|trips_count_lagged12|trips_count_lagged24|trips_count_lagged_week|rolling_average_on3hours|rolling_average_on24hours|y  |daily              |weekly              |features                                                                                                   |features_scaled                                                                                                                                                                                                                                                      |\n",
      "+-------------------+---------------------+----------------+------------------+-------------------+-------------------+-------------------+-------------------+--------------------+--------------------+-----------------------+------------------------+-------------------------+---+-------------------+--------------------+-----------------------------------------------------------------------------------------------------------+---------------------------------------------------------------------------------------------------------------------------------------------------------------------------------------------------------------------------------------------------------------------+\n",
      "|2023-06-01 08:00:00|56                   |45.34           |7.055000000000001 |2224.5             |18                 |3                  |1                  |28                  |27                  |18                     |35.0                    |39.52                    |29 |5.66272752206175   |9.42945183130241    |[45.34,7.055000000000001,2224.5,18.0,3.0,1.0,28.0,27.0,18.0,35.0,39.52,5.66272752206175,9.42945183130241]  |[2.0444467292424475,1.330259997851639,1.5810210309747033,0.5230643630899923,0.08717947266163796,0.02906171852146139,0.8143343503198933,0.7854639048927075,0.5253828794895014,1.0432130861183626,1.3952349282565284,0.17604349590524923,0.8920598773091777]           |\n",
      "|2023-06-01 10:00:00|26                   |23.0            |3.5500000000000003|1776.5             |2                  |0                  |0                  |0                   |1                   |0                      |0.75                    |0.44                     |0  |0.17252798046613577|0.004810168274173602|[23.0,3.5500000000000003,1776.5,2.0,0.0,0.0,0.0,1.0,0.0,0.75,0.44,0.17252798046613577,0.004810168274173602]|[1.0371035459324283,0.6693725006907608,1.2626135587891931,0.05811826256555469,0.0,0.0,0.0,0.029091255736766942,0.0,0.02235456613110777,0.015533992116216408,0.005363568828696309,4.550591272179105E-4]                                                               |\n",
      "|2023-06-01 10:00:00|42                   |12.875          |3.6350000000000002|931.5              |2                  |3                  |3                  |1                   |3                   |3                      |3.25                    |1.56                     |2  |0.5957658389766372 |0.043864986960708285|[12.875,3.6350000000000002,931.5,2.0,3.0,3.0,1.0,3.0,3.0,3.25,1.56,0.5957658389766372,0.043864986960708285]|[0.5805525284295657,0.6853997295805396,0.6620458936178629,0.05811826256555469,0.08717947266163796,0.08718515556438418,0.029083369654281904,0.08727376721030083,0.08756381324825023,0.09686978656813366,0.055075062957494536,0.01852123391523964,0.004149784694423047]|\n",
      "|2023-06-01 13:00:00|11                   |29.4            |7.92              |2275.0             |3                  |3                  |6                  |0                   |3                   |4                      |1.75                    |1.28                     |2  |0.6223578887814754 |0.057847967172764   |[29.4,7.92,2275.0,3.0,3.0,6.0,0.0,3.0,4.0,1.75,1.28,0.6223578887814754,0.057847967172764]                  |[1.325688880452756,1.4933606212593875,1.616912944692043,0.08717739384833204,0.08717947266163796,0.17437031112876836,0.0,0.08727376721030083,0.11675175099766698,0.052160654305918125,0.04518979524717501,0.019347930483755754,0.005472624646897802]                  |\n",
      "|2023-06-01 16:00:00|61                   |30.25           |6.38              |3592.0             |1                  |2                  |1                  |0                   |2                   |0                      |0.75                    |0.52                     |1  |-0.7880485611518678|0.014007300636345983|[30.25,6.38,3592.0,1.0,2.0,1.0,0.0,2.0,0.0,0.75,0.52,-0.7880485611518678,0.014007300636345983]             |[1.3640166201937372,1.2029849449033956,2.5529456252016787,0.029059131282777345,0.05811964844109197,0.02906171852146139,0.0,0.058182511473533885,0.0,0.02235456613110777,0.018358354319164848,-0.024498940326509955,0.0013251407516194594]                            |\n",
      "+-------------------+---------------------+----------------+------------------+-------------------+-------------------+-------------------+-------------------+--------------------+--------------------+-----------------------+------------------------+-------------------------+---+-------------------+--------------------+-----------------------------------------------------------------------------------------------------------+---------------------------------------------------------------------------------------------------------------------------------------------------------------------------------------------------------------------------------------------------------------------+\n",
      "only showing top 5 rows\n",
      "\n"
     ]
    },
    {
     "data": {
      "text/plain": [
       "114114"
      ]
     },
     "execution_count": 34,
     "metadata": {},
     "output_type": "execute_result"
    }
   ],
   "source": [
    "valid_lr_scaled.cache()\n",
    "valid_lr_scaled.show(5, False)\n",
    "valid_lr_scaled.count()"
   ]
  },
  {
   "cell_type": "markdown",
   "id": "3a2c35b7-77da-4a6a-a78e-f5070b15c213",
   "metadata": {},
   "source": [
    "# Проведем обучение линейной регрессии"
   ]
  },
  {
   "cell_type": "code",
   "execution_count": 35,
   "id": "08120127-c079-479a-843d-59a32f71fee4",
   "metadata": {},
   "outputs": [],
   "source": [
    "train_data = train_lr_scaled.selectExpr('y',\n",
    "    'features_scaled')"
   ]
  },
  {
   "cell_type": "code",
   "execution_count": 36,
   "id": "5133f13f-aecf-455b-8e7c-c925f10fb87d",
   "metadata": {},
   "outputs": [],
   "source": [
    "lr = (LinearRegression(featuresCol='features_scaled', labelCol=\"y\", predictionCol='y_pred')) \n",
    "#                               maxIter=10, regParam=0.3, elasticNetParam=0.8, standardization=False))"
   ]
  },
  {
   "cell_type": "code",
   "execution_count": 37,
   "id": "812b6b2a-2337-4a14-8a2f-193d091654f6",
   "metadata": {},
   "outputs": [],
   "source": [
    "linearModel = lr.fit(train_data)"
   ]
  },
  {
   "cell_type": "code",
   "execution_count": 38,
   "id": "5ff9bd40-3620-4111-893f-8ca2fb942599",
   "metadata": {
    "scrolled": true
   },
   "outputs": [
    {
     "data": {
      "text/html": [
       "<div>\n",
       "<style scoped>\n",
       "    .dataframe tbody tr th:only-of-type {\n",
       "        vertical-align: middle;\n",
       "    }\n",
       "\n",
       "    .dataframe tbody tr th {\n",
       "        vertical-align: top;\n",
       "    }\n",
       "\n",
       "    .dataframe thead th {\n",
       "        text-align: right;\n",
       "    }\n",
       "</style>\n",
       "<table border=\"1\" class=\"dataframe\">\n",
       "  <thead>\n",
       "    <tr style=\"text-align: right;\">\n",
       "      <th></th>\n",
       "      <th>Feature</th>\n",
       "      <th>Co-efficients</th>\n",
       "    </tr>\n",
       "  </thead>\n",
       "  <tbody>\n",
       "    <tr>\n",
       "      <th>0</th>\n",
       "      <td>Intercept</td>\n",
       "      <td>0.099435</td>\n",
       "    </tr>\n",
       "    <tr>\n",
       "      <th>1</th>\n",
       "      <td>med_cost_lagged1</td>\n",
       "      <td>-0.070680</td>\n",
       "    </tr>\n",
       "    <tr>\n",
       "      <th>2</th>\n",
       "      <td>med_miles_lagged1</td>\n",
       "      <td>-0.124996</td>\n",
       "    </tr>\n",
       "    <tr>\n",
       "      <th>3</th>\n",
       "      <td>med_seconds_lagged1</td>\n",
       "      <td>-0.016574</td>\n",
       "    </tr>\n",
       "    <tr>\n",
       "      <th>4</th>\n",
       "      <td>trips_count_lagged1</td>\n",
       "      <td>9.636389</td>\n",
       "    </tr>\n",
       "    <tr>\n",
       "      <th>5</th>\n",
       "      <td>trips_count_lagged2</td>\n",
       "      <td>-3.873082</td>\n",
       "    </tr>\n",
       "    <tr>\n",
       "      <th>6</th>\n",
       "      <td>trips_count_lagged3</td>\n",
       "      <td>1.959165</td>\n",
       "    </tr>\n",
       "    <tr>\n",
       "      <th>7</th>\n",
       "      <td>trips_count_lagged12</td>\n",
       "      <td>-0.090755</td>\n",
       "    </tr>\n",
       "    <tr>\n",
       "      <th>8</th>\n",
       "      <td>trips_count_lagged24</td>\n",
       "      <td>1.709754</td>\n",
       "    </tr>\n",
       "    <tr>\n",
       "      <th>9</th>\n",
       "      <td>trips_count_lagged_week</td>\n",
       "      <td>2.371991</td>\n",
       "    </tr>\n",
       "    <tr>\n",
       "      <th>10</th>\n",
       "      <td>rolling_average_on3hours</td>\n",
       "      <td>24.255675</td>\n",
       "    </tr>\n",
       "    <tr>\n",
       "      <th>11</th>\n",
       "      <td>rolling_average_on24hours</td>\n",
       "      <td>-1.660065</td>\n",
       "    </tr>\n",
       "    <tr>\n",
       "      <th>12</th>\n",
       "      <td>daily</td>\n",
       "      <td>0.357109</td>\n",
       "    </tr>\n",
       "    <tr>\n",
       "      <th>13</th>\n",
       "      <td>weekly</td>\n",
       "      <td>0.053642</td>\n",
       "    </tr>\n",
       "  </tbody>\n",
       "</table>\n",
       "</div>"
      ],
      "text/plain": [
       "                      Feature  Co-efficients\n",
       "0                   Intercept       0.099435\n",
       "1            med_cost_lagged1      -0.070680\n",
       "2           med_miles_lagged1      -0.124996\n",
       "3         med_seconds_lagged1      -0.016574\n",
       "4         trips_count_lagged1       9.636389\n",
       "5         trips_count_lagged2      -3.873082\n",
       "6         trips_count_lagged3       1.959165\n",
       "7        trips_count_lagged12      -0.090755\n",
       "8        trips_count_lagged24       1.709754\n",
       "9     trips_count_lagged_week       2.371991\n",
       "10   rolling_average_on3hours      24.255675\n",
       "11  rolling_average_on24hours      -1.660065\n",
       "12                      daily       0.357109\n",
       "13                     weekly       0.053642"
      ]
     },
     "metadata": {},
     "output_type": "display_data"
    }
   ],
   "source": [
    "coeff_df = pd.DataFrame({\"Feature\": [\"Intercept\"] + featureCols, \"Co-efficients\": np.insert(linearModel.coefficients.toArray(), 0, linearModel.intercept)})\n",
    "coeff_df = coeff_df[[\"Feature\", \"Co-efficients\"]]\n",
    "display(coeff_df)"
   ]
  },
  {
   "cell_type": "code",
   "execution_count": 39,
   "id": "c8f37cff-2709-483b-89bc-e14433082b78",
   "metadata": {},
   "outputs": [],
   "source": [
    "valid_data = valid_lr_scaled.selectExpr('y',\n",
    "    'features_scaled')"
   ]
  },
  {
   "cell_type": "code",
   "execution_count": 40,
   "id": "529497e7-ba38-4e05-97ff-cb5d123e0f1c",
   "metadata": {},
   "outputs": [],
   "source": [
    "# Прогнозы\n",
    "predictions = linearModel.transform(valid_data)"
   ]
  },
  {
   "cell_type": "code",
   "execution_count": 41,
   "id": "2a3d0cc9-92c6-495a-9e46-b1a565bf9f9c",
   "metadata": {
    "scrolled": true
   },
   "outputs": [
    {
     "name": "stdout",
     "output_type": "stream",
     "text": [
      "+------+---+\n",
      "|y_pred|  y|\n",
      "+------+---+\n",
      "|  30.0| 29|\n",
      "|   1.0|  0|\n",
      "|   3.0|  2|\n",
      "|   2.0|  2|\n",
      "|   1.0|  1|\n",
      "|   9.0|  6|\n",
      "| 275.0|261|\n",
      "|  52.0| 62|\n",
      "|   0.0|  0|\n",
      "|   0.0|  0|\n",
      "|   0.0|  0|\n",
      "|   2.0|  3|\n",
      "|   1.0|  1|\n",
      "|   9.0|  9|\n",
      "|   1.0|  1|\n",
      "|   4.0|  1|\n",
      "| 135.0|159|\n",
      "|  52.0| 48|\n",
      "|   0.0|  0|\n",
      "|   0.0|  0|\n",
      "+------+---+\n",
      "only showing top 20 rows\n",
      "\n"
     ]
    },
    {
     "data": {
      "text/plain": [
       "114114"
      ]
     },
     "execution_count": 41,
     "metadata": {},
     "output_type": "execute_result"
    }
   ],
   "source": [
    "# Вытаскиваем предсказания и истинные ответы)\n",
    "predandlabels = predictions.select(\"y_pred\", \"y\").withColumn(\"y_pred\",F.round(predictions[\"y_pred\"],0)) \\\n",
    "                                                        #.withColumn(\"y\", F.when((F.col(\"y\") <= 0), 0.0001))\n",
    "predandlabels = predandlabels.withColumn('y_pred', F.when((F.col(\"y_pred\") <= 0), 0)\\\n",
    "    .otherwise(predandlabels.y_pred)).cache()\n",
    "predandlabels.show()\n",
    "predandlabels.count()"
   ]
  },
  {
   "cell_type": "code",
   "execution_count": 42,
   "id": "8a54227f-79a0-492b-bafc-1b48e343d298",
   "metadata": {},
   "outputs": [
    {
     "name": "stdout",
     "output_type": "stream",
     "text": [
      "LinearRegression MAE: 1.6327444485339222\n"
     ]
    }
   ],
   "source": [
    "evaluator = RegressionEvaluator(predictionCol=\"y_pred\", labelCol='y', metricName='mae')\n",
    "print(\"LinearRegression MAE: {0}\".format(evaluator.evaluate(predandlabels)))"
   ]
  },
  {
   "cell_type": "code",
   "execution_count": 43,
   "id": "1aab44a9-e01f-4b19-b645-1d66b99ad0f2",
   "metadata": {},
   "outputs": [
    {
     "name": "stdout",
     "output_type": "stream",
     "text": [
      "MAPE: [Row(avg((abs(((y - y_pred) / y)) * 100))=44.100177629748266)]\n"
     ]
    }
   ],
   "source": [
    "print('MAPE:',\n",
    "    predandlabels.select(avg((100*abs((predandlabels.y - predandlabels.y_pred) / predandlabels.y)))).collect())"
   ]
  },
  {
   "cell_type": "markdown",
   "id": "5711de95-0dd4-4c4d-8043-45767ead3423",
   "metadata": {},
   "source": [
    "    На просто сгенерированных фичах\n",
    "    МАЕ: 1.632650739476678 \n",
    "    MAPE: 44.18075074035098%\n",
    "\n",
    "    на дополнительных сезонностях\n",
    "    МАЕ: 1.632589481053645\n",
    "    МАРЕ: 44.08505969798334%"
   ]
  },
  {
   "cell_type": "code",
   "execution_count": 44,
   "id": "50e12c53-730b-4758-8772-aa17c9dd3c03",
   "metadata": {},
   "outputs": [
    {
     "name": "stdout",
     "output_type": "stream",
     "text": [
      "LinearRegression MAE: 1.6327444485339222\n",
      "MAPE: [Row(avg((abs(((y - y_pred) / y)) * 100))=44.10017762974828)]\n",
      "+------+---+\n",
      "|y_pred|  y|\n",
      "+------+---+\n",
      "|  30.0| 29|\n",
      "|   1.0|  0|\n",
      "|   3.0|  2|\n",
      "|   2.0|  2|\n",
      "|   1.0|  1|\n",
      "|   9.0|  6|\n",
      "| 275.0|261|\n",
      "|  52.0| 62|\n",
      "|   0.0|  0|\n",
      "|   0.0|  0|\n",
      "+------+---+\n",
      "only showing top 10 rows\n",
      "\n",
      "114114\n"
     ]
    }
   ],
   "source": [
    "from pyspark.ml import Pipeline\n",
    "pipeline = Pipeline(stages=[assembler, standardScaler, lr])\n",
    "piped_lr = pipeline.fit(train_lr)\n",
    "piped_prediction = []\n",
    "piped_prediction = piped_lr.transform(valid_lr)\n",
    "piped_prediction = piped_prediction.select(\"y_pred\", \"y\").withColumn(\"y_pred\",F.round(piped_prediction[\"y_pred\"],0)) \n",
    "                                                        #.withColumn(\"y\", F.when((F.col(\"y\") <= 0), 0.0001))\n",
    "piped_prediction = piped_prediction.withColumn('y_pred', F.when((F.col(\"y_pred\") <= 0), 0)\\\n",
    "    .otherwise(piped_prediction.y_pred)).cache()\n",
    "print(\"LinearRegression MAE: {0}\".format(evaluator.evaluate(piped_prediction)))\n",
    "print('MAPE:',\n",
    "    piped_prediction.select(avg((100*abs((\n",
    "        piped_prediction.y - piped_prediction.y_pred) / piped_prediction.y)))).collect())\n",
    "piped_prediction.show(10)\n",
    "print(piped_prediction.count())"
   ]
  },
  {
   "cell_type": "markdown",
   "id": "fa8d60ac-09c8-44c5-b7d9-690a4f8c01bc",
   "metadata": {},
   "source": [
    "# Обучим лес случайных деревьев"
   ]
  },
  {
   "cell_type": "code",
   "execution_count": 45,
   "id": "859c714b-2c47-4710-a426-2ec1d8d8f6ea",
   "metadata": {
    "scrolled": true
   },
   "outputs": [
    {
     "name": "stdout",
     "output_type": "stream",
     "text": [
      "+---+--------------------+--------------------+\n",
      "|  y|     features_scaled|              y_pred|\n",
      "+---+--------------------+--------------------+\n",
      "| 29|[2.04444672924244...|  27.104458488964866|\n",
      "|  0|[1.03710354593242...|  0.5824481568718803|\n",
      "|  2|[0.58055252842956...|  3.2171571503797822|\n",
      "|  2|[1.32568888045275...|  1.6015143745430964|\n",
      "|  1|[1.36401662019373...|   0.691571415729218|\n",
      "|  6|[0.73183437176014...|     7.7213847135417|\n",
      "|261|[0.52396274798847...|  242.44751672336685|\n",
      "| 62|[0.72146333630081...|   65.25447601725183|\n",
      "|  0|(13,[10,11,12],[0...|0.025250131309037582|\n",
      "|  0|(13,[5,6,9,10,11,...| 0.24168031146172156|\n",
      "|  0|(13,[7,8,10,11,12...| 0.07958598084131227|\n",
      "|  3|(13,[5,6,8,9,10,1...|   2.051064791733465|\n",
      "|  1|(13,[7,8,9,10,11,...|  0.6215974019653786|\n",
      "|  9|[0.99201208741362...|  11.259924643173985|\n",
      "|  1|[0.0,0.0,0.0,0.0,...|  1.9284229417318983|\n",
      "|  1|[0.90182917037602...|    2.18429795933183|\n",
      "|159|[0.55237036685531...|  117.44775690025092|\n",
      "| 48|[2.14635342549493...|  36.929372238019894|\n",
      "|  0|(13,[8,10,11,12],...| 0.04662656360605972|\n",
      "|  0|(13,[7,10,11,12],...| 0.05736822402282178|\n",
      "+---+--------------------+--------------------+\n",
      "only showing top 20 rows\n",
      "\n",
      "RandomForest MAE: 2.6309980826692616\n",
      "CPU times: user 341 ms, sys: 841 ms, total: 1.18 s\n",
      "Wall time: 4min 20s\n"
     ]
    }
   ],
   "source": [
    "%%time\n",
    "\n",
    "rf = RandomForestRegressor(labelCol=\"y\", featuresCol=\"features_scaled\", predictionCol='y_pred',\n",
    "                                  numTrees = 10, maxDepth = 10) \\\n",
    "\n",
    "rfmodel = rf.fit(train_data)\n",
    "rfpredictions = rfmodel.transform(valid_data)\n",
    "rfpredictions.show()\n",
    "print(\"RandomForest MAE: {0}\".format(evaluator.evaluate(rfpredictions)))"
   ]
  },
  {
   "cell_type": "markdown",
   "id": "55869365-baf6-47df-9908-68a924ce2c0f",
   "metadata": {},
   "source": [
    "    Лес деревьев потребляет много ресурсов и не дает высоких результатов. Кросс-валидация не проходит из-за высокого потребления ресурсов.\n",
    "    МАЕ случайного леса 2.6353573762910427\n",
    "    В дальнейшем будем использовать модели линейной регрессии"
   ]
  },
  {
   "cell_type": "markdown",
   "id": "48c00768-ae96-4594-ab4a-6a5979926a8a",
   "metadata": {},
   "source": [
    "    Из трех моделей лучшие результаты показала линейная регрессия.\n",
    "    попробуем обучить разные модели для разных районов."
   ]
  },
  {
   "cell_type": "markdown",
   "id": "1c64c61e-5749-428e-b8d6-438085c93ebc",
   "metadata": {},
   "source": [
    "# Реализуем регрессию для каждого региона через функцию"
   ]
  },
  {
   "cell_type": "code",
   "execution_count": 46,
   "id": "942b7c4e-979e-451b-b204-746dba050a9f",
   "metadata": {},
   "outputs": [],
   "source": [
    "def modelsandpredictions(func_community):\n",
    "        \n",
    "    temp_train = train_lr.filter(train_lr.pickup_community_area == func_community)\n",
    "    temp_valid = valid_lr.filter(valid_lr.pickup_community_area == func_community)\n",
    "    \n",
    "    temp_lr = pipeline.fit(temp_train)\n",
    "    temp_pred = temp_lr.transform(temp_valid)\n",
    "    temp_predandtrue = temp_pred.select(\n",
    "                                        'pickup_community_area',\n",
    "                                        'ds',\n",
    "                                        \"y_pred\", \n",
    "                                        \"y\"\n",
    "                                        ).withColumn(\"y_pred\",F.round(temp_pred[\"y_pred\"],0)) \n",
    "    temp_predandtrue = temp_predandtrue.withColumn('y_pred', F.when((F.col(\"y_pred\") <= 0), 0)\\\n",
    "        .otherwise(temp_predandtrue.y_pred)).cache()\n",
    "    #temp_lr = lr.fit(temp_train.union(temp_valid))\n",
    "    #temp_lr.write().overwrite().save(\"/models/lr{0}\".format(i))\n",
    "    return temp_predandtrue"
   ]
  },
  {
   "cell_type": "code",
   "execution_count": 47,
   "id": "6a26ba15-466b-48ec-b716-35b329f34468",
   "metadata": {},
   "outputs": [],
   "source": [
    "def modelsandpredictions(func_community):#,x_df, y_df, ):\n",
    "        \n",
    "    temp_train = train_lr_scaled.filter(train_lr_scaled.pickup_community_area == func_community).selectExpr(\n",
    "        'pickup_community_area',\n",
    "        'ds',\n",
    "        'y',\n",
    "        'features_scaled')\n",
    "    temp_valid = valid_lr_scaled.filter(valid_lr_scaled.pickup_community_area == func_community).selectExpr(\n",
    "        'pickup_community_area',\n",
    "        'ds',\n",
    "        'y',\n",
    "        'features_scaled')\n",
    "    \n",
    "    temp_lr = lr.fit(temp_train)\n",
    "    temp_pred = temp_lr.transform(temp_valid)\n",
    "    temp_predandtrue = temp_pred.select(\n",
    "                                        'pickup_community_area',\n",
    "                                        'ds',\n",
    "                                        \"y_pred\", \n",
    "                                        \"y\"\n",
    "                                        ).withColumn(\"y_pred\",F.round(temp_pred[\"y_pred\"],0)) \n",
    "    temp_predandtrue = temp_predandtrue.withColumn('y_pred', F.when((F.col(\"y_pred\") <= 0), 0)\\\n",
    "        .otherwise(temp_predandtrue.y_pred)).cache()\n",
    "    #temp_lr = lr.fit(temp_train.union(temp_valid))\n",
    "    #temp_lr.write().overwrite().save(\"/models/lr{0}\".format(i))\n",
    "    return temp_predandtrue"
   ]
  },
  {
   "cell_type": "code",
   "execution_count": 48,
   "id": "516eaf4d-688e-40a4-bf36-87b68c7ee5b5",
   "metadata": {},
   "outputs": [],
   "source": [
    "preds_schema = StructType([ \\\n",
    "    StructField(\"pickup_community_area\",IntegerType (),True), \\\n",
    "    StructField(\"ds\",TimestampType(),True), \\\n",
    "    StructField(\"y_pred\",FloatType(),True), \\\n",
    "    StructField(\"y\", FloatType(), True), \\\n",
    "\n",
    "  ])"
   ]
  },
  {
   "cell_type": "code",
   "execution_count": 49,
   "id": "bb5378c8-6f7e-4c20-9eed-6ef161f05ea9",
   "metadata": {
    "scrolled": true
   },
   "outputs": [
    {
     "name": "stdout",
     "output_type": "stream",
     "text": [
      "CPU times: user 2.99 s, sys: 1.68 s, total: 4.67 s\n",
      "Wall time: 3min 32s\n"
     ]
    }
   ],
   "source": [
    "%%time\n",
    "valid_preds = spark.createDataFrame([],preds_schema)\n",
    "for i in range(78):\n",
    "    valid_preds = valid_preds.union(modelsandpredictions(i))\n",
    "valid_preds = valid_preds.cache()"
   ]
  },
  {
   "cell_type": "code",
   "execution_count": 50,
   "id": "1d526292-df2e-4494-b1fd-e9149acc0d0e",
   "metadata": {},
   "outputs": [
    {
     "name": "stdout",
     "output_type": "stream",
     "text": [
      "+---------------------+-------------------+------+---+\n",
      "|pickup_community_area|                 ds|y_pred|  y|\n",
      "+---------------------+-------------------+------+---+\n",
      "|                    0|2023-06-02 01:00:00|   0.0|0.0|\n",
      "|                    0|2023-06-04 06:00:00|   0.0|0.0|\n",
      "|                    0|2023-06-05 18:00:00|   0.0|0.0|\n",
      "|                    0|2023-06-13 12:00:00|   0.0|0.0|\n",
      "|                    0|2023-06-16 21:00:00|   0.0|0.0|\n",
      "+---------------------+-------------------+------+---+\n",
      "only showing top 5 rows\n",
      "\n"
     ]
    },
    {
     "data": {
      "text/plain": [
       "114114"
      ]
     },
     "execution_count": 50,
     "metadata": {},
     "output_type": "execute_result"
    }
   ],
   "source": [
    "valid_preds.show(5)\n",
    "valid_preds.count()"
   ]
  },
  {
   "cell_type": "code",
   "execution_count": 51,
   "id": "995ae0d7-2aa3-4c24-b32f-fc9f3da8a7de",
   "metadata": {
    "scrolled": true
   },
   "outputs": [
    {
     "name": "stdout",
     "output_type": "stream",
     "text": [
      "LinearRegression MAE: 1.5161329898172002\n",
      "CPU times: user 1.29 s, sys: 493 ms, total: 1.78 s\n",
      "Wall time: 4min 32s\n"
     ]
    }
   ],
   "source": [
    "%%time\n",
    "print(\"LinearRegression MAE: {0}\".format(evaluator.evaluate(valid_preds)))"
   ]
  },
  {
   "cell_type": "code",
   "execution_count": 52,
   "id": "ac856262-b8d9-4633-bad0-cba243898d0e",
   "metadata": {
    "scrolled": true
   },
   "outputs": [
    {
     "name": "stdout",
     "output_type": "stream",
     "text": [
      "MAPE: [Row(avg((abs(((y - y_pred) / y)) * 100))=39.00934602125235)]\n",
      "CPU times: user 1.15 s, sys: 622 ms, total: 1.77 s\n",
      "Wall time: 4min 26s\n"
     ]
    }
   ],
   "source": [
    "%%time\n",
    "print('MAPE:',\n",
    "    valid_preds.select(avg((100*abs((valid_preds.y - valid_preds.y_pred) / valid_preds.y)))).collect())"
   ]
  },
  {
   "cell_type": "markdown",
   "id": "809367c5-5c7d-4845-b3f2-1a17912c595c",
   "metadata": {},
   "source": [
    "    Окончательные ошибки отдельных Линейных регрессий для каждого района составили\n",
    "    МАЕ: 1.5162772381202416\n",
    "    МАРЕ: 39.00271960895627"
   ]
  },
  {
   "cell_type": "code",
   "execution_count": 53,
   "id": "8d573875-b9b2-4a63-8e7a-b5be7ef0997e",
   "metadata": {},
   "outputs": [
    {
     "name": "stdout",
     "output_type": "stream",
     "text": [
      "Количество используемой памяти 2_016 байт, пиковое 14_960 байт\n"
     ]
    }
   ],
   "source": [
    "import tracemalloc\n",
    "tracemalloc.start()\n",
    "def mem_use():\n",
    "    mem_size, mem_peak = tracemalloc.get_traced_memory()\n",
    "    print(f'Количество используемой памяти {mem_size:_} байт, '\n",
    "          f'пиковое {mem_peak:_} байт')\n",
    "\n",
    "mem_use()"
   ]
  },
  {
   "cell_type": "code",
   "execution_count": null,
   "id": "b98a2c90-f72c-4582-887e-e83b480eaf38",
   "metadata": {},
   "outputs": [],
   "source": []
  },
  {
   "cell_type": "markdown",
   "id": "5d1efe94-cfa6-430a-8651-1d6bbcb54156",
   "metadata": {
    "scrolled": true
   },
   "source": [
    "linearModel.write().overwrite().save('/work/lr')"
   ]
  },
  {
   "cell_type": "markdown",
   "id": "0b5632bd-ef36-49f3-b60e-57cffd0974d9",
   "metadata": {
    "scrolled": true
   },
   "source": [
    "linearModel.write().overwrite().save('/lr_models/lr47')#.save('/models/sparklr47')"
   ]
  },
  {
   "cell_type": "markdown",
   "id": "2893dced-6e85-4808-b745-7964c1eac1f8",
   "metadata": {},
   "source": [
    "import os\n",
    "os.getcwd()"
   ]
  },
  {
   "cell_type": "code",
   "execution_count": null,
   "id": "82b586f9-5c54-49e9-9998-2201fd4f2139",
   "metadata": {},
   "outputs": [],
   "source": []
  }
 ],
 "metadata": {
  "kernelspec": {
   "display_name": "Python 3 (ipykernel)",
   "language": "python",
   "name": "python3"
  },
  "language_info": {
   "codemirror_mode": {
    "name": "ipython",
    "version": 3
   },
   "file_extension": ".py",
   "mimetype": "text/x-python",
   "name": "python",
   "nbconvert_exporter": "python",
   "pygments_lexer": "ipython3",
   "version": "3.11.5"
  }
 },
 "nbformat": 4,
 "nbformat_minor": 5
}
