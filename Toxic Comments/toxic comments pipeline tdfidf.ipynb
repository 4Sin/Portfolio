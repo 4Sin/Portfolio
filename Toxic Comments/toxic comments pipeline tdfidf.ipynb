{
 "cells": [
  {
   "cell_type": "markdown",
   "metadata": {
    "id": "Q8koa9j5-gpp",
    "toc": true
   },
   "source": [
    "<h1>Содержание<span class=\"tocSkip\"></span></h1>\n",
    "<div class=\"toc\"><ul class=\"toc-item\"><li><span><a href=\"#Подготовка\" data-toc-modified-id=\"Подготовка-1\"><span class=\"toc-item-num\">1&nbsp;&nbsp;</span>Подготовка</a></span><ul class=\"toc-item\"><li><span><a href=\"#загрузка-данных,-просмотр\" data-toc-modified-id=\"загрузка-данных,-просмотр-1.1\"><span class=\"toc-item-num\">1.1&nbsp;&nbsp;</span>загрузка данных, просмотр</a></span></li><li><span><a href=\"#Лемматизация-данных\" data-toc-modified-id=\"Лемматизация-данных-1.2\"><span class=\"toc-item-num\">1.2&nbsp;&nbsp;</span>Лемматизация данных</a></span></li><li><span><a href=\"#Подготовка-данных-к-обучению\" data-toc-modified-id=\"Подготовка-данных-к-обучению-1.3\"><span class=\"toc-item-num\">1.3&nbsp;&nbsp;</span>Подготовка данных к обучению</a></span></li></ul></li><li><span><a href=\"#Обучение\" data-toc-modified-id=\"Обучение-2\"><span class=\"toc-item-num\">2&nbsp;&nbsp;</span>Обучение</a></span><ul class=\"toc-item\"><li><span><a href=\"#RandomForestClassifier\" data-toc-modified-id=\"RandomForestClassifier-2.1\"><span class=\"toc-item-num\">2.1&nbsp;&nbsp;</span>RandomForestClassifier</a></span></li><li><span><a href=\"#LogisticRegression\" data-toc-modified-id=\"LogisticRegression-2.2\"><span class=\"toc-item-num\">2.2&nbsp;&nbsp;</span>LogisticRegression</a></span></li><li><span><a href=\"#Дообучим-выбранную-модель-на-всех-оставшихся-данных-перед-финальной-и-проведем-тест-на-тестовой-выборке.\" data-toc-modified-id=\"Дообучим-выбранную-модель-на-всех-оставшихся-данных-перед-финальной-и-проведем-тест-на-тестовой-выборке.-2.3\"><span class=\"toc-item-num\">2.3&nbsp;&nbsp;</span>Дообучим выбранную модель на всех оставшихся данных перед финальной и проведем тест на тестовой выборке.</a></span></li><li><span><a href=\"#Построим-ROC-AUC\" data-toc-modified-id=\"Построим-ROC-AUC-2.4\"><span class=\"toc-item-num\">2.4&nbsp;&nbsp;</span>Построим ROC-AUC</a></span></li><li><span><a href=\"#Найдем-лучшую-отсечку-по-вероятности\" data-toc-modified-id=\"Найдем-лучшую-отсечку-по-вероятности-2.5\"><span class=\"toc-item-num\">2.5&nbsp;&nbsp;</span>Найдем лучшую отсечку по вероятности</a></span></li></ul></li><li><span><a href=\"#Предсказания-выбранной-модели\" data-toc-modified-id=\"Предсказания-выбранной-модели-3\"><span class=\"toc-item-num\">3&nbsp;&nbsp;</span>Предсказания выбранной модели</a></span><ul class=\"toc-item\"><li><span><a href=\"#Построим-матрицу\" data-toc-modified-id=\"Построим-матрицу-3.1\"><span class=\"toc-item-num\">3.1&nbsp;&nbsp;</span>Построим матрицу</a></span></li></ul></li><li><span><a href=\"#Выводы\" data-toc-modified-id=\"Выводы-4\"><span class=\"toc-item-num\">4&nbsp;&nbsp;</span>Выводы</a></span></li></ul></div>"
   ]
  },
  {
   "cell_type": "markdown",
   "metadata": {
    "id": "zf8THTc1XGLP"
   },
   "source": [
    "# Классификация текстовых данных"
   ]
  },
  {
   "cell_type": "markdown",
   "metadata": {
    "id": "_Kqe_WXmXGLQ"
   },
   "source": [
    "Интернет-магазин запускает новый сервис. Теперь пользователи могут редактировать и дополнять описания товаров. То есть клиенты предлагают свои правки и комментируют изменения других. Магазину нужен инструмент, который будет искать токсичные комментарии и отправлять их на модерацию. \n",
    "\n",
    "Необходимо обучить модель классифицировать комментарии на позитивные и негативные. \n",
    "F1 модели должна быть не меньше 0.75. "
   ]
  },
  {
   "cell_type": "markdown",
   "metadata": {
    "id": "decbRTd_XGLQ"
   },
   "source": [
    "## Подготовка"
   ]
  },
  {
   "cell_type": "markdown",
   "metadata": {
    "id": "GK6enRMtXGLR"
   },
   "source": [
    "### загрузка данных, просмотр"
   ]
  },
  {
   "cell_type": "code",
   "execution_count": 15,
   "metadata": {
    "ExecuteTime": {
     "end_time": "2023-06-03T08:45:16.561768Z",
     "start_time": "2023-06-03T08:45:16.534839Z"
    },
    "id": "ez14fQtzXGLR"
   },
   "outputs": [],
   "source": [
    "import warnings\n",
    "\n",
    "import os\n",
    "import io\n",
    "import re\n",
    "import spacy\n",
    "\n",
    "import pandas as pd\n",
    "import numpy as np\n",
    "import seaborn as sns\n",
    "from tqdm import tqdm\n",
    "\n",
    "from matplotlib import pyplot as plt\n",
    "\n",
    "from sklearn import metrics\n",
    "from sklearn.pipeline import Pipeline\n",
    "from sklearn.ensemble import RandomForestClassifier\n",
    "from sklearn.tree import DecisionTreeClassifier\n",
    "from sklearn.linear_model import LogisticRegression\n",
    "from sklearn.metrics import f1_score\n",
    "from sklearn.model_selection import train_test_split, GridSearchCV, cross_val_predict\n",
    "from sklearn.feature_extraction.text import CountVectorizer \n",
    "\n",
    "from catboost import CatBoostClassifier\n",
    "\n",
    "import nltk\n",
    "from nltk.corpus import stopwords as nltk_stopwords\n",
    "from nltk.stem import WordNetLemmatizer\n",
    "from sklearn.feature_extraction.text import TfidfVectorizer\n",
    "\n",
    "warnings.simplefilter(\"ignore\")"
   ]
  },
  {
   "cell_type": "code",
   "execution_count": 16,
   "metadata": {
    "ExecuteTime": {
     "end_time": "2023-06-03T08:45:17.390617Z",
     "start_time": "2023-06-03T08:45:16.562769Z"
    },
    "colab": {
     "base_uri": "https://localhost:8080/",
     "height": 73
    },
    "id": "kKln3uMxXGLS",
    "outputId": "cee9fe88-e30a-40d4-9ee7-e2a4ed97d717"
   },
   "outputs": [],
   "source": [
    "try:\n",
    "    data = pd.read_csv('')\n",
    "    \n",
    "except:\n",
    "    from google.colab import files\n",
    "    uploaded = files.upload()\n",
    "    data = pd.read_csv(io.BytesIO(uploaded['']))\n",
    "    "
   ]
  },
  {
   "cell_type": "code",
   "execution_count": 17,
   "metadata": {
    "ExecuteTime": {
     "end_time": "2023-06-03T08:45:17.725618Z",
     "start_time": "2023-06-03T08:45:17.391616Z"
    },
    "colab": {
     "base_uri": "https://localhost:8080/",
     "height": 553
    },
    "id": "idhOTZGeXGLS",
    "outputId": "0a3379c5-4220-4acd-f4a0-6cb6c5780e51",
    "scrolled": true
   },
   "outputs": [
    {
     "name": "stdout",
     "output_type": "stream",
     "text": [
      "<class 'pandas.core.frame.DataFrame'>\n",
      "RangeIndex: 159292 entries, 0 to 159291\n",
      "Data columns (total 3 columns):\n",
      " #   Column      Non-Null Count   Dtype \n",
      "---  ------      --------------   ----- \n",
      " 0   Unnamed: 0  159292 non-null  int64 \n",
      " 1   text        159292 non-null  object\n",
      " 2   toxic       159292 non-null  int64 \n",
      "dtypes: int64(2), object(1)\n",
      "memory usage: 3.6+ MB\n",
      "None\n"
     ]
    },
    {
     "data": {
      "text/html": [
       "<div>\n",
       "<style scoped>\n",
       "    .dataframe tbody tr th:only-of-type {\n",
       "        vertical-align: middle;\n",
       "    }\n",
       "\n",
       "    .dataframe tbody tr th {\n",
       "        vertical-align: top;\n",
       "    }\n",
       "\n",
       "    .dataframe thead th {\n",
       "        text-align: right;\n",
       "    }\n",
       "</style>\n",
       "<table border=\"1\" class=\"dataframe\">\n",
       "  <thead>\n",
       "    <tr style=\"text-align: right;\">\n",
       "      <th></th>\n",
       "      <th>Unnamed: 0</th>\n",
       "      <th>text</th>\n",
       "      <th>toxic</th>\n",
       "    </tr>\n",
       "  </thead>\n",
       "  <tbody>\n",
       "    <tr>\n",
       "      <th>0</th>\n",
       "      <td>0</td>\n",
       "      <td>Explanation\\nWhy the edits made under my usern...</td>\n",
       "      <td>0</td>\n",
       "    </tr>\n",
       "    <tr>\n",
       "      <th>1</th>\n",
       "      <td>1</td>\n",
       "      <td>D'aww! He matches this background colour I'm s...</td>\n",
       "      <td>0</td>\n",
       "    </tr>\n",
       "    <tr>\n",
       "      <th>2</th>\n",
       "      <td>2</td>\n",
       "      <td>Hey man, I'm really not trying to edit war. It...</td>\n",
       "      <td>0</td>\n",
       "    </tr>\n",
       "    <tr>\n",
       "      <th>3</th>\n",
       "      <td>3</td>\n",
       "      <td>\"\\nMore\\nI can't make any real suggestions on ...</td>\n",
       "      <td>0</td>\n",
       "    </tr>\n",
       "    <tr>\n",
       "      <th>4</th>\n",
       "      <td>4</td>\n",
       "      <td>You, sir, are my hero. Any chance you remember...</td>\n",
       "      <td>0</td>\n",
       "    </tr>\n",
       "  </tbody>\n",
       "</table>\n",
       "</div>"
      ],
      "text/plain": [
       "   Unnamed: 0                                               text  toxic\n",
       "0           0  Explanation\\nWhy the edits made under my usern...      0\n",
       "1           1  D'aww! He matches this background colour I'm s...      0\n",
       "2           2  Hey man, I'm really not trying to edit war. It...      0\n",
       "3           3  \"\\nMore\\nI can't make any real suggestions on ...      0\n",
       "4           4  You, sir, are my hero. Any chance you remember...      0"
      ]
     },
     "metadata": {},
     "output_type": "display_data"
    },
    {
     "name": "stdout",
     "output_type": "stream",
     "text": [
      "\n",
      "Unnamed: 0    0\n",
      "text          0\n",
      "toxic         0\n",
      "dtype: int64\n",
      "Unnamed: 0    16186\n",
      "text          16186\n",
      "toxic         16186\n",
      "dtype: int64\n"
     ]
    }
   ],
   "source": [
    "print(data.info())\n",
    "display(data.head())\n",
    "print()\n",
    "print(data.isnull().sum().sort_values(ascending=False).head(10))\n",
    "data_original = data\n",
    "print(data[data['toxic']==1].count())"
   ]
  },
  {
   "cell_type": "markdown",
   "metadata": {
    "id": "wq2E1i5XXGLT"
   },
   "source": [
    "    для анализа и обучения предоставлены 159 тысяч текстов с оценкой их токсичности, 16 тысяч текстов токсичны. в данных нет пропусков, формат соответвует назначению."
   ]
  },
  {
   "cell_type": "markdown",
   "metadata": {
    "ExecuteTime": {
     "end_time": "2023-06-03T08:25:22.341009Z",
     "start_time": "2023-06-03T08:25:22.320010Z"
    }
   },
   "source": [
    "### Лемматизация данных"
   ]
  },
  {
   "cell_type": "code",
   "execution_count": 18,
   "metadata": {
    "ExecuteTime": {
     "end_time": "2023-06-03T08:45:18.109616Z",
     "start_time": "2023-06-03T08:45:17.727617Z"
    }
   },
   "outputs": [],
   "source": [
    "#создаем лемматайзер Spacy\n",
    "nlp = spacy.load('en_core_web_sm')\n",
    "def lemmatize_spacy(text):\n",
    "    return \" \".join([token.lemma_ for token in nlp(text)])"
   ]
  },
  {
   "cell_type": "code",
   "execution_count": 19,
   "metadata": {
    "ExecuteTime": {
     "end_time": "2023-06-03T08:50:20.411858Z",
     "start_time": "2023-06-03T08:45:18.110617Z"
    },
    "colab": {
     "base_uri": "https://localhost:8080/"
    },
    "id": "XqjUYlmUMu8A",
    "outputId": "59f82c97-e740-4be3-f619-932a7229ecb5"
   },
   "outputs": [
    {
     "name": "stderr",
     "output_type": "stream",
     "text": [
      "100%|██████████| 159292/159292 [05:02<00:00, 527.20it/s]\n"
     ]
    }
   ],
   "source": [
    "tqdm.pandas()\n",
    "new_corpus = []\n",
    "\n",
    "for doc in tqdm(nlp.pipe(data_original['text'], batch_size=64, n_process=-1, disable=[\"parser\", \"ner\"]), total=len(data_original['text'])):\n",
    "    word_list = [tok.lemma_ for tok in doc]\n",
    "    new_corpus.append(' '.join(word_list))\n",
    "\n",
    "data['lemm_spacy_new'] = new_corpus   "
   ]
  },
  {
   "cell_type": "code",
   "execution_count": 20,
   "metadata": {
    "ExecuteTime": {
     "end_time": "2023-06-03T08:50:20.442860Z",
     "start_time": "2023-06-03T08:50:20.416860Z"
    },
    "colab": {
     "base_uri": "https://localhost:8080/",
     "height": 206
    },
    "id": "g5kIFAf2YE3P",
    "outputId": "d3e71416-b7a0-4f2f-c64c-ec5c27cd74d3"
   },
   "outputs": [
    {
     "data": {
      "text/html": [
       "<div>\n",
       "<style scoped>\n",
       "    .dataframe tbody tr th:only-of-type {\n",
       "        vertical-align: middle;\n",
       "    }\n",
       "\n",
       "    .dataframe tbody tr th {\n",
       "        vertical-align: top;\n",
       "    }\n",
       "\n",
       "    .dataframe thead th {\n",
       "        text-align: right;\n",
       "    }\n",
       "</style>\n",
       "<table border=\"1\" class=\"dataframe\">\n",
       "  <thead>\n",
       "    <tr style=\"text-align: right;\">\n",
       "      <th></th>\n",
       "      <th>Unnamed: 0</th>\n",
       "      <th>text</th>\n",
       "      <th>toxic</th>\n",
       "      <th>lemm_spacy_new</th>\n",
       "    </tr>\n",
       "  </thead>\n",
       "  <tbody>\n",
       "    <tr>\n",
       "      <th>0</th>\n",
       "      <td>0</td>\n",
       "      <td>Explanation\\nWhy the edits made under my usern...</td>\n",
       "      <td>0</td>\n",
       "      <td>Explanation \\n why the edit make under my user...</td>\n",
       "    </tr>\n",
       "    <tr>\n",
       "      <th>1</th>\n",
       "      <td>1</td>\n",
       "      <td>D'aww! He matches this background colour I'm s...</td>\n",
       "      <td>0</td>\n",
       "      <td>D'aww ! he match this background colour I be s...</td>\n",
       "    </tr>\n",
       "    <tr>\n",
       "      <th>2</th>\n",
       "      <td>2</td>\n",
       "      <td>Hey man, I'm really not trying to edit war. It...</td>\n",
       "      <td>0</td>\n",
       "      <td>hey man , I be really not try to edit war . it...</td>\n",
       "    </tr>\n",
       "    <tr>\n",
       "      <th>3</th>\n",
       "      <td>3</td>\n",
       "      <td>\"\\nMore\\nI can't make any real suggestions on ...</td>\n",
       "      <td>0</td>\n",
       "      <td>\" \\n More \\n I can not make any real suggestio...</td>\n",
       "    </tr>\n",
       "    <tr>\n",
       "      <th>4</th>\n",
       "      <td>4</td>\n",
       "      <td>You, sir, are my hero. Any chance you remember...</td>\n",
       "      <td>0</td>\n",
       "      <td>you , sir , be my hero . any chance you rememb...</td>\n",
       "    </tr>\n",
       "  </tbody>\n",
       "</table>\n",
       "</div>"
      ],
      "text/plain": [
       "   Unnamed: 0                                               text  toxic  \\\n",
       "0           0  Explanation\\nWhy the edits made under my usern...      0   \n",
       "1           1  D'aww! He matches this background colour I'm s...      0   \n",
       "2           2  Hey man, I'm really not trying to edit war. It...      0   \n",
       "3           3  \"\\nMore\\nI can't make any real suggestions on ...      0   \n",
       "4           4  You, sir, are my hero. Any chance you remember...      0   \n",
       "\n",
       "                                      lemm_spacy_new  \n",
       "0  Explanation \\n why the edit make under my user...  \n",
       "1  D'aww ! he match this background colour I be s...  \n",
       "2  hey man , I be really not try to edit war . it...  \n",
       "3  \" \\n More \\n I can not make any real suggestio...  \n",
       "4  you , sir , be my hero . any chance you rememb...  "
      ]
     },
     "metadata": {},
     "output_type": "display_data"
    }
   ],
   "source": [
    "display(data.head())"
   ]
  },
  {
   "cell_type": "markdown",
   "metadata": {
    "id": "H_a02BUTXGLU"
   },
   "source": [
    "### Подготовка данных к обучению"
   ]
  },
  {
   "cell_type": "code",
   "execution_count": 21,
   "metadata": {
    "ExecuteTime": {
     "end_time": "2023-06-03T08:50:20.940860Z",
     "start_time": "2023-06-03T08:50:20.446860Z"
    },
    "colab": {
     "base_uri": "https://localhost:8080/"
    },
    "id": "RBw6YscpXGLU",
    "outputId": "a8a3d23e-1d82-4a83-9712-3b4b224924ff",
    "scrolled": true
   },
   "outputs": [
    {
     "name": "stdout",
     "output_type": "stream",
     "text": [
      "(50974,)\n",
      "(50974,)\n",
      "(31859,)\n",
      "(31859,)\n"
     ]
    }
   ],
   "source": [
    "rand = 12345\n",
    "remaining, test = train_test_split(\n",
    "    data, \n",
    "    test_size=0.20, \n",
    "    stratify = data['toxic'], \n",
    "    random_state = rand\n",
    ")\n",
    "\n",
    "leftovers, train = train_test_split(\n",
    "    remaining, \n",
    "    test_size=0.4, \n",
    "    stratify = remaining['toxic'], \n",
    "    random_state = rand\n",
    ")\n",
    "\n",
    "\n",
    "x_train = train['lemm_spacy_new']\n",
    "y_train = train['toxic']\n",
    "x_test = test['lemm_spacy_new']\n",
    "y_test = test['toxic']\n",
    "\n",
    "print(x_train.shape)\n",
    "print(y_train.shape)\n",
    "print(x_test.shape)\n",
    "print(y_test.shape)"
   ]
  },
  {
   "cell_type": "markdown",
   "metadata": {
    "id": "TwOrJ9qGXGLW"
   },
   "source": [
    "## Обучение"
   ]
  },
  {
   "cell_type": "markdown",
   "metadata": {
    "id": "ASgdg962XGLY"
   },
   "source": [
    "### RandomForestClassifier"
   ]
  },
  {
   "cell_type": "markdown",
   "metadata": {},
   "source": [
    "<font color='White' size=+1> Создаем Pipeline и tf-idf векторизатор, обучаем регрессию\n"
   ]
  },
  {
   "cell_type": "code",
   "execution_count": 48,
   "metadata": {
    "ExecuteTime": {
     "end_time": "2023-06-03T10:11:59.017727Z",
     "start_time": "2023-06-03T10:09:10.711154Z"
    },
    "id": "n2QNROnyXGLZ",
    "scrolled": true
   },
   "outputs": [
    {
     "name": "stdout",
     "output_type": "stream",
     "text": [
      "Fitting 3 folds for each of 16 candidates, totalling 48 fits\n",
      "Лучший лес Pipeline(steps=[('tfidf',\n",
      "                 TfidfVectorizer(max_df=0.25, ngram_range=(1, 3),\n",
      "                                 stop_words=['i', 'me', 'my', 'myself', 'we',\n",
      "                                             'our', 'ours', 'ourselves', 'you',\n",
      "                                             \"you're\", \"you've\", \"you'll\",\n",
      "                                             \"you'd\", 'your', 'yours',\n",
      "                                             'yourself', 'yourselves', 'he',\n",
      "                                             'him', 'his', 'himself', 'she',\n",
      "                                             \"she's\", 'her', 'hers', 'herself',\n",
      "                                             'it', \"it's\", 'its', 'itself', ...])),\n",
      "                ('forest',\n",
      "                 RandomForestClassifier(max_depth=40, n_estimators=10))])\n",
      "f1 леса 0.0046173828951828096\n",
      "CPU times: total: 22.5 s\n",
      "Wall time: 2min 48s\n"
     ]
    }
   ],
   "source": [
    "%%time\n",
    "#RandomForestClassifier\n",
    "\n",
    "pipeline = Pipeline([\n",
    "    ('tfidf', TfidfVectorizer(stop_words=nltk_stopwords.words('english'), ngram_range=(1, 3), max_df = 0.25)),\n",
    "    ('forest', RandomForestClassifier())\n",
    "     ])\n",
    "parameters = {\n",
    "    'forest__max_depth': range(10, 50, 10),\n",
    "    'forest__n_estimators': range(10, 50, 10)\n",
    "}\n",
    "\n",
    "grid_search_tune = GridSearchCV(pipeline, parameters, cv=3, n_jobs=-1, scoring='f1', verbose=3)\n",
    "grid_search_tune.fit(x_train, y_train)\n",
    "print('Лучший лес', grid_search_tune.best_estimator_)\n",
    "forest = grid_search_tune.best_estimator_\n",
    "print('f1 леса', grid_search_tune.best_score_)"
   ]
  },
  {
   "cell_type": "markdown",
   "metadata": {},
   "source": [
    "    Лес дал очень плохие результаты, очевидно, эта модель не подходит для текстов"
   ]
  },
  {
   "cell_type": "markdown",
   "metadata": {
    "id": "u_EhNorGXGLW"
   },
   "source": [
    "### LogisticRegression"
   ]
  },
  {
   "cell_type": "code",
   "execution_count": 38,
   "metadata": {
    "ExecuteTime": {
     "end_time": "2023-06-03T10:03:39.797001Z",
     "start_time": "2023-06-03T09:47:54.519779Z"
    },
    "colab": {
     "base_uri": "https://localhost:8080/"
    },
    "id": "svk3BCL3MWB7",
    "outputId": "b3116908-cd41-429c-b7e1-9ac6246f2865"
   },
   "outputs": [
    {
     "name": "stdout",
     "output_type": "stream",
     "text": [
      "Fitting 3 folds for each of 30 candidates, totalling 90 fits\n",
      "Лучшая регрессия Pipeline(steps=[('tfidf',\n",
      "                 TfidfVectorizer(max_df=0.25, ngram_range=(1, 3),\n",
      "                                 stop_words=['i', 'me', 'my', 'myself', 'we',\n",
      "                                             'our', 'ours', 'ourselves', 'you',\n",
      "                                             \"you're\", \"you've\", \"you'll\",\n",
      "                                             \"you'd\", 'your', 'yours',\n",
      "                                             'yourself', 'yourselves', 'he',\n",
      "                                             'him', 'his', 'himself', 'she',\n",
      "                                             \"she's\", 'her', 'hers', 'herself',\n",
      "                                             'it', \"it's\", 'its', 'itself', ...])),\n",
      "                ('logreg', LogisticRegression(C=9, class_weight='balanced'))])\n",
      "f1 регрессии 0.7591862331910101\n",
      "CPU times: total: 2min 51s\n",
      "Wall time: 15min 45s\n"
     ]
    }
   ],
   "source": [
    "%%time\n",
    "pipeline = Pipeline([\n",
    "    ('tfidf', TfidfVectorizer(stop_words=nltk_stopwords.words('english'), ngram_range=(1, 3), max_df = 0.25)),\n",
    "    ('logreg', LogisticRegression())\n",
    "     ])\n",
    "parameters = {\n",
    "    'logreg__C': range(1, 11, 2),\n",
    "    'logreg__solver': ['lbfgs', 'newton-cg', 'sag'],\n",
    "    'logreg__class_weight': [None, 'balanced']\n",
    "}\n",
    "\n",
    "grid_search_tune = GridSearchCV(pipeline, parameters, cv=3, n_jobs=-1, scoring='f1', verbose=3)\n",
    "grid_search_tune.fit(x_train, y_train)\n",
    "print('Лучшая регрессия', grid_search_tune.best_estimator_)\n",
    "logreg = grid_search_tune.best_estimator_\n",
    "print('f1 регрессии', grid_search_tune.best_score_)"
   ]
  },
  {
   "cell_type": "markdown",
   "metadata": {
    "id": "jDUH1xJqRCaI"
   },
   "source": [
    "    Лучшая модель \n",
    "    LogisticRegression\n",
    "    (C=9, class_weight='balanced')\n",
    "    f1 регрессии 0.7591862331910101\n",
    "    \n",
    "    хороший результат, проходим по метрике, попробуем ее улучшить"
   ]
  },
  {
   "cell_type": "markdown",
   "metadata": {
    "id": "c-Md6mPwXGLb"
   },
   "source": [
    "### Дообучим выбранную модель на всех оставшихся данных перед финальной и проведем тест на тестовой выборке."
   ]
  },
  {
   "cell_type": "code",
   "execution_count": 39,
   "metadata": {
    "ExecuteTime": {
     "end_time": "2023-06-03T10:03:59.939339Z",
     "start_time": "2023-06-03T10:03:54.961845Z"
    },
    "colab": {
     "base_uri": "https://localhost:8080/"
    },
    "id": "aQxclE5iXGLb",
    "outputId": "2b5b0e25-1dcf-4993-e3db-75f888504968"
   },
   "outputs": [
    {
     "name": "stdout",
     "output_type": "stream",
     "text": [
      "Размер мешка с учётом стоп-слов: (127433, 155039)\n"
     ]
    }
   ],
   "source": [
    "corpus_remaining = remaining['lemm_spacy_new'].values\n",
    "\n",
    "TfidfVect = TfidfVectorizer(stop_words=nltk_stopwords.words('english'))\n",
    "bow_remaining = TfidfVect.fit_transform(corpus_remaining) \n",
    "\n",
    "print(\"Размер мешка с учётом стоп-слов:\", bow_remaining.shape)"
   ]
  },
  {
   "cell_type": "code",
   "execution_count": 40,
   "metadata": {
    "ExecuteTime": {
     "end_time": "2023-06-03T10:04:01.120707Z",
     "start_time": "2023-06-03T10:03:59.941340Z"
    },
    "colab": {
     "base_uri": "https://localhost:8080/"
    },
    "id": "svLqIEobXGLc",
    "outputId": "cd624549-e290-4864-ab66-b97dbc4dba8f"
   },
   "outputs": [
    {
     "name": "stdout",
     "output_type": "stream",
     "text": [
      "Размер мешка с учётом стоп-слов: (31859, 155039)\n"
     ]
    }
   ],
   "source": [
    "corpus_test = x_test.values\n",
    "\n",
    "bow_test = TfidfVect.transform(corpus_test) \n",
    "\n",
    "print(\"Размер мешка с учётом стоп-слов:\", bow_test.shape)"
   ]
  },
  {
   "cell_type": "code",
   "execution_count": 41,
   "metadata": {
    "ExecuteTime": {
     "end_time": "2023-06-03T10:05:57.011656Z",
     "start_time": "2023-06-03T10:04:01.121709Z"
    },
    "colab": {
     "base_uri": "https://localhost:8080/",
     "height": 125
    },
    "id": "_dMiLsFmXGLc",
    "outputId": "2ab25404-d022-4944-ddd5-11e794555b8e",
    "scrolled": true
   },
   "outputs": [
    {
     "data": {
      "text/plain": [
       "Pipeline(steps=[('tfidf',\n",
       "                 TfidfVectorizer(max_df=0.25, ngram_range=(1, 3),\n",
       "                                 stop_words=['i', 'me', 'my', 'myself', 'we',\n",
       "                                             'our', 'ours', 'ourselves', 'you',\n",
       "                                             \"you're\", \"you've\", \"you'll\",\n",
       "                                             \"you'd\", 'your', 'yours',\n",
       "                                             'yourself', 'yourselves', 'he',\n",
       "                                             'him', 'his', 'himself', 'she',\n",
       "                                             \"she's\", 'her', 'hers', 'herself',\n",
       "                                             'it', \"it's\", 'its', 'itself', ...])),\n",
       "                ('logreg', LogisticRegression(C=9, class_weight='balanced'))])"
      ]
     },
     "execution_count": 41,
     "metadata": {},
     "output_type": "execute_result"
    }
   ],
   "source": [
    "logreg.fit(remaining['lemm_spacy_new'], remaining['toxic'])"
   ]
  },
  {
   "cell_type": "code",
   "execution_count": 42,
   "metadata": {
    "ExecuteTime": {
     "end_time": "2023-06-03T10:08:01.794655Z",
     "start_time": "2023-06-03T10:05:57.014654Z"
    },
    "colab": {
     "base_uri": "https://localhost:8080/"
    },
    "id": "5A3lraMyTf6i",
    "outputId": "ec15f1d6-a36b-4ef0-cf18-c2a913b608f3",
    "scrolled": true
   },
   "outputs": [
    {
     "name": "stdout",
     "output_type": "stream",
     "text": [
      "[[0.99234855 0.00765145]\n",
      " [0.10710737 0.89289263]\n",
      " [0.99511854 0.00488146]\n",
      " ...\n",
      " [0.9359881  0.0640119 ]\n",
      " [0.99853137 0.00146863]\n",
      " [0.95170845 0.04829155]]\n"
     ]
    }
   ],
   "source": [
    "log_predict_proba = cross_val_predict(logreg, remaining['lemm_spacy_new'], remaining['toxic'], cv=2, method='predict_proba')\n",
    "print(log_predict_proba)"
   ]
  },
  {
   "cell_type": "markdown",
   "metadata": {},
   "source": [
    "### Построим ROC-AUC"
   ]
  },
  {
   "cell_type": "code",
   "execution_count": 50,
   "metadata": {
    "ExecuteTime": {
     "end_time": "2023-06-03T10:16:26.042997Z",
     "start_time": "2023-06-03T10:16:25.914003Z"
    },
    "colab": {
     "base_uri": "https://localhost:8080/",
     "height": 449
    },
    "id": "MvPpkX_KXGLb",
    "outputId": "7370abe1-890a-4a50-ae2f-6e0ac3d7f3d3",
    "scrolled": true
   },
   "outputs": [
    {
     "data": {
      "image/png": "[encoded data removed]",
      "text/plain": [
       "<Figure size 432x288 with 1 Axes>"
      ]
     },
     "metadata": {
      "needs_background": "light"
     },
     "output_type": "display_data"
    }
   ],
   "source": [
    "log_predict_proba1 = log_predict_proba[:,1]\n",
    "fpr, tpr, thresholds = metrics.roc_curve(remaining['toxic'], log_predict_proba1)\n",
    "auc = metrics.roc_auc_score(remaining['toxic'], log_predict_proba1)\n",
    "#create ROC curve\n",
    "plt.plot(fpr,tpr,label=\"AUC=\"+str(auc))\n",
    "plt.title('ROC-AUC')\n",
    "plt.ylabel('True Positive Rate')\n",
    "plt.xlabel('False Positive Rate')\n",
    "plt.legend(loc=4)\n",
    "plt.show()"
   ]
  },
  {
   "cell_type": "markdown",
   "metadata": {},
   "source": [
    "### Найдем лучшую отсечку по вероятности"
   ]
  },
  {
   "cell_type": "code",
   "execution_count": 44,
   "metadata": {
    "ExecuteTime": {
     "end_time": "2023-06-03T10:08:02.588645Z",
     "start_time": "2023-06-03T10:08:01.953656Z"
    },
    "colab": {
     "base_uri": "https://localhost:8080/"
    },
    "id": "OrwQi8jWXGLc",
    "outputId": "23e155fb-5e5a-4c5c-b2c3-00f2f5234421"
   },
   "outputs": [
    {
     "name": "stdout",
     "output_type": "stream",
     "text": [
      "0.5651620075503161\n",
      "0.6789351648029115\n",
      "0.727110405713719\n",
      "0.7541335623792141\n",
      "0.7682551737231821\n",
      "0.7725325325325325\n",
      "0.7675707448148459\n",
      "0.7541243934715482\n",
      "0.7188796680497925\n",
      "0.6\n"
     ]
    }
   ],
   "source": [
    "f1 = 0.0\n",
    "threshold = 0.1\n",
    "for thresh in range(1, 10):\n",
    "  predict_cv_proba = (log_predict_proba1 >= thresh/10).astype(bool) \n",
    "  print(metrics.f1_score(remaining['toxic'], predict_cv_proba))\n",
    "  if f1<metrics.f1_score(remaining['toxic'], predict_cv_proba):\n",
    "      threshold = thresh/10\n",
    "      f1 = metrics.f1_score(remaining['toxic'], predict_cv_proba)\n",
    "print(threshold)"
   ]
  },
  {
   "cell_type": "markdown",
   "metadata": {},
   "source": [
    "## Предсказания выбранной модели"
   ]
  },
  {
   "cell_type": "code",
   "execution_count": 45,
   "metadata": {
    "ExecuteTime": {
     "end_time": "2023-06-03T10:08:05.575866Z",
     "start_time": "2023-06-03T10:08:02.589647Z"
    },
    "colab": {
     "base_uri": "https://localhost:8080/"
    },
    "id": "XlKm-CkT77MO",
    "outputId": "0bd0ffea-a8a5-4603-9ba1-525c8fbc9a50"
   },
   "outputs": [
    {
     "name": "stdout",
     "output_type": "stream",
     "text": [
      "[0 0 0 ... 0 0 0]\n",
      "3503\n",
      "3237\n",
      "0.784272997032641\n"
     ]
    }
   ],
   "source": [
    "predict_log = logreg.predict(x_test)\n",
    "print(predict_log)\n",
    "print(predict_log.sum())\n",
    "print(y_test.sum())\n",
    "print(metrics.f1_score(y_test, predict_log))"
   ]
  },
  {
   "cell_type": "code",
   "execution_count": 46,
   "metadata": {
    "ExecuteTime": {
     "end_time": "2023-06-03T10:08:08.616477Z",
     "start_time": "2023-06-03T10:08:05.577150Z"
    },
    "colab": {
     "base_uri": "https://localhost:8080/"
    },
    "id": "KIN0f1EYNR-y",
    "outputId": "b5b95150-b930-4bbd-f264-7819382dc607"
   },
   "outputs": [
    {
     "name": "stdout",
     "output_type": "stream",
     "text": [
      "[False False False ... False False False]\n",
      "3200\n",
      "3237\n",
      "0.7901196209414324\n"
     ]
    }
   ],
   "source": [
    "predict_final = (logreg.predict_proba(x_test)[:,1] >= threshold).astype(bool) \n",
    "print(predict_final)\n",
    "print(predict_final.sum())\n",
    "print(y_test.sum())\n",
    "print(metrics.f1_score(y_test, predict_final))"
   ]
  },
  {
   "cell_type": "markdown",
   "metadata": {},
   "source": [
    "### Построим матрицу"
   ]
  },
  {
   "cell_type": "code",
   "execution_count": 47,
   "metadata": {
    "ExecuteTime": {
     "end_time": "2023-06-03T10:08:12.155845Z",
     "start_time": "2023-06-03T10:08:08.617685Z"
    },
    "colab": {
     "base_uri": "https://localhost:8080/",
     "height": 507
    },
    "id": "4wP7Rzb4gzlj",
    "outputId": "889dc111-8fe0-4a8d-c298-2b55637171fb"
   },
   "outputs": [
    {
     "name": "stdout",
     "output_type": "stream",
     "text": [
      "[[0.96995318 0.03004682]\n",
      " [0.18350324 0.81649676]]\n"
     ]
    },
    {
     "data": {
      "image/png": "[encoded data removed]",
      "text/plain": [
       "<Figure size 432x288 with 2 Axes>"
      ]
     },
     "metadata": {
      "needs_background": "light"
     },
     "output_type": "display_data"
    }
   ],
   "source": [
    "\n",
    "disp = metrics.ConfusionMatrixDisplay.from_estimator(\n",
    "        logreg,\n",
    "        x_test,\n",
    "        y_test,\n",
    "        cmap=plt.cm.Blues,\n",
    "        normalize='true',\n",
    "    )\n",
    "disp.ax_.set_title('Матрица')\n",
    "\n",
    "print(disp.confusion_matrix)\n",
    "\n",
    "plt.show()"
   ]
  },
  {
   "cell_type": "markdown",
   "metadata": {
    "id": "rerjVa3MXGLc"
   },
   "source": [
    "## Выводы"
   ]
  },
  {
   "cell_type": "markdown",
   "metadata": {
    "id": "207wZckMXGLd"
   },
   "source": [
    "    * Для классификации комментариев были предоставлены 160 тысяч текстов с проведенной категоризацией.\n",
    "    * Данные предоставлены в подходящем формате, пропусков и ошибок в них не обнаружено.\n",
    "    * Для выбора модели использовалась половина данных из-за ограниченности вычислительных ресурсов.\n",
    "    * Наилучшие результаты показала логистическая регрессия, ее показатель на валидационной выборке составил немного меньше 0.759 %. \n",
    "    Дальнейшая работа велась с этой моделью.\n",
    "    * На основании ROC-кривой было принято решение увеличить отсеку до 60% вероятности. Это прибавило к метрике f1 еще около 3%.\n",
    "    \n",
    "    Вывод:\n",
    "    Для анализа текстов из библиотеки sklearn больше всего подходит модель LogisticRegression. \n",
    "    \n",
    "    комментарии классифицированы.\n",
    "    "
   ]
  }
 ],
 "metadata": {
  "ExecuteTimeLog": [
   {
    "duration": 1577,
    "start_time": "2023-03-28T17:38:56.025Z"
   },
   {
    "duration": 2976,
    "start_time": "2023-03-28T17:40:36.560Z"
   },
   {
    "duration": 65,
    "start_time": "2023-03-28T17:40:50.564Z"
   },
   {
    "duration": 60,
    "start_time": "2023-03-28T17:41:23.032Z"
   },
   {
    "duration": 61,
    "start_time": "2023-03-28T17:43:34.818Z"
   },
   {
    "duration": 59,
    "start_time": "2023-03-28T17:43:43.475Z"
   },
   {
    "duration": 169,
    "start_time": "2023-03-28T17:48:25.938Z"
   },
   {
    "duration": 2012,
    "start_time": "2023-03-28T17:50:01.238Z"
   },
   {
    "duration": 57,
    "start_time": "2023-03-29T11:18:35.284Z"
   },
   {
    "duration": 2832,
    "start_time": "2023-03-29T11:18:40.554Z"
   },
   {
    "duration": 3346,
    "start_time": "2023-03-29T11:18:43.389Z"
   },
   {
    "duration": 78,
    "start_time": "2023-03-29T11:18:46.737Z"
   },
   {
    "duration": 79,
    "start_time": "2023-03-29T11:18:46.817Z"
   },
   {
    "duration": 60,
    "start_time": "2023-03-29T11:19:33.312Z"
   },
   {
    "duration": 2129,
    "start_time": "2023-03-29T11:32:29.877Z"
   },
   {
    "duration": 56,
    "start_time": "2023-03-29T12:35:36.360Z"
   },
   {
    "duration": 8,
    "start_time": "2023-03-29T12:35:46.981Z"
   },
   {
    "duration": 1723,
    "start_time": "2023-03-29T12:35:53.752Z"
   },
   {
    "duration": 3255,
    "start_time": "2023-03-29T12:35:55.477Z"
   },
   {
    "duration": 74,
    "start_time": "2023-03-29T12:35:58.733Z"
   },
   {
    "duration": 47,
    "start_time": "2023-03-29T12:35:58.809Z"
   },
   {
    "duration": 8566,
    "start_time": "2023-03-29T12:35:58.858Z"
   },
   {
    "duration": 52,
    "start_time": "2023-03-29T12:36:38.250Z"
   },
   {
    "duration": 1605,
    "start_time": "2023-03-29T12:37:57.114Z"
   },
   {
    "duration": 3287,
    "start_time": "2023-03-29T12:37:58.721Z"
   },
   {
    "duration": 80,
    "start_time": "2023-03-29T12:38:02.009Z"
   },
   {
    "duration": 51,
    "start_time": "2023-03-29T12:38:02.092Z"
   },
   {
    "duration": 8130,
    "start_time": "2023-03-29T12:38:02.145Z"
   },
   {
    "duration": 1645,
    "start_time": "2023-03-29T12:38:59.837Z"
   },
   {
    "duration": 3360,
    "start_time": "2023-03-29T12:39:01.484Z"
   },
   {
    "duration": 73,
    "start_time": "2023-03-29T12:39:04.846Z"
   },
   {
    "duration": 56,
    "start_time": "2023-03-29T12:39:04.922Z"
   },
   {
    "duration": 163,
    "start_time": "2023-03-29T12:39:04.979Z"
   },
   {
    "duration": 7801,
    "start_time": "2023-03-29T12:39:05.144Z"
   },
   {
    "duration": 274,
    "start_time": "2023-03-29T12:39:17.058Z"
   },
   {
    "duration": 53,
    "start_time": "2023-03-29T12:40:09.384Z"
   },
   {
    "duration": 13,
    "start_time": "2023-03-29T12:41:29.964Z"
   },
   {
    "duration": 1578,
    "start_time": "2023-03-29T12:46:42.114Z"
   },
   {
    "duration": 3291,
    "start_time": "2023-03-29T12:46:43.694Z"
   },
   {
    "duration": 73,
    "start_time": "2023-03-29T12:46:46.987Z"
   },
   {
    "duration": 55,
    "start_time": "2023-03-29T12:46:47.062Z"
   },
   {
    "duration": 167,
    "start_time": "2023-03-29T12:46:47.119Z"
   },
   {
    "duration": 7873,
    "start_time": "2023-03-29T12:46:47.288Z"
   },
   {
    "duration": 45118,
    "start_time": "2023-03-29T12:46:55.163Z"
   },
   {
    "duration": 72,
    "start_time": "2023-03-29T18:03:22.999Z"
   },
   {
    "duration": 215,
    "start_time": "2023-03-29T18:08:18.804Z"
   },
   {
    "duration": 209,
    "start_time": "2023-03-29T18:08:55.660Z"
   },
   {
    "duration": 189,
    "start_time": "2023-03-29T18:09:20.686Z"
   },
   {
    "duration": 189,
    "start_time": "2023-03-29T18:09:59.011Z"
   },
   {
    "duration": 70,
    "start_time": "2023-03-29T18:10:20.512Z"
   },
   {
    "duration": 50,
    "start_time": "2023-03-29T18:10:41.298Z"
   },
   {
    "duration": 90,
    "start_time": "2023-03-29T18:10:46.404Z"
   },
   {
    "duration": 86,
    "start_time": "2023-03-29T18:10:56.271Z"
   },
   {
    "duration": 160,
    "start_time": "2023-03-29T18:12:21.837Z"
   },
   {
    "duration": 169,
    "start_time": "2023-03-29T18:12:31.424Z"
   },
   {
    "duration": 52,
    "start_time": "2023-03-29T18:12:42.932Z"
   },
   {
    "duration": 1702,
    "start_time": "2023-03-29T18:12:55.002Z"
   },
   {
    "duration": 3374,
    "start_time": "2023-03-29T18:12:56.706Z"
   },
   {
    "duration": 74,
    "start_time": "2023-03-29T18:13:00.082Z"
   },
   {
    "duration": 142,
    "start_time": "2023-03-29T18:13:00.158Z"
   },
   {
    "duration": 207,
    "start_time": "2023-03-29T18:13:01.901Z"
   },
   {
    "duration": 821,
    "start_time": "2023-03-29T18:13:03.803Z"
   },
   {
    "duration": 11090,
    "start_time": "2023-03-29T18:13:08.096Z"
   },
   {
    "duration": 1023,
    "start_time": "2023-03-29T18:13:24.270Z"
   },
   {
    "duration": 137,
    "start_time": "2023-03-29T18:13:32.437Z"
   },
   {
    "duration": 1149,
    "start_time": "2023-03-29T18:13:47.801Z"
   },
   {
    "duration": 9,
    "start_time": "2023-03-29T18:13:50.922Z"
   },
   {
    "duration": 11104,
    "start_time": "2023-03-29T18:13:58.315Z"
   },
   {
    "duration": 3,
    "start_time": "2023-03-29T18:14:09.421Z"
   },
   {
    "duration": 8528058,
    "start_time": "2023-03-29T18:14:09.427Z"
   },
   {
    "duration": 3,
    "start_time": "2023-03-29T20:36:17.488Z"
   },
   {
    "duration": 2644,
    "start_time": "2023-03-30T07:23:44.213Z"
   },
   {
    "duration": 727,
    "start_time": "2023-03-30T07:23:46.859Z"
   },
   {
    "duration": 87,
    "start_time": "2023-03-30T07:23:47.588Z"
   },
   {
    "duration": 112,
    "start_time": "2023-03-30T07:23:47.677Z"
   },
   {
    "duration": 212,
    "start_time": "2023-03-30T07:23:52.724Z"
   },
   {
    "duration": 3264,
    "start_time": "2023-03-30T07:23:54.199Z"
   },
   {
    "duration": 4352,
    "start_time": "2023-03-30T07:25:13.886Z"
   },
   {
    "duration": 4375,
    "start_time": "2023-03-30T07:25:18.240Z"
   },
   {
    "duration": 30452,
    "start_time": "2023-03-30T07:25:28.426Z"
   },
   {
    "duration": 174,
    "start_time": "2023-03-30T07:26:04.414Z"
   },
   {
    "duration": 16,
    "start_time": "2023-03-30T07:26:16.582Z"
   },
   {
    "duration": 1034661,
    "start_time": "2023-03-30T07:28:07.228Z"
   },
   {
    "duration": 6,
    "start_time": "2023-03-30T07:45:21.891Z"
   },
   {
    "duration": 24,
    "start_time": "2023-03-30T07:45:21.899Z"
   },
   {
    "duration": 0,
    "start_time": "2023-03-30T07:45:21.925Z"
   },
   {
    "duration": 0,
    "start_time": "2023-03-30T07:45:21.926Z"
   },
   {
    "duration": 0,
    "start_time": "2023-03-30T07:45:21.927Z"
   },
   {
    "duration": 0,
    "start_time": "2023-03-30T07:45:21.928Z"
   },
   {
    "duration": 27,
    "start_time": "2023-03-30T07:46:31.567Z"
   },
   {
    "duration": 63,
    "start_time": "2023-03-30T07:46:35.408Z"
   },
   {
    "duration": 13,
    "start_time": "2023-03-30T07:47:05.416Z"
   },
   {
    "duration": 6,
    "start_time": "2023-03-30T07:47:33.481Z"
   },
   {
    "duration": 67,
    "start_time": "2023-03-30T07:47:43.370Z"
   },
   {
    "duration": 165920,
    "start_time": "2023-03-30T07:47:47.926Z"
   },
   {
    "duration": 11,
    "start_time": "2023-03-30T07:50:33.848Z"
   },
   {
    "duration": 0,
    "start_time": "2023-03-30T07:50:33.861Z"
   },
   {
    "duration": 754344,
    "start_time": "2023-03-30T07:53:18.045Z"
   },
   {
    "duration": 11,
    "start_time": "2023-03-30T08:05:52.395Z"
   },
   {
    "duration": 19,
    "start_time": "2023-03-30T08:06:30.097Z"
   },
   {
    "duration": 1148080,
    "start_time": "2023-03-30T08:06:44.801Z"
   },
   {
    "duration": 10,
    "start_time": "2023-03-30T08:25:52.889Z"
   },
   {
    "duration": 112,
    "start_time": "2023-03-30T08:25:52.901Z"
   },
   {
    "duration": 63650,
    "start_time": "2023-03-30T08:25:53.015Z"
   },
   {
    "duration": 27,
    "start_time": "2023-03-30T08:26:56.667Z"
   },
   {
    "duration": 0,
    "start_time": "2023-03-30T08:26:56.696Z"
   },
   {
    "duration": 16,
    "start_time": "2023-03-30T08:27:07.526Z"
   },
   {
    "duration": 20,
    "start_time": "2023-03-30T08:27:41.977Z"
   },
   {
    "duration": 1842094,
    "start_time": "2023-03-30T08:27:54.410Z"
   },
   {
    "duration": 1622238,
    "start_time": "2023-03-30T09:00:26.360Z"
   },
   {
    "duration": 20,
    "start_time": "2023-03-30T09:53:18.653Z"
   },
   {
    "duration": 2788,
    "start_time": "2023-03-30T09:57:26.911Z"
   },
   {
    "duration": 827,
    "start_time": "2023-03-30T09:57:29.702Z"
   },
   {
    "duration": 88,
    "start_time": "2023-03-30T09:57:30.531Z"
   },
   {
    "duration": 171,
    "start_time": "2023-03-30T09:57:30.621Z"
   },
   {
    "duration": 161,
    "start_time": "2023-03-30T09:57:30.795Z"
   },
   {
    "duration": 4704,
    "start_time": "2023-03-30T09:57:30.958Z"
   },
   {
    "duration": 5957,
    "start_time": "2023-03-30T09:57:35.665Z"
   },
   {
    "duration": 2727,
    "start_time": "2023-03-30T09:58:01.490Z"
   },
   {
    "duration": 3522,
    "start_time": "2023-03-30T09:58:04.219Z"
   },
   {
    "duration": 77,
    "start_time": "2023-03-30T09:58:07.743Z"
   },
   {
    "duration": 169,
    "start_time": "2023-03-30T09:58:07.822Z"
   },
   {
    "duration": 232,
    "start_time": "2023-03-30T09:58:07.993Z"
   },
   {
    "duration": 4314,
    "start_time": "2023-03-30T09:58:08.227Z"
   },
   {
    "duration": 5723,
    "start_time": "2023-03-30T09:58:12.543Z"
   },
   {
    "duration": 52,
    "start_time": "2023-03-30T09:58:31.417Z"
   },
   {
    "duration": 9,
    "start_time": "2023-03-30T09:58:39.696Z"
   },
   {
    "duration": 2995,
    "start_time": "2023-03-30T09:59:01.089Z"
   },
   {
    "duration": 3625,
    "start_time": "2023-03-30T09:59:05.192Z"
   },
   {
    "duration": 86,
    "start_time": "2023-03-30T09:59:09.784Z"
   },
   {
    "duration": 161,
    "start_time": "2023-03-30T09:59:12.884Z"
   },
   {
    "duration": 239,
    "start_time": "2023-03-30T09:59:14.928Z"
   },
   {
    "duration": 4291,
    "start_time": "2023-03-30T09:59:19.725Z"
   },
   {
    "duration": 5624,
    "start_time": "2023-03-30T09:59:26.670Z"
   },
   {
    "duration": 2813,
    "start_time": "2023-03-30T10:00:18.758Z"
   },
   {
    "duration": 3538,
    "start_time": "2023-03-30T10:00:21.580Z"
   },
   {
    "duration": 79,
    "start_time": "2023-03-30T10:00:25.120Z"
   },
   {
    "duration": 177,
    "start_time": "2023-03-30T10:00:25.202Z"
   },
   {
    "duration": 215,
    "start_time": "2023-03-30T10:00:25.384Z"
   },
   {
    "duration": 4566,
    "start_time": "2023-03-30T10:00:25.600Z"
   },
   {
    "duration": 5765,
    "start_time": "2023-03-30T10:00:30.168Z"
   },
   {
    "duration": 1564,
    "start_time": "2023-03-30T10:00:35.935Z"
   },
   {
    "duration": 191,
    "start_time": "2023-03-30T10:00:57.693Z"
   },
   {
    "duration": 7,
    "start_time": "2023-03-30T10:00:58.391Z"
   },
   {
    "duration": 51,
    "start_time": "2023-03-30T10:01:00.615Z"
   },
   {
    "duration": 0,
    "start_time": "2023-03-30T10:01:00.668Z"
   },
   {
    "duration": 2757,
    "start_time": "2023-03-30T10:01:26.363Z"
   },
   {
    "duration": 3509,
    "start_time": "2023-03-30T10:01:29.123Z"
   },
   {
    "duration": 75,
    "start_time": "2023-03-30T10:01:32.634Z"
   },
   {
    "duration": 183,
    "start_time": "2023-03-30T10:01:32.711Z"
   },
   {
    "duration": 215,
    "start_time": "2023-03-30T10:01:32.895Z"
   },
   {
    "duration": 3718,
    "start_time": "2023-03-30T10:01:33.112Z"
   },
   {
    "duration": 4687,
    "start_time": "2023-03-30T10:01:36.832Z"
   },
   {
    "duration": 1670,
    "start_time": "2023-03-30T10:01:43.965Z"
   },
   {
    "duration": 1721737,
    "start_time": "2023-03-30T10:01:49.591Z"
   },
   {
    "duration": 63,
    "start_time": "2023-03-30T10:30:31.330Z"
   },
   {
    "duration": 868157,
    "start_time": "2023-03-30T10:30:31.403Z"
   },
   {
    "duration": 3,
    "start_time": "2023-03-30T10:44:59.562Z"
   },
   {
    "duration": 37,
    "start_time": "2023-03-30T10:44:59.567Z"
   },
   {
    "duration": 1266437,
    "start_time": "2023-03-30T10:44:59.607Z"
   },
   {
    "duration": 4,
    "start_time": "2023-03-30T11:06:06.046Z"
   },
   {
    "duration": 153,
    "start_time": "2023-03-30T11:06:06.052Z"
   },
   {
    "duration": 2923,
    "start_time": "2023-03-30T15:17:36.435Z"
   },
   {
    "duration": 3540,
    "start_time": "2023-03-30T15:17:39.360Z"
   },
   {
    "duration": 84,
    "start_time": "2023-03-30T15:17:42.901Z"
   },
   {
    "duration": 214,
    "start_time": "2023-03-30T15:17:42.988Z"
   },
   {
    "duration": 186,
    "start_time": "2023-03-30T15:17:43.204Z"
   },
   {
    "duration": 3838,
    "start_time": "2023-03-30T15:17:43.392Z"
   },
   {
    "duration": 4787,
    "start_time": "2023-03-30T15:17:47.232Z"
   },
   {
    "duration": 1634,
    "start_time": "2023-03-30T15:17:52.020Z"
   },
   {
    "duration": 402903,
    "start_time": "2023-03-30T15:17:53.656Z"
   },
   {
    "duration": 18,
    "start_time": "2023-03-30T15:24:36.562Z"
   },
   {
    "duration": 0,
    "start_time": "2023-03-30T15:24:36.582Z"
   },
   {
    "duration": 4,
    "start_time": "2023-03-30T15:24:51.850Z"
   },
   {
    "duration": 1672369,
    "start_time": "2023-03-30T15:25:09.534Z"
   },
   {
    "duration": 22,
    "start_time": "2023-03-30T15:58:52.901Z"
   },
   {
    "duration": 32,
    "start_time": "2023-03-30T15:59:14.490Z"
   },
   {
    "duration": 225,
    "start_time": "2023-03-30T15:59:20.268Z"
   },
   {
    "duration": 60,
    "start_time": "2023-03-30T16:01:18.294Z"
   },
   {
    "duration": 1981,
    "start_time": "2023-03-30T16:02:21.816Z"
   },
   {
    "duration": 4146,
    "start_time": "2023-03-30T16:02:23.800Z"
   },
   {
    "duration": 175,
    "start_time": "2023-03-30T16:02:27.948Z"
   },
   {
    "duration": 255,
    "start_time": "2023-03-30T16:02:28.126Z"
   },
   {
    "duration": 180,
    "start_time": "2023-03-30T16:02:28.384Z"
   },
   {
    "duration": 3894,
    "start_time": "2023-03-30T16:02:28.567Z"
   },
   {
    "duration": 5580,
    "start_time": "2023-03-30T16:02:32.464Z"
   },
   {
    "duration": 1765,
    "start_time": "2023-03-30T16:02:38.046Z"
   },
   {
    "duration": 1643402,
    "start_time": "2023-03-30T16:02:39.813Z"
   },
   {
    "duration": 19,
    "start_time": "2023-03-30T16:30:03.219Z"
   },
   {
    "duration": 258,
    "start_time": "2023-03-30T16:30:03.240Z"
   },
   {
    "duration": 23,
    "start_time": "2023-03-30T16:30:03.504Z"
   },
   {
    "duration": 242,
    "start_time": "2023-03-30T16:31:30.165Z"
   },
   {
    "duration": 19,
    "start_time": "2023-03-30T16:31:42.201Z"
   },
   {
    "duration": 19,
    "start_time": "2023-03-30T16:31:45.723Z"
   },
   {
    "duration": 31,
    "start_time": "2023-03-30T16:31:49.659Z"
   },
   {
    "duration": 26,
    "start_time": "2023-03-30T16:31:54.072Z"
   },
   {
    "duration": 1773,
    "start_time": "2023-04-01T08:16:25.565Z"
   },
   {
    "duration": 3643,
    "start_time": "2023-04-01T08:16:27.340Z"
   },
   {
    "duration": 124,
    "start_time": "2023-04-01T08:16:30.985Z"
   },
   {
    "duration": 172,
    "start_time": "2023-04-01T08:16:31.110Z"
   },
   {
    "duration": 68,
    "start_time": "2023-04-01T08:16:38.687Z"
   },
   {
    "duration": 132,
    "start_time": "2023-04-01T08:17:10.438Z"
   },
   {
    "duration": 64,
    "start_time": "2023-04-01T08:17:31.483Z"
   },
   {
    "duration": 97,
    "start_time": "2023-04-01T08:17:40.814Z"
   },
   {
    "duration": 110,
    "start_time": "2023-04-01T08:17:45.858Z"
   },
   {
    "duration": 111,
    "start_time": "2023-04-01T08:17:49.946Z"
   },
   {
    "duration": 2746,
    "start_time": "2023-04-01T08:21:22.158Z"
   },
   {
    "duration": 3988,
    "start_time": "2023-04-01T08:21:36.535Z"
   },
   {
    "duration": 1391,
    "start_time": "2023-04-01T08:21:40.525Z"
   },
   {
    "duration": 1476,
    "start_time": "2023-04-01T08:21:49.298Z"
   },
   {
    "duration": 107,
    "start_time": "2023-04-01T08:22:27.675Z"
   },
   {
    "duration": 1366,
    "start_time": "2023-04-01T08:22:36.706Z"
   },
   {
    "duration": 3849,
    "start_time": "2023-04-01T08:22:41.061Z"
   },
   {
    "duration": 1648,
    "start_time": "2023-04-01T08:22:50.891Z"
   },
   {
    "duration": 2141,
    "start_time": "2023-04-01T08:23:08.888Z"
   },
   {
    "duration": 5,
    "start_time": "2023-04-01T08:23:11.031Z"
   },
   {
    "duration": 729,
    "start_time": "2023-04-01T08:23:11.037Z"
   },
   {
    "duration": 80,
    "start_time": "2023-04-01T08:23:11.767Z"
   },
   {
    "duration": 124,
    "start_time": "2023-04-01T08:23:11.849Z"
   },
   {
    "duration": 216,
    "start_time": "2023-04-01T08:23:11.975Z"
   },
   {
    "duration": 2609,
    "start_time": "2023-04-01T08:23:12.193Z"
   },
   {
    "duration": 1413,
    "start_time": "2023-04-01T08:23:20.957Z"
   },
   {
    "duration": 2612,
    "start_time": "2023-05-27T10:23:25.841Z"
   },
   {
    "duration": 1813,
    "start_time": "2023-05-27T10:23:28.455Z"
   },
   {
    "duration": 217,
    "start_time": "2023-05-27T10:23:30.269Z"
   },
   {
    "duration": 2197,
    "start_time": "2023-05-27T10:23:30.488Z"
   },
   {
    "duration": 68,
    "start_time": "2023-05-27T10:23:32.687Z"
   },
   {
    "duration": 933080,
    "start_time": "2023-05-27T10:23:32.757Z"
   },
   {
    "duration": 103,
    "start_time": "2023-05-27T10:39:05.839Z"
   },
   {
    "duration": 2626,
    "start_time": "2023-05-27T10:39:05.944Z"
   },
   {
    "duration": 1473,
    "start_time": "2023-05-27T10:39:08.572Z"
   }
  ],
  "accelerator": "GPU",
  "colab": {
   "gpuType": "T4",
   "provenance": []
  },
  "hide_input": false,
  "kernelspec": {
   "display_name": "Python 3 (ipykernel)",
   "language": "python",
   "name": "python3"
  },
  "language_info": {
   "codemirror_mode": {
    "name": "ipython",
    "version": 3
   },
   "file_extension": ".py",
   "mimetype": "text/x-python",
   "name": "python",
   "nbconvert_exporter": "python",
   "pygments_lexer": "ipython3",
   "version": "3.9.12"
  },
  "toc": {
   "base_numbering": 1,
   "nav_menu": {
    "height": "146.989px",
    "width": "224.986px"
   },
   "number_sections": true,
   "sideBar": true,
   "skip_h1_title": true,
   "title_cell": "Содержание",
   "title_sidebar": "Contents",
   "toc_cell": true,
   "toc_position": {
    "height": "calc(100% - 180px)",
    "left": "10px",
    "top": "150px",
    "width": "302.386px"
   },
   "toc_section_display": true,
   "toc_window_display": true
  }
 },
 "nbformat": 4,
 "nbformat_minor": 1
}
