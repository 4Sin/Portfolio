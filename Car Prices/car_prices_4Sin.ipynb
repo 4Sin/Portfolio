{
  "cells": [
    {
      "cell_type": "markdown",
      "metadata": {
        "id": "tjHnaUMpHnst"
      },
      "source": [
        "# Определение стоимости автомобилей"
      ]
    },
    {
      "cell_type": "markdown",
      "metadata": {
        "id": "gL1gaWkIHnst"
      },
      "source": [
        "Сервис по продаже автомобилей с пробегом «Не бит, не крашен» разрабатывает приложение для привлечения новых клиентов. В нём можно быстро узнать рыночную стоимость своего автомобиля. В вашем распоряжении исторические данные: технические характеристики, комплектации и цены автомобилей. Вам нужно построить модель для определения стоимости. \n",
        "\n",
        "Заказчику важны:\n",
        "\n",
        "- качество предсказания;\n",
        "- скорость предсказания;\n",
        "- время обучения."
      ]
    },
    {
      "cell_type": "markdown",
      "metadata": {
        "id": "TJxH2ojBHnsu"
      },
      "source": [
        "## Подготовка данных"
      ]
    },
    {
      "cell_type": "markdown",
      "metadata": {
        "id": "XKM3f8mBHnsu"
      },
      "source": [
        "### Загрузка библиотек и данных "
      ]
    },
    {
      "cell_type": "code",
      "execution_count": 2,
      "metadata": {
        "colab": {
          "base_uri": "https://localhost:8080/"
        },
        "id": "cxzM1ueMHnsv",
        "outputId": "42781790-4eb3-40b6-e428-747fc328ad9b"
      },
      "outputs": [
        {
          "output_type": "stream",
          "name": "stdout",
          "text": [
            "Looking in indexes: https://pypi.org/simple, https://us-python.pkg.dev/colab-wheels/public/simple/\n",
            "Requirement already satisfied: scikit-learn in /usr/local/lib/python3.10/dist-packages (1.2.2)\n",
            "Requirement already satisfied: numpy>=1.17.3 in /usr/local/lib/python3.10/dist-packages (from scikit-learn) (1.22.4)\n",
            "Requirement already satisfied: scipy>=1.3.2 in /usr/local/lib/python3.10/dist-packages (from scikit-learn) (1.10.1)\n",
            "Requirement already satisfied: joblib>=1.1.1 in /usr/local/lib/python3.10/dist-packages (from scikit-learn) (1.2.0)\n",
            "Requirement already satisfied: threadpoolctl>=2.0.0 in /usr/local/lib/python3.10/dist-packages (from scikit-learn) (3.1.0)\n"
          ]
        }
      ],
      "source": [
        "pip install -U scikit-learn"
      ]
    },
    {
      "cell_type": "code",
      "execution_count": 3,
      "metadata": {
        "colab": {
          "base_uri": "https://localhost:8080/"
        },
        "id": "o_x9DQFBHnsw",
        "outputId": "a95f3732-3193-4ced-d2e1-8d302d383c44"
      },
      "outputs": [
        {
          "output_type": "stream",
          "name": "stdout",
          "text": [
            "Looking in indexes: https://pypi.org/simple, https://us-python.pkg.dev/colab-wheels/public/simple/\n",
            "Requirement already satisfied: lightgbm in /usr/local/lib/python3.10/dist-packages (3.3.5)\n",
            "Requirement already satisfied: wheel in /usr/local/lib/python3.10/dist-packages (from lightgbm) (0.40.0)\n",
            "Requirement already satisfied: numpy in /usr/local/lib/python3.10/dist-packages (from lightgbm) (1.22.4)\n",
            "Requirement already satisfied: scipy in /usr/local/lib/python3.10/dist-packages (from lightgbm) (1.10.1)\n",
            "Requirement already satisfied: scikit-learn!=0.22.0 in /usr/local/lib/python3.10/dist-packages (from lightgbm) (1.2.2)\n",
            "Requirement already satisfied: joblib>=1.1.1 in /usr/local/lib/python3.10/dist-packages (from scikit-learn!=0.22.0->lightgbm) (1.2.0)\n",
            "Requirement already satisfied: threadpoolctl>=2.0.0 in /usr/local/lib/python3.10/dist-packages (from scikit-learn!=0.22.0->lightgbm) (3.1.0)\n"
          ]
        }
      ],
      "source": [
        "pip install lightgbm"
      ]
    },
    {
      "cell_type": "code",
      "source": [
        "pip install catboost"
      ],
      "metadata": {
        "colab": {
          "base_uri": "https://localhost:8080/"
        },
        "id": "B6g0DBw9I5hU",
        "outputId": "f11344fb-6595-40cc-b2ec-d47cb34708d1"
      },
      "execution_count": 7,
      "outputs": [
        {
          "output_type": "stream",
          "name": "stdout",
          "text": [
            "Looking in indexes: https://pypi.org/simple, https://us-python.pkg.dev/colab-wheels/public/simple/\n",
            "Collecting catboost\n",
            "  Downloading catboost-1.2-cp310-cp310-manylinux2014_x86_64.whl (98.6 MB)\n",
            "\u001b[2K     \u001b[90m━━━━━━━━━━━━━━━━━━━━━━━━━━━━━━━━━━━━━━━━\u001b[0m \u001b[32m98.6/98.6 MB\u001b[0m \u001b[31m8.2 MB/s\u001b[0m eta \u001b[36m0:00:00\u001b[0m\n",
            "\u001b[?25hRequirement already satisfied: graphviz in /usr/local/lib/python3.10/dist-packages (from catboost) (0.20.1)\n",
            "Requirement already satisfied: matplotlib in /usr/local/lib/python3.10/dist-packages (from catboost) (3.7.1)\n",
            "Requirement already satisfied: numpy>=1.16.0 in /usr/local/lib/python3.10/dist-packages (from catboost) (1.22.4)\n",
            "Requirement already satisfied: pandas>=0.24 in /usr/local/lib/python3.10/dist-packages (from catboost) (1.5.3)\n",
            "Requirement already satisfied: scipy in /usr/local/lib/python3.10/dist-packages (from catboost) (1.10.1)\n",
            "Requirement already satisfied: plotly in /usr/local/lib/python3.10/dist-packages (from catboost) (5.13.1)\n",
            "Requirement already satisfied: six in /usr/local/lib/python3.10/dist-packages (from catboost) (1.16.0)\n",
            "Requirement already satisfied: python-dateutil>=2.8.1 in /usr/local/lib/python3.10/dist-packages (from pandas>=0.24->catboost) (2.8.2)\n",
            "Requirement already satisfied: pytz>=2020.1 in /usr/local/lib/python3.10/dist-packages (from pandas>=0.24->catboost) (2022.7.1)\n",
            "Requirement already satisfied: contourpy>=1.0.1 in /usr/local/lib/python3.10/dist-packages (from matplotlib->catboost) (1.0.7)\n",
            "Requirement already satisfied: cycler>=0.10 in /usr/local/lib/python3.10/dist-packages (from matplotlib->catboost) (0.11.0)\n",
            "Requirement already satisfied: fonttools>=4.22.0 in /usr/local/lib/python3.10/dist-packages (from matplotlib->catboost) (4.39.3)\n",
            "Requirement already satisfied: kiwisolver>=1.0.1 in /usr/local/lib/python3.10/dist-packages (from matplotlib->catboost) (1.4.4)\n",
            "Requirement already satisfied: packaging>=20.0 in /usr/local/lib/python3.10/dist-packages (from matplotlib->catboost) (23.1)\n",
            "Requirement already satisfied: pillow>=6.2.0 in /usr/local/lib/python3.10/dist-packages (from matplotlib->catboost) (8.4.0)\n",
            "Requirement already satisfied: pyparsing>=2.3.1 in /usr/local/lib/python3.10/dist-packages (from matplotlib->catboost) (3.0.9)\n",
            "Requirement already satisfied: tenacity>=6.2.0 in /usr/local/lib/python3.10/dist-packages (from plotly->catboost) (8.2.2)\n",
            "Installing collected packages: catboost\n",
            "Successfully installed catboost-1.2\n"
          ]
        }
      ]
    },
    {
      "cell_type": "code",
      "source": [
        "import warnings\n",
        "import io\n",
        "from matplotlib import pyplot as plt\n",
        "import numpy as np\n",
        "import pandas as pd\n",
        "import seaborn as sns\n",
        "\n",
        "from sklearn.linear_model import LinearRegression\n",
        "from sklearn.tree import DecisionTreeRegressor\n",
        "from sklearn.model_selection import train_test_split, GridSearchCV\n",
        "from sklearn.metrics import mean_squared_error\n",
        "from sklearn.preprocessing import OrdinalEncoder, StandardScaler, OneHotEncoder\n",
        "from sklearn.compose import make_column_transformer\n",
        "\n",
        "import lightgbm as lgb\n",
        "from lightgbm import LGBMRegressor\n",
        "from catboost import CatBoostRegressor, Pool\n",
        "\n",
        "warnings.simplefilter(\"ignore\")"
      ],
      "metadata": {
        "id": "QfbF0wBzIYPk"
      },
      "execution_count": 8,
      "outputs": []
    },
    {
      "cell_type": "code",
      "execution_count": 9,
      "metadata": {
        "colab": {
          "base_uri": "https://localhost:8080/",
          "height": 73
        },
        "id": "LfN2txUqHnsx",
        "outputId": "462bf1e7-92b9-43d6-d6ff-3f47718db539"
      },
      "outputs": [
        {
          "output_type": "display_data",
          "data": {
            "text/plain": [
              "<IPython.core.display.HTML object>"
            ],
            "text/html": [
              "\n",
              "     <input type=\"file\" id=\"files-238adf9c-57a3-48b1-a04c-c2165e0cd26e\" name=\"files[]\" multiple disabled\n",
              "        style=\"border:none\" />\n",
              "     <output id=\"result-238adf9c-57a3-48b1-a04c-c2165e0cd26e\">\n",
              "      Upload widget is only available when the cell has been executed in the\n",
              "      current browser session. Please rerun this cell to enable.\n",
              "      </output>\n",
              "      <script>// Copyright 2017 Google LLC\n",
              "//\n",
              "// Licensed under the Apache License, Version 2.0 (the \"License\");\n",
              "// you may not use this file except in compliance with the License.\n",
              "// You may obtain a copy of the License at\n",
              "//\n",
              "//      http://www.apache.org/licenses/LICENSE-2.0\n",
              "//\n",
              "// Unless required by applicable law or agreed to in writing, software\n",
              "// distributed under the License is distributed on an \"AS IS\" BASIS,\n",
              "// WITHOUT WARRANTIES OR CONDITIONS OF ANY KIND, either express or implied.\n",
              "// See the License for the specific language governing permissions and\n",
              "// limitations under the License.\n",
              "\n",
              "/**\n",
              " * @fileoverview Helpers for google.colab Python module.\n",
              " */\n",
              "(function(scope) {\n",
              "function span(text, styleAttributes = {}) {\n",
              "  const element = document.createElement('span');\n",
              "  element.textContent = text;\n",
              "  for (const key of Object.keys(styleAttributes)) {\n",
              "    element.style[key] = styleAttributes[key];\n",
              "  }\n",
              "  return element;\n",
              "}\n",
              "\n",
              "// Max number of bytes which will be uploaded at a time.\n",
              "const MAX_PAYLOAD_SIZE = 100 * 1024;\n",
              "\n",
              "function _uploadFiles(inputId, outputId) {\n",
              "  const steps = uploadFilesStep(inputId, outputId);\n",
              "  const outputElement = document.getElementById(outputId);\n",
              "  // Cache steps on the outputElement to make it available for the next call\n",
              "  // to uploadFilesContinue from Python.\n",
              "  outputElement.steps = steps;\n",
              "\n",
              "  return _uploadFilesContinue(outputId);\n",
              "}\n",
              "\n",
              "// This is roughly an async generator (not supported in the browser yet),\n",
              "// where there are multiple asynchronous steps and the Python side is going\n",
              "// to poll for completion of each step.\n",
              "// This uses a Promise to block the python side on completion of each step,\n",
              "// then passes the result of the previous step as the input to the next step.\n",
              "function _uploadFilesContinue(outputId) {\n",
              "  const outputElement = document.getElementById(outputId);\n",
              "  const steps = outputElement.steps;\n",
              "\n",
              "  const next = steps.next(outputElement.lastPromiseValue);\n",
              "  return Promise.resolve(next.value.promise).then((value) => {\n",
              "    // Cache the last promise value to make it available to the next\n",
              "    // step of the generator.\n",
              "    outputElement.lastPromiseValue = value;\n",
              "    return next.value.response;\n",
              "  });\n",
              "}\n",
              "\n",
              "/**\n",
              " * Generator function which is called between each async step of the upload\n",
              " * process.\n",
              " * @param {string} inputId Element ID of the input file picker element.\n",
              " * @param {string} outputId Element ID of the output display.\n",
              " * @return {!Iterable<!Object>} Iterable of next steps.\n",
              " */\n",
              "function* uploadFilesStep(inputId, outputId) {\n",
              "  const inputElement = document.getElementById(inputId);\n",
              "  inputElement.disabled = false;\n",
              "\n",
              "  const outputElement = document.getElementById(outputId);\n",
              "  outputElement.innerHTML = '';\n",
              "\n",
              "  const pickedPromise = new Promise((resolve) => {\n",
              "    inputElement.addEventListener('change', (e) => {\n",
              "      resolve(e.target.files);\n",
              "    });\n",
              "  });\n",
              "\n",
              "  const cancel = document.createElement('button');\n",
              "  inputElement.parentElement.appendChild(cancel);\n",
              "  cancel.textContent = 'Cancel upload';\n",
              "  const cancelPromise = new Promise((resolve) => {\n",
              "    cancel.onclick = () => {\n",
              "      resolve(null);\n",
              "    };\n",
              "  });\n",
              "\n",
              "  // Wait for the user to pick the files.\n",
              "  const files = yield {\n",
              "    promise: Promise.race([pickedPromise, cancelPromise]),\n",
              "    response: {\n",
              "      action: 'starting',\n",
              "    }\n",
              "  };\n",
              "\n",
              "  cancel.remove();\n",
              "\n",
              "  // Disable the input element since further picks are not allowed.\n",
              "  inputElement.disabled = true;\n",
              "\n",
              "  if (!files) {\n",
              "    return {\n",
              "      response: {\n",
              "        action: 'complete',\n",
              "      }\n",
              "    };\n",
              "  }\n",
              "\n",
              "  for (const file of files) {\n",
              "    const li = document.createElement('li');\n",
              "    li.append(span(file.name, {fontWeight: 'bold'}));\n",
              "    li.append(span(\n",
              "        `(${file.type || 'n/a'}) - ${file.size} bytes, ` +\n",
              "        `last modified: ${\n",
              "            file.lastModifiedDate ? file.lastModifiedDate.toLocaleDateString() :\n",
              "                                    'n/a'} - `));\n",
              "    const percent = span('0% done');\n",
              "    li.appendChild(percent);\n",
              "\n",
              "    outputElement.appendChild(li);\n",
              "\n",
              "    const fileDataPromise = new Promise((resolve) => {\n",
              "      const reader = new FileReader();\n",
              "      reader.onload = (e) => {\n",
              "        resolve(e.target.result);\n",
              "      };\n",
              "      reader.readAsArrayBuffer(file);\n",
              "    });\n",
              "    // Wait for the data to be ready.\n",
              "    let fileData = yield {\n",
              "      promise: fileDataPromise,\n",
              "      response: {\n",
              "        action: 'continue',\n",
              "      }\n",
              "    };\n",
              "\n",
              "    // Use a chunked sending to avoid message size limits. See b/62115660.\n",
              "    let position = 0;\n",
              "    do {\n",
              "      const length = Math.min(fileData.byteLength - position, MAX_PAYLOAD_SIZE);\n",
              "      const chunk = new Uint8Array(fileData, position, length);\n",
              "      position += length;\n",
              "\n",
              "      const base64 = btoa(String.fromCharCode.apply(null, chunk));\n",
              "      yield {\n",
              "        response: {\n",
              "          action: 'append',\n",
              "          file: file.name,\n",
              "          data: base64,\n",
              "        },\n",
              "      };\n",
              "\n",
              "      let percentDone = fileData.byteLength === 0 ?\n",
              "          100 :\n",
              "          Math.round((position / fileData.byteLength) * 100);\n",
              "      percent.textContent = `${percentDone}% done`;\n",
              "\n",
              "    } while (position < fileData.byteLength);\n",
              "  }\n",
              "\n",
              "  // All done.\n",
              "  yield {\n",
              "    response: {\n",
              "      action: 'complete',\n",
              "    }\n",
              "  };\n",
              "}\n",
              "\n",
              "scope.google = scope.google || {};\n",
              "scope.google.colab = scope.google.colab || {};\n",
              "scope.google.colab._files = {\n",
              "  _uploadFiles,\n",
              "  _uploadFilesContinue,\n",
              "};\n",
              "})(self);\n",
              "</script> "
            ]
          },
          "metadata": {}
        },
        {
          "output_type": "stream",
          "name": "stdout",
          "text": [
            "Saving autos.csv to autos.csv\n"
          ]
        }
      ],
      "source": [
        "try:\n",
        "    data = pd.read_csv('autos.csv')\n",
        "    \n",
        "except:\n",
        "    from google.colab import files\n",
        "    uploaded = files.upload()\n",
        "    data = pd.read_csv(io.BytesIO(uploaded['autos.csv']))\n",
        "    "
      ]
    },
    {
      "cell_type": "markdown",
      "metadata": {
        "id": "RA91kpuQHnsy"
      },
      "source": [
        "### Изучение данных, обработка аномалий."
      ]
    },
    {
      "cell_type": "code",
      "execution_count": 10,
      "metadata": {
        "scrolled": true,
        "colab": {
          "base_uri": "https://localhost:8080/",
          "height": 1000
        },
        "id": "HEpcBJ5yHnsy",
        "outputId": "f4dbeb4b-9668-4037-fda9-d405fdaa8f89"
      },
      "outputs": [
        {
          "output_type": "stream",
          "name": "stdout",
          "text": [
            "<class 'pandas.core.frame.DataFrame'>\n",
            "RangeIndex: 354369 entries, 0 to 354368\n",
            "Data columns (total 16 columns):\n",
            " #   Column             Non-Null Count   Dtype \n",
            "---  ------             --------------   ----- \n",
            " 0   DateCrawled        354369 non-null  object\n",
            " 1   Price              354369 non-null  int64 \n",
            " 2   VehicleType        316879 non-null  object\n",
            " 3   RegistrationYear   354369 non-null  int64 \n",
            " 4   Gearbox            334536 non-null  object\n",
            " 5   Power              354369 non-null  int64 \n",
            " 6   Model              334664 non-null  object\n",
            " 7   Kilometer          354369 non-null  int64 \n",
            " 8   RegistrationMonth  354369 non-null  int64 \n",
            " 9   FuelType           321474 non-null  object\n",
            " 10  Brand              354369 non-null  object\n",
            " 11  Repaired           283215 non-null  object\n",
            " 12  DateCreated        354369 non-null  object\n",
            " 13  NumberOfPictures   354369 non-null  int64 \n",
            " 14  PostalCode         354369 non-null  int64 \n",
            " 15  LastSeen           354369 non-null  object\n",
            "dtypes: int64(7), object(9)\n",
            "memory usage: 43.3+ MB\n",
            "None\n"
          ]
        },
        {
          "output_type": "display_data",
          "data": {
            "text/plain": [
              "           DateCrawled  Price VehicleType  RegistrationYear Gearbox  Power  \\\n",
              "0  2016-03-24 11:52:17    480         NaN              1993  manual      0   \n",
              "1  2016-03-24 10:58:45  18300       coupe              2011  manual    190   \n",
              "2  2016-03-14 12:52:21   9800         suv              2004    auto    163   \n",
              "3  2016-03-17 16:54:04   1500       small              2001  manual     75   \n",
              "4  2016-03-31 17:25:20   3600       small              2008  manual     69   \n",
              "\n",
              "   Model  Kilometer  RegistrationMonth  FuelType       Brand Repaired  \\\n",
              "0   golf     150000                  0    petrol  volkswagen      NaN   \n",
              "1    NaN     125000                  5  gasoline        audi      yes   \n",
              "2  grand     125000                  8  gasoline        jeep      NaN   \n",
              "3   golf     150000                  6    petrol  volkswagen       no   \n",
              "4  fabia      90000                  7  gasoline       skoda       no   \n",
              "\n",
              "           DateCreated  NumberOfPictures  PostalCode             LastSeen  \n",
              "0  2016-03-24 00:00:00                 0       70435  2016-04-07 03:16:57  \n",
              "1  2016-03-24 00:00:00                 0       66954  2016-04-07 01:46:50  \n",
              "2  2016-03-14 00:00:00                 0       90480  2016-04-05 12:47:46  \n",
              "3  2016-03-17 00:00:00                 0       91074  2016-03-17 17:40:17  \n",
              "4  2016-03-31 00:00:00                 0       60437  2016-04-06 10:17:21  "
            ],
            "text/html": [
              "\n",
              "  <div id=\"df-ef5ef777-81f7-4497-a166-066de5a457bb\">\n",
              "    <div class=\"colab-df-container\">\n",
              "      <div>\n",
              "<style scoped>\n",
              "    .dataframe tbody tr th:only-of-type {\n",
              "        vertical-align: middle;\n",
              "    }\n",
              "\n",
              "    .dataframe tbody tr th {\n",
              "        vertical-align: top;\n",
              "    }\n",
              "\n",
              "    .dataframe thead th {\n",
              "        text-align: right;\n",
              "    }\n",
              "</style>\n",
              "<table border=\"1\" class=\"dataframe\">\n",
              "  <thead>\n",
              "    <tr style=\"text-align: right;\">\n",
              "      <th></th>\n",
              "      <th>DateCrawled</th>\n",
              "      <th>Price</th>\n",
              "      <th>VehicleType</th>\n",
              "      <th>RegistrationYear</th>\n",
              "      <th>Gearbox</th>\n",
              "      <th>Power</th>\n",
              "      <th>Model</th>\n",
              "      <th>Kilometer</th>\n",
              "      <th>RegistrationMonth</th>\n",
              "      <th>FuelType</th>\n",
              "      <th>Brand</th>\n",
              "      <th>Repaired</th>\n",
              "      <th>DateCreated</th>\n",
              "      <th>NumberOfPictures</th>\n",
              "      <th>PostalCode</th>\n",
              "      <th>LastSeen</th>\n",
              "    </tr>\n",
              "  </thead>\n",
              "  <tbody>\n",
              "    <tr>\n",
              "      <th>0</th>\n",
              "      <td>2016-03-24 11:52:17</td>\n",
              "      <td>480</td>\n",
              "      <td>NaN</td>\n",
              "      <td>1993</td>\n",
              "      <td>manual</td>\n",
              "      <td>0</td>\n",
              "      <td>golf</td>\n",
              "      <td>150000</td>\n",
              "      <td>0</td>\n",
              "      <td>petrol</td>\n",
              "      <td>volkswagen</td>\n",
              "      <td>NaN</td>\n",
              "      <td>2016-03-24 00:00:00</td>\n",
              "      <td>0</td>\n",
              "      <td>70435</td>\n",
              "      <td>2016-04-07 03:16:57</td>\n",
              "    </tr>\n",
              "    <tr>\n",
              "      <th>1</th>\n",
              "      <td>2016-03-24 10:58:45</td>\n",
              "      <td>18300</td>\n",
              "      <td>coupe</td>\n",
              "      <td>2011</td>\n",
              "      <td>manual</td>\n",
              "      <td>190</td>\n",
              "      <td>NaN</td>\n",
              "      <td>125000</td>\n",
              "      <td>5</td>\n",
              "      <td>gasoline</td>\n",
              "      <td>audi</td>\n",
              "      <td>yes</td>\n",
              "      <td>2016-03-24 00:00:00</td>\n",
              "      <td>0</td>\n",
              "      <td>66954</td>\n",
              "      <td>2016-04-07 01:46:50</td>\n",
              "    </tr>\n",
              "    <tr>\n",
              "      <th>2</th>\n",
              "      <td>2016-03-14 12:52:21</td>\n",
              "      <td>9800</td>\n",
              "      <td>suv</td>\n",
              "      <td>2004</td>\n",
              "      <td>auto</td>\n",
              "      <td>163</td>\n",
              "      <td>grand</td>\n",
              "      <td>125000</td>\n",
              "      <td>8</td>\n",
              "      <td>gasoline</td>\n",
              "      <td>jeep</td>\n",
              "      <td>NaN</td>\n",
              "      <td>2016-03-14 00:00:00</td>\n",
              "      <td>0</td>\n",
              "      <td>90480</td>\n",
              "      <td>2016-04-05 12:47:46</td>\n",
              "    </tr>\n",
              "    <tr>\n",
              "      <th>3</th>\n",
              "      <td>2016-03-17 16:54:04</td>\n",
              "      <td>1500</td>\n",
              "      <td>small</td>\n",
              "      <td>2001</td>\n",
              "      <td>manual</td>\n",
              "      <td>75</td>\n",
              "      <td>golf</td>\n",
              "      <td>150000</td>\n",
              "      <td>6</td>\n",
              "      <td>petrol</td>\n",
              "      <td>volkswagen</td>\n",
              "      <td>no</td>\n",
              "      <td>2016-03-17 00:00:00</td>\n",
              "      <td>0</td>\n",
              "      <td>91074</td>\n",
              "      <td>2016-03-17 17:40:17</td>\n",
              "    </tr>\n",
              "    <tr>\n",
              "      <th>4</th>\n",
              "      <td>2016-03-31 17:25:20</td>\n",
              "      <td>3600</td>\n",
              "      <td>small</td>\n",
              "      <td>2008</td>\n",
              "      <td>manual</td>\n",
              "      <td>69</td>\n",
              "      <td>fabia</td>\n",
              "      <td>90000</td>\n",
              "      <td>7</td>\n",
              "      <td>gasoline</td>\n",
              "      <td>skoda</td>\n",
              "      <td>no</td>\n",
              "      <td>2016-03-31 00:00:00</td>\n",
              "      <td>0</td>\n",
              "      <td>60437</td>\n",
              "      <td>2016-04-06 10:17:21</td>\n",
              "    </tr>\n",
              "  </tbody>\n",
              "</table>\n",
              "</div>\n",
              "      <button class=\"colab-df-convert\" onclick=\"convertToInteractive('df-ef5ef777-81f7-4497-a166-066de5a457bb')\"\n",
              "              title=\"Convert this dataframe to an interactive table.\"\n",
              "              style=\"display:none;\">\n",
              "        \n",
              "  <svg xmlns=\"http://www.w3.org/2000/svg\" height=\"24px\"viewBox=\"0 0 24 24\"\n",
              "       width=\"24px\">\n",
              "    <path d=\"M0 0h24v24H0V0z\" fill=\"none\"/>\n",
              "    <path d=\"M18.56 5.44l.94 2.06.94-2.06 2.06-.94-2.06-.94-.94-2.06-.94 2.06-2.06.94zm-11 1L8.5 8.5l.94-2.06 2.06-.94-2.06-.94L8.5 2.5l-.94 2.06-2.06.94zm10 10l.94 2.06.94-2.06 2.06-.94-2.06-.94-.94-2.06-.94 2.06-2.06.94z\"/><path d=\"M17.41 7.96l-1.37-1.37c-.4-.4-.92-.59-1.43-.59-.52 0-1.04.2-1.43.59L10.3 9.45l-7.72 7.72c-.78.78-.78 2.05 0 2.83L4 21.41c.39.39.9.59 1.41.59.51 0 1.02-.2 1.41-.59l7.78-7.78 2.81-2.81c.8-.78.8-2.07 0-2.86zM5.41 20L4 18.59l7.72-7.72 1.47 1.35L5.41 20z\"/>\n",
              "  </svg>\n",
              "      </button>\n",
              "      \n",
              "  <style>\n",
              "    .colab-df-container {\n",
              "      display:flex;\n",
              "      flex-wrap:wrap;\n",
              "      gap: 12px;\n",
              "    }\n",
              "\n",
              "    .colab-df-convert {\n",
              "      background-color: #E8F0FE;\n",
              "      border: none;\n",
              "      border-radius: 50%;\n",
              "      cursor: pointer;\n",
              "      display: none;\n",
              "      fill: #1967D2;\n",
              "      height: 32px;\n",
              "      padding: 0 0 0 0;\n",
              "      width: 32px;\n",
              "    }\n",
              "\n",
              "    .colab-df-convert:hover {\n",
              "      background-color: #E2EBFA;\n",
              "      box-shadow: 0px 1px 2px rgba(60, 64, 67, 0.3), 0px 1px 3px 1px rgba(60, 64, 67, 0.15);\n",
              "      fill: #174EA6;\n",
              "    }\n",
              "\n",
              "    [theme=dark] .colab-df-convert {\n",
              "      background-color: #3B4455;\n",
              "      fill: #D2E3FC;\n",
              "    }\n",
              "\n",
              "    [theme=dark] .colab-df-convert:hover {\n",
              "      background-color: #434B5C;\n",
              "      box-shadow: 0px 1px 3px 1px rgba(0, 0, 0, 0.15);\n",
              "      filter: drop-shadow(0px 1px 2px rgba(0, 0, 0, 0.3));\n",
              "      fill: #FFFFFF;\n",
              "    }\n",
              "  </style>\n",
              "\n",
              "      <script>\n",
              "        const buttonEl =\n",
              "          document.querySelector('#df-ef5ef777-81f7-4497-a166-066de5a457bb button.colab-df-convert');\n",
              "        buttonEl.style.display =\n",
              "          google.colab.kernel.accessAllowed ? 'block' : 'none';\n",
              "\n",
              "        async function convertToInteractive(key) {\n",
              "          const element = document.querySelector('#df-ef5ef777-81f7-4497-a166-066de5a457bb');\n",
              "          const dataTable =\n",
              "            await google.colab.kernel.invokeFunction('convertToInteractive',\n",
              "                                                     [key], {});\n",
              "          if (!dataTable) return;\n",
              "\n",
              "          const docLinkHtml = 'Like what you see? Visit the ' +\n",
              "            '<a target=\"_blank\" href=https://colab.research.google.com/notebooks/data_table.ipynb>data table notebook</a>'\n",
              "            + ' to learn more about interactive tables.';\n",
              "          element.innerHTML = '';\n",
              "          dataTable['output_type'] = 'display_data';\n",
              "          await google.colab.output.renderOutput(dataTable, element);\n",
              "          const docLink = document.createElement('div');\n",
              "          docLink.innerHTML = docLinkHtml;\n",
              "          element.appendChild(docLink);\n",
              "        }\n",
              "      </script>\n",
              "    </div>\n",
              "  </div>\n",
              "  "
            ]
          },
          "metadata": {}
        },
        {
          "output_type": "stream",
          "name": "stdout",
          "text": [
            "Repaired            71154\n",
            "VehicleType         37490\n",
            "FuelType            32895\n",
            "Gearbox             19833\n",
            "Model               19705\n",
            "DateCrawled             0\n",
            "Price                   0\n",
            "RegistrationYear        0\n",
            "Power                   0\n",
            "Kilometer               0\n",
            "dtype: int64\n",
            "\n"
          ]
        }
      ],
      "source": [
        "print(data.info())\n",
        "display(data.head())\n",
        "print(data.isnull().sum().sort_values(ascending=False).head(10))\n",
        "print()\n",
        "data_original = data"
      ]
    },
    {
      "cell_type": "code",
      "execution_count": 11,
      "metadata": {
        "scrolled": true,
        "colab": {
          "base_uri": "https://localhost:8080/",
          "height": 811
        },
        "id": "Gxd_tt5yHnsy",
        "outputId": "df18c703-c998-499c-8bf8-a61a05dd7113"
      },
      "outputs": [
        {
          "output_type": "display_data",
          "data": {
            "text/plain": [
              "                DateCrawled  Price VehicleType  RegistrationYear Gearbox  \\\n",
              "171088  2016-03-08 18:42:48   1799       coupe              1999    auto   \n",
              "231258  2016-03-28 00:56:10   1000       small              2002  manual   \n",
              "258109  2016-04-03 09:01:15   4699       coupe              2003    auto   \n",
              "325651  2016-03-18 18:46:15   1999       wagon              2001  manual   \n",
              "\n",
              "        Power   Model  Kilometer  RegistrationMonth  FuelType          Brand  \\\n",
              "171088    193     clk      20000                  7    petrol  mercedes_benz   \n",
              "231258     83   other     150000                  1    petrol         suzuki   \n",
              "258109    218     clk     125000                  6    petrol  mercedes_benz   \n",
              "325651    131  passat     150000                  7  gasoline     volkswagen   \n",
              "\n",
              "       Repaired          DateCreated  NumberOfPictures  PostalCode  \\\n",
              "171088       no  2016-03-08 00:00:00                 0       89518   \n",
              "231258       no  2016-03-28 00:00:00                 0       66589   \n",
              "258109      yes  2016-04-03 00:00:00                 0       75196   \n",
              "325651       no  2016-03-18 00:00:00                 0       36391   \n",
              "\n",
              "                   LastSeen  \n",
              "171088  2016-03-09 09:46:57  \n",
              "231258  2016-03-28 08:46:21  \n",
              "258109  2016-04-07 09:44:54  \n",
              "325651  2016-03-18 18:46:15  "
            ],
            "text/html": [
              "\n",
              "  <div id=\"df-f5ac7872-fa62-4fc3-8afd-f0ae707052d0\">\n",
              "    <div class=\"colab-df-container\">\n",
              "      <div>\n",
              "<style scoped>\n",
              "    .dataframe tbody tr th:only-of-type {\n",
              "        vertical-align: middle;\n",
              "    }\n",
              "\n",
              "    .dataframe tbody tr th {\n",
              "        vertical-align: top;\n",
              "    }\n",
              "\n",
              "    .dataframe thead th {\n",
              "        text-align: right;\n",
              "    }\n",
              "</style>\n",
              "<table border=\"1\" class=\"dataframe\">\n",
              "  <thead>\n",
              "    <tr style=\"text-align: right;\">\n",
              "      <th></th>\n",
              "      <th>DateCrawled</th>\n",
              "      <th>Price</th>\n",
              "      <th>VehicleType</th>\n",
              "      <th>RegistrationYear</th>\n",
              "      <th>Gearbox</th>\n",
              "      <th>Power</th>\n",
              "      <th>Model</th>\n",
              "      <th>Kilometer</th>\n",
              "      <th>RegistrationMonth</th>\n",
              "      <th>FuelType</th>\n",
              "      <th>Brand</th>\n",
              "      <th>Repaired</th>\n",
              "      <th>DateCreated</th>\n",
              "      <th>NumberOfPictures</th>\n",
              "      <th>PostalCode</th>\n",
              "      <th>LastSeen</th>\n",
              "    </tr>\n",
              "  </thead>\n",
              "  <tbody>\n",
              "    <tr>\n",
              "      <th>171088</th>\n",
              "      <td>2016-03-08 18:42:48</td>\n",
              "      <td>1799</td>\n",
              "      <td>coupe</td>\n",
              "      <td>1999</td>\n",
              "      <td>auto</td>\n",
              "      <td>193</td>\n",
              "      <td>clk</td>\n",
              "      <td>20000</td>\n",
              "      <td>7</td>\n",
              "      <td>petrol</td>\n",
              "      <td>mercedes_benz</td>\n",
              "      <td>no</td>\n",
              "      <td>2016-03-08 00:00:00</td>\n",
              "      <td>0</td>\n",
              "      <td>89518</td>\n",
              "      <td>2016-03-09 09:46:57</td>\n",
              "    </tr>\n",
              "    <tr>\n",
              "      <th>231258</th>\n",
              "      <td>2016-03-28 00:56:10</td>\n",
              "      <td>1000</td>\n",
              "      <td>small</td>\n",
              "      <td>2002</td>\n",
              "      <td>manual</td>\n",
              "      <td>83</td>\n",
              "      <td>other</td>\n",
              "      <td>150000</td>\n",
              "      <td>1</td>\n",
              "      <td>petrol</td>\n",
              "      <td>suzuki</td>\n",
              "      <td>no</td>\n",
              "      <td>2016-03-28 00:00:00</td>\n",
              "      <td>0</td>\n",
              "      <td>66589</td>\n",
              "      <td>2016-03-28 08:46:21</td>\n",
              "    </tr>\n",
              "    <tr>\n",
              "      <th>258109</th>\n",
              "      <td>2016-04-03 09:01:15</td>\n",
              "      <td>4699</td>\n",
              "      <td>coupe</td>\n",
              "      <td>2003</td>\n",
              "      <td>auto</td>\n",
              "      <td>218</td>\n",
              "      <td>clk</td>\n",
              "      <td>125000</td>\n",
              "      <td>6</td>\n",
              "      <td>petrol</td>\n",
              "      <td>mercedes_benz</td>\n",
              "      <td>yes</td>\n",
              "      <td>2016-04-03 00:00:00</td>\n",
              "      <td>0</td>\n",
              "      <td>75196</td>\n",
              "      <td>2016-04-07 09:44:54</td>\n",
              "    </tr>\n",
              "    <tr>\n",
              "      <th>325651</th>\n",
              "      <td>2016-03-18 18:46:15</td>\n",
              "      <td>1999</td>\n",
              "      <td>wagon</td>\n",
              "      <td>2001</td>\n",
              "      <td>manual</td>\n",
              "      <td>131</td>\n",
              "      <td>passat</td>\n",
              "      <td>150000</td>\n",
              "      <td>7</td>\n",
              "      <td>gasoline</td>\n",
              "      <td>volkswagen</td>\n",
              "      <td>no</td>\n",
              "      <td>2016-03-18 00:00:00</td>\n",
              "      <td>0</td>\n",
              "      <td>36391</td>\n",
              "      <td>2016-03-18 18:46:15</td>\n",
              "    </tr>\n",
              "  </tbody>\n",
              "</table>\n",
              "</div>\n",
              "      <button class=\"colab-df-convert\" onclick=\"convertToInteractive('df-f5ac7872-fa62-4fc3-8afd-f0ae707052d0')\"\n",
              "              title=\"Convert this dataframe to an interactive table.\"\n",
              "              style=\"display:none;\">\n",
              "        \n",
              "  <svg xmlns=\"http://www.w3.org/2000/svg\" height=\"24px\"viewBox=\"0 0 24 24\"\n",
              "       width=\"24px\">\n",
              "    <path d=\"M0 0h24v24H0V0z\" fill=\"none\"/>\n",
              "    <path d=\"M18.56 5.44l.94 2.06.94-2.06 2.06-.94-2.06-.94-.94-2.06-.94 2.06-2.06.94zm-11 1L8.5 8.5l.94-2.06 2.06-.94-2.06-.94L8.5 2.5l-.94 2.06-2.06.94zm10 10l.94 2.06.94-2.06 2.06-.94-2.06-.94-.94-2.06-.94 2.06-2.06.94z\"/><path d=\"M17.41 7.96l-1.37-1.37c-.4-.4-.92-.59-1.43-.59-.52 0-1.04.2-1.43.59L10.3 9.45l-7.72 7.72c-.78.78-.78 2.05 0 2.83L4 21.41c.39.39.9.59 1.41.59.51 0 1.02-.2 1.41-.59l7.78-7.78 2.81-2.81c.8-.78.8-2.07 0-2.86zM5.41 20L4 18.59l7.72-7.72 1.47 1.35L5.41 20z\"/>\n",
              "  </svg>\n",
              "      </button>\n",
              "      \n",
              "  <style>\n",
              "    .colab-df-container {\n",
              "      display:flex;\n",
              "      flex-wrap:wrap;\n",
              "      gap: 12px;\n",
              "    }\n",
              "\n",
              "    .colab-df-convert {\n",
              "      background-color: #E8F0FE;\n",
              "      border: none;\n",
              "      border-radius: 50%;\n",
              "      cursor: pointer;\n",
              "      display: none;\n",
              "      fill: #1967D2;\n",
              "      height: 32px;\n",
              "      padding: 0 0 0 0;\n",
              "      width: 32px;\n",
              "    }\n",
              "\n",
              "    .colab-df-convert:hover {\n",
              "      background-color: #E2EBFA;\n",
              "      box-shadow: 0px 1px 2px rgba(60, 64, 67, 0.3), 0px 1px 3px 1px rgba(60, 64, 67, 0.15);\n",
              "      fill: #174EA6;\n",
              "    }\n",
              "\n",
              "    [theme=dark] .colab-df-convert {\n",
              "      background-color: #3B4455;\n",
              "      fill: #D2E3FC;\n",
              "    }\n",
              "\n",
              "    [theme=dark] .colab-df-convert:hover {\n",
              "      background-color: #434B5C;\n",
              "      box-shadow: 0px 1px 3px 1px rgba(0, 0, 0, 0.15);\n",
              "      filter: drop-shadow(0px 1px 2px rgba(0, 0, 0, 0.3));\n",
              "      fill: #FFFFFF;\n",
              "    }\n",
              "  </style>\n",
              "\n",
              "      <script>\n",
              "        const buttonEl =\n",
              "          document.querySelector('#df-f5ac7872-fa62-4fc3-8afd-f0ae707052d0 button.colab-df-convert');\n",
              "        buttonEl.style.display =\n",
              "          google.colab.kernel.accessAllowed ? 'block' : 'none';\n",
              "\n",
              "        async function convertToInteractive(key) {\n",
              "          const element = document.querySelector('#df-f5ac7872-fa62-4fc3-8afd-f0ae707052d0');\n",
              "          const dataTable =\n",
              "            await google.colab.kernel.invokeFunction('convertToInteractive',\n",
              "                                                     [key], {});\n",
              "          if (!dataTable) return;\n",
              "\n",
              "          const docLinkHtml = 'Like what you see? Visit the ' +\n",
              "            '<a target=\"_blank\" href=https://colab.research.google.com/notebooks/data_table.ipynb>data table notebook</a>'\n",
              "            + ' to learn more about interactive tables.';\n",
              "          element.innerHTML = '';\n",
              "          dataTable['output_type'] = 'display_data';\n",
              "          await google.colab.output.renderOutput(dataTable, element);\n",
              "          const docLink = document.createElement('div');\n",
              "          docLink.innerHTML = docLinkHtml;\n",
              "          element.appendChild(docLink);\n",
              "        }\n",
              "      </script>\n",
              "    </div>\n",
              "  </div>\n",
              "  "
            ]
          },
          "metadata": {}
        },
        {
          "output_type": "stream",
          "name": "stdout",
          "text": [
            "4\n",
            "<class 'pandas.core.frame.DataFrame'>\n",
            "Int64Index: 354365 entries, 0 to 354368\n",
            "Data columns (total 16 columns):\n",
            " #   Column             Non-Null Count   Dtype \n",
            "---  ------             --------------   ----- \n",
            " 0   DateCrawled        354365 non-null  object\n",
            " 1   Price              354365 non-null  int64 \n",
            " 2   VehicleType        316875 non-null  object\n",
            " 3   RegistrationYear   354365 non-null  int64 \n",
            " 4   Gearbox            334532 non-null  object\n",
            " 5   Power              354365 non-null  int64 \n",
            " 6   Model              334660 non-null  object\n",
            " 7   Kilometer          354365 non-null  int64 \n",
            " 8   RegistrationMonth  354365 non-null  int64 \n",
            " 9   FuelType           321470 non-null  object\n",
            " 10  Brand              354365 non-null  object\n",
            " 11  Repaired           283211 non-null  object\n",
            " 12  DateCreated        354365 non-null  object\n",
            " 13  NumberOfPictures   354365 non-null  int64 \n",
            " 14  PostalCode         354365 non-null  int64 \n",
            " 15  LastSeen           354365 non-null  object\n",
            "dtypes: int64(7), object(9)\n",
            "memory usage: 46.0+ MB\n",
            "None\n"
          ]
        }
      ],
      "source": [
        "#убираем полные дубликаты, их всего 4 - там совспадает и время в трех колонках, что маловероятно было случайностью\n",
        "display(data[data.duplicated()])\n",
        "print(data.duplicated().sum())\n",
        "data= data.drop_duplicates()\n",
        "print(data.info())\n"
      ]
    },
    {
      "cell_type": "markdown",
      "metadata": {
        "id": "8MdulUUAHnsy"
      },
      "source": [
        "в данных имеются пропуски в столбцах \n",
        "\n",
        "     - Repaired            71154\n",
        "     - VehicleType         37490\n",
        "     - FuelType            32895\n",
        "     - Gearbox             19833\n",
        "     - Model               19705"
      ]
    },
    {
      "cell_type": "markdown",
      "metadata": {
        "id": "yvitroiaHnsy"
      },
      "source": [
        "некоторые даты представлены в формате строк.\n",
        "    \n",
        "Переведем даты в год в формате int для анализа, месяцы выкинем, если по результатам предсказаний их будет недостаточно для достижения показателя точности, вернемся к этому этапу и включим их в данные."
      ]
    },
    {
      "cell_type": "code",
      "execution_count": 12,
      "metadata": {
        "scrolled": true,
        "colab": {
          "base_uri": "https://localhost:8080/",
          "height": 738
        },
        "id": "cW5YqlqIHnsz",
        "outputId": "92528c21-0153-4222-b353-835f987bb2fc"
      },
      "outputs": [
        {
          "output_type": "stream",
          "name": "stdout",
          "text": [
            "[2016]\n",
            "[2016 2015 2014]\n",
            "[2016]\n",
            "<class 'pandas.core.frame.DataFrame'>\n",
            "Int64Index: 354365 entries, 0 to 354368\n",
            "Data columns (total 16 columns):\n",
            " #   Column             Non-Null Count   Dtype \n",
            "---  ------             --------------   ----- \n",
            " 0   DateCrawled        354365 non-null  int64 \n",
            " 1   Price              354365 non-null  int64 \n",
            " 2   VehicleType        316875 non-null  object\n",
            " 3   RegistrationYear   354365 non-null  int64 \n",
            " 4   Gearbox            334532 non-null  object\n",
            " 5   Power              354365 non-null  int64 \n",
            " 6   Model              334660 non-null  object\n",
            " 7   Kilometer          354365 non-null  int64 \n",
            " 8   RegistrationMonth  354365 non-null  int64 \n",
            " 9   FuelType           321470 non-null  object\n",
            " 10  Brand              354365 non-null  object\n",
            " 11  Repaired           283211 non-null  object\n",
            " 12  DateCreated        354365 non-null  int64 \n",
            " 13  NumberOfPictures   354365 non-null  int64 \n",
            " 14  PostalCode         354365 non-null  int64 \n",
            " 15  LastSeen           354365 non-null  int64 \n",
            "dtypes: int64(10), object(6)\n",
            "memory usage: 46.0+ MB\n",
            "None\n"
          ]
        },
        {
          "output_type": "display_data",
          "data": {
            "text/plain": [
              "   DateCrawled  Price VehicleType  RegistrationYear Gearbox  Power  Model  \\\n",
              "0         2016    480         NaN              1993  manual      0   golf   \n",
              "1         2016  18300       coupe              2011  manual    190    NaN   \n",
              "2         2016   9800         suv              2004    auto    163  grand   \n",
              "3         2016   1500       small              2001  manual     75   golf   \n",
              "4         2016   3600       small              2008  manual     69  fabia   \n",
              "\n",
              "   Kilometer  RegistrationMonth  FuelType       Brand Repaired  DateCreated  \\\n",
              "0     150000                  0    petrol  volkswagen      NaN         2016   \n",
              "1     125000                  5  gasoline        audi      yes         2016   \n",
              "2     125000                  8  gasoline        jeep      NaN         2016   \n",
              "3     150000                  6    petrol  volkswagen       no         2016   \n",
              "4      90000                  7  gasoline       skoda       no         2016   \n",
              "\n",
              "   NumberOfPictures  PostalCode  LastSeen  \n",
              "0                 0       70435      2016  \n",
              "1                 0       66954      2016  \n",
              "2                 0       90480      2016  \n",
              "3                 0       91074      2016  \n",
              "4                 0       60437      2016  "
            ],
            "text/html": [
              "\n",
              "  <div id=\"df-ceb40935-562b-40b5-9e57-575463c3136a\">\n",
              "    <div class=\"colab-df-container\">\n",
              "      <div>\n",
              "<style scoped>\n",
              "    .dataframe tbody tr th:only-of-type {\n",
              "        vertical-align: middle;\n",
              "    }\n",
              "\n",
              "    .dataframe tbody tr th {\n",
              "        vertical-align: top;\n",
              "    }\n",
              "\n",
              "    .dataframe thead th {\n",
              "        text-align: right;\n",
              "    }\n",
              "</style>\n",
              "<table border=\"1\" class=\"dataframe\">\n",
              "  <thead>\n",
              "    <tr style=\"text-align: right;\">\n",
              "      <th></th>\n",
              "      <th>DateCrawled</th>\n",
              "      <th>Price</th>\n",
              "      <th>VehicleType</th>\n",
              "      <th>RegistrationYear</th>\n",
              "      <th>Gearbox</th>\n",
              "      <th>Power</th>\n",
              "      <th>Model</th>\n",
              "      <th>Kilometer</th>\n",
              "      <th>RegistrationMonth</th>\n",
              "      <th>FuelType</th>\n",
              "      <th>Brand</th>\n",
              "      <th>Repaired</th>\n",
              "      <th>DateCreated</th>\n",
              "      <th>NumberOfPictures</th>\n",
              "      <th>PostalCode</th>\n",
              "      <th>LastSeen</th>\n",
              "    </tr>\n",
              "  </thead>\n",
              "  <tbody>\n",
              "    <tr>\n",
              "      <th>0</th>\n",
              "      <td>2016</td>\n",
              "      <td>480</td>\n",
              "      <td>NaN</td>\n",
              "      <td>1993</td>\n",
              "      <td>manual</td>\n",
              "      <td>0</td>\n",
              "      <td>golf</td>\n",
              "      <td>150000</td>\n",
              "      <td>0</td>\n",
              "      <td>petrol</td>\n",
              "      <td>volkswagen</td>\n",
              "      <td>NaN</td>\n",
              "      <td>2016</td>\n",
              "      <td>0</td>\n",
              "      <td>70435</td>\n",
              "      <td>2016</td>\n",
              "    </tr>\n",
              "    <tr>\n",
              "      <th>1</th>\n",
              "      <td>2016</td>\n",
              "      <td>18300</td>\n",
              "      <td>coupe</td>\n",
              "      <td>2011</td>\n",
              "      <td>manual</td>\n",
              "      <td>190</td>\n",
              "      <td>NaN</td>\n",
              "      <td>125000</td>\n",
              "      <td>5</td>\n",
              "      <td>gasoline</td>\n",
              "      <td>audi</td>\n",
              "      <td>yes</td>\n",
              "      <td>2016</td>\n",
              "      <td>0</td>\n",
              "      <td>66954</td>\n",
              "      <td>2016</td>\n",
              "    </tr>\n",
              "    <tr>\n",
              "      <th>2</th>\n",
              "      <td>2016</td>\n",
              "      <td>9800</td>\n",
              "      <td>suv</td>\n",
              "      <td>2004</td>\n",
              "      <td>auto</td>\n",
              "      <td>163</td>\n",
              "      <td>grand</td>\n",
              "      <td>125000</td>\n",
              "      <td>8</td>\n",
              "      <td>gasoline</td>\n",
              "      <td>jeep</td>\n",
              "      <td>NaN</td>\n",
              "      <td>2016</td>\n",
              "      <td>0</td>\n",
              "      <td>90480</td>\n",
              "      <td>2016</td>\n",
              "    </tr>\n",
              "    <tr>\n",
              "      <th>3</th>\n",
              "      <td>2016</td>\n",
              "      <td>1500</td>\n",
              "      <td>small</td>\n",
              "      <td>2001</td>\n",
              "      <td>manual</td>\n",
              "      <td>75</td>\n",
              "      <td>golf</td>\n",
              "      <td>150000</td>\n",
              "      <td>6</td>\n",
              "      <td>petrol</td>\n",
              "      <td>volkswagen</td>\n",
              "      <td>no</td>\n",
              "      <td>2016</td>\n",
              "      <td>0</td>\n",
              "      <td>91074</td>\n",
              "      <td>2016</td>\n",
              "    </tr>\n",
              "    <tr>\n",
              "      <th>4</th>\n",
              "      <td>2016</td>\n",
              "      <td>3600</td>\n",
              "      <td>small</td>\n",
              "      <td>2008</td>\n",
              "      <td>manual</td>\n",
              "      <td>69</td>\n",
              "      <td>fabia</td>\n",
              "      <td>90000</td>\n",
              "      <td>7</td>\n",
              "      <td>gasoline</td>\n",
              "      <td>skoda</td>\n",
              "      <td>no</td>\n",
              "      <td>2016</td>\n",
              "      <td>0</td>\n",
              "      <td>60437</td>\n",
              "      <td>2016</td>\n",
              "    </tr>\n",
              "  </tbody>\n",
              "</table>\n",
              "</div>\n",
              "      <button class=\"colab-df-convert\" onclick=\"convertToInteractive('df-ceb40935-562b-40b5-9e57-575463c3136a')\"\n",
              "              title=\"Convert this dataframe to an interactive table.\"\n",
              "              style=\"display:none;\">\n",
              "        \n",
              "  <svg xmlns=\"http://www.w3.org/2000/svg\" height=\"24px\"viewBox=\"0 0 24 24\"\n",
              "       width=\"24px\">\n",
              "    <path d=\"M0 0h24v24H0V0z\" fill=\"none\"/>\n",
              "    <path d=\"M18.56 5.44l.94 2.06.94-2.06 2.06-.94-2.06-.94-.94-2.06-.94 2.06-2.06.94zm-11 1L8.5 8.5l.94-2.06 2.06-.94-2.06-.94L8.5 2.5l-.94 2.06-2.06.94zm10 10l.94 2.06.94-2.06 2.06-.94-2.06-.94-.94-2.06-.94 2.06-2.06.94z\"/><path d=\"M17.41 7.96l-1.37-1.37c-.4-.4-.92-.59-1.43-.59-.52 0-1.04.2-1.43.59L10.3 9.45l-7.72 7.72c-.78.78-.78 2.05 0 2.83L4 21.41c.39.39.9.59 1.41.59.51 0 1.02-.2 1.41-.59l7.78-7.78 2.81-2.81c.8-.78.8-2.07 0-2.86zM5.41 20L4 18.59l7.72-7.72 1.47 1.35L5.41 20z\"/>\n",
              "  </svg>\n",
              "      </button>\n",
              "      \n",
              "  <style>\n",
              "    .colab-df-container {\n",
              "      display:flex;\n",
              "      flex-wrap:wrap;\n",
              "      gap: 12px;\n",
              "    }\n",
              "\n",
              "    .colab-df-convert {\n",
              "      background-color: #E8F0FE;\n",
              "      border: none;\n",
              "      border-radius: 50%;\n",
              "      cursor: pointer;\n",
              "      display: none;\n",
              "      fill: #1967D2;\n",
              "      height: 32px;\n",
              "      padding: 0 0 0 0;\n",
              "      width: 32px;\n",
              "    }\n",
              "\n",
              "    .colab-df-convert:hover {\n",
              "      background-color: #E2EBFA;\n",
              "      box-shadow: 0px 1px 2px rgba(60, 64, 67, 0.3), 0px 1px 3px 1px rgba(60, 64, 67, 0.15);\n",
              "      fill: #174EA6;\n",
              "    }\n",
              "\n",
              "    [theme=dark] .colab-df-convert {\n",
              "      background-color: #3B4455;\n",
              "      fill: #D2E3FC;\n",
              "    }\n",
              "\n",
              "    [theme=dark] .colab-df-convert:hover {\n",
              "      background-color: #434B5C;\n",
              "      box-shadow: 0px 1px 3px 1px rgba(0, 0, 0, 0.15);\n",
              "      filter: drop-shadow(0px 1px 2px rgba(0, 0, 0, 0.3));\n",
              "      fill: #FFFFFF;\n",
              "    }\n",
              "  </style>\n",
              "\n",
              "      <script>\n",
              "        const buttonEl =\n",
              "          document.querySelector('#df-ceb40935-562b-40b5-9e57-575463c3136a button.colab-df-convert');\n",
              "        buttonEl.style.display =\n",
              "          google.colab.kernel.accessAllowed ? 'block' : 'none';\n",
              "\n",
              "        async function convertToInteractive(key) {\n",
              "          const element = document.querySelector('#df-ceb40935-562b-40b5-9e57-575463c3136a');\n",
              "          const dataTable =\n",
              "            await google.colab.kernel.invokeFunction('convertToInteractive',\n",
              "                                                     [key], {});\n",
              "          if (!dataTable) return;\n",
              "\n",
              "          const docLinkHtml = 'Like what you see? Visit the ' +\n",
              "            '<a target=\"_blank\" href=https://colab.research.google.com/notebooks/data_table.ipynb>data table notebook</a>'\n",
              "            + ' to learn more about interactive tables.';\n",
              "          element.innerHTML = '';\n",
              "          dataTable['output_type'] = 'display_data';\n",
              "          await google.colab.output.renderOutput(dataTable, element);\n",
              "          const docLink = document.createElement('div');\n",
              "          docLink.innerHTML = docLinkHtml;\n",
              "          element.appendChild(docLink);\n",
              "        }\n",
              "      </script>\n",
              "    </div>\n",
              "  </div>\n",
              "  "
            ]
          },
          "metadata": {}
        }
      ],
      "source": [
        "for col in ['DateCrawled', 'DateCreated', 'LastSeen']:\n",
        "    data[col] = pd.to_datetime(data[col], format = '%Y%m%d %H:%M:%S')\n",
        "    data[col] = data[col].dt.year\n",
        "    data[col] = data[col].astype(int)\n",
        "    print(data[col].unique())\n",
        "print(data.info())\n",
        "display(data.head(5))\n"
      ]
    },
    {
      "cell_type": "markdown",
      "metadata": {
        "id": "N07rt3ojHnsz"
      },
      "source": [
        "из годов для предсказания будет иметь значение только 'DateCreated', остальные пока уберем."
      ]
    },
    {
      "cell_type": "code",
      "execution_count": 13,
      "metadata": {
        "scrolled": true,
        "id": "BUw-aWrCHnsz"
      },
      "outputs": [],
      "source": [
        "data = data.drop(['DateCrawled', 'LastSeen'], axis = 1)"
      ]
    },
    {
      "cell_type": "markdown",
      "metadata": {
        "id": "1WNLd6m4Hnsz"
      },
      "source": [
        "Предполагается, что данные заполнялись собственниками авто, а они могли не знать какой тип коробки передач, тип кузова или вид топлива правильно поставить. \n",
        "\n",
        "Эти пропуски заполним заглушками."
      ]
    },
    {
      "cell_type": "code",
      "execution_count": 14,
      "metadata": {
        "scrolled": false,
        "colab": {
          "base_uri": "https://localhost:8080/"
        },
        "id": "SvqYYQY6Hnsz",
        "outputId": "47d689ae-1713-423d-dbcb-a91f9265beac"
      },
      "outputs": [
        {
          "output_type": "stream",
          "name": "stdout",
          "text": [
            "[nan 'yes' 'no']\n",
            "[nan 'coupe' 'suv' 'small' 'sedan' 'convertible' 'bus' 'wagon' 'other']\n",
            "['petrol' 'gasoline' nan 'lpg' 'other' 'hybrid' 'cng' 'electric']\n",
            "['manual' 'auto' nan]\n"
          ]
        }
      ],
      "source": [
        "print(data['Repaired'].unique())\n",
        "print(data['VehicleType'].unique())\n",
        "print(data['FuelType'].unique())\n",
        "print(data['Gearbox'].unique())\n"
      ]
    },
    {
      "cell_type": "code",
      "execution_count": 15,
      "metadata": {
        "colab": {
          "base_uri": "https://localhost:8080/",
          "height": 131
        },
        "id": "60qFQL_XHns0",
        "outputId": "bd8b48d7-d059-48e8-bd24-3a097f960298"
      },
      "outputs": [
        {
          "output_type": "stream",
          "name": "stdout",
          "text": [
            "['not_mentioned' 'yes' 'no']\n"
          ]
        },
        {
          "output_type": "display_data",
          "data": {
            "text/plain": [
              "Empty DataFrame\n",
              "Columns: [Price, VehicleType, RegistrationYear, Gearbox, Power, Model, Kilometer, RegistrationMonth, FuelType, Brand, Repaired, DateCreated, NumberOfPictures, PostalCode]\n",
              "Index: []"
            ],
            "text/html": [
              "\n",
              "  <div id=\"df-f7cf479f-8ee3-48e5-bdd9-b2df85269829\">\n",
              "    <div class=\"colab-df-container\">\n",
              "      <div>\n",
              "<style scoped>\n",
              "    .dataframe tbody tr th:only-of-type {\n",
              "        vertical-align: middle;\n",
              "    }\n",
              "\n",
              "    .dataframe tbody tr th {\n",
              "        vertical-align: top;\n",
              "    }\n",
              "\n",
              "    .dataframe thead th {\n",
              "        text-align: right;\n",
              "    }\n",
              "</style>\n",
              "<table border=\"1\" class=\"dataframe\">\n",
              "  <thead>\n",
              "    <tr style=\"text-align: right;\">\n",
              "      <th></th>\n",
              "      <th>Price</th>\n",
              "      <th>VehicleType</th>\n",
              "      <th>RegistrationYear</th>\n",
              "      <th>Gearbox</th>\n",
              "      <th>Power</th>\n",
              "      <th>Model</th>\n",
              "      <th>Kilometer</th>\n",
              "      <th>RegistrationMonth</th>\n",
              "      <th>FuelType</th>\n",
              "      <th>Brand</th>\n",
              "      <th>Repaired</th>\n",
              "      <th>DateCreated</th>\n",
              "      <th>NumberOfPictures</th>\n",
              "      <th>PostalCode</th>\n",
              "    </tr>\n",
              "  </thead>\n",
              "  <tbody>\n",
              "  </tbody>\n",
              "</table>\n",
              "</div>\n",
              "      <button class=\"colab-df-convert\" onclick=\"convertToInteractive('df-f7cf479f-8ee3-48e5-bdd9-b2df85269829')\"\n",
              "              title=\"Convert this dataframe to an interactive table.\"\n",
              "              style=\"display:none;\">\n",
              "        \n",
              "  <svg xmlns=\"http://www.w3.org/2000/svg\" height=\"24px\"viewBox=\"0 0 24 24\"\n",
              "       width=\"24px\">\n",
              "    <path d=\"M0 0h24v24H0V0z\" fill=\"none\"/>\n",
              "    <path d=\"M18.56 5.44l.94 2.06.94-2.06 2.06-.94-2.06-.94-.94-2.06-.94 2.06-2.06.94zm-11 1L8.5 8.5l.94-2.06 2.06-.94-2.06-.94L8.5 2.5l-.94 2.06-2.06.94zm10 10l.94 2.06.94-2.06 2.06-.94-2.06-.94-.94-2.06-.94 2.06-2.06.94z\"/><path d=\"M17.41 7.96l-1.37-1.37c-.4-.4-.92-.59-1.43-.59-.52 0-1.04.2-1.43.59L10.3 9.45l-7.72 7.72c-.78.78-.78 2.05 0 2.83L4 21.41c.39.39.9.59 1.41.59.51 0 1.02-.2 1.41-.59l7.78-7.78 2.81-2.81c.8-.78.8-2.07 0-2.86zM5.41 20L4 18.59l7.72-7.72 1.47 1.35L5.41 20z\"/>\n",
              "  </svg>\n",
              "      </button>\n",
              "      \n",
              "  <style>\n",
              "    .colab-df-container {\n",
              "      display:flex;\n",
              "      flex-wrap:wrap;\n",
              "      gap: 12px;\n",
              "    }\n",
              "\n",
              "    .colab-df-convert {\n",
              "      background-color: #E8F0FE;\n",
              "      border: none;\n",
              "      border-radius: 50%;\n",
              "      cursor: pointer;\n",
              "      display: none;\n",
              "      fill: #1967D2;\n",
              "      height: 32px;\n",
              "      padding: 0 0 0 0;\n",
              "      width: 32px;\n",
              "    }\n",
              "\n",
              "    .colab-df-convert:hover {\n",
              "      background-color: #E2EBFA;\n",
              "      box-shadow: 0px 1px 2px rgba(60, 64, 67, 0.3), 0px 1px 3px 1px rgba(60, 64, 67, 0.15);\n",
              "      fill: #174EA6;\n",
              "    }\n",
              "\n",
              "    [theme=dark] .colab-df-convert {\n",
              "      background-color: #3B4455;\n",
              "      fill: #D2E3FC;\n",
              "    }\n",
              "\n",
              "    [theme=dark] .colab-df-convert:hover {\n",
              "      background-color: #434B5C;\n",
              "      box-shadow: 0px 1px 3px 1px rgba(0, 0, 0, 0.15);\n",
              "      filter: drop-shadow(0px 1px 2px rgba(0, 0, 0, 0.3));\n",
              "      fill: #FFFFFF;\n",
              "    }\n",
              "  </style>\n",
              "\n",
              "      <script>\n",
              "        const buttonEl =\n",
              "          document.querySelector('#df-f7cf479f-8ee3-48e5-bdd9-b2df85269829 button.colab-df-convert');\n",
              "        buttonEl.style.display =\n",
              "          google.colab.kernel.accessAllowed ? 'block' : 'none';\n",
              "\n",
              "        async function convertToInteractive(key) {\n",
              "          const element = document.querySelector('#df-f7cf479f-8ee3-48e5-bdd9-b2df85269829');\n",
              "          const dataTable =\n",
              "            await google.colab.kernel.invokeFunction('convertToInteractive',\n",
              "                                                     [key], {});\n",
              "          if (!dataTable) return;\n",
              "\n",
              "          const docLinkHtml = 'Like what you see? Visit the ' +\n",
              "            '<a target=\"_blank\" href=https://colab.research.google.com/notebooks/data_table.ipynb>data table notebook</a>'\n",
              "            + ' to learn more about interactive tables.';\n",
              "          element.innerHTML = '';\n",
              "          dataTable['output_type'] = 'display_data';\n",
              "          await google.colab.output.renderOutput(dataTable, element);\n",
              "          const docLink = document.createElement('div');\n",
              "          docLink.innerHTML = docLinkHtml;\n",
              "          element.appendChild(docLink);\n",
              "        }\n",
              "      </script>\n",
              "    </div>\n",
              "  </div>\n",
              "  "
            ]
          },
          "metadata": {}
        }
      ],
      "source": [
        "data['VehicleType'] = data['VehicleType'].fillna('not_mentioned')\n",
        "data['FuelType'] = data['FuelType'].fillna('not_mentioned')\n",
        "data['Gearbox'] = data['Gearbox'].fillna('not_mentioned')\n",
        "data['Repaired'] = data['Repaired'].fillna('not_mentioned')\n",
        "data['Model'] = data['Model'].fillna('not_mentioned') \n",
        "print(data['Repaired'].unique())\n",
        "display(data[data['Gearbox'].isna()].head(5))"
      ]
    },
    {
      "cell_type": "code",
      "execution_count": 16,
      "metadata": {
        "scrolled": true,
        "colab": {
          "base_uri": "https://localhost:8080/"
        },
        "id": "QxkDvWyDHns0",
        "outputId": "416e5978-a12d-4477-8a9e-4a4b85743675"
      },
      "outputs": [
        {
          "output_type": "stream",
          "name": "stdout",
          "text": [
            "<class 'pandas.core.frame.DataFrame'>\n",
            "Int64Index: 354365 entries, 0 to 354368\n",
            "Data columns (total 14 columns):\n",
            " #   Column             Non-Null Count   Dtype \n",
            "---  ------             --------------   ----- \n",
            " 0   Price              354365 non-null  int64 \n",
            " 1   VehicleType        354365 non-null  object\n",
            " 2   RegistrationYear   354365 non-null  int64 \n",
            " 3   Gearbox            354365 non-null  object\n",
            " 4   Power              354365 non-null  int64 \n",
            " 5   Model              354365 non-null  object\n",
            " 6   Kilometer          354365 non-null  int64 \n",
            " 7   RegistrationMonth  354365 non-null  int64 \n",
            " 8   FuelType           354365 non-null  object\n",
            " 9   Brand              354365 non-null  object\n",
            " 10  Repaired           354365 non-null  object\n",
            " 11  DateCreated        354365 non-null  int64 \n",
            " 12  NumberOfPictures   354365 non-null  int64 \n",
            " 13  PostalCode         354365 non-null  int64 \n",
            "dtypes: int64(8), object(6)\n",
            "memory usage: 40.6+ MB\n",
            "None\n",
            "Price                0\n",
            "VehicleType          0\n",
            "RegistrationYear     0\n",
            "Gearbox              0\n",
            "Power                0\n",
            "Model                0\n",
            "Kilometer            0\n",
            "RegistrationMonth    0\n",
            "FuelType             0\n",
            "Brand                0\n",
            "dtype: int64\n"
          ]
        }
      ],
      "source": [
        "print(data.info())\n",
        "print(data.isnull().sum().sort_values(ascending=False).head(10))"
      ]
    },
    {
      "cell_type": "markdown",
      "metadata": {
        "id": "INWBs4DGHns0"
      },
      "source": [
        "### рассмотрим распределение категориальных признаков, за исключением модели, на предмет аномалий."
      ]
    },
    {
      "cell_type": "code",
      "execution_count": 17,
      "metadata": {
        "scrolled": true,
        "colab": {
          "base_uri": "https://localhost:8080/",
          "height": 1000
        },
        "id": "_9kDACc5Hns0",
        "outputId": "1c98f1aa-790e-499d-a308-89fc6a23b96e"
      },
      "outputs": [
        {
          "output_type": "display_data",
          "data": {
            "text/plain": [
              "<Figure size 640x480 with 1 Axes>"
            ],
            "image/png": "[encoded data removed]"
          },
          "metadata": {}
        },
        {
          "output_type": "display_data",
          "data": {
            "text/plain": [
              "<Figure size 640x480 with 1 Axes>"
            ],
            "image/png": "[encoded data removed]"
          },
          "metadata": {}
        },
        {
          "output_type": "display_data",
          "data": {
            "text/plain": [
              "<Figure size 640x480 with 1 Axes>"
            ],
            "image/png": "[encoded data removed]"
          },
          "metadata": {}
        },
        {
          "output_type": "display_data",
          "data": {
            "text/plain": [
              "<Figure size 640x480 with 1 Axes>"
            ],
            "image/png": "[encoded data removed]"
          },
          "metadata": {}
        },
        {
          "output_type": "display_data",
          "data": {
            "text/plain": [
              "<Figure size 640x480 with 1 Axes>"
            ],
            "image/png": "[encoded data removed]"
          },
          "metadata": {}
        }
      ],
      "source": [
        "for col in ['VehicleType', 'Gearbox', 'FuelType', 'Brand', 'Repaired']:\n",
        "    \n",
        "    data.groupby(col)['Power'].count().plot(kind = 'bar', title = col)\n",
        "    plt.show()"
      ]
    },
    {
      "cell_type": "markdown",
      "metadata": {
        "id": "59TqZ84eHns1"
      },
      "source": [
        "#### Данных об авто на нежидком топливе немного, закинем их в 'другие'"
      ]
    },
    {
      "cell_type": "code",
      "execution_count": 18,
      "metadata": {
        "scrolled": false,
        "colab": {
          "base_uri": "https://localhost:8080/"
        },
        "id": "otz9gi5_Hns4",
        "outputId": "9950d9a5-5d1a-424c-e348-7893943bb334"
      },
      "outputs": [
        {
          "output_type": "execute_result",
          "data": {
            "text/plain": [
              "888"
            ]
          },
          "metadata": {},
          "execution_count": 18
        }
      ],
      "source": [
        "data[data['FuelType'].isin(['cng', 'hybrid', 'electric', 'others'])]['Price'].count()\n"
      ]
    },
    {
      "cell_type": "code",
      "execution_count": 19,
      "metadata": {
        "scrolled": true,
        "colab": {
          "base_uri": "https://localhost:8080/",
          "height": 669
        },
        "id": "O5L_G_cRHns5",
        "outputId": "03d6c8a6-dcac-46e2-dfa8-7d8c56581a53"
      },
      "outputs": [
        {
          "output_type": "stream",
          "name": "stdout",
          "text": [
            "['petrol' 'gasoline' 'not_mentioned' 'other']\n"
          ]
        },
        {
          "output_type": "display_data",
          "data": {
            "text/plain": [
              "   Price    VehicleType  RegistrationYear Gearbox  Power          Model  \\\n",
              "0    480  not_mentioned              1993  manual      0           golf   \n",
              "1  18300          coupe              2011  manual    190  not_mentioned   \n",
              "2   9800            suv              2004    auto    163          grand   \n",
              "3   1500          small              2001  manual     75           golf   \n",
              "4   3600          small              2008  manual     69          fabia   \n",
              "\n",
              "   Kilometer  RegistrationMonth  FuelType       Brand       Repaired  \\\n",
              "0     150000                  0    petrol  volkswagen  not_mentioned   \n",
              "1     125000                  5  gasoline        audi            yes   \n",
              "2     125000                  8  gasoline        jeep  not_mentioned   \n",
              "3     150000                  6    petrol  volkswagen             no   \n",
              "4      90000                  7  gasoline       skoda             no   \n",
              "\n",
              "   DateCreated  NumberOfPictures  PostalCode  \n",
              "0         2016                 0       70435  \n",
              "1         2016                 0       66954  \n",
              "2         2016                 0       90480  \n",
              "3         2016                 0       91074  \n",
              "4         2016                 0       60437  "
            ],
            "text/html": [
              "\n",
              "  <div id=\"df-700887cb-87a5-4ea9-b529-54fbcc767a0f\">\n",
              "    <div class=\"colab-df-container\">\n",
              "      <div>\n",
              "<style scoped>\n",
              "    .dataframe tbody tr th:only-of-type {\n",
              "        vertical-align: middle;\n",
              "    }\n",
              "\n",
              "    .dataframe tbody tr th {\n",
              "        vertical-align: top;\n",
              "    }\n",
              "\n",
              "    .dataframe thead th {\n",
              "        text-align: right;\n",
              "    }\n",
              "</style>\n",
              "<table border=\"1\" class=\"dataframe\">\n",
              "  <thead>\n",
              "    <tr style=\"text-align: right;\">\n",
              "      <th></th>\n",
              "      <th>Price</th>\n",
              "      <th>VehicleType</th>\n",
              "      <th>RegistrationYear</th>\n",
              "      <th>Gearbox</th>\n",
              "      <th>Power</th>\n",
              "      <th>Model</th>\n",
              "      <th>Kilometer</th>\n",
              "      <th>RegistrationMonth</th>\n",
              "      <th>FuelType</th>\n",
              "      <th>Brand</th>\n",
              "      <th>Repaired</th>\n",
              "      <th>DateCreated</th>\n",
              "      <th>NumberOfPictures</th>\n",
              "      <th>PostalCode</th>\n",
              "    </tr>\n",
              "  </thead>\n",
              "  <tbody>\n",
              "    <tr>\n",
              "      <th>0</th>\n",
              "      <td>480</td>\n",
              "      <td>not_mentioned</td>\n",
              "      <td>1993</td>\n",
              "      <td>manual</td>\n",
              "      <td>0</td>\n",
              "      <td>golf</td>\n",
              "      <td>150000</td>\n",
              "      <td>0</td>\n",
              "      <td>petrol</td>\n",
              "      <td>volkswagen</td>\n",
              "      <td>not_mentioned</td>\n",
              "      <td>2016</td>\n",
              "      <td>0</td>\n",
              "      <td>70435</td>\n",
              "    </tr>\n",
              "    <tr>\n",
              "      <th>1</th>\n",
              "      <td>18300</td>\n",
              "      <td>coupe</td>\n",
              "      <td>2011</td>\n",
              "      <td>manual</td>\n",
              "      <td>190</td>\n",
              "      <td>not_mentioned</td>\n",
              "      <td>125000</td>\n",
              "      <td>5</td>\n",
              "      <td>gasoline</td>\n",
              "      <td>audi</td>\n",
              "      <td>yes</td>\n",
              "      <td>2016</td>\n",
              "      <td>0</td>\n",
              "      <td>66954</td>\n",
              "    </tr>\n",
              "    <tr>\n",
              "      <th>2</th>\n",
              "      <td>9800</td>\n",
              "      <td>suv</td>\n",
              "      <td>2004</td>\n",
              "      <td>auto</td>\n",
              "      <td>163</td>\n",
              "      <td>grand</td>\n",
              "      <td>125000</td>\n",
              "      <td>8</td>\n",
              "      <td>gasoline</td>\n",
              "      <td>jeep</td>\n",
              "      <td>not_mentioned</td>\n",
              "      <td>2016</td>\n",
              "      <td>0</td>\n",
              "      <td>90480</td>\n",
              "    </tr>\n",
              "    <tr>\n",
              "      <th>3</th>\n",
              "      <td>1500</td>\n",
              "      <td>small</td>\n",
              "      <td>2001</td>\n",
              "      <td>manual</td>\n",
              "      <td>75</td>\n",
              "      <td>golf</td>\n",
              "      <td>150000</td>\n",
              "      <td>6</td>\n",
              "      <td>petrol</td>\n",
              "      <td>volkswagen</td>\n",
              "      <td>no</td>\n",
              "      <td>2016</td>\n",
              "      <td>0</td>\n",
              "      <td>91074</td>\n",
              "    </tr>\n",
              "    <tr>\n",
              "      <th>4</th>\n",
              "      <td>3600</td>\n",
              "      <td>small</td>\n",
              "      <td>2008</td>\n",
              "      <td>manual</td>\n",
              "      <td>69</td>\n",
              "      <td>fabia</td>\n",
              "      <td>90000</td>\n",
              "      <td>7</td>\n",
              "      <td>gasoline</td>\n",
              "      <td>skoda</td>\n",
              "      <td>no</td>\n",
              "      <td>2016</td>\n",
              "      <td>0</td>\n",
              "      <td>60437</td>\n",
              "    </tr>\n",
              "  </tbody>\n",
              "</table>\n",
              "</div>\n",
              "      <button class=\"colab-df-convert\" onclick=\"convertToInteractive('df-700887cb-87a5-4ea9-b529-54fbcc767a0f')\"\n",
              "              title=\"Convert this dataframe to an interactive table.\"\n",
              "              style=\"display:none;\">\n",
              "        \n",
              "  <svg xmlns=\"http://www.w3.org/2000/svg\" height=\"24px\"viewBox=\"0 0 24 24\"\n",
              "       width=\"24px\">\n",
              "    <path d=\"M0 0h24v24H0V0z\" fill=\"none\"/>\n",
              "    <path d=\"M18.56 5.44l.94 2.06.94-2.06 2.06-.94-2.06-.94-.94-2.06-.94 2.06-2.06.94zm-11 1L8.5 8.5l.94-2.06 2.06-.94-2.06-.94L8.5 2.5l-.94 2.06-2.06.94zm10 10l.94 2.06.94-2.06 2.06-.94-2.06-.94-.94-2.06-.94 2.06-2.06.94z\"/><path d=\"M17.41 7.96l-1.37-1.37c-.4-.4-.92-.59-1.43-.59-.52 0-1.04.2-1.43.59L10.3 9.45l-7.72 7.72c-.78.78-.78 2.05 0 2.83L4 21.41c.39.39.9.59 1.41.59.51 0 1.02-.2 1.41-.59l7.78-7.78 2.81-2.81c.8-.78.8-2.07 0-2.86zM5.41 20L4 18.59l7.72-7.72 1.47 1.35L5.41 20z\"/>\n",
              "  </svg>\n",
              "      </button>\n",
              "      \n",
              "  <style>\n",
              "    .colab-df-container {\n",
              "      display:flex;\n",
              "      flex-wrap:wrap;\n",
              "      gap: 12px;\n",
              "    }\n",
              "\n",
              "    .colab-df-convert {\n",
              "      background-color: #E8F0FE;\n",
              "      border: none;\n",
              "      border-radius: 50%;\n",
              "      cursor: pointer;\n",
              "      display: none;\n",
              "      fill: #1967D2;\n",
              "      height: 32px;\n",
              "      padding: 0 0 0 0;\n",
              "      width: 32px;\n",
              "    }\n",
              "\n",
              "    .colab-df-convert:hover {\n",
              "      background-color: #E2EBFA;\n",
              "      box-shadow: 0px 1px 2px rgba(60, 64, 67, 0.3), 0px 1px 3px 1px rgba(60, 64, 67, 0.15);\n",
              "      fill: #174EA6;\n",
              "    }\n",
              "\n",
              "    [theme=dark] .colab-df-convert {\n",
              "      background-color: #3B4455;\n",
              "      fill: #D2E3FC;\n",
              "    }\n",
              "\n",
              "    [theme=dark] .colab-df-convert:hover {\n",
              "      background-color: #434B5C;\n",
              "      box-shadow: 0px 1px 3px 1px rgba(0, 0, 0, 0.15);\n",
              "      filter: drop-shadow(0px 1px 2px rgba(0, 0, 0, 0.3));\n",
              "      fill: #FFFFFF;\n",
              "    }\n",
              "  </style>\n",
              "\n",
              "      <script>\n",
              "        const buttonEl =\n",
              "          document.querySelector('#df-700887cb-87a5-4ea9-b529-54fbcc767a0f button.colab-df-convert');\n",
              "        buttonEl.style.display =\n",
              "          google.colab.kernel.accessAllowed ? 'block' : 'none';\n",
              "\n",
              "        async function convertToInteractive(key) {\n",
              "          const element = document.querySelector('#df-700887cb-87a5-4ea9-b529-54fbcc767a0f');\n",
              "          const dataTable =\n",
              "            await google.colab.kernel.invokeFunction('convertToInteractive',\n",
              "                                                     [key], {});\n",
              "          if (!dataTable) return;\n",
              "\n",
              "          const docLinkHtml = 'Like what you see? Visit the ' +\n",
              "            '<a target=\"_blank\" href=https://colab.research.google.com/notebooks/data_table.ipynb>data table notebook</a>'\n",
              "            + ' to learn more about interactive tables.';\n",
              "          element.innerHTML = '';\n",
              "          dataTable['output_type'] = 'display_data';\n",
              "          await google.colab.output.renderOutput(dataTable, element);\n",
              "          const docLink = document.createElement('div');\n",
              "          docLink.innerHTML = docLinkHtml;\n",
              "          element.appendChild(docLink);\n",
              "        }\n",
              "      </script>\n",
              "    </div>\n",
              "  </div>\n",
              "  "
            ]
          },
          "metadata": {}
        },
        {
          "output_type": "stream",
          "name": "stdout",
          "text": [
            "<class 'pandas.core.frame.DataFrame'>\n",
            "Int64Index: 354365 entries, 0 to 354368\n",
            "Data columns (total 14 columns):\n",
            " #   Column             Non-Null Count   Dtype \n",
            "---  ------             --------------   ----- \n",
            " 0   Price              354365 non-null  int64 \n",
            " 1   VehicleType        354365 non-null  object\n",
            " 2   RegistrationYear   354365 non-null  int64 \n",
            " 3   Gearbox            354365 non-null  object\n",
            " 4   Power              354365 non-null  int64 \n",
            " 5   Model              354365 non-null  object\n",
            " 6   Kilometer          354365 non-null  int64 \n",
            " 7   RegistrationMonth  354365 non-null  int64 \n",
            " 8   FuelType           354365 non-null  object\n",
            " 9   Brand              354365 non-null  object\n",
            " 10  Repaired           354365 non-null  object\n",
            " 11  DateCreated        354365 non-null  int64 \n",
            " 12  NumberOfPictures   354365 non-null  int64 \n",
            " 13  PostalCode         354365 non-null  int64 \n",
            "dtypes: int64(8), object(6)\n",
            "memory usage: 40.6+ MB\n",
            "None\n"
          ]
        }
      ],
      "source": [
        "data.loc[data['FuelType'].isin(['cng', 'hybrid', 'electric', 'lpg']), 'FuelType'] = 'other'\n",
        "print(data['FuelType'].unique())\n",
        "display(data.head(5))\n",
        "print(data.info())"
      ]
    },
    {
      "cell_type": "markdown",
      "metadata": {
        "id": "vSVgEayPHns5"
      },
      "source": [
        "#### Рассмортим распределение численных значений"
      ]
    },
    {
      "cell_type": "code",
      "execution_count": 20,
      "metadata": {
        "scrolled": true,
        "colab": {
          "base_uri": "https://localhost:8080/",
          "height": 1000
        },
        "id": "PMtTpyA_Hns5",
        "outputId": "e62f47e4-4c6a-491b-ce06-4b5b50e72290"
      },
      "outputs": [
        {
          "output_type": "display_data",
          "data": {
            "text/plain": [
              "<Figure size 640x480 with 1 Axes>"
            ],
            "image/png": "[encoded data removed]"
          },
          "metadata": {}
        },
        {
          "output_type": "display_data",
          "data": {
            "text/plain": [
              "<Figure size 1000x500 with 1 Axes>"
            ],
            "image/png": "[encoded data removed]"
          },
          "metadata": {}
        },
        {
          "output_type": "display_data",
          "data": {
            "text/plain": [
              "<Figure size 1000x500 with 1 Axes>"
            ],
            "image/png": "[encoded data removed]"
          },
          "metadata": {}
        }
      ],
      "source": [
        "for col in ['Power', 'Kilometer', 'Price']:\n",
        "    sns.distplot(data[col],\n",
        "                     label = 'col',\n",
        "                     hist = False) \n",
        "    # Plot formatting\n",
        "    sns.set(rc = {'figure.figsize':(10,5)})\n",
        "#    plt.legend(prop={'size': 10}, title = 'datasets')\n",
        "#    plt.title('rougher.input.feed_size')\n",
        " #   plt.xlabel('feed size')\n",
        "  #  plt.ylabel('number of processes')\n",
        "    plt.xlim(data[col].min(), data[col].max())\n",
        "    plt.show()\n",
        "    #games.hist('year_of_release', bins = 37, range = (1980, 2016))\n",
        "    #data.disthist(col, bins = 100, figsize = (8, 4))#['Brand'].sum().plot(kind = 'bar')\n",
        "#    estate.hist('floors_total', bins = 30, range = (0, 30), figsize = (8, 4))\n"
      ]
    },
    {
      "cell_type": "code",
      "execution_count": 21,
      "metadata": {
        "scrolled": true,
        "colab": {
          "base_uri": "https://localhost:8080/",
          "height": 1000
        },
        "id": "gXgs8ME1Hns5",
        "outputId": "492ca98f-f542-4648-e752-31258b69065b"
      },
      "outputs": [
        {
          "output_type": "display_data",
          "data": {
            "text/plain": [
              "<Figure size 1000x500 with 1 Axes>"
            ],
            "image/png": "[encoded data removed]"
          },
          "metadata": {}
        },
        {
          "output_type": "display_data",
          "data": {
            "text/plain": [
              "<Figure size 1000x500 with 1 Axes>"
            ],
            "image/png": "[encoded data removed]"
          },
          "metadata": {}
        },
        {
          "output_type": "display_data",
          "data": {
            "text/plain": [
              "<Figure size 1000x500 with 1 Axes>"
            ],
            "image/png": "[encoded data removed]"
          },
          "metadata": {}
        }
      ],
      "source": [
        "for col in ['Kilometer', 'Price']:\n",
        "    data.hist(col, bins = 100, range = (data[col].min(), data[col].max()))\n",
        "    plt.show()\n",
        "data.hist('Power', bins = 100, range = (data['Power'].min(), data['Power'].quantile(0.9)))\n",
        "plt.show()"
      ]
    },
    {
      "cell_type": "code",
      "execution_count": 22,
      "metadata": {
        "scrolled": false,
        "colab": {
          "base_uri": "https://localhost:8080/",
          "height": 817
        },
        "id": "d7vHMAS9Hns6",
        "outputId": "26e5ee7f-367a-46c8-e817-edcf03e11c53"
      },
      "outputs": [
        {
          "output_type": "stream",
          "name": "stdout",
          "text": [
            "40225\n",
            "10772\n",
            "[1993 2011 2004 2001 2008 1995 1980 2014 1998 2005 1910 2016 2007 2009\n",
            " 2002 2018 1997 1990 2017 1981 2003 1994 1991 1984 2006 1999 2012 2010\n",
            " 2000 1992 2013 1996 1985 1989 2015 1982 1976 1983 1973 1111 1969 1971\n",
            " 1987 1986 1988 1970 1965 1945 1925 1974 1979 1955 1978 1972 1968 1977\n",
            " 1961 1960 1966 1975 1963 1964 5000 1954 1958 1967 1959 9999 1956 3200\n",
            " 1000 1941 8888 1500 2200 4100 1962 1929 1957 1940 3000 2066 1949 2019\n",
            " 1937 1951 1800 1953 1234 8000 5300 9000 2900 6000 5900 5911 1933 1400\n",
            " 1950 4000 1948 1952 1200 8500 1932 1255 3700 3800 4800 1942 7000 1935\n",
            " 1936 6500 1923 2290 2500 1930 1001 9450 1944 1943 1934 1938 1688 2800\n",
            " 1253 1928 1919 5555 5600 1600 2222 1039 9996 1300 8455 1931 1915 4500\n",
            " 1920 1602 7800 9229 1947 1927 7100 8200 1946 7500 3500]\n",
            "66\n",
            "105\n",
            "0\n",
            "[5000 9999 3200 8888 2200 4100 3000 2066 8000 5300 9000 2900 6000 5900\n",
            " 5911 4000 8500 3700 3800 4800 7000 6500 2290 2500 9450 2800 5555 5600\n",
            " 2222 9996 8455 4500 7800 9229 7100 8200 7500 3500]\n"
          ]
        },
        {
          "output_type": "display_data",
          "data": {
            "text/plain": [
              "        Price    VehicleType  RegistrationYear        Gearbox  Power  \\\n",
              "15        450          small              1910  not_mentioned      0   \n",
              "2273     1800    convertible              1925  not_mentioned      0   \n",
              "6629        0          small              1910  not_mentioned      0   \n",
              "6977      135  not_mentioned              1910  not_mentioned      0   \n",
              "10183    1250  not_mentioned              1910  not_mentioned      0   \n",
              "...       ...            ...               ...            ...    ...   \n",
              "333004      0            suv              1910         manual      0   \n",
              "334901   1300  not_mentioned              1910  not_mentioned      0   \n",
              "336104  20000          coupe              1929         manual     12   \n",
              "343083      1          other              1910  not_mentioned      0   \n",
              "353961    200  not_mentioned              1910  not_mentioned      0   \n",
              "\n",
              "                Model  Kilometer  RegistrationMonth       FuelType  \\\n",
              "15                 ka       5000                  0         petrol   \n",
              "2273    not_mentioned       5000                  1  not_mentioned   \n",
              "6629    not_mentioned       5000                  1          other   \n",
              "6977    not_mentioned       5000                  0  not_mentioned   \n",
              "10183           other       5000                  0  not_mentioned   \n",
              "...               ...        ...                ...            ...   \n",
              "333004  not_mentioned       5000                  0  not_mentioned   \n",
              "334901  not_mentioned       5000                  9  not_mentioned   \n",
              "336104          other      10000                  4         petrol   \n",
              "343083  not_mentioned       5000                  1          other   \n",
              "353961  not_mentioned       5000                  0         petrol   \n",
              "\n",
              "                 Brand       Repaired  DateCreated  NumberOfPictures  \\\n",
              "15                ford  not_mentioned         2016                 0   \n",
              "2273    sonstige_autos             no         2016                 0   \n",
              "6629    sonstige_autos  not_mentioned         2016                 0   \n",
              "6977              opel  not_mentioned         2016                 0   \n",
              "10183             audi  not_mentioned         2016                 0   \n",
              "...                ...            ...          ...               ...   \n",
              "333004          toyota  not_mentioned         2016                 0   \n",
              "334901            audi  not_mentioned         2016                 0   \n",
              "336104             bmw  not_mentioned         2016                 0   \n",
              "343083      volkswagen  not_mentioned         2016                 0   \n",
              "353961  sonstige_autos  not_mentioned         2016                 0   \n",
              "\n",
              "        PostalCode  \n",
              "15           24148  \n",
              "2273         79288  \n",
              "6629         93105  \n",
              "6977         19374  \n",
              "10183        18445  \n",
              "...            ...  \n",
              "333004       48683  \n",
              "334901       82256  \n",
              "336104       74523  \n",
              "343083       18273  \n",
              "353961       42289  \n",
              "\n",
              "[117 rows x 14 columns]"
            ],
            "text/html": [
              "\n",
              "  <div id=\"df-d7392130-a454-4bf5-8ebd-fe977ae72087\">\n",
              "    <div class=\"colab-df-container\">\n",
              "      <div>\n",
              "<style scoped>\n",
              "    .dataframe tbody tr th:only-of-type {\n",
              "        vertical-align: middle;\n",
              "    }\n",
              "\n",
              "    .dataframe tbody tr th {\n",
              "        vertical-align: top;\n",
              "    }\n",
              "\n",
              "    .dataframe thead th {\n",
              "        text-align: right;\n",
              "    }\n",
              "</style>\n",
              "<table border=\"1\" class=\"dataframe\">\n",
              "  <thead>\n",
              "    <tr style=\"text-align: right;\">\n",
              "      <th></th>\n",
              "      <th>Price</th>\n",
              "      <th>VehicleType</th>\n",
              "      <th>RegistrationYear</th>\n",
              "      <th>Gearbox</th>\n",
              "      <th>Power</th>\n",
              "      <th>Model</th>\n",
              "      <th>Kilometer</th>\n",
              "      <th>RegistrationMonth</th>\n",
              "      <th>FuelType</th>\n",
              "      <th>Brand</th>\n",
              "      <th>Repaired</th>\n",
              "      <th>DateCreated</th>\n",
              "      <th>NumberOfPictures</th>\n",
              "      <th>PostalCode</th>\n",
              "    </tr>\n",
              "  </thead>\n",
              "  <tbody>\n",
              "    <tr>\n",
              "      <th>15</th>\n",
              "      <td>450</td>\n",
              "      <td>small</td>\n",
              "      <td>1910</td>\n",
              "      <td>not_mentioned</td>\n",
              "      <td>0</td>\n",
              "      <td>ka</td>\n",
              "      <td>5000</td>\n",
              "      <td>0</td>\n",
              "      <td>petrol</td>\n",
              "      <td>ford</td>\n",
              "      <td>not_mentioned</td>\n",
              "      <td>2016</td>\n",
              "      <td>0</td>\n",
              "      <td>24148</td>\n",
              "    </tr>\n",
              "    <tr>\n",
              "      <th>2273</th>\n",
              "      <td>1800</td>\n",
              "      <td>convertible</td>\n",
              "      <td>1925</td>\n",
              "      <td>not_mentioned</td>\n",
              "      <td>0</td>\n",
              "      <td>not_mentioned</td>\n",
              "      <td>5000</td>\n",
              "      <td>1</td>\n",
              "      <td>not_mentioned</td>\n",
              "      <td>sonstige_autos</td>\n",
              "      <td>no</td>\n",
              "      <td>2016</td>\n",
              "      <td>0</td>\n",
              "      <td>79288</td>\n",
              "    </tr>\n",
              "    <tr>\n",
              "      <th>6629</th>\n",
              "      <td>0</td>\n",
              "      <td>small</td>\n",
              "      <td>1910</td>\n",
              "      <td>not_mentioned</td>\n",
              "      <td>0</td>\n",
              "      <td>not_mentioned</td>\n",
              "      <td>5000</td>\n",
              "      <td>1</td>\n",
              "      <td>other</td>\n",
              "      <td>sonstige_autos</td>\n",
              "      <td>not_mentioned</td>\n",
              "      <td>2016</td>\n",
              "      <td>0</td>\n",
              "      <td>93105</td>\n",
              "    </tr>\n",
              "    <tr>\n",
              "      <th>6977</th>\n",
              "      <td>135</td>\n",
              "      <td>not_mentioned</td>\n",
              "      <td>1910</td>\n",
              "      <td>not_mentioned</td>\n",
              "      <td>0</td>\n",
              "      <td>not_mentioned</td>\n",
              "      <td>5000</td>\n",
              "      <td>0</td>\n",
              "      <td>not_mentioned</td>\n",
              "      <td>opel</td>\n",
              "      <td>not_mentioned</td>\n",
              "      <td>2016</td>\n",
              "      <td>0</td>\n",
              "      <td>19374</td>\n",
              "    </tr>\n",
              "    <tr>\n",
              "      <th>10183</th>\n",
              "      <td>1250</td>\n",
              "      <td>not_mentioned</td>\n",
              "      <td>1910</td>\n",
              "      <td>not_mentioned</td>\n",
              "      <td>0</td>\n",
              "      <td>other</td>\n",
              "      <td>5000</td>\n",
              "      <td>0</td>\n",
              "      <td>not_mentioned</td>\n",
              "      <td>audi</td>\n",
              "      <td>not_mentioned</td>\n",
              "      <td>2016</td>\n",
              "      <td>0</td>\n",
              "      <td>18445</td>\n",
              "    </tr>\n",
              "    <tr>\n",
              "      <th>...</th>\n",
              "      <td>...</td>\n",
              "      <td>...</td>\n",
              "      <td>...</td>\n",
              "      <td>...</td>\n",
              "      <td>...</td>\n",
              "      <td>...</td>\n",
              "      <td>...</td>\n",
              "      <td>...</td>\n",
              "      <td>...</td>\n",
              "      <td>...</td>\n",
              "      <td>...</td>\n",
              "      <td>...</td>\n",
              "      <td>...</td>\n",
              "      <td>...</td>\n",
              "    </tr>\n",
              "    <tr>\n",
              "      <th>333004</th>\n",
              "      <td>0</td>\n",
              "      <td>suv</td>\n",
              "      <td>1910</td>\n",
              "      <td>manual</td>\n",
              "      <td>0</td>\n",
              "      <td>not_mentioned</td>\n",
              "      <td>5000</td>\n",
              "      <td>0</td>\n",
              "      <td>not_mentioned</td>\n",
              "      <td>toyota</td>\n",
              "      <td>not_mentioned</td>\n",
              "      <td>2016</td>\n",
              "      <td>0</td>\n",
              "      <td>48683</td>\n",
              "    </tr>\n",
              "    <tr>\n",
              "      <th>334901</th>\n",
              "      <td>1300</td>\n",
              "      <td>not_mentioned</td>\n",
              "      <td>1910</td>\n",
              "      <td>not_mentioned</td>\n",
              "      <td>0</td>\n",
              "      <td>not_mentioned</td>\n",
              "      <td>5000</td>\n",
              "      <td>9</td>\n",
              "      <td>not_mentioned</td>\n",
              "      <td>audi</td>\n",
              "      <td>not_mentioned</td>\n",
              "      <td>2016</td>\n",
              "      <td>0</td>\n",
              "      <td>82256</td>\n",
              "    </tr>\n",
              "    <tr>\n",
              "      <th>336104</th>\n",
              "      <td>20000</td>\n",
              "      <td>coupe</td>\n",
              "      <td>1929</td>\n",
              "      <td>manual</td>\n",
              "      <td>12</td>\n",
              "      <td>other</td>\n",
              "      <td>10000</td>\n",
              "      <td>4</td>\n",
              "      <td>petrol</td>\n",
              "      <td>bmw</td>\n",
              "      <td>not_mentioned</td>\n",
              "      <td>2016</td>\n",
              "      <td>0</td>\n",
              "      <td>74523</td>\n",
              "    </tr>\n",
              "    <tr>\n",
              "      <th>343083</th>\n",
              "      <td>1</td>\n",
              "      <td>other</td>\n",
              "      <td>1910</td>\n",
              "      <td>not_mentioned</td>\n",
              "      <td>0</td>\n",
              "      <td>not_mentioned</td>\n",
              "      <td>5000</td>\n",
              "      <td>1</td>\n",
              "      <td>other</td>\n",
              "      <td>volkswagen</td>\n",
              "      <td>not_mentioned</td>\n",
              "      <td>2016</td>\n",
              "      <td>0</td>\n",
              "      <td>18273</td>\n",
              "    </tr>\n",
              "    <tr>\n",
              "      <th>353961</th>\n",
              "      <td>200</td>\n",
              "      <td>not_mentioned</td>\n",
              "      <td>1910</td>\n",
              "      <td>not_mentioned</td>\n",
              "      <td>0</td>\n",
              "      <td>not_mentioned</td>\n",
              "      <td>5000</td>\n",
              "      <td>0</td>\n",
              "      <td>petrol</td>\n",
              "      <td>sonstige_autos</td>\n",
              "      <td>not_mentioned</td>\n",
              "      <td>2016</td>\n",
              "      <td>0</td>\n",
              "      <td>42289</td>\n",
              "    </tr>\n",
              "  </tbody>\n",
              "</table>\n",
              "<p>117 rows × 14 columns</p>\n",
              "</div>\n",
              "      <button class=\"colab-df-convert\" onclick=\"convertToInteractive('df-d7392130-a454-4bf5-8ebd-fe977ae72087')\"\n",
              "              title=\"Convert this dataframe to an interactive table.\"\n",
              "              style=\"display:none;\">\n",
              "        \n",
              "  <svg xmlns=\"http://www.w3.org/2000/svg\" height=\"24px\"viewBox=\"0 0 24 24\"\n",
              "       width=\"24px\">\n",
              "    <path d=\"M0 0h24v24H0V0z\" fill=\"none\"/>\n",
              "    <path d=\"M18.56 5.44l.94 2.06.94-2.06 2.06-.94-2.06-.94-.94-2.06-.94 2.06-2.06.94zm-11 1L8.5 8.5l.94-2.06 2.06-.94-2.06-.94L8.5 2.5l-.94 2.06-2.06.94zm10 10l.94 2.06.94-2.06 2.06-.94-2.06-.94-.94-2.06-.94 2.06-2.06.94z\"/><path d=\"M17.41 7.96l-1.37-1.37c-.4-.4-.92-.59-1.43-.59-.52 0-1.04.2-1.43.59L10.3 9.45l-7.72 7.72c-.78.78-.78 2.05 0 2.83L4 21.41c.39.39.9.59 1.41.59.51 0 1.02-.2 1.41-.59l7.78-7.78 2.81-2.81c.8-.78.8-2.07 0-2.86zM5.41 20L4 18.59l7.72-7.72 1.47 1.35L5.41 20z\"/>\n",
              "  </svg>\n",
              "      </button>\n",
              "      \n",
              "  <style>\n",
              "    .colab-df-container {\n",
              "      display:flex;\n",
              "      flex-wrap:wrap;\n",
              "      gap: 12px;\n",
              "    }\n",
              "\n",
              "    .colab-df-convert {\n",
              "      background-color: #E8F0FE;\n",
              "      border: none;\n",
              "      border-radius: 50%;\n",
              "      cursor: pointer;\n",
              "      display: none;\n",
              "      fill: #1967D2;\n",
              "      height: 32px;\n",
              "      padding: 0 0 0 0;\n",
              "      width: 32px;\n",
              "    }\n",
              "\n",
              "    .colab-df-convert:hover {\n",
              "      background-color: #E2EBFA;\n",
              "      box-shadow: 0px 1px 2px rgba(60, 64, 67, 0.3), 0px 1px 3px 1px rgba(60, 64, 67, 0.15);\n",
              "      fill: #174EA6;\n",
              "    }\n",
              "\n",
              "    [theme=dark] .colab-df-convert {\n",
              "      background-color: #3B4455;\n",
              "      fill: #D2E3FC;\n",
              "    }\n",
              "\n",
              "    [theme=dark] .colab-df-convert:hover {\n",
              "      background-color: #434B5C;\n",
              "      box-shadow: 0px 1px 3px 1px rgba(0, 0, 0, 0.15);\n",
              "      filter: drop-shadow(0px 1px 2px rgba(0, 0, 0, 0.3));\n",
              "      fill: #FFFFFF;\n",
              "    }\n",
              "  </style>\n",
              "\n",
              "      <script>\n",
              "        const buttonEl =\n",
              "          document.querySelector('#df-d7392130-a454-4bf5-8ebd-fe977ae72087 button.colab-df-convert');\n",
              "        buttonEl.style.display =\n",
              "          google.colab.kernel.accessAllowed ? 'block' : 'none';\n",
              "\n",
              "        async function convertToInteractive(key) {\n",
              "          const element = document.querySelector('#df-d7392130-a454-4bf5-8ebd-fe977ae72087');\n",
              "          const dataTable =\n",
              "            await google.colab.kernel.invokeFunction('convertToInteractive',\n",
              "                                                     [key], {});\n",
              "          if (!dataTable) return;\n",
              "\n",
              "          const docLinkHtml = 'Like what you see? Visit the ' +\n",
              "            '<a target=\"_blank\" href=https://colab.research.google.com/notebooks/data_table.ipynb>data table notebook</a>'\n",
              "            + ' to learn more about interactive tables.';\n",
              "          element.innerHTML = '';\n",
              "          dataTable['output_type'] = 'display_data';\n",
              "          await google.colab.output.renderOutput(dataTable, element);\n",
              "          const docLink = document.createElement('div');\n",
              "          docLink.innerHTML = docLinkHtml;\n",
              "          element.appendChild(docLink);\n",
              "        }\n",
              "      </script>\n",
              "    </div>\n",
              "  </div>\n",
              "  "
            ]
          },
          "metadata": {}
        }
      ],
      "source": [
        "print(data[data['Power'] ==0]['Power'].count())\n",
        "print(data[data['Price'] ==0]['Price'].count())\n",
        "print(data['RegistrationYear'].unique())\n",
        "print(data[data['RegistrationYear'] <1886]['RegistrationYear'].count())\n",
        "print(data[data['RegistrationYear'] >2020]['RegistrationYear'].count())\n",
        "print(data[data['RegistrationYear'] ==2020]['RegistrationYear'].count())\n",
        "print(data[data['RegistrationYear'] >2019]['RegistrationYear'].unique())\n",
        "display(data[(data['RegistrationYear'] >1886) & (data['RegistrationYear'] <1930)])"
      ]
    },
    {
      "cell_type": "code",
      "execution_count": 23,
      "metadata": {
        "id": "vgBVe7AYHns6"
      },
      "outputs": [],
      "source": [
        "# убираем авто с неадекватными годами\n",
        "data = data[data['RegistrationYear'] > 1886]\n",
        "data = data[data['RegistrationYear'] < 2020]"
      ]
    },
    {
      "cell_type": "code",
      "execution_count": 24,
      "metadata": {
        "scrolled": true,
        "colab": {
          "base_uri": "https://localhost:8080/"
        },
        "id": "pDr3n62OHns6",
        "outputId": "ba1581bc-2d3a-434e-a098-9f40a3c2b27e"
      },
      "outputs": [
        {
          "output_type": "stream",
          "name": "stdout",
          "text": [
            "485\n"
          ]
        }
      ],
      "source": [
        "#убираем данные с нулевой мощьностью\n",
        "data = data[data['Power'] >0]\n",
        "print(data[data['Power'] >= 500]['Brand'].count())"
      ]
    },
    {
      "cell_type": "code",
      "execution_count": 25,
      "metadata": {
        "id": "JIvpn0gDHns6"
      },
      "outputs": [],
      "source": [
        "data = data[data['Power'] <500]"
      ]
    },
    {
      "cell_type": "markdown",
      "metadata": {
        "id": "NfgvWPHLHns7"
      },
      "source": [
        "нулевая цена - это скорее всего ошибка в заполнении, возможно был какой-то сбой в системе, от этих данных придется избавится. Оставим от 100 евро, возможно кто-то хочет просто избавиться от гнилого металла во дворе. Так же пришлось выбросить данные с нулевой мощьностью и годами меньше 1886 и ббольше 2020"
      ]
    },
    {
      "cell_type": "code",
      "execution_count": 26,
      "metadata": {
        "scrolled": true,
        "colab": {
          "base_uri": "https://localhost:8080/",
          "height": 854
        },
        "id": "g1OuEZDiHns7",
        "outputId": "d6a800bd-1fb7-452c-ab56-26c9fac18a34"
      },
      "outputs": [
        {
          "output_type": "display_data",
          "data": {
            "text/plain": [
              "<Figure size 1000x500 with 1 Axes>"
            ],
            "image/png": "[encoded data removed]"
          },
          "metadata": {}
        },
        {
          "output_type": "stream",
          "name": "stdout",
          "text": [
            "<class 'pandas.core.frame.DataFrame'>\n",
            "Int64Index: 304890 entries, 1 to 354368\n",
            "Data columns (total 14 columns):\n",
            " #   Column             Non-Null Count   Dtype \n",
            "---  ------             --------------   ----- \n",
            " 0   Price              304890 non-null  int64 \n",
            " 1   VehicleType        304890 non-null  object\n",
            " 2   RegistrationYear   304890 non-null  int64 \n",
            " 3   Gearbox            304890 non-null  object\n",
            " 4   Power              304890 non-null  int64 \n",
            " 5   Model              304890 non-null  object\n",
            " 6   Kilometer          304890 non-null  int64 \n",
            " 7   RegistrationMonth  304890 non-null  int64 \n",
            " 8   FuelType           304890 non-null  object\n",
            " 9   Brand              304890 non-null  object\n",
            " 10  Repaired           304890 non-null  object\n",
            " 11  DateCreated        304890 non-null  int64 \n",
            " 12  NumberOfPictures   304890 non-null  int64 \n",
            " 13  PostalCode         304890 non-null  int64 \n",
            "dtypes: int64(8), object(6)\n",
            "memory usage: 34.9+ MB\n",
            "None\n"
          ]
        }
      ],
      "source": [
        "data = data[data['Price'] > 100]\n",
        "data.hist('Price', bins = 100, range = (data['Price'].min(), data['Price'].quantile(0.9)))\n",
        "plt.show()\n",
        "print(data.info())"
      ]
    },
    {
      "cell_type": "markdown",
      "metadata": {
        "id": "2EEqT-_WHns7"
      },
      "source": [
        "#### Категориальные признаки преобразуем для анализа регрессорами. К сожалению, модели создают очень большой массив данных, там много пропусков, попробуем обучение без них."
      ]
    },
    {
      "cell_type": "code",
      "execution_count": 27,
      "metadata": {
        "scrolled": true,
        "colab": {
          "base_uri": "https://localhost:8080/"
        },
        "id": "zOUrftIlHns7",
        "outputId": "276d563f-80a0-4966-b043-f35b0283e4c8"
      },
      "outputs": [
        {
          "output_type": "stream",
          "name": "stdout",
          "text": [
            "<class 'pandas.core.frame.DataFrame'>\n",
            "Int64Index: 304890 entries, 1 to 354368\n",
            "Data columns (total 14 columns):\n",
            " #   Column             Non-Null Count   Dtype \n",
            "---  ------             --------------   ----- \n",
            " 0   Price              304890 non-null  int64 \n",
            " 1   VehicleType        304890 non-null  object\n",
            " 2   RegistrationYear   304890 non-null  int64 \n",
            " 3   Gearbox            304890 non-null  object\n",
            " 4   Power              304890 non-null  int64 \n",
            " 5   Model              304890 non-null  object\n",
            " 6   Kilometer          304890 non-null  int64 \n",
            " 7   RegistrationMonth  304890 non-null  int64 \n",
            " 8   FuelType           304890 non-null  object\n",
            " 9   Brand              304890 non-null  object\n",
            " 10  Repaired           304890 non-null  object\n",
            " 11  DateCreated        304890 non-null  int64 \n",
            " 12  NumberOfPictures   304890 non-null  int64 \n",
            " 13  PostalCode         304890 non-null  int64 \n",
            "dtypes: int64(8), object(6)\n",
            "memory usage: 34.9+ MB\n",
            "None\n"
          ]
        }
      ],
      "source": [
        "# сохраним с кат признаками, чтобы использовать потом в CATboost\n",
        "data_cat = data.copy()\n",
        "print(data.info())"
      ]
    },
    {
      "cell_type": "code",
      "execution_count": 28,
      "metadata": {
        "colab": {
          "base_uri": "https://localhost:8080/"
        },
        "id": "xfRmMMnnHns8",
        "outputId": "b81b5e0e-f7b6-430c-85db-d8098516a030"
      },
      "outputs": [
        {
          "output_type": "stream",
          "name": "stdout",
          "text": [
            "<class 'pandas.core.frame.DataFrame'>\n",
            "Int64Index: 304890 entries, 1 to 354368\n",
            "Data columns (total 13 columns):\n",
            " #   Column             Non-Null Count   Dtype \n",
            "---  ------             --------------   ----- \n",
            " 0   Price              304890 non-null  int64 \n",
            " 1   VehicleType        304890 non-null  object\n",
            " 2   RegistrationYear   304890 non-null  int64 \n",
            " 3   Gearbox            304890 non-null  object\n",
            " 4   Power              304890 non-null  int64 \n",
            " 5   Kilometer          304890 non-null  int64 \n",
            " 6   RegistrationMonth  304890 non-null  int64 \n",
            " 7   FuelType           304890 non-null  object\n",
            " 8   Brand              304890 non-null  object\n",
            " 9   Repaired           304890 non-null  object\n",
            " 10  DateCreated        304890 non-null  int64 \n",
            " 11  NumberOfPictures   304890 non-null  int64 \n",
            " 12  PostalCode         304890 non-null  int64 \n",
            "dtypes: int64(8), object(5)\n",
            "memory usage: 32.6+ MB\n",
            "None\n"
          ]
        }
      ],
      "source": [
        "data = data.drop('Model', axis =1)\n",
        "print(data.info())"
      ]
    },
    {
      "cell_type": "markdown",
      "metadata": {
        "id": "MmcPRUcXHns8"
      },
      "source": [
        "от исходных 354 тысяч строк осталось 305 - немного больше 85%. посмотрим на обучаемость моделей."
      ]
    },
    {
      "cell_type": "code",
      "execution_count": 29,
      "metadata": {
        "colab": {
          "base_uri": "https://localhost:8080/"
        },
        "id": "GUr7hCKvHns9",
        "outputId": "ad5a385d-1982-4c36-a5c0-81760aee712c"
      },
      "outputs": [
        {
          "output_type": "stream",
          "name": "stdout",
          "text": [
            "[0]\n",
            "Empty DataFrame\n",
            "Columns: [Price, VehicleType, RegistrationYear, Gearbox, Power, Kilometer, RegistrationMonth, FuelType, Brand, Repaired, DateCreated, NumberOfPictures, PostalCode]\n",
            "Index: []\n"
          ]
        }
      ],
      "source": [
        "print(data['NumberOfPictures'].unique())\n",
        "print(data[data['NumberOfPictures']>0])"
      ]
    },
    {
      "cell_type": "code",
      "execution_count": 30,
      "metadata": {
        "colab": {
          "base_uri": "https://localhost:8080/"
        },
        "id": "B1QmAP7bHns9",
        "outputId": "f1deed83-12cc-4359-b729-a0105b844b83"
      },
      "outputs": [
        {
          "output_type": "stream",
          "name": "stdout",
          "text": [
            "<class 'pandas.core.frame.DataFrame'>\n",
            "Int64Index: 304890 entries, 1 to 354368\n",
            "Data columns (total 12 columns):\n",
            " #   Column             Non-Null Count   Dtype \n",
            "---  ------             --------------   ----- \n",
            " 0   Price              304890 non-null  int64 \n",
            " 1   VehicleType        304890 non-null  object\n",
            " 2   RegistrationYear   304890 non-null  int64 \n",
            " 3   Gearbox            304890 non-null  object\n",
            " 4   Power              304890 non-null  int64 \n",
            " 5   Kilometer          304890 non-null  int64 \n",
            " 6   RegistrationMonth  304890 non-null  int64 \n",
            " 7   FuelType           304890 non-null  object\n",
            " 8   Brand              304890 non-null  object\n",
            " 9   Repaired           304890 non-null  object\n",
            " 10  DateCreated        304890 non-null  int64 \n",
            " 11  PostalCode         304890 non-null  int64 \n",
            "dtypes: int64(7), object(5)\n",
            "memory usage: 30.2+ MB\n",
            "None\n"
          ]
        }
      ],
      "source": [
        "data = data.drop('NumberOfPictures', axis = 1)\n",
        "print(data.info())"
      ]
    },
    {
      "cell_type": "markdown",
      "metadata": {
        "id": "cuRLlFNAHns9"
      },
      "source": [
        "Промежуточный вывод:\n",
        "    \n",
        "* предоставленные данные содержали много пропусков и ошибок, к сожалению из-за них пришлось отказаться от 15% массива. \n",
        "\n",
        "* форматы дат были переведены в числовой, от некоторых параметров мы отказались ввиду их несодержательности.\n",
        "\n",
        "* некоторые категориальные параметры были объединены для упрощения анализа.\n",
        "\n",
        "* от информации о моделях автомобиля пришлось отказаться.\n",
        "\n",
        "* возможно, есть смысл переработать форму подачи объявления, а в частности:\n",
        "  * километраж сделать цифровым полем\n",
        "  * год выпуска в виде выпадающего меню\n",
        "  * заполнение дат автоматизировать в формате DateTime"
      ]
    },
    {
      "cell_type": "markdown",
      "metadata": {
        "id": "XOiHCxPYHns9"
      },
      "source": [
        "## Обучение моделей"
      ]
    },
    {
      "cell_type": "markdown",
      "metadata": {
        "id": "5upR7IW_Hns9"
      },
      "source": [
        "### Подготовьте выборки для обучения моделей."
      ]
    },
    {
      "cell_type": "code",
      "execution_count": 31,
      "metadata": {
        "scrolled": true,
        "colab": {
          "base_uri": "https://localhost:8080/"
        },
        "id": "dGqfDjw8Hns9",
        "outputId": "0332277f-14a3-4dd6-da71-e1c34799bc42"
      },
      "outputs": [
        {
          "output_type": "stream",
          "name": "stdout",
          "text": [
            "(182934, 11)\n",
            "(60978, 11)\n",
            "(60978, 11)\n",
            "(60978,)\n",
            "(182934,)\n",
            "(60978,)\n"
          ]
        }
      ],
      "source": [
        "features = data.drop(['Price'], axis = 1)\n",
        "target = data['Price']\n",
        "rand_value = 12345\n",
        "features_train, features_test, target_train, target_test = train_test_split(\n",
        "    features, target, test_size=0.20, random_state=rand_value)#, stratify=target)\n",
        "    \n",
        "features_train, features_valid, target_train, target_valid = train_test_split(\n",
        "    features_train, target_train, test_size=0.25, random_state=rand_value)\n",
        "print(features_train.shape)\n",
        "print(features_test.shape)\n",
        "print(features_valid.shape)\n",
        "print(target_valid.shape)\n",
        "print(target_train.shape)\n",
        "print(target_test.shape)\n",
        "features_original, target_original = features.copy(), target.copy()"
      ]
    },
    {
      "cell_type": "code",
      "execution_count": 32,
      "metadata": {
        "scrolled": true,
        "colab": {
          "base_uri": "https://localhost:8080/"
        },
        "id": "XBig5xsgHns-",
        "outputId": "d48e750e-41a8-4e5b-dd0b-e25625222072"
      },
      "outputs": [
        {
          "output_type": "stream",
          "name": "stdout",
          "text": [
            "<class 'pandas.core.frame.DataFrame'>\n",
            "Int64Index: 182934 entries, 165178 to 77494\n",
            "Data columns (total 11 columns):\n",
            " #   Column             Non-Null Count   Dtype \n",
            "---  ------             --------------   ----- \n",
            " 0   VehicleType        182934 non-null  object\n",
            " 1   RegistrationYear   182934 non-null  int64 \n",
            " 2   Gearbox            182934 non-null  object\n",
            " 3   Power              182934 non-null  int64 \n",
            " 4   Kilometer          182934 non-null  int64 \n",
            " 5   RegistrationMonth  182934 non-null  int64 \n",
            " 6   FuelType           182934 non-null  object\n",
            " 7   Brand              182934 non-null  object\n",
            " 8   Repaired           182934 non-null  object\n",
            " 9   DateCreated        182934 non-null  int64 \n",
            " 10  PostalCode         182934 non-null  int64 \n",
            "dtypes: int64(6), object(5)\n",
            "memory usage: 16.7+ MB\n",
            "None\n",
            "['VehicleType', 'Gearbox', 'FuelType', 'Brand', 'Repaired']\n",
            "['RegistrationYear', 'Power', 'Kilometer', 'RegistrationMonth', 'DateCreated', 'PostalCode']\n"
          ]
        }
      ],
      "source": [
        "print(features_train.info())\n",
        "ohe_features = features_train.select_dtypes(include='object').columns.to_list()\n",
        "num_features = features_train.select_dtypes(exclude='object').columns.to_list()\n",
        "print(ohe_features)\n",
        "print(num_features)"
      ]
    },
    {
      "cell_type": "markdown",
      "source": [
        "### Создаем Scaler"
      ],
      "metadata": {
        "id": "_pYE0sU_LsKX"
      }
    },
    {
      "cell_type": "code",
      "execution_count": 33,
      "metadata": {
        "colab": {
          "base_uri": "https://localhost:8080/"
        },
        "id": "_gMF5PHlHns-",
        "outputId": "0b5189f5-1cd4-470f-efdf-f3fa3bc060ad"
      },
      "outputs": [
        {
          "output_type": "stream",
          "name": "stdout",
          "text": [
            "        RegistrationYear     Power  Kilometer  RegistrationMonth  DateCreated  \\\n",
            "165178         -0.335906  0.936548   0.587213           0.839690      0.00964   \n",
            "192213         -0.335906  0.936548   0.587213          -1.665040      0.00964   \n",
            "84515           0.818961  2.101207   0.587213          -1.108433      0.00964   \n",
            "159736          0.674603 -0.829224   0.587213           1.117994      0.00964   \n",
            "334959         -0.480264 -1.167351   0.587213           1.396297      0.00964   \n",
            "...                  ...       ...        ...                ...          ...   \n",
            "120851          1.107678  0.429358  -1.598941          -1.108433      0.00964   \n",
            "197900          0.385886 -0.998287  -1.598941           0.839690      0.00964   \n",
            "183310          0.097169  0.654776   0.587213           1.674600      0.00964   \n",
            "130128          0.241528 -1.129781   0.587213          -0.273523      0.00964   \n",
            "77494          -0.913339 -0.077832   0.587213           1.117994      0.00964   \n",
            "\n",
            "        PostalCode  \n",
            "165178    0.046565  \n",
            "192213    0.636362  \n",
            "84515     0.546511  \n",
            "159736   -0.458311  \n",
            "334959    0.545385  \n",
            "...            ...  \n",
            "120851    0.510221  \n",
            "197900    0.197662  \n",
            "183310   -1.817725  \n",
            "130128    0.269272  \n",
            "77494     0.662444  \n",
            "\n",
            "[182934 rows x 6 columns]\n"
          ]
        }
      ],
      "source": [
        "# создаём скелер\n",
        "scaler = StandardScaler()\n",
        "\n",
        "# обучаем его на численных признаках тренировочной выборки, трансформируем её же\n",
        "features_train[num_features] = scaler.fit_transform(features_train[num_features])\n",
        "print(features_train[num_features])"
      ]
    },
    {
      "cell_type": "code",
      "execution_count": 34,
      "metadata": {
        "colab": {
          "base_uri": "https://localhost:8080/",
          "height": 487
        },
        "id": "zd-dCP4OHns-",
        "outputId": "19b98a2d-4430-4036-ae74-8d68c26a9fdc"
      },
      "outputs": [
        {
          "output_type": "display_data",
          "data": {
            "text/plain": [
              "        RegistrationYear     Power  Kilometer  RegistrationMonth  DateCreated  \\\n",
              "165178         -0.335906  0.936548   0.587213           0.839690      0.00964   \n",
              "192213         -0.335906  0.936548   0.587213          -1.665040      0.00964   \n",
              "84515           0.818961  2.101207   0.587213          -1.108433      0.00964   \n",
              "159736          0.674603 -0.829224   0.587213           1.117994      0.00964   \n",
              "334959         -0.480264 -1.167351   0.587213           1.396297      0.00964   \n",
              "...                  ...       ...        ...                ...          ...   \n",
              "120851          1.107678  0.429358  -1.598941          -1.108433      0.00964   \n",
              "197900          0.385886 -0.998287  -1.598941           0.839690      0.00964   \n",
              "183310          0.097169  0.654776   0.587213           1.674600      0.00964   \n",
              "130128          0.241528 -1.129781   0.587213          -0.273523      0.00964   \n",
              "77494          -0.913339 -0.077832   0.587213           1.117994      0.00964   \n",
              "\n",
              "        PostalCode  VehicleType_convertible  VehicleType_coupe  \\\n",
              "165178    0.046565                      0.0                0.0   \n",
              "192213    0.636362                      0.0                1.0   \n",
              "84515     0.546511                      0.0                0.0   \n",
              "159736   -0.458311                      0.0                0.0   \n",
              "334959    0.545385                      0.0                0.0   \n",
              "...            ...                      ...                ...   \n",
              "120851    0.510221                      0.0                0.0   \n",
              "197900    0.197662                      0.0                0.0   \n",
              "183310   -1.817725                      0.0                0.0   \n",
              "130128    0.269272                      0.0                0.0   \n",
              "77494     0.662444                      0.0                0.0   \n",
              "\n",
              "        VehicleType_not_mentioned  VehicleType_other  ...  Brand_smart  \\\n",
              "165178                        0.0                0.0  ...          0.0   \n",
              "192213                        0.0                0.0  ...          0.0   \n",
              "84515                         0.0                0.0  ...          0.0   \n",
              "159736                        0.0                0.0  ...          0.0   \n",
              "334959                        0.0                0.0  ...          0.0   \n",
              "...                           ...                ...  ...          ...   \n",
              "120851                        0.0                0.0  ...          0.0   \n",
              "197900                        0.0                0.0  ...          0.0   \n",
              "183310                        0.0                0.0  ...          0.0   \n",
              "130128                        1.0                0.0  ...          0.0   \n",
              "77494                         0.0                0.0  ...          0.0   \n",
              "\n",
              "        Brand_sonstige_autos  Brand_subaru  Brand_suzuki  Brand_toyota  \\\n",
              "165178                   0.0           0.0           0.0           0.0   \n",
              "192213                   0.0           0.0           0.0           0.0   \n",
              "84515                    0.0           0.0           0.0           0.0   \n",
              "159736                   0.0           0.0           0.0           0.0   \n",
              "334959                   0.0           0.0           0.0           0.0   \n",
              "...                      ...           ...           ...           ...   \n",
              "120851                   0.0           0.0           0.0           0.0   \n",
              "197900                   0.0           0.0           0.0           0.0   \n",
              "183310                   0.0           0.0           0.0           0.0   \n",
              "130128                   0.0           0.0           0.0           0.0   \n",
              "77494                    0.0           0.0           0.0           0.0   \n",
              "\n",
              "        Brand_trabant  Brand_volkswagen  Brand_volvo  Repaired_not_mentioned  \\\n",
              "165178            0.0               0.0          0.0                     0.0   \n",
              "192213            0.0               0.0          0.0                     0.0   \n",
              "84515             0.0               0.0          0.0                     0.0   \n",
              "159736            0.0               0.0          0.0                     0.0   \n",
              "334959            0.0               0.0          0.0                     0.0   \n",
              "...               ...               ...          ...                     ...   \n",
              "120851            0.0               0.0          0.0                     0.0   \n",
              "197900            0.0               0.0          0.0                     0.0   \n",
              "183310            0.0               0.0          0.0                     0.0   \n",
              "130128            0.0               0.0          0.0                     1.0   \n",
              "77494             0.0               0.0          0.0                     0.0   \n",
              "\n",
              "        Repaired_yes  \n",
              "165178           0.0  \n",
              "192213           0.0  \n",
              "84515            0.0  \n",
              "159736           0.0  \n",
              "334959           0.0  \n",
              "...              ...  \n",
              "120851           0.0  \n",
              "197900           0.0  \n",
              "183310           0.0  \n",
              "130128           0.0  \n",
              "77494            1.0  \n",
              "\n",
              "[182934 rows x 60 columns]"
            ],
            "text/html": [
              "\n",
              "  <div id=\"df-a3d3045b-7640-48e0-8c9e-1975150a19c4\">\n",
              "    <div class=\"colab-df-container\">\n",
              "      <div>\n",
              "<style scoped>\n",
              "    .dataframe tbody tr th:only-of-type {\n",
              "        vertical-align: middle;\n",
              "    }\n",
              "\n",
              "    .dataframe tbody tr th {\n",
              "        vertical-align: top;\n",
              "    }\n",
              "\n",
              "    .dataframe thead th {\n",
              "        text-align: right;\n",
              "    }\n",
              "</style>\n",
              "<table border=\"1\" class=\"dataframe\">\n",
              "  <thead>\n",
              "    <tr style=\"text-align: right;\">\n",
              "      <th></th>\n",
              "      <th>RegistrationYear</th>\n",
              "      <th>Power</th>\n",
              "      <th>Kilometer</th>\n",
              "      <th>RegistrationMonth</th>\n",
              "      <th>DateCreated</th>\n",
              "      <th>PostalCode</th>\n",
              "      <th>VehicleType_convertible</th>\n",
              "      <th>VehicleType_coupe</th>\n",
              "      <th>VehicleType_not_mentioned</th>\n",
              "      <th>VehicleType_other</th>\n",
              "      <th>...</th>\n",
              "      <th>Brand_smart</th>\n",
              "      <th>Brand_sonstige_autos</th>\n",
              "      <th>Brand_subaru</th>\n",
              "      <th>Brand_suzuki</th>\n",
              "      <th>Brand_toyota</th>\n",
              "      <th>Brand_trabant</th>\n",
              "      <th>Brand_volkswagen</th>\n",
              "      <th>Brand_volvo</th>\n",
              "      <th>Repaired_not_mentioned</th>\n",
              "      <th>Repaired_yes</th>\n",
              "    </tr>\n",
              "  </thead>\n",
              "  <tbody>\n",
              "    <tr>\n",
              "      <th>165178</th>\n",
              "      <td>-0.335906</td>\n",
              "      <td>0.936548</td>\n",
              "      <td>0.587213</td>\n",
              "      <td>0.839690</td>\n",
              "      <td>0.00964</td>\n",
              "      <td>0.046565</td>\n",
              "      <td>0.0</td>\n",
              "      <td>0.0</td>\n",
              "      <td>0.0</td>\n",
              "      <td>0.0</td>\n",
              "      <td>...</td>\n",
              "      <td>0.0</td>\n",
              "      <td>0.0</td>\n",
              "      <td>0.0</td>\n",
              "      <td>0.0</td>\n",
              "      <td>0.0</td>\n",
              "      <td>0.0</td>\n",
              "      <td>0.0</td>\n",
              "      <td>0.0</td>\n",
              "      <td>0.0</td>\n",
              "      <td>0.0</td>\n",
              "    </tr>\n",
              "    <tr>\n",
              "      <th>192213</th>\n",
              "      <td>-0.335906</td>\n",
              "      <td>0.936548</td>\n",
              "      <td>0.587213</td>\n",
              "      <td>-1.665040</td>\n",
              "      <td>0.00964</td>\n",
              "      <td>0.636362</td>\n",
              "      <td>0.0</td>\n",
              "      <td>1.0</td>\n",
              "      <td>0.0</td>\n",
              "      <td>0.0</td>\n",
              "      <td>...</td>\n",
              "      <td>0.0</td>\n",
              "      <td>0.0</td>\n",
              "      <td>0.0</td>\n",
              "      <td>0.0</td>\n",
              "      <td>0.0</td>\n",
              "      <td>0.0</td>\n",
              "      <td>0.0</td>\n",
              "      <td>0.0</td>\n",
              "      <td>0.0</td>\n",
              "      <td>0.0</td>\n",
              "    </tr>\n",
              "    <tr>\n",
              "      <th>84515</th>\n",
              "      <td>0.818961</td>\n",
              "      <td>2.101207</td>\n",
              "      <td>0.587213</td>\n",
              "      <td>-1.108433</td>\n",
              "      <td>0.00964</td>\n",
              "      <td>0.546511</td>\n",
              "      <td>0.0</td>\n",
              "      <td>0.0</td>\n",
              "      <td>0.0</td>\n",
              "      <td>0.0</td>\n",
              "      <td>...</td>\n",
              "      <td>0.0</td>\n",
              "      <td>0.0</td>\n",
              "      <td>0.0</td>\n",
              "      <td>0.0</td>\n",
              "      <td>0.0</td>\n",
              "      <td>0.0</td>\n",
              "      <td>0.0</td>\n",
              "      <td>0.0</td>\n",
              "      <td>0.0</td>\n",
              "      <td>0.0</td>\n",
              "    </tr>\n",
              "    <tr>\n",
              "      <th>159736</th>\n",
              "      <td>0.674603</td>\n",
              "      <td>-0.829224</td>\n",
              "      <td>0.587213</td>\n",
              "      <td>1.117994</td>\n",
              "      <td>0.00964</td>\n",
              "      <td>-0.458311</td>\n",
              "      <td>0.0</td>\n",
              "      <td>0.0</td>\n",
              "      <td>0.0</td>\n",
              "      <td>0.0</td>\n",
              "      <td>...</td>\n",
              "      <td>0.0</td>\n",
              "      <td>0.0</td>\n",
              "      <td>0.0</td>\n",
              "      <td>0.0</td>\n",
              "      <td>0.0</td>\n",
              "      <td>0.0</td>\n",
              "      <td>0.0</td>\n",
              "      <td>0.0</td>\n",
              "      <td>0.0</td>\n",
              "      <td>0.0</td>\n",
              "    </tr>\n",
              "    <tr>\n",
              "      <th>334959</th>\n",
              "      <td>-0.480264</td>\n",
              "      <td>-1.167351</td>\n",
              "      <td>0.587213</td>\n",
              "      <td>1.396297</td>\n",
              "      <td>0.00964</td>\n",
              "      <td>0.545385</td>\n",
              "      <td>0.0</td>\n",
              "      <td>0.0</td>\n",
              "      <td>0.0</td>\n",
              "      <td>0.0</td>\n",
              "      <td>...</td>\n",
              "      <td>0.0</td>\n",
              "      <td>0.0</td>\n",
              "      <td>0.0</td>\n",
              "      <td>0.0</td>\n",
              "      <td>0.0</td>\n",
              "      <td>0.0</td>\n",
              "      <td>0.0</td>\n",
              "      <td>0.0</td>\n",
              "      <td>0.0</td>\n",
              "      <td>0.0</td>\n",
              "    </tr>\n",
              "    <tr>\n",
              "      <th>...</th>\n",
              "      <td>...</td>\n",
              "      <td>...</td>\n",
              "      <td>...</td>\n",
              "      <td>...</td>\n",
              "      <td>...</td>\n",
              "      <td>...</td>\n",
              "      <td>...</td>\n",
              "      <td>...</td>\n",
              "      <td>...</td>\n",
              "      <td>...</td>\n",
              "      <td>...</td>\n",
              "      <td>...</td>\n",
              "      <td>...</td>\n",
              "      <td>...</td>\n",
              "      <td>...</td>\n",
              "      <td>...</td>\n",
              "      <td>...</td>\n",
              "      <td>...</td>\n",
              "      <td>...</td>\n",
              "      <td>...</td>\n",
              "      <td>...</td>\n",
              "    </tr>\n",
              "    <tr>\n",
              "      <th>120851</th>\n",
              "      <td>1.107678</td>\n",
              "      <td>0.429358</td>\n",
              "      <td>-1.598941</td>\n",
              "      <td>-1.108433</td>\n",
              "      <td>0.00964</td>\n",
              "      <td>0.510221</td>\n",
              "      <td>0.0</td>\n",
              "      <td>0.0</td>\n",
              "      <td>0.0</td>\n",
              "      <td>0.0</td>\n",
              "      <td>...</td>\n",
              "      <td>0.0</td>\n",
              "      <td>0.0</td>\n",
              "      <td>0.0</td>\n",
              "      <td>0.0</td>\n",
              "      <td>0.0</td>\n",
              "      <td>0.0</td>\n",
              "      <td>0.0</td>\n",
              "      <td>0.0</td>\n",
              "      <td>0.0</td>\n",
              "      <td>0.0</td>\n",
              "    </tr>\n",
              "    <tr>\n",
              "      <th>197900</th>\n",
              "      <td>0.385886</td>\n",
              "      <td>-0.998287</td>\n",
              "      <td>-1.598941</td>\n",
              "      <td>0.839690</td>\n",
              "      <td>0.00964</td>\n",
              "      <td>0.197662</td>\n",
              "      <td>0.0</td>\n",
              "      <td>0.0</td>\n",
              "      <td>0.0</td>\n",
              "      <td>0.0</td>\n",
              "      <td>...</td>\n",
              "      <td>0.0</td>\n",
              "      <td>0.0</td>\n",
              "      <td>0.0</td>\n",
              "      <td>0.0</td>\n",
              "      <td>0.0</td>\n",
              "      <td>0.0</td>\n",
              "      <td>0.0</td>\n",
              "      <td>0.0</td>\n",
              "      <td>0.0</td>\n",
              "      <td>0.0</td>\n",
              "    </tr>\n",
              "    <tr>\n",
              "      <th>183310</th>\n",
              "      <td>0.097169</td>\n",
              "      <td>0.654776</td>\n",
              "      <td>0.587213</td>\n",
              "      <td>1.674600</td>\n",
              "      <td>0.00964</td>\n",
              "      <td>-1.817725</td>\n",
              "      <td>0.0</td>\n",
              "      <td>0.0</td>\n",
              "      <td>0.0</td>\n",
              "      <td>0.0</td>\n",
              "      <td>...</td>\n",
              "      <td>0.0</td>\n",
              "      <td>0.0</td>\n",
              "      <td>0.0</td>\n",
              "      <td>0.0</td>\n",
              "      <td>0.0</td>\n",
              "      <td>0.0</td>\n",
              "      <td>0.0</td>\n",
              "      <td>0.0</td>\n",
              "      <td>0.0</td>\n",
              "      <td>0.0</td>\n",
              "    </tr>\n",
              "    <tr>\n",
              "      <th>130128</th>\n",
              "      <td>0.241528</td>\n",
              "      <td>-1.129781</td>\n",
              "      <td>0.587213</td>\n",
              "      <td>-0.273523</td>\n",
              "      <td>0.00964</td>\n",
              "      <td>0.269272</td>\n",
              "      <td>0.0</td>\n",
              "      <td>0.0</td>\n",
              "      <td>1.0</td>\n",
              "      <td>0.0</td>\n",
              "      <td>...</td>\n",
              "      <td>0.0</td>\n",
              "      <td>0.0</td>\n",
              "      <td>0.0</td>\n",
              "      <td>0.0</td>\n",
              "      <td>0.0</td>\n",
              "      <td>0.0</td>\n",
              "      <td>0.0</td>\n",
              "      <td>0.0</td>\n",
              "      <td>1.0</td>\n",
              "      <td>0.0</td>\n",
              "    </tr>\n",
              "    <tr>\n",
              "      <th>77494</th>\n",
              "      <td>-0.913339</td>\n",
              "      <td>-0.077832</td>\n",
              "      <td>0.587213</td>\n",
              "      <td>1.117994</td>\n",
              "      <td>0.00964</td>\n",
              "      <td>0.662444</td>\n",
              "      <td>0.0</td>\n",
              "      <td>0.0</td>\n",
              "      <td>0.0</td>\n",
              "      <td>0.0</td>\n",
              "      <td>...</td>\n",
              "      <td>0.0</td>\n",
              "      <td>0.0</td>\n",
              "      <td>0.0</td>\n",
              "      <td>0.0</td>\n",
              "      <td>0.0</td>\n",
              "      <td>0.0</td>\n",
              "      <td>0.0</td>\n",
              "      <td>0.0</td>\n",
              "      <td>0.0</td>\n",
              "      <td>1.0</td>\n",
              "    </tr>\n",
              "  </tbody>\n",
              "</table>\n",
              "<p>182934 rows × 60 columns</p>\n",
              "</div>\n",
              "      <button class=\"colab-df-convert\" onclick=\"convertToInteractive('df-a3d3045b-7640-48e0-8c9e-1975150a19c4')\"\n",
              "              title=\"Convert this dataframe to an interactive table.\"\n",
              "              style=\"display:none;\">\n",
              "        \n",
              "  <svg xmlns=\"http://www.w3.org/2000/svg\" height=\"24px\"viewBox=\"0 0 24 24\"\n",
              "       width=\"24px\">\n",
              "    <path d=\"M0 0h24v24H0V0z\" fill=\"none\"/>\n",
              "    <path d=\"M18.56 5.44l.94 2.06.94-2.06 2.06-.94-2.06-.94-.94-2.06-.94 2.06-2.06.94zm-11 1L8.5 8.5l.94-2.06 2.06-.94-2.06-.94L8.5 2.5l-.94 2.06-2.06.94zm10 10l.94 2.06.94-2.06 2.06-.94-2.06-.94-.94-2.06-.94 2.06-2.06.94z\"/><path d=\"M17.41 7.96l-1.37-1.37c-.4-.4-.92-.59-1.43-.59-.52 0-1.04.2-1.43.59L10.3 9.45l-7.72 7.72c-.78.78-.78 2.05 0 2.83L4 21.41c.39.39.9.59 1.41.59.51 0 1.02-.2 1.41-.59l7.78-7.78 2.81-2.81c.8-.78.8-2.07 0-2.86zM5.41 20L4 18.59l7.72-7.72 1.47 1.35L5.41 20z\"/>\n",
              "  </svg>\n",
              "      </button>\n",
              "      \n",
              "  <style>\n",
              "    .colab-df-container {\n",
              "      display:flex;\n",
              "      flex-wrap:wrap;\n",
              "      gap: 12px;\n",
              "    }\n",
              "\n",
              "    .colab-df-convert {\n",
              "      background-color: #E8F0FE;\n",
              "      border: none;\n",
              "      border-radius: 50%;\n",
              "      cursor: pointer;\n",
              "      display: none;\n",
              "      fill: #1967D2;\n",
              "      height: 32px;\n",
              "      padding: 0 0 0 0;\n",
              "      width: 32px;\n",
              "    }\n",
              "\n",
              "    .colab-df-convert:hover {\n",
              "      background-color: #E2EBFA;\n",
              "      box-shadow: 0px 1px 2px rgba(60, 64, 67, 0.3), 0px 1px 3px 1px rgba(60, 64, 67, 0.15);\n",
              "      fill: #174EA6;\n",
              "    }\n",
              "\n",
              "    [theme=dark] .colab-df-convert {\n",
              "      background-color: #3B4455;\n",
              "      fill: #D2E3FC;\n",
              "    }\n",
              "\n",
              "    [theme=dark] .colab-df-convert:hover {\n",
              "      background-color: #434B5C;\n",
              "      box-shadow: 0px 1px 3px 1px rgba(0, 0, 0, 0.15);\n",
              "      filter: drop-shadow(0px 1px 2px rgba(0, 0, 0, 0.3));\n",
              "      fill: #FFFFFF;\n",
              "    }\n",
              "  </style>\n",
              "\n",
              "      <script>\n",
              "        const buttonEl =\n",
              "          document.querySelector('#df-a3d3045b-7640-48e0-8c9e-1975150a19c4 button.colab-df-convert');\n",
              "        buttonEl.style.display =\n",
              "          google.colab.kernel.accessAllowed ? 'block' : 'none';\n",
              "\n",
              "        async function convertToInteractive(key) {\n",
              "          const element = document.querySelector('#df-a3d3045b-7640-48e0-8c9e-1975150a19c4');\n",
              "          const dataTable =\n",
              "            await google.colab.kernel.invokeFunction('convertToInteractive',\n",
              "                                                     [key], {});\n",
              "          if (!dataTable) return;\n",
              "\n",
              "          const docLinkHtml = 'Like what you see? Visit the ' +\n",
              "            '<a target=\"_blank\" href=https://colab.research.google.com/notebooks/data_table.ipynb>data table notebook</a>'\n",
              "            + ' to learn more about interactive tables.';\n",
              "          element.innerHTML = '';\n",
              "          dataTable['output_type'] = 'display_data';\n",
              "          await google.colab.output.renderOutput(dataTable, element);\n",
              "          const docLink = document.createElement('div');\n",
              "          docLink.innerHTML = docLinkHtml;\n",
              "          element.appendChild(docLink);\n",
              "        }\n",
              "      </script>\n",
              "    </div>\n",
              "  </div>\n",
              "  "
            ]
          },
          "metadata": {}
        }
      ],
      "source": [
        "# drop='first' удаляет первый признак из закодированных:\n",
        "# таким образом обходим dummy-ловушку\n",
        "# задаём handle_unknown='ignore':\n",
        "# игнорируется ранее невстречающиеся значения признака (при transform)\n",
        "encoder_ohe = OneHotEncoder(drop='first', handle_unknown='ignore', sparse=False)\n",
        "\n",
        "# обучаем энкодер на заданных категориальных признаках тренировочной выборки\n",
        "encoder_ohe.fit(features_train[ohe_features])\n",
        "\n",
        "# добавляем закодированные признаки в X_train_ohe\n",
        "# encoder_ohe.get_feature_names_out() позволяет получить названия колонок\n",
        "features_train[\n",
        "    encoder_ohe.get_feature_names_out()\n",
        "] = encoder_ohe.transform(features_train[ohe_features])\n",
        "\n",
        "# удаляем незакодированные категориальные признаки (изначальные колонки)\n",
        "features_train = features_train.drop(ohe_features, axis=1)\n",
        "display(features_train)"
      ]
    },
    {
      "cell_type": "markdown",
      "metadata": {
        "id": "YePVGUbSHns_"
      },
      "source": [
        "### Обучим модели."
      ]
    },
    {
      "cell_type": "markdown",
      "metadata": {
        "id": "5TXJ6MBEHns_"
      },
      "source": [
        "#### для начала попробуем LinearRegressor и DecisionTreeRegressor"
      ]
    },
    {
      "cell_type": "code",
      "execution_count": 35,
      "metadata": {
        "scrolled": false,
        "colab": {
          "base_uri": "https://localhost:8080/",
          "height": 109
        },
        "id": "9q_5nGFPHns_",
        "outputId": "3d12aa18-d90b-4a6a-d1c4-64a2d62e5293"
      },
      "outputs": [
        {
          "output_type": "stream",
          "name": "stdout",
          "text": [
            "CPU times: user 1.62 s, sys: 548 ms, total: 2.17 s\n",
            "Wall time: 2.16 s\n"
          ]
        },
        {
          "output_type": "execute_result",
          "data": {
            "text/plain": [
              "LinearRegression()"
            ],
            "text/html": [
              "<style>#sk-container-id-1 {color: black;background-color: white;}#sk-container-id-1 pre{padding: 0;}#sk-container-id-1 div.sk-toggleable {background-color: white;}#sk-container-id-1 label.sk-toggleable__label {cursor: pointer;display: block;width: 100%;margin-bottom: 0;padding: 0.3em;box-sizing: border-box;text-align: center;}#sk-container-id-1 label.sk-toggleable__label-arrow:before {content: \"▸\";float: left;margin-right: 0.25em;color: #696969;}#sk-container-id-1 label.sk-toggleable__label-arrow:hover:before {color: black;}#sk-container-id-1 div.sk-estimator:hover label.sk-toggleable__label-arrow:before {color: black;}#sk-container-id-1 div.sk-toggleable__content {max-height: 0;max-width: 0;overflow: hidden;text-align: left;background-color: #f0f8ff;}#sk-container-id-1 div.sk-toggleable__content pre {margin: 0.2em;color: black;border-radius: 0.25em;background-color: #f0f8ff;}#sk-container-id-1 input.sk-toggleable__control:checked~div.sk-toggleable__content {max-height: 200px;max-width: 100%;overflow: auto;}#sk-container-id-1 input.sk-toggleable__control:checked~label.sk-toggleable__label-arrow:before {content: \"▾\";}#sk-container-id-1 div.sk-estimator input.sk-toggleable__control:checked~label.sk-toggleable__label {background-color: #d4ebff;}#sk-container-id-1 div.sk-label input.sk-toggleable__control:checked~label.sk-toggleable__label {background-color: #d4ebff;}#sk-container-id-1 input.sk-hidden--visually {border: 0;clip: rect(1px 1px 1px 1px);clip: rect(1px, 1px, 1px, 1px);height: 1px;margin: -1px;overflow: hidden;padding: 0;position: absolute;width: 1px;}#sk-container-id-1 div.sk-estimator {font-family: monospace;background-color: #f0f8ff;border: 1px dotted black;border-radius: 0.25em;box-sizing: border-box;margin-bottom: 0.5em;}#sk-container-id-1 div.sk-estimator:hover {background-color: #d4ebff;}#sk-container-id-1 div.sk-parallel-item::after {content: \"\";width: 100%;border-bottom: 1px solid gray;flex-grow: 1;}#sk-container-id-1 div.sk-label:hover label.sk-toggleable__label {background-color: #d4ebff;}#sk-container-id-1 div.sk-serial::before {content: \"\";position: absolute;border-left: 1px solid gray;box-sizing: border-box;top: 0;bottom: 0;left: 50%;z-index: 0;}#sk-container-id-1 div.sk-serial {display: flex;flex-direction: column;align-items: center;background-color: white;padding-right: 0.2em;padding-left: 0.2em;position: relative;}#sk-container-id-1 div.sk-item {position: relative;z-index: 1;}#sk-container-id-1 div.sk-parallel {display: flex;align-items: stretch;justify-content: center;background-color: white;position: relative;}#sk-container-id-1 div.sk-item::before, #sk-container-id-1 div.sk-parallel-item::before {content: \"\";position: absolute;border-left: 1px solid gray;box-sizing: border-box;top: 0;bottom: 0;left: 50%;z-index: -1;}#sk-container-id-1 div.sk-parallel-item {display: flex;flex-direction: column;z-index: 1;position: relative;background-color: white;}#sk-container-id-1 div.sk-parallel-item:first-child::after {align-self: flex-end;width: 50%;}#sk-container-id-1 div.sk-parallel-item:last-child::after {align-self: flex-start;width: 50%;}#sk-container-id-1 div.sk-parallel-item:only-child::after {width: 0;}#sk-container-id-1 div.sk-dashed-wrapped {border: 1px dashed gray;margin: 0 0.4em 0.5em 0.4em;box-sizing: border-box;padding-bottom: 0.4em;background-color: white;}#sk-container-id-1 div.sk-label label {font-family: monospace;font-weight: bold;display: inline-block;line-height: 1.2em;}#sk-container-id-1 div.sk-label-container {text-align: center;}#sk-container-id-1 div.sk-container {/* jupyter's `normalize.less` sets `[hidden] { display: none; }` but bootstrap.min.css set `[hidden] { display: none !important; }` so we also need the `!important` here to be able to override the default hidden behavior on the sphinx rendered scikit-learn.org. See: https://github.com/scikit-learn/scikit-learn/issues/21755 */display: inline-block !important;position: relative;}#sk-container-id-1 div.sk-text-repr-fallback {display: none;}</style><div id=\"sk-container-id-1\" class=\"sk-top-container\"><div class=\"sk-text-repr-fallback\"><pre>LinearRegression()</pre><b>In a Jupyter environment, please rerun this cell to show the HTML representation or trust the notebook. <br />On GitHub, the HTML representation is unable to render, please try loading this page with nbviewer.org.</b></div><div class=\"sk-container\" hidden><div class=\"sk-item\"><div class=\"sk-estimator sk-toggleable\"><input class=\"sk-toggleable__control sk-hidden--visually\" id=\"sk-estimator-id-1\" type=\"checkbox\" checked><label for=\"sk-estimator-id-1\" class=\"sk-toggleable__label sk-toggleable__label-arrow\">LinearRegression</label><div class=\"sk-toggleable__content\"><pre>LinearRegression()</pre></div></div></div></div></div>"
            ]
          },
          "metadata": {},
          "execution_count": 35
        }
      ],
      "source": [
        "%%time\n",
        "#classic LinearRegressor\n",
        "\n",
        "line = LinearRegression()\n",
        "line.fit(features_train, target_train)"
      ]
    },
    {
      "cell_type": "code",
      "execution_count": 36,
      "metadata": {
        "colab": {
          "base_uri": "https://localhost:8080/",
          "height": 299
        },
        "id": "bHf419EPHns_",
        "outputId": "a8c290a3-f4bc-4492-ceda-28739e44e771"
      },
      "outputs": [
        {
          "output_type": "execute_result",
          "data": {
            "text/plain": [
              "        RegistrationYear     Power  Kilometer  RegistrationMonth  DateCreated  \\\n",
              "142239          1.107678 -0.284465  -2.692017           0.561387      0.00964   \n",
              "99634          -0.191547 -0.077832   0.587213          -0.551827      0.00964   \n",
              "260374         -0.191547 -0.754085  -0.779133          -0.551827      0.00964   \n",
              "344549          0.674603 -0.284465   0.587213          -1.108433      0.00964   \n",
              "273071         -0.480264  2.721105   0.587213           0.004780      0.00964   \n",
              "\n",
              "        PostalCode  VehicleType_convertible  VehicleType_coupe  \\\n",
              "142239    0.106763                      0.0                0.0   \n",
              "99634    -0.213015                      0.0                0.0   \n",
              "260374    1.328354                      0.0                0.0   \n",
              "344549   -0.951387                      0.0                0.0   \n",
              "273071   -0.457457                      0.0                0.0   \n",
              "\n",
              "        VehicleType_not_mentioned  VehicleType_other  ...  Brand_smart  \\\n",
              "142239                        0.0                0.0  ...          0.0   \n",
              "99634                         0.0                0.0  ...          0.0   \n",
              "260374                        0.0                0.0  ...          0.0   \n",
              "344549                        0.0                0.0  ...          0.0   \n",
              "273071                        0.0                0.0  ...          0.0   \n",
              "\n",
              "        Brand_sonstige_autos  Brand_subaru  Brand_suzuki  Brand_toyota  \\\n",
              "142239                   0.0           0.0           0.0           0.0   \n",
              "99634                    0.0           0.0           0.0           0.0   \n",
              "260374                   0.0           0.0           0.0           0.0   \n",
              "344549                   0.0           0.0           0.0           0.0   \n",
              "273071                   0.0           0.0           0.0           0.0   \n",
              "\n",
              "        Brand_trabant  Brand_volkswagen  Brand_volvo  Repaired_not_mentioned  \\\n",
              "142239            0.0               1.0          0.0                     0.0   \n",
              "99634             0.0               0.0          0.0                     0.0   \n",
              "260374            0.0               0.0          0.0                     0.0   \n",
              "344549            0.0               1.0          0.0                     0.0   \n",
              "273071            0.0               0.0          0.0                     0.0   \n",
              "\n",
              "        Repaired_yes  \n",
              "142239           0.0  \n",
              "99634            0.0  \n",
              "260374           0.0  \n",
              "344549           0.0  \n",
              "273071           0.0  \n",
              "\n",
              "[5 rows x 60 columns]"
            ],
            "text/html": [
              "\n",
              "  <div id=\"df-d7692d28-da21-45da-a618-0908a56a862d\">\n",
              "    <div class=\"colab-df-container\">\n",
              "      <div>\n",
              "<style scoped>\n",
              "    .dataframe tbody tr th:only-of-type {\n",
              "        vertical-align: middle;\n",
              "    }\n",
              "\n",
              "    .dataframe tbody tr th {\n",
              "        vertical-align: top;\n",
              "    }\n",
              "\n",
              "    .dataframe thead th {\n",
              "        text-align: right;\n",
              "    }\n",
              "</style>\n",
              "<table border=\"1\" class=\"dataframe\">\n",
              "  <thead>\n",
              "    <tr style=\"text-align: right;\">\n",
              "      <th></th>\n",
              "      <th>RegistrationYear</th>\n",
              "      <th>Power</th>\n",
              "      <th>Kilometer</th>\n",
              "      <th>RegistrationMonth</th>\n",
              "      <th>DateCreated</th>\n",
              "      <th>PostalCode</th>\n",
              "      <th>VehicleType_convertible</th>\n",
              "      <th>VehicleType_coupe</th>\n",
              "      <th>VehicleType_not_mentioned</th>\n",
              "      <th>VehicleType_other</th>\n",
              "      <th>...</th>\n",
              "      <th>Brand_smart</th>\n",
              "      <th>Brand_sonstige_autos</th>\n",
              "      <th>Brand_subaru</th>\n",
              "      <th>Brand_suzuki</th>\n",
              "      <th>Brand_toyota</th>\n",
              "      <th>Brand_trabant</th>\n",
              "      <th>Brand_volkswagen</th>\n",
              "      <th>Brand_volvo</th>\n",
              "      <th>Repaired_not_mentioned</th>\n",
              "      <th>Repaired_yes</th>\n",
              "    </tr>\n",
              "  </thead>\n",
              "  <tbody>\n",
              "    <tr>\n",
              "      <th>142239</th>\n",
              "      <td>1.107678</td>\n",
              "      <td>-0.284465</td>\n",
              "      <td>-2.692017</td>\n",
              "      <td>0.561387</td>\n",
              "      <td>0.00964</td>\n",
              "      <td>0.106763</td>\n",
              "      <td>0.0</td>\n",
              "      <td>0.0</td>\n",
              "      <td>0.0</td>\n",
              "      <td>0.0</td>\n",
              "      <td>...</td>\n",
              "      <td>0.0</td>\n",
              "      <td>0.0</td>\n",
              "      <td>0.0</td>\n",
              "      <td>0.0</td>\n",
              "      <td>0.0</td>\n",
              "      <td>0.0</td>\n",
              "      <td>1.0</td>\n",
              "      <td>0.0</td>\n",
              "      <td>0.0</td>\n",
              "      <td>0.0</td>\n",
              "    </tr>\n",
              "    <tr>\n",
              "      <th>99634</th>\n",
              "      <td>-0.191547</td>\n",
              "      <td>-0.077832</td>\n",
              "      <td>0.587213</td>\n",
              "      <td>-0.551827</td>\n",
              "      <td>0.00964</td>\n",
              "      <td>-0.213015</td>\n",
              "      <td>0.0</td>\n",
              "      <td>0.0</td>\n",
              "      <td>0.0</td>\n",
              "      <td>0.0</td>\n",
              "      <td>...</td>\n",
              "      <td>0.0</td>\n",
              "      <td>0.0</td>\n",
              "      <td>0.0</td>\n",
              "      <td>0.0</td>\n",
              "      <td>0.0</td>\n",
              "      <td>0.0</td>\n",
              "      <td>0.0</td>\n",
              "      <td>0.0</td>\n",
              "      <td>0.0</td>\n",
              "      <td>0.0</td>\n",
              "    </tr>\n",
              "    <tr>\n",
              "      <th>260374</th>\n",
              "      <td>-0.191547</td>\n",
              "      <td>-0.754085</td>\n",
              "      <td>-0.779133</td>\n",
              "      <td>-0.551827</td>\n",
              "      <td>0.00964</td>\n",
              "      <td>1.328354</td>\n",
              "      <td>0.0</td>\n",
              "      <td>0.0</td>\n",
              "      <td>0.0</td>\n",
              "      <td>0.0</td>\n",
              "      <td>...</td>\n",
              "      <td>0.0</td>\n",
              "      <td>0.0</td>\n",
              "      <td>0.0</td>\n",
              "      <td>0.0</td>\n",
              "      <td>0.0</td>\n",
              "      <td>0.0</td>\n",
              "      <td>0.0</td>\n",
              "      <td>0.0</td>\n",
              "      <td>0.0</td>\n",
              "      <td>0.0</td>\n",
              "    </tr>\n",
              "    <tr>\n",
              "      <th>344549</th>\n",
              "      <td>0.674603</td>\n",
              "      <td>-0.284465</td>\n",
              "      <td>0.587213</td>\n",
              "      <td>-1.108433</td>\n",
              "      <td>0.00964</td>\n",
              "      <td>-0.951387</td>\n",
              "      <td>0.0</td>\n",
              "      <td>0.0</td>\n",
              "      <td>0.0</td>\n",
              "      <td>0.0</td>\n",
              "      <td>...</td>\n",
              "      <td>0.0</td>\n",
              "      <td>0.0</td>\n",
              "      <td>0.0</td>\n",
              "      <td>0.0</td>\n",
              "      <td>0.0</td>\n",
              "      <td>0.0</td>\n",
              "      <td>1.0</td>\n",
              "      <td>0.0</td>\n",
              "      <td>0.0</td>\n",
              "      <td>0.0</td>\n",
              "    </tr>\n",
              "    <tr>\n",
              "      <th>273071</th>\n",
              "      <td>-0.480264</td>\n",
              "      <td>2.721105</td>\n",
              "      <td>0.587213</td>\n",
              "      <td>0.004780</td>\n",
              "      <td>0.00964</td>\n",
              "      <td>-0.457457</td>\n",
              "      <td>0.0</td>\n",
              "      <td>0.0</td>\n",
              "      <td>0.0</td>\n",
              "      <td>0.0</td>\n",
              "      <td>...</td>\n",
              "      <td>0.0</td>\n",
              "      <td>0.0</td>\n",
              "      <td>0.0</td>\n",
              "      <td>0.0</td>\n",
              "      <td>0.0</td>\n",
              "      <td>0.0</td>\n",
              "      <td>0.0</td>\n",
              "      <td>0.0</td>\n",
              "      <td>0.0</td>\n",
              "      <td>0.0</td>\n",
              "    </tr>\n",
              "  </tbody>\n",
              "</table>\n",
              "<p>5 rows × 60 columns</p>\n",
              "</div>\n",
              "      <button class=\"colab-df-convert\" onclick=\"convertToInteractive('df-d7692d28-da21-45da-a618-0908a56a862d')\"\n",
              "              title=\"Convert this dataframe to an interactive table.\"\n",
              "              style=\"display:none;\">\n",
              "        \n",
              "  <svg xmlns=\"http://www.w3.org/2000/svg\" height=\"24px\"viewBox=\"0 0 24 24\"\n",
              "       width=\"24px\">\n",
              "    <path d=\"M0 0h24v24H0V0z\" fill=\"none\"/>\n",
              "    <path d=\"M18.56 5.44l.94 2.06.94-2.06 2.06-.94-2.06-.94-.94-2.06-.94 2.06-2.06.94zm-11 1L8.5 8.5l.94-2.06 2.06-.94-2.06-.94L8.5 2.5l-.94 2.06-2.06.94zm10 10l.94 2.06.94-2.06 2.06-.94-2.06-.94-.94-2.06-.94 2.06-2.06.94z\"/><path d=\"M17.41 7.96l-1.37-1.37c-.4-.4-.92-.59-1.43-.59-.52 0-1.04.2-1.43.59L10.3 9.45l-7.72 7.72c-.78.78-.78 2.05 0 2.83L4 21.41c.39.39.9.59 1.41.59.51 0 1.02-.2 1.41-.59l7.78-7.78 2.81-2.81c.8-.78.8-2.07 0-2.86zM5.41 20L4 18.59l7.72-7.72 1.47 1.35L5.41 20z\"/>\n",
              "  </svg>\n",
              "      </button>\n",
              "      \n",
              "  <style>\n",
              "    .colab-df-container {\n",
              "      display:flex;\n",
              "      flex-wrap:wrap;\n",
              "      gap: 12px;\n",
              "    }\n",
              "\n",
              "    .colab-df-convert {\n",
              "      background-color: #E8F0FE;\n",
              "      border: none;\n",
              "      border-radius: 50%;\n",
              "      cursor: pointer;\n",
              "      display: none;\n",
              "      fill: #1967D2;\n",
              "      height: 32px;\n",
              "      padding: 0 0 0 0;\n",
              "      width: 32px;\n",
              "    }\n",
              "\n",
              "    .colab-df-convert:hover {\n",
              "      background-color: #E2EBFA;\n",
              "      box-shadow: 0px 1px 2px rgba(60, 64, 67, 0.3), 0px 1px 3px 1px rgba(60, 64, 67, 0.15);\n",
              "      fill: #174EA6;\n",
              "    }\n",
              "\n",
              "    [theme=dark] .colab-df-convert {\n",
              "      background-color: #3B4455;\n",
              "      fill: #D2E3FC;\n",
              "    }\n",
              "\n",
              "    [theme=dark] .colab-df-convert:hover {\n",
              "      background-color: #434B5C;\n",
              "      box-shadow: 0px 1px 3px 1px rgba(0, 0, 0, 0.15);\n",
              "      filter: drop-shadow(0px 1px 2px rgba(0, 0, 0, 0.3));\n",
              "      fill: #FFFFFF;\n",
              "    }\n",
              "  </style>\n",
              "\n",
              "      <script>\n",
              "        const buttonEl =\n",
              "          document.querySelector('#df-d7692d28-da21-45da-a618-0908a56a862d button.colab-df-convert');\n",
              "        buttonEl.style.display =\n",
              "          google.colab.kernel.accessAllowed ? 'block' : 'none';\n",
              "\n",
              "        async function convertToInteractive(key) {\n",
              "          const element = document.querySelector('#df-d7692d28-da21-45da-a618-0908a56a862d');\n",
              "          const dataTable =\n",
              "            await google.colab.kernel.invokeFunction('convertToInteractive',\n",
              "                                                     [key], {});\n",
              "          if (!dataTable) return;\n",
              "\n",
              "          const docLinkHtml = 'Like what you see? Visit the ' +\n",
              "            '<a target=\"_blank\" href=https://colab.research.google.com/notebooks/data_table.ipynb>data table notebook</a>'\n",
              "            + ' to learn more about interactive tables.';\n",
              "          element.innerHTML = '';\n",
              "          dataTable['output_type'] = 'display_data';\n",
              "          await google.colab.output.renderOutput(dataTable, element);\n",
              "          const docLink = document.createElement('div');\n",
              "          docLink.innerHTML = docLinkHtml;\n",
              "          element.appendChild(docLink);\n",
              "        }\n",
              "      </script>\n",
              "    </div>\n",
              "  </div>\n",
              "  "
            ]
          },
          "metadata": {},
          "execution_count": 36
        }
      ],
      "source": [
        "# энкодером, который обучен на ТРЕНИРОВОЧНОЙ ВЫБОРКЕ, кодируем валидационную\n",
        "features_valid[\n",
        "    encoder_ohe.get_feature_names_out()\n",
        "] = encoder_ohe.transform(features_valid[ohe_features])\n",
        "\n",
        "features_valid = features_valid.drop(ohe_features, axis=1)\n",
        "\n",
        "# скелером, который обучен на ТРЕНИРОВОЧНОЙ ВЫБОРКЕ, масштабируем валидационную\n",
        "features_valid[num_features] = scaler.transform(\n",
        "    features_valid[num_features]\n",
        ")\n",
        "\n",
        "# смотрим на результат\n",
        "features_valid.head()"
      ]
    },
    {
      "cell_type": "code",
      "execution_count": 37,
      "metadata": {
        "colab": {
          "base_uri": "https://localhost:8080/"
        },
        "id": "JluXVY5dHns_",
        "outputId": "2000f056-840f-426d-b449-48021ed352be"
      },
      "outputs": [
        {
          "output_type": "stream",
          "name": "stdout",
          "text": [
            "2749.891401212385\n",
            "CPU times: user 26.7 ms, sys: 1.46 ms, total: 28.1 ms\n",
            "Wall time: 25.1 ms\n"
          ]
        }
      ],
      "source": [
        "%%time\n",
        "predict = line.predict(features_valid)\n",
        "print(mean_squared_error(target_valid, predict, squared = False))"
      ]
    },
    {
      "cell_type": "code",
      "execution_count": 38,
      "metadata": {
        "colab": {
          "base_uri": "https://localhost:8080/"
        },
        "id": "YJh9mCdvHntA",
        "outputId": "ce4e6986-c54b-4c48-a488-6974dabc0746"
      },
      "outputs": [
        {
          "output_type": "stream",
          "name": "stdout",
          "text": [
            "CPU times: user 4 µs, sys: 0 ns, total: 4 µs\n",
            "Wall time: 7.15 µs\n",
            "DecisionTreeRegressor(max_depth=20, min_samples_leaf=20, min_samples_split=5,\n",
            "                      random_state=12345)\n",
            "-1863.6227868503252\n",
            "CPU times: user 2min 51s, sys: 1.46 s, total: 2min 52s\n",
            "Wall time: 2min 55s\n"
          ]
        }
      ],
      "source": [
        "%%time\n",
        "#DecisionTreeRegressor\n",
        "\n",
        "tree_param = {\n",
        "            'max_depth': [5, 10, 20],\n",
        "            'min_samples_leaf': [5, 10, 20],\n",
        "            'min_samples_split': [5, 10, 20]\n",
        "            }\n",
        "\n",
        "grid = GridSearchCV(\n",
        "                    DecisionTreeRegressor(random_state=rand_value), \n",
        "                    param_grid = tree_param, \n",
        "                    cv=5, \n",
        "                    scoring='neg_root_mean_squared_error'\n",
        "                    )\n",
        "grid.fit(features_train, target_train)\n",
        "%time #измеряет время предыдущей операции\n",
        "print(grid.best_estimator_)\n",
        "print(grid.best_score_)"
      ]
    },
    {
      "cell_type": "code",
      "execution_count": 39,
      "metadata": {
        "colab": {
          "base_uri": "https://localhost:8080/",
          "height": 126
        },
        "id": "fxZJoIY9HntA",
        "outputId": "5e17b5bb-97f4-40fd-ee8d-429c500b9608"
      },
      "outputs": [
        {
          "output_type": "stream",
          "name": "stdout",
          "text": [
            "CPU times: user 1.97 s, sys: 1.87 ms, total: 1.97 s\n",
            "Wall time: 1.97 s\n"
          ]
        },
        {
          "output_type": "execute_result",
          "data": {
            "text/plain": [
              "DecisionTreeRegressor(max_depth=20, min_samples_leaf=20, min_samples_split=5,\n",
              "                      random_state=12345)"
            ],
            "text/html": [
              "<style>#sk-container-id-2 {color: black;background-color: white;}#sk-container-id-2 pre{padding: 0;}#sk-container-id-2 div.sk-toggleable {background-color: white;}#sk-container-id-2 label.sk-toggleable__label {cursor: pointer;display: block;width: 100%;margin-bottom: 0;padding: 0.3em;box-sizing: border-box;text-align: center;}#sk-container-id-2 label.sk-toggleable__label-arrow:before {content: \"▸\";float: left;margin-right: 0.25em;color: #696969;}#sk-container-id-2 label.sk-toggleable__label-arrow:hover:before {color: black;}#sk-container-id-2 div.sk-estimator:hover label.sk-toggleable__label-arrow:before {color: black;}#sk-container-id-2 div.sk-toggleable__content {max-height: 0;max-width: 0;overflow: hidden;text-align: left;background-color: #f0f8ff;}#sk-container-id-2 div.sk-toggleable__content pre {margin: 0.2em;color: black;border-radius: 0.25em;background-color: #f0f8ff;}#sk-container-id-2 input.sk-toggleable__control:checked~div.sk-toggleable__content {max-height: 200px;max-width: 100%;overflow: auto;}#sk-container-id-2 input.sk-toggleable__control:checked~label.sk-toggleable__label-arrow:before {content: \"▾\";}#sk-container-id-2 div.sk-estimator input.sk-toggleable__control:checked~label.sk-toggleable__label {background-color: #d4ebff;}#sk-container-id-2 div.sk-label input.sk-toggleable__control:checked~label.sk-toggleable__label {background-color: #d4ebff;}#sk-container-id-2 input.sk-hidden--visually {border: 0;clip: rect(1px 1px 1px 1px);clip: rect(1px, 1px, 1px, 1px);height: 1px;margin: -1px;overflow: hidden;padding: 0;position: absolute;width: 1px;}#sk-container-id-2 div.sk-estimator {font-family: monospace;background-color: #f0f8ff;border: 1px dotted black;border-radius: 0.25em;box-sizing: border-box;margin-bottom: 0.5em;}#sk-container-id-2 div.sk-estimator:hover {background-color: #d4ebff;}#sk-container-id-2 div.sk-parallel-item::after {content: \"\";width: 100%;border-bottom: 1px solid gray;flex-grow: 1;}#sk-container-id-2 div.sk-label:hover label.sk-toggleable__label {background-color: #d4ebff;}#sk-container-id-2 div.sk-serial::before {content: \"\";position: absolute;border-left: 1px solid gray;box-sizing: border-box;top: 0;bottom: 0;left: 50%;z-index: 0;}#sk-container-id-2 div.sk-serial {display: flex;flex-direction: column;align-items: center;background-color: white;padding-right: 0.2em;padding-left: 0.2em;position: relative;}#sk-container-id-2 div.sk-item {position: relative;z-index: 1;}#sk-container-id-2 div.sk-parallel {display: flex;align-items: stretch;justify-content: center;background-color: white;position: relative;}#sk-container-id-2 div.sk-item::before, #sk-container-id-2 div.sk-parallel-item::before {content: \"\";position: absolute;border-left: 1px solid gray;box-sizing: border-box;top: 0;bottom: 0;left: 50%;z-index: -1;}#sk-container-id-2 div.sk-parallel-item {display: flex;flex-direction: column;z-index: 1;position: relative;background-color: white;}#sk-container-id-2 div.sk-parallel-item:first-child::after {align-self: flex-end;width: 50%;}#sk-container-id-2 div.sk-parallel-item:last-child::after {align-self: flex-start;width: 50%;}#sk-container-id-2 div.sk-parallel-item:only-child::after {width: 0;}#sk-container-id-2 div.sk-dashed-wrapped {border: 1px dashed gray;margin: 0 0.4em 0.5em 0.4em;box-sizing: border-box;padding-bottom: 0.4em;background-color: white;}#sk-container-id-2 div.sk-label label {font-family: monospace;font-weight: bold;display: inline-block;line-height: 1.2em;}#sk-container-id-2 div.sk-label-container {text-align: center;}#sk-container-id-2 div.sk-container {/* jupyter's `normalize.less` sets `[hidden] { display: none; }` but bootstrap.min.css set `[hidden] { display: none !important; }` so we also need the `!important` here to be able to override the default hidden behavior on the sphinx rendered scikit-learn.org. See: https://github.com/scikit-learn/scikit-learn/issues/21755 */display: inline-block !important;position: relative;}#sk-container-id-2 div.sk-text-repr-fallback {display: none;}</style><div id=\"sk-container-id-2\" class=\"sk-top-container\"><div class=\"sk-text-repr-fallback\"><pre>DecisionTreeRegressor(max_depth=20, min_samples_leaf=20, min_samples_split=5,\n",
              "                      random_state=12345)</pre><b>In a Jupyter environment, please rerun this cell to show the HTML representation or trust the notebook. <br />On GitHub, the HTML representation is unable to render, please try loading this page with nbviewer.org.</b></div><div class=\"sk-container\" hidden><div class=\"sk-item\"><div class=\"sk-estimator sk-toggleable\"><input class=\"sk-toggleable__control sk-hidden--visually\" id=\"sk-estimator-id-2\" type=\"checkbox\" checked><label for=\"sk-estimator-id-2\" class=\"sk-toggleable__label sk-toggleable__label-arrow\">DecisionTreeRegressor</label><div class=\"sk-toggleable__content\"><pre>DecisionTreeRegressor(max_depth=20, min_samples_leaf=20, min_samples_split=5,\n",
              "                      random_state=12345)</pre></div></div></div></div></div>"
            ]
          },
          "metadata": {},
          "execution_count": 39
        }
      ],
      "source": [
        "%%time\n",
        "tree = DecisionTreeRegressor(\n",
        "                            max_depth=20, \n",
        "                            min_samples_leaf=20, \n",
        "                            min_samples_split=5,\n",
        "                            random_state=12345\n",
        "                            )\n",
        "tree.fit(features_train, target_train)"
      ]
    },
    {
      "cell_type": "code",
      "execution_count": 40,
      "metadata": {
        "colab": {
          "base_uri": "https://localhost:8080/"
        },
        "id": "cLHasebCHntB",
        "outputId": "11446051-7f28-48b6-e7e8-b91edc3831e0"
      },
      "outputs": [
        {
          "output_type": "stream",
          "name": "stdout",
          "text": [
            "RMSE 1861.0664850275505\n",
            "CPU times: user 31.3 ms, sys: 0 ns, total: 31.3 ms\n",
            "Wall time: 29.8 ms\n"
          ]
        }
      ],
      "source": [
        "%%time\n",
        "tree_pred = tree.predict(features_valid)\n",
        "\n",
        "print('RMSE', mean_squared_error(target_valid, tree_pred, squared = False))"
      ]
    },
    {
      "cell_type": "markdown",
      "metadata": {
        "id": "UjC14J-pHntB"
      },
      "source": [
        "    Вывод по DTR: на валидационной выборке\n",
        "    RMSE  1861.0664850275505\n",
        "    время предсказания Wall time: 32.8 ms\n",
        "    время обучения Wall time: 2.12 s"
      ]
    },
    {
      "cell_type": "markdown",
      "metadata": {
        "id": "L9dp_j6tHntB"
      },
      "source": [
        "#### Проверим CatBoostRegressor"
      ]
    },
    {
      "cell_type": "code",
      "execution_count": 41,
      "metadata": {
        "colab": {
          "base_uri": "https://localhost:8080/"
        },
        "id": "hbi4M5rkHntC",
        "outputId": "24722a7c-7d02-4040-cb68-9719bedce58d"
      },
      "outputs": [
        {
          "output_type": "stream",
          "name": "stdout",
          "text": [
            "(182934, 11)\n",
            "(60978, 11)\n",
            "(60978, 11)\n",
            "(60978,)\n",
            "(182934,)\n",
            "(60978,)\n"
          ]
        }
      ],
      "source": [
        "features = data.drop(['Price'], axis = 1)\n",
        "target = data['Price']\n",
        "rand_value = 12345\n",
        "features_train, features_test, target_train, target_test = train_test_split(\n",
        "    features, target, test_size=0.20, random_state=rand_value)#, stratify=target)\n",
        "    \n",
        "features_train, features_valid, target_train, target_valid = train_test_split(\n",
        "    features_train, target_train, test_size=0.25, random_state=rand_value)\n",
        "print(features_train.shape)\n",
        "print(features_test.shape)\n",
        "print(features_valid.shape)\n",
        "print(target_valid.shape)\n",
        "print(target_train.shape)\n",
        "print(target_test.shape)\n",
        "features_original, target_original = features.copy(), target.copy()"
      ]
    },
    {
      "cell_type": "code",
      "execution_count": 42,
      "metadata": {
        "colab": {
          "base_uri": "https://localhost:8080/",
          "height": 423
        },
        "id": "kFhJdnx7HntC",
        "outputId": "ccccd618-3aa2-4f78-e3e6-e21f2817b1eb"
      },
      "outputs": [
        {
          "output_type": "display_data",
          "data": {
            "text/plain": [
              "        VehicleType  RegistrationYear  Gearbox     Power  Kilometer  \\\n",
              "165178          8.0         -0.335906      2.0  0.936548   0.587213   \n",
              "192213          2.0         -0.335906      0.0  0.936548   0.587213   \n",
              "84515           5.0          0.818961      0.0  2.101207   0.587213   \n",
              "159736          6.0          0.674603      1.0 -0.829224   0.587213   \n",
              "334959          6.0         -0.480264      1.0 -1.167351   0.587213   \n",
              "...             ...               ...      ...       ...        ...   \n",
              "120851          5.0          1.107678      1.0  0.429358  -1.598941   \n",
              "197900          6.0          0.385886      1.0 -0.998287  -1.598941   \n",
              "183310          8.0          0.097169      1.0  0.654776   0.587213   \n",
              "130128          3.0          0.241528      2.0 -1.129781   0.587213   \n",
              "77494           5.0         -0.913339      1.0 -0.077832   0.587213   \n",
              "\n",
              "        RegistrationMonth  FuelType  Brand  Repaired  DateCreated  PostalCode  \n",
              "165178           0.839690       3.0    2.0       0.0      0.00964    0.046565  \n",
              "192213          -1.665040       1.0    2.0       0.0      0.00964    0.636362  \n",
              "84515           -1.108433       0.0    1.0       0.0      0.00964    0.546511  \n",
              "159736           1.117994       2.0   27.0       0.0      0.00964   -0.458311  \n",
              "334959           1.396297       3.0   27.0       0.0      0.00964    0.545385  \n",
              "...                   ...       ...    ...       ...          ...         ...  \n",
              "120851          -1.108433       0.0    2.0       0.0      0.00964    0.510221  \n",
              "197900           0.839690       3.0    3.0       0.0      0.00964    0.197662  \n",
              "183310           1.674600       3.0   24.0       0.0      0.00964   -1.817725  \n",
              "130128          -0.273523       3.0   24.0       1.0      0.00964    0.269272  \n",
              "77494            1.117994       3.0    2.0       2.0      0.00964    0.662444  \n",
              "\n",
              "[182934 rows x 11 columns]"
            ],
            "text/html": [
              "\n",
              "  <div id=\"df-cf25f592-bfea-4fd2-a9e7-5b7ac0b7002e\">\n",
              "    <div class=\"colab-df-container\">\n",
              "      <div>\n",
              "<style scoped>\n",
              "    .dataframe tbody tr th:only-of-type {\n",
              "        vertical-align: middle;\n",
              "    }\n",
              "\n",
              "    .dataframe tbody tr th {\n",
              "        vertical-align: top;\n",
              "    }\n",
              "\n",
              "    .dataframe thead th {\n",
              "        text-align: right;\n",
              "    }\n",
              "</style>\n",
              "<table border=\"1\" class=\"dataframe\">\n",
              "  <thead>\n",
              "    <tr style=\"text-align: right;\">\n",
              "      <th></th>\n",
              "      <th>VehicleType</th>\n",
              "      <th>RegistrationYear</th>\n",
              "      <th>Gearbox</th>\n",
              "      <th>Power</th>\n",
              "      <th>Kilometer</th>\n",
              "      <th>RegistrationMonth</th>\n",
              "      <th>FuelType</th>\n",
              "      <th>Brand</th>\n",
              "      <th>Repaired</th>\n",
              "      <th>DateCreated</th>\n",
              "      <th>PostalCode</th>\n",
              "    </tr>\n",
              "  </thead>\n",
              "  <tbody>\n",
              "    <tr>\n",
              "      <th>165178</th>\n",
              "      <td>8.0</td>\n",
              "      <td>-0.335906</td>\n",
              "      <td>2.0</td>\n",
              "      <td>0.936548</td>\n",
              "      <td>0.587213</td>\n",
              "      <td>0.839690</td>\n",
              "      <td>3.0</td>\n",
              "      <td>2.0</td>\n",
              "      <td>0.0</td>\n",
              "      <td>0.00964</td>\n",
              "      <td>0.046565</td>\n",
              "    </tr>\n",
              "    <tr>\n",
              "      <th>192213</th>\n",
              "      <td>2.0</td>\n",
              "      <td>-0.335906</td>\n",
              "      <td>0.0</td>\n",
              "      <td>0.936548</td>\n",
              "      <td>0.587213</td>\n",
              "      <td>-1.665040</td>\n",
              "      <td>1.0</td>\n",
              "      <td>2.0</td>\n",
              "      <td>0.0</td>\n",
              "      <td>0.00964</td>\n",
              "      <td>0.636362</td>\n",
              "    </tr>\n",
              "    <tr>\n",
              "      <th>84515</th>\n",
              "      <td>5.0</td>\n",
              "      <td>0.818961</td>\n",
              "      <td>0.0</td>\n",
              "      <td>2.101207</td>\n",
              "      <td>0.587213</td>\n",
              "      <td>-1.108433</td>\n",
              "      <td>0.0</td>\n",
              "      <td>1.0</td>\n",
              "      <td>0.0</td>\n",
              "      <td>0.00964</td>\n",
              "      <td>0.546511</td>\n",
              "    </tr>\n",
              "    <tr>\n",
              "      <th>159736</th>\n",
              "      <td>6.0</td>\n",
              "      <td>0.674603</td>\n",
              "      <td>1.0</td>\n",
              "      <td>-0.829224</td>\n",
              "      <td>0.587213</td>\n",
              "      <td>1.117994</td>\n",
              "      <td>2.0</td>\n",
              "      <td>27.0</td>\n",
              "      <td>0.0</td>\n",
              "      <td>0.00964</td>\n",
              "      <td>-0.458311</td>\n",
              "    </tr>\n",
              "    <tr>\n",
              "      <th>334959</th>\n",
              "      <td>6.0</td>\n",
              "      <td>-0.480264</td>\n",
              "      <td>1.0</td>\n",
              "      <td>-1.167351</td>\n",
              "      <td>0.587213</td>\n",
              "      <td>1.396297</td>\n",
              "      <td>3.0</td>\n",
              "      <td>27.0</td>\n",
              "      <td>0.0</td>\n",
              "      <td>0.00964</td>\n",
              "      <td>0.545385</td>\n",
              "    </tr>\n",
              "    <tr>\n",
              "      <th>...</th>\n",
              "      <td>...</td>\n",
              "      <td>...</td>\n",
              "      <td>...</td>\n",
              "      <td>...</td>\n",
              "      <td>...</td>\n",
              "      <td>...</td>\n",
              "      <td>...</td>\n",
              "      <td>...</td>\n",
              "      <td>...</td>\n",
              "      <td>...</td>\n",
              "      <td>...</td>\n",
              "    </tr>\n",
              "    <tr>\n",
              "      <th>120851</th>\n",
              "      <td>5.0</td>\n",
              "      <td>1.107678</td>\n",
              "      <td>1.0</td>\n",
              "      <td>0.429358</td>\n",
              "      <td>-1.598941</td>\n",
              "      <td>-1.108433</td>\n",
              "      <td>0.0</td>\n",
              "      <td>2.0</td>\n",
              "      <td>0.0</td>\n",
              "      <td>0.00964</td>\n",
              "      <td>0.510221</td>\n",
              "    </tr>\n",
              "    <tr>\n",
              "      <th>197900</th>\n",
              "      <td>6.0</td>\n",
              "      <td>0.385886</td>\n",
              "      <td>1.0</td>\n",
              "      <td>-0.998287</td>\n",
              "      <td>-1.598941</td>\n",
              "      <td>0.839690</td>\n",
              "      <td>3.0</td>\n",
              "      <td>3.0</td>\n",
              "      <td>0.0</td>\n",
              "      <td>0.00964</td>\n",
              "      <td>0.197662</td>\n",
              "    </tr>\n",
              "    <tr>\n",
              "      <th>183310</th>\n",
              "      <td>8.0</td>\n",
              "      <td>0.097169</td>\n",
              "      <td>1.0</td>\n",
              "      <td>0.654776</td>\n",
              "      <td>0.587213</td>\n",
              "      <td>1.674600</td>\n",
              "      <td>3.0</td>\n",
              "      <td>24.0</td>\n",
              "      <td>0.0</td>\n",
              "      <td>0.00964</td>\n",
              "      <td>-1.817725</td>\n",
              "    </tr>\n",
              "    <tr>\n",
              "      <th>130128</th>\n",
              "      <td>3.0</td>\n",
              "      <td>0.241528</td>\n",
              "      <td>2.0</td>\n",
              "      <td>-1.129781</td>\n",
              "      <td>0.587213</td>\n",
              "      <td>-0.273523</td>\n",
              "      <td>3.0</td>\n",
              "      <td>24.0</td>\n",
              "      <td>1.0</td>\n",
              "      <td>0.00964</td>\n",
              "      <td>0.269272</td>\n",
              "    </tr>\n",
              "    <tr>\n",
              "      <th>77494</th>\n",
              "      <td>5.0</td>\n",
              "      <td>-0.913339</td>\n",
              "      <td>1.0</td>\n",
              "      <td>-0.077832</td>\n",
              "      <td>0.587213</td>\n",
              "      <td>1.117994</td>\n",
              "      <td>3.0</td>\n",
              "      <td>2.0</td>\n",
              "      <td>2.0</td>\n",
              "      <td>0.00964</td>\n",
              "      <td>0.662444</td>\n",
              "    </tr>\n",
              "  </tbody>\n",
              "</table>\n",
              "<p>182934 rows × 11 columns</p>\n",
              "</div>\n",
              "      <button class=\"colab-df-convert\" onclick=\"convertToInteractive('df-cf25f592-bfea-4fd2-a9e7-5b7ac0b7002e')\"\n",
              "              title=\"Convert this dataframe to an interactive table.\"\n",
              "              style=\"display:none;\">\n",
              "        \n",
              "  <svg xmlns=\"http://www.w3.org/2000/svg\" height=\"24px\"viewBox=\"0 0 24 24\"\n",
              "       width=\"24px\">\n",
              "    <path d=\"M0 0h24v24H0V0z\" fill=\"none\"/>\n",
              "    <path d=\"M18.56 5.44l.94 2.06.94-2.06 2.06-.94-2.06-.94-.94-2.06-.94 2.06-2.06.94zm-11 1L8.5 8.5l.94-2.06 2.06-.94-2.06-.94L8.5 2.5l-.94 2.06-2.06.94zm10 10l.94 2.06.94-2.06 2.06-.94-2.06-.94-.94-2.06-.94 2.06-2.06.94z\"/><path d=\"M17.41 7.96l-1.37-1.37c-.4-.4-.92-.59-1.43-.59-.52 0-1.04.2-1.43.59L10.3 9.45l-7.72 7.72c-.78.78-.78 2.05 0 2.83L4 21.41c.39.39.9.59 1.41.59.51 0 1.02-.2 1.41-.59l7.78-7.78 2.81-2.81c.8-.78.8-2.07 0-2.86zM5.41 20L4 18.59l7.72-7.72 1.47 1.35L5.41 20z\"/>\n",
              "  </svg>\n",
              "      </button>\n",
              "      \n",
              "  <style>\n",
              "    .colab-df-container {\n",
              "      display:flex;\n",
              "      flex-wrap:wrap;\n",
              "      gap: 12px;\n",
              "    }\n",
              "\n",
              "    .colab-df-convert {\n",
              "      background-color: #E8F0FE;\n",
              "      border: none;\n",
              "      border-radius: 50%;\n",
              "      cursor: pointer;\n",
              "      display: none;\n",
              "      fill: #1967D2;\n",
              "      height: 32px;\n",
              "      padding: 0 0 0 0;\n",
              "      width: 32px;\n",
              "    }\n",
              "\n",
              "    .colab-df-convert:hover {\n",
              "      background-color: #E2EBFA;\n",
              "      box-shadow: 0px 1px 2px rgba(60, 64, 67, 0.3), 0px 1px 3px 1px rgba(60, 64, 67, 0.15);\n",
              "      fill: #174EA6;\n",
              "    }\n",
              "\n",
              "    [theme=dark] .colab-df-convert {\n",
              "      background-color: #3B4455;\n",
              "      fill: #D2E3FC;\n",
              "    }\n",
              "\n",
              "    [theme=dark] .colab-df-convert:hover {\n",
              "      background-color: #434B5C;\n",
              "      box-shadow: 0px 1px 3px 1px rgba(0, 0, 0, 0.15);\n",
              "      filter: drop-shadow(0px 1px 2px rgba(0, 0, 0, 0.3));\n",
              "      fill: #FFFFFF;\n",
              "    }\n",
              "  </style>\n",
              "\n",
              "      <script>\n",
              "        const buttonEl =\n",
              "          document.querySelector('#df-cf25f592-bfea-4fd2-a9e7-5b7ac0b7002e button.colab-df-convert');\n",
              "        buttonEl.style.display =\n",
              "          google.colab.kernel.accessAllowed ? 'block' : 'none';\n",
              "\n",
              "        async function convertToInteractive(key) {\n",
              "          const element = document.querySelector('#df-cf25f592-bfea-4fd2-a9e7-5b7ac0b7002e');\n",
              "          const dataTable =\n",
              "            await google.colab.kernel.invokeFunction('convertToInteractive',\n",
              "                                                     [key], {});\n",
              "          if (!dataTable) return;\n",
              "\n",
              "          const docLinkHtml = 'Like what you see? Visit the ' +\n",
              "            '<a target=\"_blank\" href=https://colab.research.google.com/notebooks/data_table.ipynb>data table notebook</a>'\n",
              "            + ' to learn more about interactive tables.';\n",
              "          element.innerHTML = '';\n",
              "          dataTable['output_type'] = 'display_data';\n",
              "          await google.colab.output.renderOutput(dataTable, element);\n",
              "          const docLink = document.createElement('div');\n",
              "          docLink.innerHTML = docLinkHtml;\n",
              "          element.appendChild(docLink);\n",
              "        }\n",
              "      </script>\n",
              "    </div>\n",
              "  </div>\n",
              "  "
            ]
          },
          "metadata": {}
        }
      ],
      "source": [
        "# drop='first' удаляет первый признак из закодированных:\n",
        "# таким образом обходим dummy-ловушку\n",
        "# задаём handle_unknown='ignore':\n",
        "# игнорируется ранее невстречающиеся значения признака (при transform)\n",
        "encoder_ord = OrdinalEncoder(handle_unknown='use_encoded_value', unknown_value=-1)\n",
        "\n",
        "# обучаем энкодер на заданных категориальных признаках тренировочной выборки\n",
        "encoder_ord.fit(features_train[ohe_features])\n",
        "\n",
        "# добавляем закодированные признаки в X_train_ohe\n",
        "# encoder_ohe.get_feature_names_out() позволяет получить названия колонок\n",
        "features_train[\n",
        "    encoder_ord.get_feature_names_out()\n",
        "] = encoder_ord.transform(features_train[ohe_features])\n",
        "\n",
        "# обучаем его на численных признаках тренировочной выборки, трансформируем её же\n",
        "features_train[num_features] = scaler.fit_transform(features_train[num_features])\n",
        "\n",
        "display(features_train)"
      ]
    },
    {
      "cell_type": "code",
      "execution_count": 43,
      "metadata": {
        "colab": {
          "base_uri": "https://localhost:8080/",
          "height": 206
        },
        "id": "AZtKvn9fHntC",
        "outputId": "47982b9a-aa88-4516-c395-e08d0d6104b8"
      },
      "outputs": [
        {
          "output_type": "execute_result",
          "data": {
            "text/plain": [
              "        VehicleType  RegistrationYear  Gearbox     Power  Kilometer  \\\n",
              "142239          8.0          1.107678      1.0 -0.284465  -2.692017   \n",
              "99634           5.0         -0.191547      1.0 -0.077832   0.587213   \n",
              "260374          6.0         -0.191547      1.0 -0.754085  -0.779133   \n",
              "344549          0.0          0.674603      1.0 -0.284465   0.587213   \n",
              "273071          7.0         -0.480264      0.0  2.721105   0.587213   \n",
              "\n",
              "        RegistrationMonth  FuelType  Brand  Repaired  DateCreated  PostalCode  \n",
              "142239           0.561387       3.0   38.0       0.0      0.00964    0.106763  \n",
              "99634           -0.551827       0.0   20.0       0.0      0.00964   -0.213015  \n",
              "260374          -0.551827       3.0    9.0       0.0      0.00964    1.328354  \n",
              "344549          -1.108433       0.0   38.0       0.0      0.00964   -0.951387  \n",
              "273071           0.004780       3.0   10.0       0.0      0.00964   -0.457457  "
            ],
            "text/html": [
              "\n",
              "  <div id=\"df-219c0ebe-acf0-4297-a407-9636f531a82b\">\n",
              "    <div class=\"colab-df-container\">\n",
              "      <div>\n",
              "<style scoped>\n",
              "    .dataframe tbody tr th:only-of-type {\n",
              "        vertical-align: middle;\n",
              "    }\n",
              "\n",
              "    .dataframe tbody tr th {\n",
              "        vertical-align: top;\n",
              "    }\n",
              "\n",
              "    .dataframe thead th {\n",
              "        text-align: right;\n",
              "    }\n",
              "</style>\n",
              "<table border=\"1\" class=\"dataframe\">\n",
              "  <thead>\n",
              "    <tr style=\"text-align: right;\">\n",
              "      <th></th>\n",
              "      <th>VehicleType</th>\n",
              "      <th>RegistrationYear</th>\n",
              "      <th>Gearbox</th>\n",
              "      <th>Power</th>\n",
              "      <th>Kilometer</th>\n",
              "      <th>RegistrationMonth</th>\n",
              "      <th>FuelType</th>\n",
              "      <th>Brand</th>\n",
              "      <th>Repaired</th>\n",
              "      <th>DateCreated</th>\n",
              "      <th>PostalCode</th>\n",
              "    </tr>\n",
              "  </thead>\n",
              "  <tbody>\n",
              "    <tr>\n",
              "      <th>142239</th>\n",
              "      <td>8.0</td>\n",
              "      <td>1.107678</td>\n",
              "      <td>1.0</td>\n",
              "      <td>-0.284465</td>\n",
              "      <td>-2.692017</td>\n",
              "      <td>0.561387</td>\n",
              "      <td>3.0</td>\n",
              "      <td>38.0</td>\n",
              "      <td>0.0</td>\n",
              "      <td>0.00964</td>\n",
              "      <td>0.106763</td>\n",
              "    </tr>\n",
              "    <tr>\n",
              "      <th>99634</th>\n",
              "      <td>5.0</td>\n",
              "      <td>-0.191547</td>\n",
              "      <td>1.0</td>\n",
              "      <td>-0.077832</td>\n",
              "      <td>0.587213</td>\n",
              "      <td>-0.551827</td>\n",
              "      <td>0.0</td>\n",
              "      <td>20.0</td>\n",
              "      <td>0.0</td>\n",
              "      <td>0.00964</td>\n",
              "      <td>-0.213015</td>\n",
              "    </tr>\n",
              "    <tr>\n",
              "      <th>260374</th>\n",
              "      <td>6.0</td>\n",
              "      <td>-0.191547</td>\n",
              "      <td>1.0</td>\n",
              "      <td>-0.754085</td>\n",
              "      <td>-0.779133</td>\n",
              "      <td>-0.551827</td>\n",
              "      <td>3.0</td>\n",
              "      <td>9.0</td>\n",
              "      <td>0.0</td>\n",
              "      <td>0.00964</td>\n",
              "      <td>1.328354</td>\n",
              "    </tr>\n",
              "    <tr>\n",
              "      <th>344549</th>\n",
              "      <td>0.0</td>\n",
              "      <td>0.674603</td>\n",
              "      <td>1.0</td>\n",
              "      <td>-0.284465</td>\n",
              "      <td>0.587213</td>\n",
              "      <td>-1.108433</td>\n",
              "      <td>0.0</td>\n",
              "      <td>38.0</td>\n",
              "      <td>0.0</td>\n",
              "      <td>0.00964</td>\n",
              "      <td>-0.951387</td>\n",
              "    </tr>\n",
              "    <tr>\n",
              "      <th>273071</th>\n",
              "      <td>7.0</td>\n",
              "      <td>-0.480264</td>\n",
              "      <td>0.0</td>\n",
              "      <td>2.721105</td>\n",
              "      <td>0.587213</td>\n",
              "      <td>0.004780</td>\n",
              "      <td>3.0</td>\n",
              "      <td>10.0</td>\n",
              "      <td>0.0</td>\n",
              "      <td>0.00964</td>\n",
              "      <td>-0.457457</td>\n",
              "    </tr>\n",
              "  </tbody>\n",
              "</table>\n",
              "</div>\n",
              "      <button class=\"colab-df-convert\" onclick=\"convertToInteractive('df-219c0ebe-acf0-4297-a407-9636f531a82b')\"\n",
              "              title=\"Convert this dataframe to an interactive table.\"\n",
              "              style=\"display:none;\">\n",
              "        \n",
              "  <svg xmlns=\"http://www.w3.org/2000/svg\" height=\"24px\"viewBox=\"0 0 24 24\"\n",
              "       width=\"24px\">\n",
              "    <path d=\"M0 0h24v24H0V0z\" fill=\"none\"/>\n",
              "    <path d=\"M18.56 5.44l.94 2.06.94-2.06 2.06-.94-2.06-.94-.94-2.06-.94 2.06-2.06.94zm-11 1L8.5 8.5l.94-2.06 2.06-.94-2.06-.94L8.5 2.5l-.94 2.06-2.06.94zm10 10l.94 2.06.94-2.06 2.06-.94-2.06-.94-.94-2.06-.94 2.06-2.06.94z\"/><path d=\"M17.41 7.96l-1.37-1.37c-.4-.4-.92-.59-1.43-.59-.52 0-1.04.2-1.43.59L10.3 9.45l-7.72 7.72c-.78.78-.78 2.05 0 2.83L4 21.41c.39.39.9.59 1.41.59.51 0 1.02-.2 1.41-.59l7.78-7.78 2.81-2.81c.8-.78.8-2.07 0-2.86zM5.41 20L4 18.59l7.72-7.72 1.47 1.35L5.41 20z\"/>\n",
              "  </svg>\n",
              "      </button>\n",
              "      \n",
              "  <style>\n",
              "    .colab-df-container {\n",
              "      display:flex;\n",
              "      flex-wrap:wrap;\n",
              "      gap: 12px;\n",
              "    }\n",
              "\n",
              "    .colab-df-convert {\n",
              "      background-color: #E8F0FE;\n",
              "      border: none;\n",
              "      border-radius: 50%;\n",
              "      cursor: pointer;\n",
              "      display: none;\n",
              "      fill: #1967D2;\n",
              "      height: 32px;\n",
              "      padding: 0 0 0 0;\n",
              "      width: 32px;\n",
              "    }\n",
              "\n",
              "    .colab-df-convert:hover {\n",
              "      background-color: #E2EBFA;\n",
              "      box-shadow: 0px 1px 2px rgba(60, 64, 67, 0.3), 0px 1px 3px 1px rgba(60, 64, 67, 0.15);\n",
              "      fill: #174EA6;\n",
              "    }\n",
              "\n",
              "    [theme=dark] .colab-df-convert {\n",
              "      background-color: #3B4455;\n",
              "      fill: #D2E3FC;\n",
              "    }\n",
              "\n",
              "    [theme=dark] .colab-df-convert:hover {\n",
              "      background-color: #434B5C;\n",
              "      box-shadow: 0px 1px 3px 1px rgba(0, 0, 0, 0.15);\n",
              "      filter: drop-shadow(0px 1px 2px rgba(0, 0, 0, 0.3));\n",
              "      fill: #FFFFFF;\n",
              "    }\n",
              "  </style>\n",
              "\n",
              "      <script>\n",
              "        const buttonEl =\n",
              "          document.querySelector('#df-219c0ebe-acf0-4297-a407-9636f531a82b button.colab-df-convert');\n",
              "        buttonEl.style.display =\n",
              "          google.colab.kernel.accessAllowed ? 'block' : 'none';\n",
              "\n",
              "        async function convertToInteractive(key) {\n",
              "          const element = document.querySelector('#df-219c0ebe-acf0-4297-a407-9636f531a82b');\n",
              "          const dataTable =\n",
              "            await google.colab.kernel.invokeFunction('convertToInteractive',\n",
              "                                                     [key], {});\n",
              "          if (!dataTable) return;\n",
              "\n",
              "          const docLinkHtml = 'Like what you see? Visit the ' +\n",
              "            '<a target=\"_blank\" href=https://colab.research.google.com/notebooks/data_table.ipynb>data table notebook</a>'\n",
              "            + ' to learn more about interactive tables.';\n",
              "          element.innerHTML = '';\n",
              "          dataTable['output_type'] = 'display_data';\n",
              "          await google.colab.output.renderOutput(dataTable, element);\n",
              "          const docLink = document.createElement('div');\n",
              "          docLink.innerHTML = docLinkHtml;\n",
              "          element.appendChild(docLink);\n",
              "        }\n",
              "      </script>\n",
              "    </div>\n",
              "  </div>\n",
              "  "
            ]
          },
          "metadata": {},
          "execution_count": 43
        }
      ],
      "source": [
        "# энкодером, который обучен на ТРЕНИРОВОЧНОЙ ВЫБОРКЕ, кодируем валидационную\n",
        "features_valid[\n",
        "    encoder_ord.get_feature_names_out()\n",
        "] = encoder_ord.transform(features_valid[ohe_features])\n",
        "\n",
        "# скелером, который обучен на ТРЕНИРОВОЧНОЙ ВЫБОРКЕ, масштабируем валидационную\n",
        "features_valid[num_features] = scaler.transform(\n",
        "    features_valid[num_features]\n",
        ")\n",
        "\n",
        "# смотрим на результат\n",
        "features_valid.head()"
      ]
    },
    {
      "cell_type": "code",
      "execution_count": null,
      "metadata": {
        "scrolled": true,
        "id": "EoeXcJ9UHntC"
      },
      "outputs": [],
      "source": [
        "%%time\n",
        "\n",
        "# CatBoostRegressor\n",
        "cat_param = {\n",
        "            'depth'         : [6,8,10],\n",
        "            'learning_rate' : [0.01, 0.05, 0.1],\n",
        "            'iterations'    : [30, 50, 100]\n",
        "            }\n",
        "\n",
        "grid = GridSearchCV(\n",
        "                    CatBoostRegressor(loss_function = 'RMSE'), \n",
        "                    param_grid = cat_param, \n",
        "                    cv=5, \n",
        "                    scoring='neg_root_mean_squared_error'\n",
        "                    )\n",
        "\n",
        "grid.fit(features_train, target_train)\n",
        "\n",
        "print(grid.best_estimator_) \n",
        "print(np.abs(grid.best_score_))\n",
        "print(grid.best_params_)"
      ]
    },
    {
      "cell_type": "code",
      "execution_count": 45,
      "metadata": {
        "id": "c0mNJPz7HntD"
      },
      "outputs": [],
      "source": [
        "cbr = grid.best_estimator_"
      ]
    },
    {
      "cell_type": "code",
      "execution_count": 46,
      "metadata": {
        "scrolled": true,
        "colab": {
          "base_uri": "https://localhost:8080/"
        },
        "id": "9PIOwTp7HntE",
        "outputId": "26ff62da-eaa6-4adb-ebe2-b67f7c0e286f"
      },
      "outputs": [
        {
          "output_type": "stream",
          "name": "stdout",
          "text": [
            "0:\tlearn: 4253.8020387\ttotal: 70.5ms\tremaining: 6.98s\n",
            "1:\tlearn: 3963.7205914\ttotal: 135ms\tremaining: 6.63s\n",
            "2:\tlearn: 3708.2590821\ttotal: 203ms\tremaining: 6.57s\n",
            "3:\tlearn: 3486.7374778\ttotal: 267ms\tremaining: 6.41s\n",
            "4:\tlearn: 3291.8632623\ttotal: 337ms\tremaining: 6.41s\n",
            "5:\tlearn: 3118.5760688\ttotal: 401ms\tremaining: 6.28s\n",
            "6:\tlearn: 2965.1600506\ttotal: 464ms\tremaining: 6.16s\n",
            "7:\tlearn: 2832.8733087\ttotal: 526ms\tremaining: 6.05s\n",
            "8:\tlearn: 2717.6541218\ttotal: 593ms\tremaining: 6s\n",
            "9:\tlearn: 2613.5043493\ttotal: 659ms\tremaining: 5.93s\n",
            "10:\tlearn: 2522.7115885\ttotal: 721ms\tremaining: 5.83s\n",
            "11:\tlearn: 2444.0123769\ttotal: 784ms\tremaining: 5.75s\n",
            "12:\tlearn: 2375.1558753\ttotal: 853ms\tremaining: 5.71s\n",
            "13:\tlearn: 2311.5489517\ttotal: 926ms\tremaining: 5.69s\n",
            "14:\tlearn: 2257.7195917\ttotal: 1s\tremaining: 5.67s\n",
            "15:\tlearn: 2211.9492161\ttotal: 1.07s\tremaining: 5.65s\n",
            "16:\tlearn: 2171.8723097\ttotal: 1.17s\tremaining: 5.72s\n",
            "17:\tlearn: 2138.2701784\ttotal: 1.24s\tremaining: 5.63s\n",
            "18:\tlearn: 2105.7325922\ttotal: 1.3s\tremaining: 5.56s\n",
            "19:\tlearn: 2070.0369089\ttotal: 1.37s\tremaining: 5.48s\n",
            "20:\tlearn: 2039.1902006\ttotal: 1.43s\tremaining: 5.39s\n",
            "21:\tlearn: 2018.3597773\ttotal: 1.49s\tremaining: 5.3s\n",
            "22:\tlearn: 1996.8280083\ttotal: 1.56s\tremaining: 5.22s\n",
            "23:\tlearn: 1980.2916452\ttotal: 1.62s\tremaining: 5.14s\n",
            "24:\tlearn: 1961.9491551\ttotal: 1.69s\tremaining: 5.08s\n",
            "25:\tlearn: 1947.5831590\ttotal: 1.76s\tremaining: 5s\n",
            "26:\tlearn: 1933.2757883\ttotal: 1.82s\tremaining: 4.93s\n",
            "27:\tlearn: 1917.7746355\ttotal: 1.89s\tremaining: 4.87s\n",
            "28:\tlearn: 1906.5582681\ttotal: 1.96s\tremaining: 4.79s\n",
            "29:\tlearn: 1896.3120520\ttotal: 2.04s\tremaining: 4.76s\n",
            "30:\tlearn: 1887.4803104\ttotal: 2.1s\tremaining: 4.68s\n",
            "31:\tlearn: 1877.7047370\ttotal: 2.18s\tremaining: 4.63s\n",
            "32:\tlearn: 1871.7930185\ttotal: 2.26s\tremaining: 4.58s\n",
            "33:\tlearn: 1865.7479631\ttotal: 2.33s\tremaining: 4.52s\n",
            "34:\tlearn: 1858.0239344\ttotal: 2.39s\tremaining: 4.45s\n",
            "35:\tlearn: 1851.2917441\ttotal: 2.46s\tremaining: 4.37s\n",
            "36:\tlearn: 1845.5477741\ttotal: 2.52s\tremaining: 4.3s\n",
            "37:\tlearn: 1838.6676718\ttotal: 2.59s\tremaining: 4.22s\n",
            "38:\tlearn: 1832.8915076\ttotal: 2.65s\tremaining: 4.14s\n",
            "39:\tlearn: 1826.9858028\ttotal: 2.72s\tremaining: 4.08s\n",
            "40:\tlearn: 1823.3246516\ttotal: 2.79s\tremaining: 4.01s\n",
            "41:\tlearn: 1817.6490761\ttotal: 2.85s\tremaining: 3.94s\n",
            "42:\tlearn: 1813.8947641\ttotal: 2.93s\tremaining: 3.88s\n",
            "43:\tlearn: 1808.6082850\ttotal: 3s\tremaining: 3.81s\n",
            "44:\tlearn: 1805.2189386\ttotal: 3.07s\tremaining: 3.75s\n",
            "45:\tlearn: 1801.3649630\ttotal: 3.15s\tremaining: 3.69s\n",
            "46:\tlearn: 1797.6020627\ttotal: 3.21s\tremaining: 3.63s\n",
            "47:\tlearn: 1794.6376863\ttotal: 3.28s\tremaining: 3.55s\n",
            "48:\tlearn: 1789.1724132\ttotal: 3.35s\tremaining: 3.48s\n",
            "49:\tlearn: 1785.4921882\ttotal: 3.41s\tremaining: 3.41s\n",
            "50:\tlearn: 1782.3559915\ttotal: 3.48s\tremaining: 3.34s\n",
            "51:\tlearn: 1778.5070517\ttotal: 3.54s\tremaining: 3.27s\n",
            "52:\tlearn: 1776.1295838\ttotal: 3.61s\tremaining: 3.2s\n",
            "53:\tlearn: 1773.4060350\ttotal: 3.67s\tremaining: 3.13s\n",
            "54:\tlearn: 1768.7854944\ttotal: 3.75s\tremaining: 3.07s\n",
            "55:\tlearn: 1765.2284849\ttotal: 3.82s\tremaining: 3s\n",
            "56:\tlearn: 1763.0247426\ttotal: 3.89s\tremaining: 2.93s\n",
            "57:\tlearn: 1760.9758286\ttotal: 3.96s\tremaining: 2.86s\n",
            "58:\tlearn: 1759.1859877\ttotal: 4.03s\tremaining: 2.8s\n",
            "59:\tlearn: 1756.3141239\ttotal: 4.1s\tremaining: 2.73s\n",
            "60:\tlearn: 1754.3741604\ttotal: 4.17s\tremaining: 2.66s\n",
            "61:\tlearn: 1752.4749862\ttotal: 4.29s\tremaining: 2.63s\n",
            "62:\tlearn: 1750.1265063\ttotal: 4.4s\tremaining: 2.59s\n",
            "63:\tlearn: 1747.7216260\ttotal: 4.53s\tremaining: 2.55s\n",
            "64:\tlearn: 1746.2827437\ttotal: 4.66s\tremaining: 2.51s\n",
            "65:\tlearn: 1742.5485417\ttotal: 4.79s\tremaining: 2.47s\n",
            "66:\tlearn: 1741.0684592\ttotal: 4.92s\tremaining: 2.42s\n",
            "67:\tlearn: 1739.2986825\ttotal: 5.05s\tremaining: 2.37s\n",
            "68:\tlearn: 1737.1181916\ttotal: 5.18s\tremaining: 2.33s\n",
            "69:\tlearn: 1735.6404921\ttotal: 5.32s\tremaining: 2.28s\n",
            "70:\tlearn: 1732.7470506\ttotal: 5.45s\tremaining: 2.23s\n",
            "71:\tlearn: 1729.7862899\ttotal: 5.58s\tremaining: 2.17s\n",
            "72:\tlearn: 1727.6133060\ttotal: 5.71s\tremaining: 2.11s\n",
            "73:\tlearn: 1725.5835676\ttotal: 5.85s\tremaining: 2.06s\n",
            "74:\tlearn: 1723.6715001\ttotal: 5.98s\tremaining: 1.99s\n",
            "75:\tlearn: 1722.2772387\ttotal: 6.13s\tremaining: 1.94s\n",
            "76:\tlearn: 1720.6543022\ttotal: 6.26s\tremaining: 1.87s\n",
            "77:\tlearn: 1718.7999901\ttotal: 6.4s\tremaining: 1.8s\n",
            "78:\tlearn: 1717.6051230\ttotal: 6.53s\tremaining: 1.73s\n",
            "79:\tlearn: 1714.4336627\ttotal: 6.67s\tremaining: 1.67s\n",
            "80:\tlearn: 1712.1584832\ttotal: 6.79s\tremaining: 1.59s\n",
            "81:\tlearn: 1710.8994945\ttotal: 6.92s\tremaining: 1.52s\n",
            "82:\tlearn: 1709.6703443\ttotal: 7.05s\tremaining: 1.44s\n",
            "83:\tlearn: 1708.0057287\ttotal: 7.12s\tremaining: 1.36s\n",
            "84:\tlearn: 1706.8631467\ttotal: 7.2s\tremaining: 1.27s\n",
            "85:\tlearn: 1705.5086822\ttotal: 7.26s\tremaining: 1.18s\n",
            "86:\tlearn: 1702.7006846\ttotal: 7.33s\tremaining: 1.09s\n",
            "87:\tlearn: 1700.1458247\ttotal: 7.39s\tremaining: 1.01s\n",
            "88:\tlearn: 1698.6204622\ttotal: 7.46s\tremaining: 923ms\n",
            "89:\tlearn: 1696.9833561\ttotal: 7.53s\tremaining: 837ms\n",
            "90:\tlearn: 1695.3338102\ttotal: 7.59s\tremaining: 751ms\n",
            "91:\tlearn: 1693.6266395\ttotal: 7.66s\tremaining: 666ms\n",
            "92:\tlearn: 1692.2849657\ttotal: 7.72s\tremaining: 581ms\n",
            "93:\tlearn: 1691.2035067\ttotal: 7.79s\tremaining: 497ms\n",
            "94:\tlearn: 1690.1615639\ttotal: 7.85s\tremaining: 413ms\n",
            "95:\tlearn: 1689.1864362\ttotal: 7.92s\tremaining: 330ms\n",
            "96:\tlearn: 1688.2444605\ttotal: 7.99s\tremaining: 247ms\n",
            "97:\tlearn: 1686.9483893\ttotal: 8.06s\tremaining: 164ms\n",
            "98:\tlearn: 1684.7169677\ttotal: 8.12s\tremaining: 82ms\n",
            "99:\tlearn: 1683.9931828\ttotal: 8.2s\tremaining: 0us\n",
            "CPU times: user 12.5 s, sys: 277 ms, total: 12.8 s\n",
            "Wall time: 8.44 s\n"
          ]
        },
        {
          "output_type": "execute_result",
          "data": {
            "text/plain": [
              "<catboost.core.CatBoostRegressor at 0x7fdd3cd3e4a0>"
            ]
          },
          "metadata": {},
          "execution_count": 46
        }
      ],
      "source": [
        "%%time\n",
        "cbr.fit(features_train, target_train)"
      ]
    },
    {
      "cell_type": "code",
      "execution_count": 47,
      "metadata": {
        "colab": {
          "base_uri": "https://localhost:8080/"
        },
        "id": "yFFXEGptHntE",
        "outputId": "9620dc66-6243-4257-ef2e-93e496350ff6"
      },
      "outputs": [
        {
          "output_type": "stream",
          "name": "stdout",
          "text": [
            "RMSE 1729.8146341985312\n",
            "CPU times: user 60.8 ms, sys: 15 ms, total: 75.8 ms\n",
            "Wall time: 49.5 ms\n"
          ]
        }
      ],
      "source": [
        "%%time\n",
        "cbr_pred = cbr.predict(features_valid)\n",
        "print('RMSE', mean_squared_error(target_valid, cbr_pred, squared = False))"
      ]
    },
    {
      "cell_type": "markdown",
      "metadata": {
        "id": "BmmxLx0iHntE"
      },
      "source": [
        "    Вывод по CBR: на валидационной выборке\n",
        "    RMSE 1729.8146341985312\n",
        "    время предсказания Wall time: 31.2 ms\n",
        "    время обучения Wall time: 6.5 s"
      ]
    },
    {
      "cell_type": "markdown",
      "metadata": {
        "id": "rt38zMNzHntE"
      },
      "source": [
        "### Проверим lightgbm"
      ]
    },
    {
      "cell_type": "code",
      "execution_count": 48,
      "metadata": {
        "colab": {
          "base_uri": "https://localhost:8080/",
          "height": 109
        },
        "id": "VmWJoc8FHntE",
        "outputId": "6dab5568-4623-40aa-cdce-a0f00e20b69f"
      },
      "outputs": [
        {
          "output_type": "stream",
          "name": "stdout",
          "text": [
            "CPU times: user 2.73 s, sys: 18.6 ms, total: 2.75 s\n",
            "Wall time: 1.48 s\n"
          ]
        },
        {
          "output_type": "execute_result",
          "data": {
            "text/plain": [
              "LGBMRegressor()"
            ],
            "text/html": [
              "<style>#sk-container-id-3 {color: black;background-color: white;}#sk-container-id-3 pre{padding: 0;}#sk-container-id-3 div.sk-toggleable {background-color: white;}#sk-container-id-3 label.sk-toggleable__label {cursor: pointer;display: block;width: 100%;margin-bottom: 0;padding: 0.3em;box-sizing: border-box;text-align: center;}#sk-container-id-3 label.sk-toggleable__label-arrow:before {content: \"▸\";float: left;margin-right: 0.25em;color: #696969;}#sk-container-id-3 label.sk-toggleable__label-arrow:hover:before {color: black;}#sk-container-id-3 div.sk-estimator:hover label.sk-toggleable__label-arrow:before {color: black;}#sk-container-id-3 div.sk-toggleable__content {max-height: 0;max-width: 0;overflow: hidden;text-align: left;background-color: #f0f8ff;}#sk-container-id-3 div.sk-toggleable__content pre {margin: 0.2em;color: black;border-radius: 0.25em;background-color: #f0f8ff;}#sk-container-id-3 input.sk-toggleable__control:checked~div.sk-toggleable__content {max-height: 200px;max-width: 100%;overflow: auto;}#sk-container-id-3 input.sk-toggleable__control:checked~label.sk-toggleable__label-arrow:before {content: \"▾\";}#sk-container-id-3 div.sk-estimator input.sk-toggleable__control:checked~label.sk-toggleable__label {background-color: #d4ebff;}#sk-container-id-3 div.sk-label input.sk-toggleable__control:checked~label.sk-toggleable__label {background-color: #d4ebff;}#sk-container-id-3 input.sk-hidden--visually {border: 0;clip: rect(1px 1px 1px 1px);clip: rect(1px, 1px, 1px, 1px);height: 1px;margin: -1px;overflow: hidden;padding: 0;position: absolute;width: 1px;}#sk-container-id-3 div.sk-estimator {font-family: monospace;background-color: #f0f8ff;border: 1px dotted black;border-radius: 0.25em;box-sizing: border-box;margin-bottom: 0.5em;}#sk-container-id-3 div.sk-estimator:hover {background-color: #d4ebff;}#sk-container-id-3 div.sk-parallel-item::after {content: \"\";width: 100%;border-bottom: 1px solid gray;flex-grow: 1;}#sk-container-id-3 div.sk-label:hover label.sk-toggleable__label {background-color: #d4ebff;}#sk-container-id-3 div.sk-serial::before {content: \"\";position: absolute;border-left: 1px solid gray;box-sizing: border-box;top: 0;bottom: 0;left: 50%;z-index: 0;}#sk-container-id-3 div.sk-serial {display: flex;flex-direction: column;align-items: center;background-color: white;padding-right: 0.2em;padding-left: 0.2em;position: relative;}#sk-container-id-3 div.sk-item {position: relative;z-index: 1;}#sk-container-id-3 div.sk-parallel {display: flex;align-items: stretch;justify-content: center;background-color: white;position: relative;}#sk-container-id-3 div.sk-item::before, #sk-container-id-3 div.sk-parallel-item::before {content: \"\";position: absolute;border-left: 1px solid gray;box-sizing: border-box;top: 0;bottom: 0;left: 50%;z-index: -1;}#sk-container-id-3 div.sk-parallel-item {display: flex;flex-direction: column;z-index: 1;position: relative;background-color: white;}#sk-container-id-3 div.sk-parallel-item:first-child::after {align-self: flex-end;width: 50%;}#sk-container-id-3 div.sk-parallel-item:last-child::after {align-self: flex-start;width: 50%;}#sk-container-id-3 div.sk-parallel-item:only-child::after {width: 0;}#sk-container-id-3 div.sk-dashed-wrapped {border: 1px dashed gray;margin: 0 0.4em 0.5em 0.4em;box-sizing: border-box;padding-bottom: 0.4em;background-color: white;}#sk-container-id-3 div.sk-label label {font-family: monospace;font-weight: bold;display: inline-block;line-height: 1.2em;}#sk-container-id-3 div.sk-label-container {text-align: center;}#sk-container-id-3 div.sk-container {/* jupyter's `normalize.less` sets `[hidden] { display: none; }` but bootstrap.min.css set `[hidden] { display: none !important; }` so we also need the `!important` here to be able to override the default hidden behavior on the sphinx rendered scikit-learn.org. See: https://github.com/scikit-learn/scikit-learn/issues/21755 */display: inline-block !important;position: relative;}#sk-container-id-3 div.sk-text-repr-fallback {display: none;}</style><div id=\"sk-container-id-3\" class=\"sk-top-container\"><div class=\"sk-text-repr-fallback\"><pre>LGBMRegressor()</pre><b>In a Jupyter environment, please rerun this cell to show the HTML representation or trust the notebook. <br />On GitHub, the HTML representation is unable to render, please try loading this page with nbviewer.org.</b></div><div class=\"sk-container\" hidden><div class=\"sk-item\"><div class=\"sk-estimator sk-toggleable\"><input class=\"sk-toggleable__control sk-hidden--visually\" id=\"sk-estimator-id-3\" type=\"checkbox\" checked><label for=\"sk-estimator-id-3\" class=\"sk-toggleable__label sk-toggleable__label-arrow\">LGBMRegressor</label><div class=\"sk-toggleable__content\"><pre>LGBMRegressor()</pre></div></div></div></div></div>"
            ]
          },
          "metadata": {},
          "execution_count": 48
        }
      ],
      "source": [
        "%%time\n",
        "lgb_model = LGBMRegressor()\n",
        "\n",
        "lgb_model.fit(features_train, target_train) "
      ]
    },
    {
      "cell_type": "code",
      "execution_count": 49,
      "metadata": {
        "colab": {
          "base_uri": "https://localhost:8080/"
        },
        "id": "VHWF3DbHHntF",
        "outputId": "5a2b0602-a1f6-46d6-db1f-4dd2b5afbc81"
      },
      "outputs": [
        {
          "output_type": "stream",
          "name": "stdout",
          "text": [
            "RMSE 1728.4559659974962\n",
            "CPU times: user 614 ms, sys: 1.97 ms, total: 616 ms\n",
            "Wall time: 334 ms\n"
          ]
        }
      ],
      "source": [
        "%%time\n",
        "preds_lgb_model = lgb_model.predict(features_valid)\n",
        "\n",
        "print(\"RMSE\" , np.sqrt(mean_squared_error(target_valid, preds_lgb_model)))"
      ]
    },
    {
      "cell_type": "code",
      "execution_count": 50,
      "metadata": {
        "colab": {
          "base_uri": "https://localhost:8080/"
        },
        "id": "SvZoZHDOHntF",
        "outputId": "a49a193d-41ef-4662-e71c-5d66965138b2"
      },
      "outputs": [
        {
          "output_type": "stream",
          "name": "stdout",
          "text": [
            "LGBMRegressor(num_leaves=100)\n",
            "-1649.43445146279\n",
            "{'n_estimators': 100, 'num_leaves': 100}\n",
            "CPU times: user 1min 6s, sys: 353 ms, total: 1min 7s\n",
            "Wall time: 45.7 s\n"
          ]
        }
      ],
      "source": [
        "%%time\n",
        "\n",
        "#LightGBM\n",
        "lgbm_param = {\n",
        "            'n_estimators'  : [50, 100],\n",
        "            'num_leaves'    : [50, 100]\n",
        "            #'learning_rate' : [0.1]\n",
        "            }\n",
        "lgbm_model = LGBMRegressor()\n",
        "grid = GridSearchCV(\n",
        "                    LGBMRegressor(learning_rate = 0.1), \n",
        "                    param_grid = lgbm_param, \n",
        "                    cv=5, \n",
        "                    scoring='neg_root_mean_squared_error'\n",
        "                    )\n",
        "\n",
        "grid.fit(features_train, target_train)\n",
        "\n",
        "\n",
        "print(grid.best_estimator_) \n",
        "print(grid.best_score_)\n",
        "print(grid.best_params_)\n"
      ]
    },
    {
      "cell_type": "code",
      "execution_count": 51,
      "metadata": {
        "colab": {
          "base_uri": "https://localhost:8080/",
          "height": 109
        },
        "id": "WOE12gaFHntF",
        "outputId": "a2c5e3ef-5705-4c35-b296-1380485fc475"
      },
      "outputs": [
        {
          "output_type": "stream",
          "name": "stdout",
          "text": [
            "CPU times: user 6.25 s, sys: 35.5 ms, total: 6.28 s\n",
            "Wall time: 4.99 s\n"
          ]
        },
        {
          "output_type": "execute_result",
          "data": {
            "text/plain": [
              "LGBMRegressor(num_leaves=100)"
            ],
            "text/html": [
              "<style>#sk-container-id-4 {color: black;background-color: white;}#sk-container-id-4 pre{padding: 0;}#sk-container-id-4 div.sk-toggleable {background-color: white;}#sk-container-id-4 label.sk-toggleable__label {cursor: pointer;display: block;width: 100%;margin-bottom: 0;padding: 0.3em;box-sizing: border-box;text-align: center;}#sk-container-id-4 label.sk-toggleable__label-arrow:before {content: \"▸\";float: left;margin-right: 0.25em;color: #696969;}#sk-container-id-4 label.sk-toggleable__label-arrow:hover:before {color: black;}#sk-container-id-4 div.sk-estimator:hover label.sk-toggleable__label-arrow:before {color: black;}#sk-container-id-4 div.sk-toggleable__content {max-height: 0;max-width: 0;overflow: hidden;text-align: left;background-color: #f0f8ff;}#sk-container-id-4 div.sk-toggleable__content pre {margin: 0.2em;color: black;border-radius: 0.25em;background-color: #f0f8ff;}#sk-container-id-4 input.sk-toggleable__control:checked~div.sk-toggleable__content {max-height: 200px;max-width: 100%;overflow: auto;}#sk-container-id-4 input.sk-toggleable__control:checked~label.sk-toggleable__label-arrow:before {content: \"▾\";}#sk-container-id-4 div.sk-estimator input.sk-toggleable__control:checked~label.sk-toggleable__label {background-color: #d4ebff;}#sk-container-id-4 div.sk-label input.sk-toggleable__control:checked~label.sk-toggleable__label {background-color: #d4ebff;}#sk-container-id-4 input.sk-hidden--visually {border: 0;clip: rect(1px 1px 1px 1px);clip: rect(1px, 1px, 1px, 1px);height: 1px;margin: -1px;overflow: hidden;padding: 0;position: absolute;width: 1px;}#sk-container-id-4 div.sk-estimator {font-family: monospace;background-color: #f0f8ff;border: 1px dotted black;border-radius: 0.25em;box-sizing: border-box;margin-bottom: 0.5em;}#sk-container-id-4 div.sk-estimator:hover {background-color: #d4ebff;}#sk-container-id-4 div.sk-parallel-item::after {content: \"\";width: 100%;border-bottom: 1px solid gray;flex-grow: 1;}#sk-container-id-4 div.sk-label:hover label.sk-toggleable__label {background-color: #d4ebff;}#sk-container-id-4 div.sk-serial::before {content: \"\";position: absolute;border-left: 1px solid gray;box-sizing: border-box;top: 0;bottom: 0;left: 50%;z-index: 0;}#sk-container-id-4 div.sk-serial {display: flex;flex-direction: column;align-items: center;background-color: white;padding-right: 0.2em;padding-left: 0.2em;position: relative;}#sk-container-id-4 div.sk-item {position: relative;z-index: 1;}#sk-container-id-4 div.sk-parallel {display: flex;align-items: stretch;justify-content: center;background-color: white;position: relative;}#sk-container-id-4 div.sk-item::before, #sk-container-id-4 div.sk-parallel-item::before {content: \"\";position: absolute;border-left: 1px solid gray;box-sizing: border-box;top: 0;bottom: 0;left: 50%;z-index: -1;}#sk-container-id-4 div.sk-parallel-item {display: flex;flex-direction: column;z-index: 1;position: relative;background-color: white;}#sk-container-id-4 div.sk-parallel-item:first-child::after {align-self: flex-end;width: 50%;}#sk-container-id-4 div.sk-parallel-item:last-child::after {align-self: flex-start;width: 50%;}#sk-container-id-4 div.sk-parallel-item:only-child::after {width: 0;}#sk-container-id-4 div.sk-dashed-wrapped {border: 1px dashed gray;margin: 0 0.4em 0.5em 0.4em;box-sizing: border-box;padding-bottom: 0.4em;background-color: white;}#sk-container-id-4 div.sk-label label {font-family: monospace;font-weight: bold;display: inline-block;line-height: 1.2em;}#sk-container-id-4 div.sk-label-container {text-align: center;}#sk-container-id-4 div.sk-container {/* jupyter's `normalize.less` sets `[hidden] { display: none; }` but bootstrap.min.css set `[hidden] { display: none !important; }` so we also need the `!important` here to be able to override the default hidden behavior on the sphinx rendered scikit-learn.org. See: https://github.com/scikit-learn/scikit-learn/issues/21755 */display: inline-block !important;position: relative;}#sk-container-id-4 div.sk-text-repr-fallback {display: none;}</style><div id=\"sk-container-id-4\" class=\"sk-top-container\"><div class=\"sk-text-repr-fallback\"><pre>LGBMRegressor(num_leaves=100)</pre><b>In a Jupyter environment, please rerun this cell to show the HTML representation or trust the notebook. <br />On GitHub, the HTML representation is unable to render, please try loading this page with nbviewer.org.</b></div><div class=\"sk-container\" hidden><div class=\"sk-item\"><div class=\"sk-estimator sk-toggleable\"><input class=\"sk-toggleable__control sk-hidden--visually\" id=\"sk-estimator-id-4\" type=\"checkbox\" checked><label for=\"sk-estimator-id-4\" class=\"sk-toggleable__label sk-toggleable__label-arrow\">LGBMRegressor</label><div class=\"sk-toggleable__content\"><pre>LGBMRegressor(num_leaves=100)</pre></div></div></div></div></div>"
            ]
          },
          "metadata": {},
          "execution_count": 51
        }
      ],
      "source": [
        "%%time\n",
        "lgbm_fin = grid.best_estimator_\n",
        "lgbm_fin.fit(features_train, target_train)\n"
      ]
    },
    {
      "cell_type": "code",
      "execution_count": 52,
      "metadata": {
        "colab": {
          "base_uri": "https://localhost:8080/"
        },
        "id": "RbCSI3c3HntF",
        "outputId": "529c0da9-d656-4d8a-c8f4-02ff2bb52408"
      },
      "outputs": [
        {
          "output_type": "stream",
          "name": "stdout",
          "text": [
            "RMSE lgbm 1650.5269663653248\n",
            "CPU times: user 768 ms, sys: 3.79 ms, total: 772 ms\n",
            "Wall time: 432 ms\n"
          ]
        }
      ],
      "source": [
        "%%time\n",
        "lgbm_pred = lgbm_fin.predict(features_valid)\n",
        "\n",
        "print('RMSE lgbm', np.sqrt(mean_squared_error(target_valid, lgbm_pred)))"
      ]
    },
    {
      "cell_type": "markdown",
      "metadata": {
        "id": "ZHXEecu6HntF"
      },
      "source": [
        "    Вывод по LGBM: на валидационной выборке\n",
        "    RMSE  1650.5269663653248\n",
        "    время предсказания Wall time: 710 ms\n",
        "    время обучения Wall time: 8.79 s"
      ]
    },
    {
      "cell_type": "markdown",
      "metadata": {
        "id": "yj7IkZfHHntF"
      },
      "source": [
        "## Анализ моделей"
      ]
    },
    {
      "cell_type": "markdown",
      "metadata": {
        "id": "cWcEO_NMHntF"
      },
      "source": [
        "* по требованию заказчика, RMSE не должна превышать 2500. Этот порог проходят 3 модели:\n",
        "1. DecisionTreeRegressor(max_depth=20, min_samples_leaf=20, min_samples_split=5, random_state=12345)\n",
        "    <br>RMSE  1861.0664850275505\n",
        "    <br>время предсказания Wall time: 32.8 ms\n",
        "    <br>время обучения Wall time: 2.12 s\n",
        "                      \n",
        "2. CatBoostRegressor {'depth': 10, 'iterations': 100, 'learning_rate': 0.1, 'loss_function': 'RMSE'} \n",
        "    <br>RMSE 1729.8146341985312\n",
        "    <br>время предсказания Wall time: 31.2 ms\n",
        "    <br>время обучения Wall time: 6.5 s\n",
        "    \n",
        "3. LGBMRegressor {'learning_rate': 0.1, 'n_estimators': 100, 'num_leaves': 100}\n",
        "    <br>RMSE  1650.5269663653248\n",
        "    <br>время предсказания Wall time: 710 ms\n",
        "    <br>время обучения Wall time: 8.79 s\n",
        "\n",
        "\n",
        "LGBMRegressor дал наиболее точные предсказания при незнчительных изменениях по времени."
      ]
    },
    {
      "cell_type": "markdown",
      "source": [
        "## Проверим выбранную модель на тестовой выборке"
      ],
      "metadata": {
        "id": "3T1DkMdYNIyU"
      }
    },
    {
      "cell_type": "code",
      "execution_count": 53,
      "metadata": {
        "colab": {
          "base_uri": "https://localhost:8080/",
          "height": 206
        },
        "id": "-RaVNEcmHntG",
        "outputId": "7f530923-c1fc-4e5c-9856-e2f021e0a1df"
      },
      "outputs": [
        {
          "output_type": "execute_result",
          "data": {
            "text/plain": [
              "        VehicleType  RegistrationYear  Gearbox     Power  Kilometer  \\\n",
              "99341           4.0          0.530244      1.0  0.373004   0.587213   \n",
              "109935          5.0          0.530244      1.0  0.373004  -0.095960   \n",
              "261299          0.0         -0.047189      1.0 -0.340819  -0.095960   \n",
              "139911          8.0         -0.191547      1.0 -0.359604   0.587213   \n",
              "66757           6.0         -0.335906      1.0 -1.317629   0.587213   \n",
              "\n",
              "        RegistrationMonth  FuelType  Brand  Repaired  DateCreated  PostalCode  \n",
              "99341            1.674600       0.0   38.0       0.0      0.00964   -1.575806  \n",
              "109935          -1.108433       3.0   38.0       0.0      0.00964   -0.075889  \n",
              "261299          -0.273523       3.0   38.0       1.0      0.00964    0.573719  \n",
              "139911          -0.273523       3.0   19.0       0.0      0.00964    0.204649  \n",
              "66757            1.396297       1.0   38.0       1.0      0.00964    0.008606  "
            ],
            "text/html": [
              "\n",
              "  <div id=\"df-7ff94d19-40fa-495a-aacd-67802ab12a31\">\n",
              "    <div class=\"colab-df-container\">\n",
              "      <div>\n",
              "<style scoped>\n",
              "    .dataframe tbody tr th:only-of-type {\n",
              "        vertical-align: middle;\n",
              "    }\n",
              "\n",
              "    .dataframe tbody tr th {\n",
              "        vertical-align: top;\n",
              "    }\n",
              "\n",
              "    .dataframe thead th {\n",
              "        text-align: right;\n",
              "    }\n",
              "</style>\n",
              "<table border=\"1\" class=\"dataframe\">\n",
              "  <thead>\n",
              "    <tr style=\"text-align: right;\">\n",
              "      <th></th>\n",
              "      <th>VehicleType</th>\n",
              "      <th>RegistrationYear</th>\n",
              "      <th>Gearbox</th>\n",
              "      <th>Power</th>\n",
              "      <th>Kilometer</th>\n",
              "      <th>RegistrationMonth</th>\n",
              "      <th>FuelType</th>\n",
              "      <th>Brand</th>\n",
              "      <th>Repaired</th>\n",
              "      <th>DateCreated</th>\n",
              "      <th>PostalCode</th>\n",
              "    </tr>\n",
              "  </thead>\n",
              "  <tbody>\n",
              "    <tr>\n",
              "      <th>99341</th>\n",
              "      <td>4.0</td>\n",
              "      <td>0.530244</td>\n",
              "      <td>1.0</td>\n",
              "      <td>0.373004</td>\n",
              "      <td>0.587213</td>\n",
              "      <td>1.674600</td>\n",
              "      <td>0.0</td>\n",
              "      <td>38.0</td>\n",
              "      <td>0.0</td>\n",
              "      <td>0.00964</td>\n",
              "      <td>-1.575806</td>\n",
              "    </tr>\n",
              "    <tr>\n",
              "      <th>109935</th>\n",
              "      <td>5.0</td>\n",
              "      <td>0.530244</td>\n",
              "      <td>1.0</td>\n",
              "      <td>0.373004</td>\n",
              "      <td>-0.095960</td>\n",
              "      <td>-1.108433</td>\n",
              "      <td>3.0</td>\n",
              "      <td>38.0</td>\n",
              "      <td>0.0</td>\n",
              "      <td>0.00964</td>\n",
              "      <td>-0.075889</td>\n",
              "    </tr>\n",
              "    <tr>\n",
              "      <th>261299</th>\n",
              "      <td>0.0</td>\n",
              "      <td>-0.047189</td>\n",
              "      <td>1.0</td>\n",
              "      <td>-0.340819</td>\n",
              "      <td>-0.095960</td>\n",
              "      <td>-0.273523</td>\n",
              "      <td>3.0</td>\n",
              "      <td>38.0</td>\n",
              "      <td>1.0</td>\n",
              "      <td>0.00964</td>\n",
              "      <td>0.573719</td>\n",
              "    </tr>\n",
              "    <tr>\n",
              "      <th>139911</th>\n",
              "      <td>8.0</td>\n",
              "      <td>-0.191547</td>\n",
              "      <td>1.0</td>\n",
              "      <td>-0.359604</td>\n",
              "      <td>0.587213</td>\n",
              "      <td>-0.273523</td>\n",
              "      <td>3.0</td>\n",
              "      <td>19.0</td>\n",
              "      <td>0.0</td>\n",
              "      <td>0.00964</td>\n",
              "      <td>0.204649</td>\n",
              "    </tr>\n",
              "    <tr>\n",
              "      <th>66757</th>\n",
              "      <td>6.0</td>\n",
              "      <td>-0.335906</td>\n",
              "      <td>1.0</td>\n",
              "      <td>-1.317629</td>\n",
              "      <td>0.587213</td>\n",
              "      <td>1.396297</td>\n",
              "      <td>1.0</td>\n",
              "      <td>38.0</td>\n",
              "      <td>1.0</td>\n",
              "      <td>0.00964</td>\n",
              "      <td>0.008606</td>\n",
              "    </tr>\n",
              "  </tbody>\n",
              "</table>\n",
              "</div>\n",
              "      <button class=\"colab-df-convert\" onclick=\"convertToInteractive('df-7ff94d19-40fa-495a-aacd-67802ab12a31')\"\n",
              "              title=\"Convert this dataframe to an interactive table.\"\n",
              "              style=\"display:none;\">\n",
              "        \n",
              "  <svg xmlns=\"http://www.w3.org/2000/svg\" height=\"24px\"viewBox=\"0 0 24 24\"\n",
              "       width=\"24px\">\n",
              "    <path d=\"M0 0h24v24H0V0z\" fill=\"none\"/>\n",
              "    <path d=\"M18.56 5.44l.94 2.06.94-2.06 2.06-.94-2.06-.94-.94-2.06-.94 2.06-2.06.94zm-11 1L8.5 8.5l.94-2.06 2.06-.94-2.06-.94L8.5 2.5l-.94 2.06-2.06.94zm10 10l.94 2.06.94-2.06 2.06-.94-2.06-.94-.94-2.06-.94 2.06-2.06.94z\"/><path d=\"M17.41 7.96l-1.37-1.37c-.4-.4-.92-.59-1.43-.59-.52 0-1.04.2-1.43.59L10.3 9.45l-7.72 7.72c-.78.78-.78 2.05 0 2.83L4 21.41c.39.39.9.59 1.41.59.51 0 1.02-.2 1.41-.59l7.78-7.78 2.81-2.81c.8-.78.8-2.07 0-2.86zM5.41 20L4 18.59l7.72-7.72 1.47 1.35L5.41 20z\"/>\n",
              "  </svg>\n",
              "      </button>\n",
              "      \n",
              "  <style>\n",
              "    .colab-df-container {\n",
              "      display:flex;\n",
              "      flex-wrap:wrap;\n",
              "      gap: 12px;\n",
              "    }\n",
              "\n",
              "    .colab-df-convert {\n",
              "      background-color: #E8F0FE;\n",
              "      border: none;\n",
              "      border-radius: 50%;\n",
              "      cursor: pointer;\n",
              "      display: none;\n",
              "      fill: #1967D2;\n",
              "      height: 32px;\n",
              "      padding: 0 0 0 0;\n",
              "      width: 32px;\n",
              "    }\n",
              "\n",
              "    .colab-df-convert:hover {\n",
              "      background-color: #E2EBFA;\n",
              "      box-shadow: 0px 1px 2px rgba(60, 64, 67, 0.3), 0px 1px 3px 1px rgba(60, 64, 67, 0.15);\n",
              "      fill: #174EA6;\n",
              "    }\n",
              "\n",
              "    [theme=dark] .colab-df-convert {\n",
              "      background-color: #3B4455;\n",
              "      fill: #D2E3FC;\n",
              "    }\n",
              "\n",
              "    [theme=dark] .colab-df-convert:hover {\n",
              "      background-color: #434B5C;\n",
              "      box-shadow: 0px 1px 3px 1px rgba(0, 0, 0, 0.15);\n",
              "      filter: drop-shadow(0px 1px 2px rgba(0, 0, 0, 0.3));\n",
              "      fill: #FFFFFF;\n",
              "    }\n",
              "  </style>\n",
              "\n",
              "      <script>\n",
              "        const buttonEl =\n",
              "          document.querySelector('#df-7ff94d19-40fa-495a-aacd-67802ab12a31 button.colab-df-convert');\n",
              "        buttonEl.style.display =\n",
              "          google.colab.kernel.accessAllowed ? 'block' : 'none';\n",
              "\n",
              "        async function convertToInteractive(key) {\n",
              "          const element = document.querySelector('#df-7ff94d19-40fa-495a-aacd-67802ab12a31');\n",
              "          const dataTable =\n",
              "            await google.colab.kernel.invokeFunction('convertToInteractive',\n",
              "                                                     [key], {});\n",
              "          if (!dataTable) return;\n",
              "\n",
              "          const docLinkHtml = 'Like what you see? Visit the ' +\n",
              "            '<a target=\"_blank\" href=https://colab.research.google.com/notebooks/data_table.ipynb>data table notebook</a>'\n",
              "            + ' to learn more about interactive tables.';\n",
              "          element.innerHTML = '';\n",
              "          dataTable['output_type'] = 'display_data';\n",
              "          await google.colab.output.renderOutput(dataTable, element);\n",
              "          const docLink = document.createElement('div');\n",
              "          docLink.innerHTML = docLinkHtml;\n",
              "          element.appendChild(docLink);\n",
              "        }\n",
              "      </script>\n",
              "    </div>\n",
              "  </div>\n",
              "  "
            ]
          },
          "metadata": {},
          "execution_count": 53
        }
      ],
      "source": [
        "# энкодером, который обучен на ТРЕНИРОВОЧНОЙ ВЫБОРКЕ, кодируем тестовую\n",
        "features_test[encoder_ord.get_feature_names_out()] = encoder_ord.transform(features_test[ohe_features])\n",
        "\n",
        "# скелером, который обучен на ТРЕНИРОВОЧНОЙ ВЫБОРКЕ, масштабируем валидационную\n",
        "features_test[num_features] = scaler.transform(\n",
        "    features_test[num_features])\n",
        "\n",
        "# смотрим на результат\n",
        "features_test.head()"
      ]
    },
    {
      "cell_type": "code",
      "execution_count": 54,
      "metadata": {
        "scrolled": true,
        "colab": {
          "base_uri": "https://localhost:8080/"
        },
        "id": "7GxbZGU3HntG",
        "outputId": "cbb1436e-7b99-4d7d-878e-5399478a9060"
      },
      "outputs": [
        {
          "output_type": "stream",
          "name": "stdout",
          "text": [
            "RMSE 1657.7600191451666\n",
            "CPU times: user 751 ms, sys: 834 µs, total: 752 ms\n",
            "Wall time: 393 ms\n"
          ]
        }
      ],
      "source": [
        "%%time\n",
        "lgbm_fin_pred = lgbm_fin.predict(features_test)\n",
        "\n",
        "print('RMSE', mean_squared_error(target_test, lgbm_fin_pred, squared = False))"
      ]
    },
    {
      "cell_type": "markdown",
      "metadata": {
        "id": "imNhZsjbHntG"
      },
      "source": [
        "### Вывод"
      ]
    },
    {
      "cell_type": "markdown",
      "metadata": {
        "id": "YAN6wVv2HntG"
      },
      "source": [
        "        Согласно заданию, необходимо было построить модель предсказания стоимости автомобиля. Основные параметры: точность по RMSE, время обучения и время предсказания.\n",
        "    \n",
        "    Для этого были предоставлены данные о 354 тысячах автомоблией. в данных были пропуски, даты были в формате str, данные о мощности и цене некоторых автомобилей были равны 0. В дальнейшем стоит проработать эти артефакты, выяснить и устранить причину заполнения данных неверными значениями.\n",
        "    * описанные артефакты были устранены разными способами, данные подготовлены для обучения моделей регрессии.\n",
        "    \n",
        "    Для предсказания стоимости были предложены следующие модели: \n",
        "    1. DecisionTreeRegressor(max_depth=20, min_samples_leaf=20, min_samples_split=5, random_state=12345)\n",
        "    2. CatBoostRegressor {'depth': 10, 'iterations': 100, 'learning_rate': 0.1, 'loss_function': 'RMSE'} \n",
        "    3. LGBMRegressor {'learning_rate': 0.2, 'n_estimators': 100, 'num_leaves': 100} \n",
        "    \n",
        "    Для использования рекомендуется модель LGBMRegressor {'learning_rate': 0.1, 'n_estimators': 100, 'num_leaves': 100}, потому что она показывает лучшие результаты."
      ]
    }
  ],
  "metadata": {
    "ExecuteTimeLog": [
      {
        "duration": 1580,
        "start_time": "2023-02-28T17:30:31.702Z"
      },
      {
        "duration": 1483,
        "start_time": "2023-02-28T17:31:23.813Z"
      },
      {
        "duration": 1225,
        "start_time": "2023-02-28T17:32:11.360Z"
      },
      {
        "duration": 74,
        "start_time": "2023-02-28T17:51:14.656Z"
      },
      {
        "duration": 189,
        "start_time": "2023-02-28T17:54:54.490Z"
      },
      {
        "duration": 84,
        "start_time": "2023-02-28T17:55:01.381Z"
      },
      {
        "duration": 100,
        "start_time": "2023-02-28T17:57:40.589Z"
      },
      {
        "duration": 37,
        "start_time": "2023-02-28T18:02:02.094Z"
      },
      {
        "duration": 33,
        "start_time": "2023-02-28T18:02:19.156Z"
      },
      {
        "duration": 26,
        "start_time": "2023-02-28T18:02:37.424Z"
      },
      {
        "duration": 17,
        "start_time": "2023-02-28T18:06:31.688Z"
      },
      {
        "duration": 41,
        "start_time": "2023-02-28T18:11:35.685Z"
      },
      {
        "duration": 70,
        "start_time": "2023-02-28T18:12:01.794Z"
      },
      {
        "duration": 40,
        "start_time": "2023-02-28T18:12:37.689Z"
      },
      {
        "duration": 52,
        "start_time": "2023-02-28T18:14:12.702Z"
      },
      {
        "duration": 77,
        "start_time": "2023-02-28T18:14:31.306Z"
      },
      {
        "duration": 39,
        "start_time": "2023-02-28T18:14:40.816Z"
      },
      {
        "duration": 34,
        "start_time": "2023-02-28T18:15:30.970Z"
      },
      {
        "duration": 19,
        "start_time": "2023-02-28T18:15:54.263Z"
      },
      {
        "duration": 16,
        "start_time": "2023-02-28T18:16:01.881Z"
      },
      {
        "duration": 16,
        "start_time": "2023-02-28T18:16:07.695Z"
      },
      {
        "duration": 17,
        "start_time": "2023-02-28T18:16:14.221Z"
      },
      {
        "duration": 15,
        "start_time": "2023-02-28T18:16:28.356Z"
      },
      {
        "duration": 207,
        "start_time": "2023-02-28T18:29:56.572Z"
      },
      {
        "duration": 43,
        "start_time": "2023-02-28T18:30:13.553Z"
      },
      {
        "duration": 26,
        "start_time": "2023-02-28T18:30:15.345Z"
      },
      {
        "duration": 16,
        "start_time": "2023-02-28T18:30:16.353Z"
      },
      {
        "duration": 208,
        "start_time": "2023-02-28T18:30:17.602Z"
      },
      {
        "duration": 52393,
        "start_time": "2023-02-28T18:36:31.427Z"
      },
      {
        "duration": 13,
        "start_time": "2023-02-28T18:41:10.307Z"
      },
      {
        "duration": 12,
        "start_time": "2023-02-28T18:41:18.001Z"
      },
      {
        "duration": 9,
        "start_time": "2023-02-28T18:41:25.304Z"
      },
      {
        "duration": 10,
        "start_time": "2023-02-28T18:41:31.860Z"
      },
      {
        "duration": 9,
        "start_time": "2023-02-28T18:41:40.324Z"
      },
      {
        "duration": 291,
        "start_time": "2023-02-28T18:41:50.111Z"
      },
      {
        "duration": 11,
        "start_time": "2023-02-28T18:47:37.737Z"
      },
      {
        "duration": 17,
        "start_time": "2023-02-28T18:47:43.368Z"
      },
      {
        "duration": 288,
        "start_time": "2023-02-28T18:47:44.505Z"
      },
      {
        "duration": 950,
        "start_time": "2023-02-28T18:49:59.578Z"
      },
      {
        "duration": 805,
        "start_time": "2023-02-28T18:50:55.948Z"
      },
      {
        "duration": 48,
        "start_time": "2023-02-28T18:51:35.743Z"
      },
      {
        "duration": 10,
        "start_time": "2023-02-28T18:51:48.619Z"
      },
      {
        "duration": 618,
        "start_time": "2023-02-28T18:51:57.673Z"
      },
      {
        "duration": 11,
        "start_time": "2023-02-28T18:52:20.779Z"
      },
      {
        "duration": 160,
        "start_time": "2023-02-28T18:52:29.678Z"
      },
      {
        "duration": 445,
        "start_time": "2023-02-28T18:52:43.650Z"
      },
      {
        "duration": 1914,
        "start_time": "2023-03-02T15:01:53.978Z"
      },
      {
        "duration": 1489,
        "start_time": "2023-03-02T15:01:55.894Z"
      },
      {
        "duration": 909,
        "start_time": "2023-03-02T15:01:57.387Z"
      },
      {
        "duration": 164,
        "start_time": "2023-03-02T15:01:58.298Z"
      },
      {
        "duration": 85,
        "start_time": "2023-03-02T15:01:58.486Z"
      },
      {
        "duration": 78,
        "start_time": "2023-03-02T15:01:58.572Z"
      },
      {
        "duration": 29,
        "start_time": "2023-03-02T15:01:58.654Z"
      },
      {
        "duration": 56,
        "start_time": "2023-03-02T15:01:58.685Z"
      },
      {
        "duration": 325,
        "start_time": "2023-03-02T15:01:58.743Z"
      },
      {
        "duration": 36,
        "start_time": "2023-03-02T15:01:59.078Z"
      },
      {
        "duration": 515,
        "start_time": "2023-03-02T15:01:59.115Z"
      },
      {
        "duration": 847,
        "start_time": "2023-03-02T15:02:22.490Z"
      },
      {
        "duration": 107,
        "start_time": "2023-03-02T15:02:29.873Z"
      },
      {
        "duration": 791,
        "start_time": "2023-03-02T15:02:34.821Z"
      },
      {
        "duration": 11013,
        "start_time": "2023-03-02T15:11:52.789Z"
      },
      {
        "duration": 181,
        "start_time": "2023-03-02T15:13:02.423Z"
      },
      {
        "duration": 340,
        "start_time": "2023-03-02T15:15:26.083Z"
      },
      {
        "duration": 20,
        "start_time": "2023-03-02T15:17:13.528Z"
      },
      {
        "duration": 19,
        "start_time": "2023-03-02T15:18:05.261Z"
      },
      {
        "duration": 16,
        "start_time": "2023-03-02T15:18:09.970Z"
      },
      {
        "duration": 16,
        "start_time": "2023-03-02T15:18:12.876Z"
      },
      {
        "duration": 17,
        "start_time": "2023-03-02T15:18:17.961Z"
      },
      {
        "duration": 0,
        "start_time": "2023-03-02T15:24:53.508Z"
      },
      {
        "duration": 1000,
        "start_time": "2023-03-02T15:24:57.321Z"
      },
      {
        "duration": 15853,
        "start_time": "2023-03-02T15:25:11.768Z"
      },
      {
        "duration": 1017,
        "start_time": "2023-03-02T15:25:51.463Z"
      },
      {
        "duration": 140,
        "start_time": "2023-03-02T15:34:16.494Z"
      },
      {
        "duration": 263,
        "start_time": "2023-03-02T15:35:05.431Z"
      },
      {
        "duration": 204,
        "start_time": "2023-03-02T15:35:23.867Z"
      },
      {
        "duration": 216,
        "start_time": "2023-03-02T15:35:51.180Z"
      },
      {
        "duration": 1903,
        "start_time": "2023-03-02T15:37:24.832Z"
      },
      {
        "duration": 151,
        "start_time": "2023-03-02T15:37:56.564Z"
      },
      {
        "duration": 9580,
        "start_time": "2023-03-02T15:40:03.619Z"
      },
      {
        "duration": 352,
        "start_time": "2023-03-02T15:42:31.670Z"
      },
      {
        "duration": 2289,
        "start_time": "2023-03-02T15:43:12.388Z"
      },
      {
        "duration": 11,
        "start_time": "2023-03-02T15:43:44.719Z"
      },
      {
        "duration": 9620,
        "start_time": "2023-03-02T15:46:51.559Z"
      },
      {
        "duration": 9894,
        "start_time": "2023-03-02T15:47:23.171Z"
      },
      {
        "duration": 6039,
        "start_time": "2023-03-02T15:49:07.472Z"
      },
      {
        "duration": 4686,
        "start_time": "2023-03-02T15:50:31.424Z"
      },
      {
        "duration": 199,
        "start_time": "2023-03-02T15:54:10.259Z"
      },
      {
        "duration": 1653,
        "start_time": "2023-03-02T15:54:31.265Z"
      },
      {
        "duration": 114,
        "start_time": "2023-03-02T15:56:26.472Z"
      },
      {
        "duration": 963,
        "start_time": "2023-03-02T15:57:10.333Z"
      },
      {
        "duration": 1720,
        "start_time": "2023-03-02T15:57:20.811Z"
      },
      {
        "duration": 1562,
        "start_time": "2023-03-02T15:57:34.672Z"
      },
      {
        "duration": 1510,
        "start_time": "2023-03-02T15:57:52.410Z"
      },
      {
        "duration": 177,
        "start_time": "2023-03-02T15:58:21.182Z"
      },
      {
        "duration": 736,
        "start_time": "2023-03-02T15:59:13.804Z"
      },
      {
        "duration": 98,
        "start_time": "2023-03-02T15:59:55.447Z"
      },
      {
        "duration": 1074,
        "start_time": "2023-03-02T16:00:22.087Z"
      },
      {
        "duration": 682,
        "start_time": "2023-03-02T16:00:37.275Z"
      },
      {
        "duration": 1136,
        "start_time": "2023-03-02T16:00:39.719Z"
      },
      {
        "duration": 13,
        "start_time": "2023-03-02T16:02:16.452Z"
      },
      {
        "duration": 332,
        "start_time": "2023-03-02T16:02:24.766Z"
      },
      {
        "duration": 539,
        "start_time": "2023-03-02T16:03:01.511Z"
      },
      {
        "duration": 2271,
        "start_time": "2023-03-02T16:04:57.885Z"
      },
      {
        "duration": 4141,
        "start_time": "2023-03-02T16:07:51.839Z"
      },
      {
        "duration": 4144,
        "start_time": "2023-03-02T16:08:27.329Z"
      },
      {
        "duration": 1463,
        "start_time": "2023-03-03T07:56:53.243Z"
      },
      {
        "duration": 3189,
        "start_time": "2023-03-03T07:56:54.708Z"
      },
      {
        "duration": 652,
        "start_time": "2023-03-03T07:56:57.898Z"
      },
      {
        "duration": 118,
        "start_time": "2023-03-03T07:56:58.551Z"
      },
      {
        "duration": 54,
        "start_time": "2023-03-03T07:56:58.671Z"
      },
      {
        "duration": 45,
        "start_time": "2023-03-03T07:56:58.727Z"
      },
      {
        "duration": 21,
        "start_time": "2023-03-03T07:56:58.773Z"
      },
      {
        "duration": 37,
        "start_time": "2023-03-03T07:56:58.795Z"
      },
      {
        "duration": 236,
        "start_time": "2023-03-03T07:56:58.835Z"
      },
      {
        "duration": 341,
        "start_time": "2023-03-03T07:56:59.073Z"
      },
      {
        "duration": 1001,
        "start_time": "2023-03-03T07:56:59.415Z"
      },
      {
        "duration": 4095,
        "start_time": "2023-03-03T07:57:00.418Z"
      },
      {
        "duration": 72,
        "start_time": "2023-03-03T07:58:17.394Z"
      },
      {
        "duration": 92,
        "start_time": "2023-03-03T07:58:29.606Z"
      },
      {
        "duration": 17,
        "start_time": "2023-03-03T08:00:05.562Z"
      },
      {
        "duration": 29,
        "start_time": "2023-03-03T08:01:17.001Z"
      },
      {
        "duration": 5632,
        "start_time": "2023-03-03T08:03:22.730Z"
      },
      {
        "duration": 1476,
        "start_time": "2023-03-03T08:05:59.910Z"
      },
      {
        "duration": 121,
        "start_time": "2023-03-03T08:07:04.691Z"
      },
      {
        "duration": 45,
        "start_time": "2023-03-03T08:07:17.378Z"
      },
      {
        "duration": 35,
        "start_time": "2023-03-03T08:07:48.771Z"
      },
      {
        "duration": 34,
        "start_time": "2023-03-03T08:08:00.071Z"
      },
      {
        "duration": 6023,
        "start_time": "2023-03-03T08:08:17.725Z"
      },
      {
        "duration": 1442,
        "start_time": "2023-03-03T08:08:30.383Z"
      },
      {
        "duration": 1059,
        "start_time": "2023-03-03T08:09:28.481Z"
      },
      {
        "duration": 1001,
        "start_time": "2023-03-03T08:09:47.622Z"
      },
      {
        "duration": 1036,
        "start_time": "2023-03-03T08:10:04.359Z"
      },
      {
        "duration": 1288,
        "start_time": "2023-03-03T08:10:18.633Z"
      },
      {
        "duration": 1257,
        "start_time": "2023-03-03T08:10:43.203Z"
      },
      {
        "duration": 1436,
        "start_time": "2023-03-03T08:11:09.330Z"
      },
      {
        "duration": 1382,
        "start_time": "2023-03-03T08:11:33.823Z"
      },
      {
        "duration": 305,
        "start_time": "2023-03-03T08:13:18.516Z"
      },
      {
        "duration": 387,
        "start_time": "2023-03-03T08:15:41.229Z"
      },
      {
        "duration": 821,
        "start_time": "2023-03-03T08:18:00.286Z"
      },
      {
        "duration": 4,
        "start_time": "2023-03-03T08:18:35.895Z"
      },
      {
        "duration": 738,
        "start_time": "2023-03-03T08:18:35.900Z"
      },
      {
        "duration": 617,
        "start_time": "2023-03-03T08:18:36.639Z"
      },
      {
        "duration": 46,
        "start_time": "2023-03-03T08:18:37.258Z"
      },
      {
        "duration": 70,
        "start_time": "2023-03-03T08:18:37.306Z"
      },
      {
        "duration": 105,
        "start_time": "2023-03-03T08:18:37.378Z"
      },
      {
        "duration": 194,
        "start_time": "2023-03-03T08:18:37.485Z"
      },
      {
        "duration": 303,
        "start_time": "2023-03-03T08:18:37.680Z"
      },
      {
        "duration": 1049,
        "start_time": "2023-03-03T08:18:37.985Z"
      },
      {
        "duration": 4196,
        "start_time": "2023-03-03T08:18:39.036Z"
      },
      {
        "duration": 1249,
        "start_time": "2023-03-03T08:18:43.234Z"
      },
      {
        "duration": 16,
        "start_time": "2023-03-03T08:18:44.484Z"
      },
      {
        "duration": 471,
        "start_time": "2023-03-03T08:18:44.501Z"
      },
      {
        "duration": 115,
        "start_time": "2023-03-03T08:20:50.145Z"
      },
      {
        "duration": 69,
        "start_time": "2023-03-03T08:21:04.089Z"
      },
      {
        "duration": 107,
        "start_time": "2023-03-03T08:21:17.626Z"
      },
      {
        "duration": 3,
        "start_time": "2023-03-03T08:25:13.557Z"
      },
      {
        "duration": 55,
        "start_time": "2023-03-03T08:30:39.084Z"
      },
      {
        "duration": 13,
        "start_time": "2023-03-03T08:31:03.006Z"
      },
      {
        "duration": 10,
        "start_time": "2023-03-03T08:31:43.070Z"
      },
      {
        "duration": 23,
        "start_time": "2023-03-03T08:31:47.937Z"
      },
      {
        "duration": 12,
        "start_time": "2023-03-03T08:31:53.282Z"
      },
      {
        "duration": 13,
        "start_time": "2023-03-03T08:32:13.020Z"
      },
      {
        "duration": 10,
        "start_time": "2023-03-03T08:32:56.370Z"
      },
      {
        "duration": 4,
        "start_time": "2023-03-03T08:33:07.975Z"
      },
      {
        "duration": 11,
        "start_time": "2023-03-03T08:33:15.510Z"
      },
      {
        "duration": 116345,
        "start_time": "2023-03-03T08:34:53.913Z"
      },
      {
        "duration": 5987211,
        "start_time": "2023-03-03T08:37:23.216Z"
      },
      {
        "duration": 96317,
        "start_time": "2023-03-03T10:17:22.695Z"
      },
      {
        "duration": 23,
        "start_time": "2023-03-03T10:23:17.289Z"
      },
      {
        "duration": 25,
        "start_time": "2023-03-03T10:24:04.663Z"
      },
      {
        "duration": 24963,
        "start_time": "2023-03-03T10:24:13.018Z"
      },
      {
        "duration": 82,
        "start_time": "2023-03-03T10:25:23.707Z"
      },
      {
        "duration": 11360,
        "start_time": "2023-03-03T10:25:27.381Z"
      },
      {
        "duration": 11597,
        "start_time": "2023-03-03T10:27:21.674Z"
      },
      {
        "duration": 148,
        "start_time": "2023-03-03T10:28:21.432Z"
      },
      {
        "duration": 1329,
        "start_time": "2023-03-03T10:28:43.066Z"
      },
      {
        "duration": 803,
        "start_time": "2023-03-03T10:28:44.398Z"
      },
      {
        "duration": 686,
        "start_time": "2023-03-03T10:28:45.203Z"
      },
      {
        "duration": 75,
        "start_time": "2023-03-03T10:28:45.891Z"
      },
      {
        "duration": 65,
        "start_time": "2023-03-03T10:28:45.968Z"
      },
      {
        "duration": 128,
        "start_time": "2023-03-03T10:28:46.035Z"
      },
      {
        "duration": 201,
        "start_time": "2023-03-03T10:28:46.165Z"
      },
      {
        "duration": 383,
        "start_time": "2023-03-03T10:28:46.369Z"
      },
      {
        "duration": 1023,
        "start_time": "2023-03-03T10:28:46.754Z"
      },
      {
        "duration": 4179,
        "start_time": "2023-03-03T10:28:47.778Z"
      },
      {
        "duration": 1526,
        "start_time": "2023-03-03T10:28:51.959Z"
      },
      {
        "duration": 17,
        "start_time": "2023-03-03T10:28:53.486Z"
      },
      {
        "duration": 434,
        "start_time": "2023-03-03T10:28:53.505Z"
      },
      {
        "duration": 103,
        "start_time": "2023-03-03T10:28:53.941Z"
      },
      {
        "duration": 198,
        "start_time": "2023-03-03T10:28:54.045Z"
      },
      {
        "duration": 18875,
        "start_time": "2023-03-03T10:28:54.245Z"
      },
      {
        "duration": 18952,
        "start_time": "2023-03-03T10:29:25.739Z"
      },
      {
        "duration": 210,
        "start_time": "2023-03-03T10:30:02.668Z"
      },
      {
        "duration": 100,
        "start_time": "2023-03-03T10:30:12.301Z"
      },
      {
        "duration": 194,
        "start_time": "2023-03-03T10:30:14.570Z"
      },
      {
        "duration": 18531,
        "start_time": "2023-03-03T10:30:20.134Z"
      },
      {
        "duration": 93,
        "start_time": "2023-03-03T10:31:13.496Z"
      },
      {
        "duration": 2536,
        "start_time": "2023-03-03T10:34:13.776Z"
      },
      {
        "duration": 92,
        "start_time": "2023-03-03T10:34:33.288Z"
      },
      {
        "duration": 96,
        "start_time": "2023-03-03T10:34:35.642Z"
      },
      {
        "duration": 10,
        "start_time": "2023-03-03T10:35:50.538Z"
      },
      {
        "duration": 4,
        "start_time": "2023-03-03T10:36:26.356Z"
      },
      {
        "duration": 71,
        "start_time": "2023-03-03T10:36:33.887Z"
      },
      {
        "duration": 50,
        "start_time": "2023-03-03T10:38:13.085Z"
      },
      {
        "duration": 76,
        "start_time": "2023-03-03T10:38:18.046Z"
      },
      {
        "duration": 39,
        "start_time": "2023-03-03T10:38:40.076Z"
      },
      {
        "duration": 79,
        "start_time": "2023-03-03T10:38:41.751Z"
      },
      {
        "duration": 184,
        "start_time": "2023-03-03T10:38:48.844Z"
      },
      {
        "duration": 36,
        "start_time": "2023-03-03T10:39:14.411Z"
      },
      {
        "duration": 30199,
        "start_time": "2023-03-03T10:39:39.828Z"
      },
      {
        "duration": 52,
        "start_time": "2023-03-03T10:40:18.727Z"
      },
      {
        "duration": 30224,
        "start_time": "2023-03-03T10:40:23.838Z"
      },
      {
        "duration": 17,
        "start_time": "2023-03-03T10:41:40.438Z"
      },
      {
        "duration": 117045,
        "start_time": "2023-03-03T10:42:18.716Z"
      },
      {
        "duration": 116709,
        "start_time": "2023-03-03T12:07:55.734Z"
      },
      {
        "duration": 6,
        "start_time": "2023-03-03T12:11:35.730Z"
      },
      {
        "duration": 5,
        "start_time": "2023-03-03T12:11:42.686Z"
      },
      {
        "duration": 5,
        "start_time": "2023-03-03T12:11:48.223Z"
      },
      {
        "duration": 5,
        "start_time": "2023-03-03T12:11:58.074Z"
      },
      {
        "duration": 5,
        "start_time": "2023-03-03T12:12:02.068Z"
      },
      {
        "duration": 118141,
        "start_time": "2023-03-03T12:16:17.987Z"
      },
      {
        "duration": 49,
        "start_time": "2023-03-04T00:55:51.403Z"
      },
      {
        "duration": 113,
        "start_time": "2023-03-04T00:56:02.115Z"
      },
      {
        "duration": 95,
        "start_time": "2023-03-04T00:56:22.058Z"
      },
      {
        "duration": 1830,
        "start_time": "2023-03-04T00:56:59.880Z"
      },
      {
        "duration": 175,
        "start_time": "2023-03-04T00:57:05.729Z"
      },
      {
        "duration": 99,
        "start_time": "2023-03-04T00:57:13.115Z"
      },
      {
        "duration": 80,
        "start_time": "2023-03-04T00:57:34.524Z"
      },
      {
        "duration": 1462,
        "start_time": "2023-03-04T00:57:50.418Z"
      },
      {
        "duration": 1074,
        "start_time": "2023-03-04T00:57:51.881Z"
      },
      {
        "duration": 775,
        "start_time": "2023-03-04T00:57:52.956Z"
      },
      {
        "duration": 70,
        "start_time": "2023-03-04T00:57:53.733Z"
      },
      {
        "duration": 78,
        "start_time": "2023-03-04T00:57:53.806Z"
      },
      {
        "duration": 111,
        "start_time": "2023-03-04T00:57:53.886Z"
      },
      {
        "duration": 251,
        "start_time": "2023-03-04T00:57:53.998Z"
      },
      {
        "duration": 395,
        "start_time": "2023-03-04T00:57:54.251Z"
      },
      {
        "duration": 982,
        "start_time": "2023-03-04T00:57:54.648Z"
      },
      {
        "duration": 4390,
        "start_time": "2023-03-04T00:57:55.632Z"
      },
      {
        "duration": 1556,
        "start_time": "2023-03-04T00:58:00.024Z"
      },
      {
        "duration": 19,
        "start_time": "2023-03-04T00:58:01.581Z"
      },
      {
        "duration": 426,
        "start_time": "2023-03-04T00:58:01.602Z"
      },
      {
        "duration": 50,
        "start_time": "2023-03-04T00:58:02.031Z"
      },
      {
        "duration": 162,
        "start_time": "2023-03-04T00:58:02.083Z"
      },
      {
        "duration": 133791,
        "start_time": "2023-03-04T01:00:13.191Z"
      },
      {
        "duration": 89,
        "start_time": "2023-03-04T01:02:26.984Z"
      },
      {
        "duration": 383044,
        "start_time": "2023-03-04T01:02:54.016Z"
      },
      {
        "duration": 374334,
        "start_time": "2023-03-04T02:52:26.701Z"
      },
      {
        "duration": 64,
        "start_time": "2023-03-04T11:03:46.919Z"
      },
      {
        "duration": 1688,
        "start_time": "2023-03-04T11:04:14.351Z"
      },
      {
        "duration": 1118,
        "start_time": "2023-03-04T11:04:16.040Z"
      },
      {
        "duration": 720,
        "start_time": "2023-03-04T11:04:17.160Z"
      },
      {
        "duration": 69,
        "start_time": "2023-03-04T11:04:17.882Z"
      },
      {
        "duration": 78,
        "start_time": "2023-03-04T11:04:17.954Z"
      },
      {
        "duration": 114,
        "start_time": "2023-03-04T11:04:18.034Z"
      },
      {
        "duration": 233,
        "start_time": "2023-03-04T11:04:18.149Z"
      },
      {
        "duration": 380,
        "start_time": "2023-03-04T11:04:18.384Z"
      },
      {
        "duration": 940,
        "start_time": "2023-03-04T11:04:18.766Z"
      },
      {
        "duration": 4160,
        "start_time": "2023-03-04T11:04:19.708Z"
      },
      {
        "duration": 1411,
        "start_time": "2023-03-04T11:04:23.869Z"
      },
      {
        "duration": 25,
        "start_time": "2023-03-04T11:04:25.282Z"
      },
      {
        "duration": 416,
        "start_time": "2023-03-04T11:04:25.309Z"
      },
      {
        "duration": 40,
        "start_time": "2023-03-04T11:04:25.727Z"
      },
      {
        "duration": 237,
        "start_time": "2023-03-04T11:04:25.770Z"
      },
      {
        "duration": 122139,
        "start_time": "2023-03-04T11:04:26.010Z"
      },
      {
        "duration": 364934,
        "start_time": "2023-03-04T11:06:28.151Z"
      },
      {
        "duration": 119,
        "start_time": "2023-03-04T11:12:33.088Z"
      },
      {
        "duration": 5667,
        "start_time": "2023-03-04T11:12:48.604Z"
      },
      {
        "duration": 5612,
        "start_time": "2023-03-04T11:33:43.425Z"
      },
      {
        "duration": 5610,
        "start_time": "2023-03-04T11:33:50.344Z"
      },
      {
        "duration": 5596,
        "start_time": "2023-03-04T11:34:09.188Z"
      },
      {
        "duration": 5541,
        "start_time": "2023-03-04T11:34:37.902Z"
      },
      {
        "duration": 5777,
        "start_time": "2023-03-04T11:34:54.215Z"
      },
      {
        "duration": 10,
        "start_time": "2023-03-04T11:43:38.721Z"
      },
      {
        "duration": 4,
        "start_time": "2023-03-04T11:43:42.685Z"
      },
      {
        "duration": 5,
        "start_time": "2023-03-04T11:45:26.903Z"
      },
      {
        "duration": 5692,
        "start_time": "2023-03-04T11:59:54.865Z"
      },
      {
        "duration": 4,
        "start_time": "2023-03-04T12:00:01.721Z"
      },
      {
        "duration": 10,
        "start_time": "2023-03-04T12:02:51.872Z"
      },
      {
        "duration": 208836,
        "start_time": "2023-03-04T12:03:17.038Z"
      },
      {
        "duration": 11,
        "start_time": "2023-03-04T12:07:20.813Z"
      },
      {
        "duration": 14,
        "start_time": "2023-03-04T12:07:34.836Z"
      },
      {
        "duration": 76883,
        "start_time": "2023-03-04T12:07:47.013Z"
      },
      {
        "duration": 4,
        "start_time": "2023-03-04T12:12:39.683Z"
      },
      {
        "duration": 3,
        "start_time": "2023-03-04T12:13:26.392Z"
      },
      {
        "duration": 4,
        "start_time": "2023-03-04T12:13:55.205Z"
      },
      {
        "duration": 3,
        "start_time": "2023-03-04T12:14:03.520Z"
      },
      {
        "duration": 4,
        "start_time": "2023-03-04T12:14:20.490Z"
      },
      {
        "duration": 10,
        "start_time": "2023-03-04T12:14:58.487Z"
      },
      {
        "duration": 4,
        "start_time": "2023-03-04T12:15:16.833Z"
      },
      {
        "duration": 6442,
        "start_time": "2023-03-04T12:18:17.391Z"
      },
      {
        "duration": 4574,
        "start_time": "2023-03-04T12:25:41.702Z"
      },
      {
        "duration": 94,
        "start_time": "2023-03-04T12:30:08.276Z"
      },
      {
        "duration": 24098,
        "start_time": "2023-03-04T12:37:08.239Z"
      },
      {
        "duration": 2770,
        "start_time": "2023-03-04T12:37:32.341Z"
      },
      {
        "duration": 7,
        "start_time": "2023-03-04T12:38:56.694Z"
      },
      {
        "duration": 6,
        "start_time": "2023-03-04T13:21:27.165Z"
      },
      {
        "duration": 103,
        "start_time": "2023-03-04T13:21:27.266Z"
      },
      {
        "duration": 0,
        "start_time": "2023-03-04T13:22:51.524Z"
      },
      {
        "duration": 0,
        "start_time": "2023-03-04T13:32:09.020Z"
      },
      {
        "duration": 1455,
        "start_time": "2023-03-04T13:32:29.429Z"
      },
      {
        "duration": 891,
        "start_time": "2023-03-04T13:32:30.886Z"
      },
      {
        "duration": 779,
        "start_time": "2023-03-04T13:32:31.779Z"
      },
      {
        "duration": 75,
        "start_time": "2023-03-04T13:32:32.560Z"
      },
      {
        "duration": 78,
        "start_time": "2023-03-04T13:32:32.637Z"
      },
      {
        "duration": 115,
        "start_time": "2023-03-04T13:32:32.717Z"
      },
      {
        "duration": 273,
        "start_time": "2023-03-04T13:32:32.833Z"
      },
      {
        "duration": 394,
        "start_time": "2023-03-04T13:32:33.108Z"
      },
      {
        "duration": 990,
        "start_time": "2023-03-04T13:32:33.504Z"
      },
      {
        "duration": 4526,
        "start_time": "2023-03-04T13:32:34.496Z"
      },
      {
        "duration": 1619,
        "start_time": "2023-03-04T13:32:39.024Z"
      },
      {
        "duration": 16,
        "start_time": "2023-03-04T13:32:40.645Z"
      },
      {
        "duration": 416,
        "start_time": "2023-03-04T13:32:40.662Z"
      },
      {
        "duration": 59,
        "start_time": "2023-03-04T13:32:41.081Z"
      },
      {
        "duration": 72,
        "start_time": "2023-03-04T13:32:41.142Z"
      },
      {
        "duration": 123632,
        "start_time": "2023-03-04T13:32:41.217Z"
      },
      {
        "duration": 360990,
        "start_time": "2023-03-04T13:34:44.850Z"
      },
      {
        "duration": 5,
        "start_time": "2023-03-04T13:40:45.842Z"
      },
      {
        "duration": 78225,
        "start_time": "2023-03-04T13:40:45.849Z"
      },
      {
        "duration": 5670,
        "start_time": "2023-03-04T13:42:04.076Z"
      },
      {
        "duration": 175,
        "start_time": "2023-03-04T13:42:09.749Z"
      },
      {
        "duration": 1329901,
        "start_time": "2023-03-04T13:42:09.926Z"
      },
      {
        "duration": 0,
        "start_time": "2023-03-04T14:04:19.829Z"
      },
      {
        "duration": 0,
        "start_time": "2023-03-04T14:04:19.904Z"
      },
      {
        "duration": 31,
        "start_time": "2023-03-04T14:04:23.688Z"
      },
      {
        "duration": 29943,
        "start_time": "2023-03-04T14:04:33.652Z"
      },
      {
        "duration": 5,
        "start_time": "2023-03-04T14:06:16.664Z"
      },
      {
        "duration": 85,
        "start_time": "2023-03-04T14:06:28.721Z"
      },
      {
        "duration": 21604,
        "start_time": "2023-03-04T14:06:41.080Z"
      },
      {
        "duration": 85,
        "start_time": "2023-03-04T14:07:06.068Z"
      },
      {
        "duration": 83,
        "start_time": "2023-03-04T14:07:13.874Z"
      },
      {
        "duration": 310613,
        "start_time": "2023-03-04T14:07:37.996Z"
      },
      {
        "duration": 425,
        "start_time": "2023-03-04T14:15:39.381Z"
      },
      {
        "duration": 1413347,
        "start_time": "2023-03-04T14:19:33.255Z"
      },
      {
        "duration": 758,
        "start_time": "2023-03-04T14:43:06.604Z"
      },
      {
        "duration": 5,
        "start_time": "2023-03-04T14:46:11.105Z"
      },
      {
        "duration": 69,
        "start_time": "2023-03-04T15:06:14.919Z"
      },
      {
        "duration": 1135,
        "start_time": "2023-03-04T15:06:23.890Z"
      },
      {
        "duration": 1267,
        "start_time": "2023-03-04T15:10:27.076Z"
      },
      {
        "duration": 15,
        "start_time": "2023-03-04T15:10:40.087Z"
      },
      {
        "duration": 28,
        "start_time": "2023-03-04T15:14:14.779Z"
      },
      {
        "duration": 17,
        "start_time": "2023-03-04T15:14:37.680Z"
      },
      {
        "duration": 20,
        "start_time": "2023-03-04T15:15:06.407Z"
      },
      {
        "duration": 25,
        "start_time": "2023-03-04T15:18:14.099Z"
      },
      {
        "duration": 33,
        "start_time": "2023-03-04T15:18:17.312Z"
      },
      {
        "duration": 33,
        "start_time": "2023-03-04T15:18:55.738Z"
      },
      {
        "duration": 33,
        "start_time": "2023-03-04T15:20:12.866Z"
      },
      {
        "duration": 3168,
        "start_time": "2023-03-04T15:21:25.287Z"
      },
      {
        "duration": 139,
        "start_time": "2023-03-04T15:21:39.335Z"
      },
      {
        "duration": 158,
        "start_time": "2023-03-04T15:21:51.571Z"
      },
      {
        "duration": 1168,
        "start_time": "2023-03-04T15:27:50.367Z"
      },
      {
        "duration": 1114,
        "start_time": "2023-03-04T15:28:13.365Z"
      },
      {
        "duration": 1167,
        "start_time": "2023-03-04T15:29:06.134Z"
      },
      {
        "duration": 1275,
        "start_time": "2023-03-04T15:29:33.410Z"
      },
      {
        "duration": 1175,
        "start_time": "2023-03-04T15:29:50.168Z"
      },
      {
        "duration": 248,
        "start_time": "2023-03-04T15:29:56.998Z"
      },
      {
        "duration": 1468,
        "start_time": "2023-03-04T15:31:06.679Z"
      },
      {
        "duration": 1163,
        "start_time": "2023-03-04T15:31:27.658Z"
      },
      {
        "duration": 43,
        "start_time": "2023-03-04T15:32:30.192Z"
      },
      {
        "duration": 239,
        "start_time": "2023-03-04T15:32:44.609Z"
      },
      {
        "duration": 1403,
        "start_time": "2023-03-04T15:33:13.413Z"
      },
      {
        "duration": 829,
        "start_time": "2023-03-04T15:33:14.817Z"
      },
      {
        "duration": 755,
        "start_time": "2023-03-04T15:33:15.648Z"
      },
      {
        "duration": 62,
        "start_time": "2023-03-04T15:33:16.405Z"
      },
      {
        "duration": 80,
        "start_time": "2023-03-04T15:33:16.469Z"
      },
      {
        "duration": 133,
        "start_time": "2023-03-04T15:33:16.551Z"
      },
      {
        "duration": 338,
        "start_time": "2023-03-04T15:33:16.685Z"
      },
      {
        "duration": 401,
        "start_time": "2023-03-04T15:33:17.024Z"
      },
      {
        "duration": 945,
        "start_time": "2023-03-04T15:33:17.428Z"
      },
      {
        "duration": 13,
        "start_time": "2023-03-04T15:33:18.376Z"
      },
      {
        "duration": 3390,
        "start_time": "2023-03-04T15:33:33.572Z"
      },
      {
        "duration": 5,
        "start_time": "2023-03-04T15:34:27.773Z"
      },
      {
        "duration": 813,
        "start_time": "2023-03-04T15:34:27.780Z"
      },
      {
        "duration": 691,
        "start_time": "2023-03-04T15:34:28.595Z"
      },
      {
        "duration": 53,
        "start_time": "2023-03-04T15:34:29.288Z"
      },
      {
        "duration": 74,
        "start_time": "2023-03-04T15:34:29.343Z"
      },
      {
        "duration": 120,
        "start_time": "2023-03-04T15:34:29.419Z"
      },
      {
        "duration": 244,
        "start_time": "2023-03-04T15:34:29.541Z"
      },
      {
        "duration": 319,
        "start_time": "2023-03-04T15:34:29.786Z"
      },
      {
        "duration": 882,
        "start_time": "2023-03-04T15:34:30.107Z"
      },
      {
        "duration": 20,
        "start_time": "2023-03-04T15:34:30.991Z"
      },
      {
        "duration": 156,
        "start_time": "2023-03-04T15:34:34.028Z"
      },
      {
        "duration": 20,
        "start_time": "2023-03-04T15:34:49.595Z"
      },
      {
        "duration": 131,
        "start_time": "2023-03-04T15:35:44.774Z"
      },
      {
        "duration": 121,
        "start_time": "2023-03-04T15:35:58.410Z"
      },
      {
        "duration": 119,
        "start_time": "2023-03-04T15:38:24.350Z"
      },
      {
        "duration": 463,
        "start_time": "2023-03-04T15:38:43.757Z"
      },
      {
        "duration": 1303,
        "start_time": "2023-03-04T15:39:35.314Z"
      },
      {
        "duration": 1426,
        "start_time": "2023-03-04T15:40:34.701Z"
      },
      {
        "duration": 15,
        "start_time": "2023-03-04T15:40:55.287Z"
      },
      {
        "duration": 1199,
        "start_time": "2023-03-04T15:41:10.588Z"
      },
      {
        "duration": 1266,
        "start_time": "2023-03-04T15:41:56.091Z"
      },
      {
        "duration": 32,
        "start_time": "2023-03-04T15:42:03.435Z"
      },
      {
        "duration": 256,
        "start_time": "2023-03-04T15:44:04.591Z"
      },
      {
        "duration": 216,
        "start_time": "2023-03-04T15:44:16.706Z"
      },
      {
        "duration": 182,
        "start_time": "2023-03-04T15:44:43.963Z"
      },
      {
        "duration": 176,
        "start_time": "2023-03-04T15:44:53.230Z"
      },
      {
        "duration": 305,
        "start_time": "2023-03-04T15:45:15.616Z"
      },
      {
        "duration": 185,
        "start_time": "2023-03-04T15:45:33.071Z"
      },
      {
        "duration": 224,
        "start_time": "2023-03-04T15:54:55.214Z"
      },
      {
        "duration": 210,
        "start_time": "2023-03-04T15:56:18.092Z"
      },
      {
        "duration": 403,
        "start_time": "2023-03-04T15:57:08.870Z"
      },
      {
        "duration": 101,
        "start_time": "2023-03-04T15:57:18.514Z"
      },
      {
        "duration": 115,
        "start_time": "2023-03-04T15:57:22.530Z"
      },
      {
        "duration": 99,
        "start_time": "2023-03-04T15:58:09.195Z"
      },
      {
        "duration": 3651,
        "start_time": "2023-03-04T15:58:13.355Z"
      },
      {
        "duration": 323746,
        "start_time": "2023-03-04T15:58:19.363Z"
      },
      {
        "duration": 56,
        "start_time": "2023-03-04T16:03:43.111Z"
      },
      {
        "duration": 31,
        "start_time": "2023-03-04T16:03:54.369Z"
      },
      {
        "duration": 111,
        "start_time": "2023-03-04T16:04:52.580Z"
      },
      {
        "duration": 87,
        "start_time": "2023-03-04T16:05:19.955Z"
      },
      {
        "duration": 102,
        "start_time": "2023-03-04T16:05:39.378Z"
      },
      {
        "duration": 4,
        "start_time": "2023-03-04T16:06:43.326Z"
      },
      {
        "duration": 744,
        "start_time": "2023-03-04T16:06:43.332Z"
      },
      {
        "duration": 666,
        "start_time": "2023-03-04T16:06:44.077Z"
      },
      {
        "duration": 46,
        "start_time": "2023-03-04T16:06:44.744Z"
      },
      {
        "duration": 70,
        "start_time": "2023-03-04T16:06:44.794Z"
      },
      {
        "duration": 112,
        "start_time": "2023-03-04T16:06:44.866Z"
      },
      {
        "duration": 267,
        "start_time": "2023-03-04T16:06:44.980Z"
      },
      {
        "duration": 354,
        "start_time": "2023-03-04T16:06:53.029Z"
      },
      {
        "duration": 323,
        "start_time": "2023-03-04T16:08:01.361Z"
      },
      {
        "duration": 220,
        "start_time": "2023-03-04T16:09:13.780Z"
      },
      {
        "duration": 240,
        "start_time": "2023-03-04T16:10:48.382Z"
      },
      {
        "duration": 99,
        "start_time": "2023-03-04T16:11:08.626Z"
      },
      {
        "duration": 5,
        "start_time": "2023-03-04T16:11:14.602Z"
      },
      {
        "duration": 761,
        "start_time": "2023-03-04T16:11:14.609Z"
      },
      {
        "duration": 662,
        "start_time": "2023-03-04T16:11:15.371Z"
      },
      {
        "duration": 46,
        "start_time": "2023-03-04T16:11:16.035Z"
      },
      {
        "duration": 76,
        "start_time": "2023-03-04T16:11:16.083Z"
      },
      {
        "duration": 108,
        "start_time": "2023-03-04T16:11:16.161Z"
      },
      {
        "duration": 242,
        "start_time": "2023-03-04T16:11:16.271Z"
      },
      {
        "duration": 445,
        "start_time": "2023-03-04T16:11:16.515Z"
      },
      {
        "duration": 863,
        "start_time": "2023-03-04T16:11:16.962Z"
      },
      {
        "duration": 23,
        "start_time": "2023-03-04T16:11:17.827Z"
      },
      {
        "duration": 135,
        "start_time": "2023-03-04T16:11:17.852Z"
      },
      {
        "duration": 212,
        "start_time": "2023-03-04T16:11:17.988Z"
      },
      {
        "duration": 4028,
        "start_time": "2023-03-04T16:11:18.204Z"
      },
      {
        "duration": 1355,
        "start_time": "2023-03-04T16:11:22.235Z"
      },
      {
        "duration": 24,
        "start_time": "2023-03-04T16:11:23.592Z"
      },
      {
        "duration": 386,
        "start_time": "2023-03-04T16:11:23.618Z"
      },
      {
        "duration": 115,
        "start_time": "2023-03-04T16:11:24.006Z"
      },
      {
        "duration": 3829,
        "start_time": "2023-03-04T16:11:36.884Z"
      },
      {
        "duration": 6540,
        "start_time": "2023-03-04T16:11:50.111Z"
      },
      {
        "duration": 6299,
        "start_time": "2023-03-04T16:12:35.097Z"
      },
      {
        "duration": 1478,
        "start_time": "2023-03-04T16:19:51.096Z"
      },
      {
        "duration": 833,
        "start_time": "2023-03-04T16:19:52.576Z"
      },
      {
        "duration": 769,
        "start_time": "2023-03-04T16:19:53.411Z"
      },
      {
        "duration": 744,
        "start_time": "2023-03-04T16:19:56.851Z"
      },
      {
        "duration": 68,
        "start_time": "2023-03-04T16:19:59.393Z"
      },
      {
        "duration": 149,
        "start_time": "2023-03-04T16:20:04.142Z"
      },
      {
        "duration": 279,
        "start_time": "2023-03-04T16:20:04.869Z"
      },
      {
        "duration": 519,
        "start_time": "2023-03-04T16:20:07.251Z"
      },
      {
        "duration": 973,
        "start_time": "2023-03-04T16:20:23.846Z"
      },
      {
        "duration": 40,
        "start_time": "2023-03-04T16:20:30.572Z"
      },
      {
        "duration": 131,
        "start_time": "2023-03-04T16:20:30.898Z"
      },
      {
        "duration": 238,
        "start_time": "2023-03-04T16:20:34.218Z"
      },
      {
        "duration": 117,
        "start_time": "2023-03-04T16:21:48.848Z"
      },
      {
        "duration": 107,
        "start_time": "2023-03-04T16:22:17.705Z"
      },
      {
        "duration": 25,
        "start_time": "2023-03-04T16:22:29.567Z"
      },
      {
        "duration": 1054,
        "start_time": "2023-03-04T16:22:32.492Z"
      },
      {
        "duration": 286,
        "start_time": "2023-03-04T16:23:25.082Z"
      },
      {
        "duration": 4,
        "start_time": "2023-03-04T16:23:58.477Z"
      },
      {
        "duration": 695,
        "start_time": "2023-03-04T16:23:58.483Z"
      },
      {
        "duration": 642,
        "start_time": "2023-03-04T16:23:59.180Z"
      },
      {
        "duration": 68,
        "start_time": "2023-03-04T16:23:59.824Z"
      },
      {
        "duration": 115,
        "start_time": "2023-03-04T16:23:59.904Z"
      },
      {
        "duration": 302,
        "start_time": "2023-03-04T16:24:00.021Z"
      },
      {
        "duration": 407,
        "start_time": "2023-03-04T16:24:01.168Z"
      },
      {
        "duration": 51,
        "start_time": "2023-03-04T16:26:16.790Z"
      },
      {
        "duration": 849,
        "start_time": "2023-03-04T16:26:24.595Z"
      },
      {
        "duration": 17,
        "start_time": "2023-03-04T16:26:25.724Z"
      },
      {
        "duration": 131,
        "start_time": "2023-03-04T16:26:26.054Z"
      },
      {
        "duration": 243,
        "start_time": "2023-03-04T16:26:26.849Z"
      },
      {
        "duration": 93,
        "start_time": "2023-03-04T16:26:28.993Z"
      },
      {
        "duration": 4948,
        "start_time": "2023-03-04T16:26:32.611Z"
      },
      {
        "duration": 1025,
        "start_time": "2023-03-04T16:26:37.561Z"
      },
      {
        "duration": 26,
        "start_time": "2023-03-04T16:26:38.588Z"
      },
      {
        "duration": 355,
        "start_time": "2023-03-04T16:27:10.591Z"
      },
      {
        "duration": 354,
        "start_time": "2023-03-04T16:27:21.391Z"
      },
      {
        "duration": 16,
        "start_time": "2023-03-04T16:27:38.337Z"
      },
      {
        "duration": 122,
        "start_time": "2023-03-04T16:27:50.573Z"
      },
      {
        "duration": 3826,
        "start_time": "2023-03-04T16:27:52.782Z"
      },
      {
        "duration": 215717,
        "start_time": "2023-03-04T16:27:59.874Z"
      },
      {
        "duration": 500747,
        "start_time": "2023-03-04T16:31:35.593Z"
      },
      {
        "duration": 4,
        "start_time": "2023-03-04T16:39:56.342Z"
      },
      {
        "duration": 102979,
        "start_time": "2023-03-04T16:39:56.348Z"
      },
      {
        "duration": 8561,
        "start_time": "2023-03-04T16:41:39.329Z"
      },
      {
        "duration": 60,
        "start_time": "2023-03-04T16:41:47.892Z"
      },
      {
        "duration": 380264,
        "start_time": "2023-03-04T16:41:47.954Z"
      },
      {
        "duration": 686,
        "start_time": "2023-03-04T16:48:08.219Z"
      },
      {
        "duration": 832314,
        "start_time": "2023-03-04T16:48:08.907Z"
      },
      {
        "duration": 2788,
        "start_time": "2023-03-04T17:02:01.223Z"
      },
      {
        "duration": 41,
        "start_time": "2023-03-04T17:02:04.013Z"
      },
      {
        "duration": 86,
        "start_time": "2023-03-04T17:02:04.056Z"
      },
      {
        "duration": 6,
        "start_time": "2023-03-04T17:02:04.144Z"
      },
      {
        "duration": 1378,
        "start_time": "2023-03-04T17:02:43.001Z"
      },
      {
        "duration": 821,
        "start_time": "2023-03-04T17:02:44.381Z"
      },
      {
        "duration": 783,
        "start_time": "2023-03-04T17:02:45.203Z"
      },
      {
        "duration": 487,
        "start_time": "2023-03-04T17:02:45.988Z"
      },
      {
        "duration": 71,
        "start_time": "2023-03-04T17:02:46.477Z"
      },
      {
        "duration": 81,
        "start_time": "2023-03-04T17:02:46.549Z"
      },
      {
        "duration": 117,
        "start_time": "2023-03-04T17:02:46.632Z"
      },
      {
        "duration": 174,
        "start_time": "2023-03-04T17:02:46.751Z"
      },
      {
        "duration": 978,
        "start_time": "2023-03-04T17:02:46.927Z"
      },
      {
        "duration": 12,
        "start_time": "2023-03-04T17:02:47.906Z"
      },
      {
        "duration": 151,
        "start_time": "2023-03-04T17:02:47.920Z"
      },
      {
        "duration": 206,
        "start_time": "2023-03-04T17:02:48.073Z"
      },
      {
        "duration": 90,
        "start_time": "2023-03-04T17:02:48.281Z"
      },
      {
        "duration": 4332,
        "start_time": "2023-03-04T17:02:48.373Z"
      },
      {
        "duration": 981,
        "start_time": "2023-03-04T17:02:52.707Z"
      },
      {
        "duration": 27,
        "start_time": "2023-03-04T17:02:53.690Z"
      },
      {
        "duration": 376,
        "start_time": "2023-03-04T17:02:53.719Z"
      },
      {
        "duration": 116,
        "start_time": "2023-03-04T17:02:58.279Z"
      },
      {
        "duration": 3668,
        "start_time": "2023-03-04T17:03:00.539Z"
      },
      {
        "duration": 212512,
        "start_time": "2023-03-04T17:03:05.128Z"
      },
      {
        "duration": 3085,
        "start_time": "2023-03-04T17:06:37.643Z"
      },
      {
        "duration": 47,
        "start_time": "2023-03-04T17:06:40.730Z"
      },
      {
        "duration": 256913,
        "start_time": "2023-03-04T17:06:40.780Z"
      },
      {
        "duration": 11,
        "start_time": "2023-03-04T17:10:57.695Z"
      },
      {
        "duration": 1,
        "start_time": "2023-03-04T17:10:57.707Z"
      },
      {
        "duration": 0,
        "start_time": "2023-03-04T17:10:57.709Z"
      },
      {
        "duration": 0,
        "start_time": "2023-03-04T17:10:57.710Z"
      },
      {
        "duration": 0,
        "start_time": "2023-03-04T17:10:57.711Z"
      },
      {
        "duration": 0,
        "start_time": "2023-03-04T17:10:57.712Z"
      },
      {
        "duration": 2780,
        "start_time": "2023-03-04T17:11:39.261Z"
      },
      {
        "duration": 39,
        "start_time": "2023-03-04T17:12:18.231Z"
      },
      {
        "duration": 35,
        "start_time": "2023-03-04T17:12:23.267Z"
      },
      {
        "duration": 42,
        "start_time": "2023-03-04T17:12:54.302Z"
      },
      {
        "duration": 37,
        "start_time": "2023-03-04T17:13:43.123Z"
      },
      {
        "duration": 496133,
        "start_time": "2023-03-04T17:13:43.739Z"
      },
      {
        "duration": 4,
        "start_time": "2023-03-04T17:21:59.874Z"
      },
      {
        "duration": 102237,
        "start_time": "2023-03-04T17:21:59.880Z"
      },
      {
        "duration": 8539,
        "start_time": "2023-03-04T17:23:42.119Z"
      },
      {
        "duration": 39,
        "start_time": "2023-03-04T17:23:50.659Z"
      },
      {
        "duration": 7012,
        "start_time": "2023-03-04T17:23:50.700Z"
      },
      {
        "duration": 603,
        "start_time": "2023-03-04T17:23:57.714Z"
      },
      {
        "duration": 98,
        "start_time": "2023-03-04T17:23:58.318Z"
      },
      {
        "duration": 46,
        "start_time": "2023-03-04T17:26:51.218Z"
      },
      {
        "duration": 42,
        "start_time": "2023-03-04T17:27:03.765Z"
      },
      {
        "duration": 2848,
        "start_time": "2023-03-04T17:27:30.823Z"
      },
      {
        "duration": 44,
        "start_time": "2023-03-04T17:27:33.673Z"
      },
      {
        "duration": 73,
        "start_time": "2023-03-04T17:29:48.526Z"
      },
      {
        "duration": 573,
        "start_time": "2023-03-04T17:30:00.738Z"
      },
      {
        "duration": 1400,
        "start_time": "2023-03-04T17:30:34.988Z"
      },
      {
        "duration": 833,
        "start_time": "2023-03-04T17:30:36.390Z"
      },
      {
        "duration": 817,
        "start_time": "2023-03-04T17:30:37.225Z"
      },
      {
        "duration": 507,
        "start_time": "2023-03-04T17:30:38.044Z"
      },
      {
        "duration": 72,
        "start_time": "2023-03-04T17:30:38.552Z"
      },
      {
        "duration": 80,
        "start_time": "2023-03-04T17:30:38.625Z"
      },
      {
        "duration": 121,
        "start_time": "2023-03-04T17:30:38.707Z"
      },
      {
        "duration": 179,
        "start_time": "2023-03-04T17:30:38.829Z"
      },
      {
        "duration": 946,
        "start_time": "2023-03-04T17:30:39.009Z"
      },
      {
        "duration": 12,
        "start_time": "2023-03-04T17:30:39.957Z"
      },
      {
        "duration": 136,
        "start_time": "2023-03-04T17:30:39.970Z"
      },
      {
        "duration": 209,
        "start_time": "2023-03-04T17:30:40.107Z"
      },
      {
        "duration": 90,
        "start_time": "2023-03-04T17:30:40.318Z"
      },
      {
        "duration": 4139,
        "start_time": "2023-03-04T17:30:40.409Z"
      },
      {
        "duration": 953,
        "start_time": "2023-03-04T17:30:44.550Z"
      },
      {
        "duration": 17,
        "start_time": "2023-03-04T17:30:45.505Z"
      },
      {
        "duration": 354,
        "start_time": "2023-03-04T17:30:45.524Z"
      },
      {
        "duration": 125,
        "start_time": "2023-03-04T17:30:45.879Z"
      },
      {
        "duration": 3700,
        "start_time": "2023-03-04T17:30:46.005Z"
      },
      {
        "duration": 215096,
        "start_time": "2023-03-04T17:30:49.707Z"
      },
      {
        "duration": 2854,
        "start_time": "2023-03-04T17:34:24.804Z"
      },
      {
        "duration": 53,
        "start_time": "2023-03-04T17:34:27.660Z"
      },
      {
        "duration": 487374,
        "start_time": "2023-03-04T17:34:27.715Z"
      },
      {
        "duration": 5,
        "start_time": "2023-03-04T17:42:35.091Z"
      },
      {
        "duration": 103181,
        "start_time": "2023-03-04T17:42:35.098Z"
      },
      {
        "duration": 8394,
        "start_time": "2023-03-04T17:44:18.281Z"
      },
      {
        "duration": 56,
        "start_time": "2023-03-04T17:44:26.677Z"
      },
      {
        "duration": 6877,
        "start_time": "2023-03-04T17:44:26.737Z"
      },
      {
        "duration": 615,
        "start_time": "2023-03-04T17:44:33.615Z"
      },
      {
        "duration": 376904,
        "start_time": "2023-03-04T17:46:17.212Z"
      },
      {
        "duration": 9098,
        "start_time": "2023-03-04T17:52:34.118Z"
      },
      {
        "duration": 4,
        "start_time": "2023-03-04T17:52:43.218Z"
      },
      {
        "duration": 4,
        "start_time": "2023-03-04T17:53:47.832Z"
      },
      {
        "duration": 3,
        "start_time": "2023-03-04T17:54:10.143Z"
      },
      {
        "duration": 700,
        "start_time": "2023-03-04T17:54:15.241Z"
      },
      {
        "duration": 554,
        "start_time": "2023-03-04T17:55:25.750Z"
      },
      {
        "duration": 6501,
        "start_time": "2023-03-06T06:37:24.767Z"
      },
      {
        "duration": 6405,
        "start_time": "2023-03-06T06:37:31.276Z"
      },
      {
        "duration": 5996,
        "start_time": "2023-03-06T06:37:37.682Z"
      },
      {
        "duration": 3871,
        "start_time": "2023-03-06T06:37:43.693Z"
      },
      {
        "duration": 398,
        "start_time": "2023-03-06T06:37:47.566Z"
      },
      {
        "duration": 601,
        "start_time": "2023-03-06T06:37:47.966Z"
      },
      {
        "duration": 917,
        "start_time": "2023-03-06T06:37:48.576Z"
      },
      {
        "duration": 1277,
        "start_time": "2023-03-06T06:37:49.495Z"
      },
      {
        "duration": 6393,
        "start_time": "2023-03-06T06:37:50.783Z"
      },
      {
        "duration": 277,
        "start_time": "2023-03-06T06:37:57.186Z"
      },
      {
        "duration": 1031,
        "start_time": "2023-03-06T06:37:57.473Z"
      },
      {
        "duration": 1404,
        "start_time": "2023-03-06T06:37:58.560Z"
      },
      {
        "duration": 588,
        "start_time": "2023-03-06T06:37:59.972Z"
      },
      {
        "duration": 30122,
        "start_time": "2023-03-06T06:38:00.576Z"
      },
      {
        "duration": 5687,
        "start_time": "2023-03-06T06:38:30.700Z"
      },
      {
        "duration": 130,
        "start_time": "2023-03-06T06:38:36.458Z"
      },
      {
        "duration": 2904,
        "start_time": "2023-03-06T06:38:36.664Z"
      },
      {
        "duration": 691,
        "start_time": "2023-03-06T06:38:39.569Z"
      },
      {
        "duration": 12307,
        "start_time": "2023-03-06T06:38:40.261Z"
      },
      {
        "duration": 1637113,
        "start_time": "2023-03-06T06:38:52.570Z"
      },
      {
        "duration": 22197,
        "start_time": "2023-03-06T07:06:09.685Z"
      },
      {
        "duration": 205,
        "start_time": "2023-03-06T07:06:31.887Z"
      },
      {
        "duration": 49,
        "start_time": "2023-03-06T15:32:31.546Z"
      },
      {
        "duration": 1758,
        "start_time": "2023-03-06T15:32:35.934Z"
      },
      {
        "duration": 1209,
        "start_time": "2023-03-06T15:32:37.694Z"
      },
      {
        "duration": 872,
        "start_time": "2023-03-06T15:32:38.906Z"
      },
      {
        "duration": 509,
        "start_time": "2023-03-06T15:32:39.781Z"
      },
      {
        "duration": 73,
        "start_time": "2023-03-06T15:32:40.294Z"
      },
      {
        "duration": 73,
        "start_time": "2023-03-06T15:32:40.369Z"
      },
      {
        "duration": 155,
        "start_time": "2023-03-06T15:32:40.444Z"
      },
      {
        "duration": 170,
        "start_time": "2023-03-06T15:32:40.601Z"
      },
      {
        "duration": 1065,
        "start_time": "2023-03-06T15:32:40.773Z"
      },
      {
        "duration": 34,
        "start_time": "2023-03-06T15:32:41.842Z"
      },
      {
        "duration": 150,
        "start_time": "2023-03-06T15:32:41.878Z"
      },
      {
        "duration": 236,
        "start_time": "2023-03-06T15:32:42.030Z"
      },
      {
        "duration": 101,
        "start_time": "2023-03-06T15:32:42.268Z"
      },
      {
        "duration": 4552,
        "start_time": "2023-03-06T15:32:42.371Z"
      },
      {
        "duration": 1202,
        "start_time": "2023-03-06T15:32:46.924Z"
      },
      {
        "duration": 26,
        "start_time": "2023-03-06T15:32:48.129Z"
      },
      {
        "duration": 27,
        "start_time": "2023-03-06T15:33:11.789Z"
      },
      {
        "duration": 28,
        "start_time": "2023-03-06T15:33:58.562Z"
      },
      {
        "duration": 104,
        "start_time": "2023-03-06T15:34:15.937Z"
      },
      {
        "duration": 28,
        "start_time": "2023-03-06T15:34:28.221Z"
      },
      {
        "duration": 32,
        "start_time": "2023-03-06T15:34:35.969Z"
      },
      {
        "duration": 30,
        "start_time": "2023-03-06T15:34:44.070Z"
      },
      {
        "duration": 30,
        "start_time": "2023-03-06T15:34:59.599Z"
      },
      {
        "duration": 27,
        "start_time": "2023-03-06T15:35:17.254Z"
      },
      {
        "duration": 44,
        "start_time": "2023-03-06T15:36:06.920Z"
      },
      {
        "duration": 34,
        "start_time": "2023-03-06T15:36:39.773Z"
      },
      {
        "duration": 28,
        "start_time": "2023-03-06T15:36:44.097Z"
      },
      {
        "duration": 29,
        "start_time": "2023-03-06T15:36:51.304Z"
      },
      {
        "duration": 29,
        "start_time": "2023-03-06T15:36:58.801Z"
      },
      {
        "duration": 29,
        "start_time": "2023-03-06T15:37:06.942Z"
      },
      {
        "duration": 30,
        "start_time": "2023-03-06T15:37:55.369Z"
      },
      {
        "duration": 29,
        "start_time": "2023-03-06T15:42:44.176Z"
      },
      {
        "duration": 38,
        "start_time": "2023-03-06T15:43:06.002Z"
      },
      {
        "duration": 44,
        "start_time": "2023-03-06T15:43:14.157Z"
      },
      {
        "duration": 40,
        "start_time": "2023-03-06T15:44:08.301Z"
      },
      {
        "duration": 36,
        "start_time": "2023-03-06T15:44:15.598Z"
      },
      {
        "duration": 79,
        "start_time": "2023-03-06T15:44:47.873Z"
      },
      {
        "duration": 1709,
        "start_time": "2023-03-06T15:45:07.529Z"
      },
      {
        "duration": 1145,
        "start_time": "2023-03-06T15:45:09.240Z"
      },
      {
        "duration": 780,
        "start_time": "2023-03-06T15:45:10.387Z"
      },
      {
        "duration": 536,
        "start_time": "2023-03-06T15:45:11.169Z"
      },
      {
        "duration": 67,
        "start_time": "2023-03-06T15:45:11.707Z"
      },
      {
        "duration": 85,
        "start_time": "2023-03-06T15:45:11.776Z"
      },
      {
        "duration": 123,
        "start_time": "2023-03-06T15:45:11.862Z"
      },
      {
        "duration": 154,
        "start_time": "2023-03-06T15:45:11.987Z"
      },
      {
        "duration": 1038,
        "start_time": "2023-03-06T15:45:12.143Z"
      },
      {
        "duration": 11,
        "start_time": "2023-03-06T15:45:13.182Z"
      },
      {
        "duration": 146,
        "start_time": "2023-03-06T15:45:13.194Z"
      },
      {
        "duration": 222,
        "start_time": "2023-03-06T15:45:13.342Z"
      },
      {
        "duration": 100,
        "start_time": "2023-03-06T15:45:13.566Z"
      },
      {
        "duration": 4306,
        "start_time": "2023-03-06T15:45:13.669Z"
      },
      {
        "duration": 1046,
        "start_time": "2023-03-06T15:45:17.976Z"
      },
      {
        "duration": 93,
        "start_time": "2023-03-06T15:45:32.640Z"
      },
      {
        "duration": 1583,
        "start_time": "2023-03-06T15:45:46.407Z"
      },
      {
        "duration": 1281,
        "start_time": "2023-03-06T15:45:47.993Z"
      },
      {
        "duration": 747,
        "start_time": "2023-03-06T15:45:49.275Z"
      },
      {
        "duration": 499,
        "start_time": "2023-03-06T15:45:50.024Z"
      },
      {
        "duration": 79,
        "start_time": "2023-03-06T15:45:50.525Z"
      },
      {
        "duration": 72,
        "start_time": "2023-03-06T15:45:50.606Z"
      },
      {
        "duration": 148,
        "start_time": "2023-03-06T15:45:50.680Z"
      },
      {
        "duration": 165,
        "start_time": "2023-03-06T15:45:50.830Z"
      },
      {
        "duration": 1025,
        "start_time": "2023-03-06T15:45:50.997Z"
      },
      {
        "duration": 22,
        "start_time": "2023-03-06T15:45:52.024Z"
      },
      {
        "duration": 146,
        "start_time": "2023-03-06T15:45:52.048Z"
      },
      {
        "duration": 217,
        "start_time": "2023-03-06T15:45:52.202Z"
      },
      {
        "duration": 102,
        "start_time": "2023-03-06T15:45:52.421Z"
      },
      {
        "duration": 4353,
        "start_time": "2023-03-06T15:45:52.525Z"
      },
      {
        "duration": 1053,
        "start_time": "2023-03-06T15:45:56.880Z"
      },
      {
        "duration": 192,
        "start_time": "2023-03-06T15:45:57.935Z"
      },
      {
        "duration": 53,
        "start_time": "2023-03-06T15:46:08.492Z"
      },
      {
        "duration": 7,
        "start_time": "2023-03-06T15:46:28.714Z"
      },
      {
        "duration": 42,
        "start_time": "2023-03-06T15:46:34.595Z"
      },
      {
        "duration": 51,
        "start_time": "2023-03-06T15:47:14.575Z"
      },
      {
        "duration": 50,
        "start_time": "2023-03-06T15:47:43.867Z"
      },
      {
        "duration": 97,
        "start_time": "2023-03-06T15:48:36.776Z"
      },
      {
        "duration": 402,
        "start_time": "2023-03-06T15:48:40.314Z"
      },
      {
        "duration": 4,
        "start_time": "2023-03-06T15:52:44.675Z"
      },
      {
        "duration": 749,
        "start_time": "2023-03-06T15:52:44.681Z"
      },
      {
        "duration": 638,
        "start_time": "2023-03-06T15:52:45.432Z"
      },
      {
        "duration": 409,
        "start_time": "2023-03-06T15:52:46.072Z"
      },
      {
        "duration": 67,
        "start_time": "2023-03-06T15:52:46.483Z"
      },
      {
        "duration": 68,
        "start_time": "2023-03-06T15:52:46.552Z"
      },
      {
        "duration": 99,
        "start_time": "2023-03-06T15:52:46.622Z"
      },
      {
        "duration": 153,
        "start_time": "2023-03-06T15:52:46.723Z"
      },
      {
        "duration": 1092,
        "start_time": "2023-03-06T15:52:46.879Z"
      },
      {
        "duration": 34,
        "start_time": "2023-03-06T15:52:47.973Z"
      },
      {
        "duration": 138,
        "start_time": "2023-03-06T15:52:48.009Z"
      },
      {
        "duration": 246,
        "start_time": "2023-03-06T15:52:48.149Z"
      },
      {
        "duration": 111,
        "start_time": "2023-03-06T15:52:48.398Z"
      },
      {
        "duration": 4515,
        "start_time": "2023-03-06T15:52:48.512Z"
      },
      {
        "duration": 902,
        "start_time": "2023-03-06T15:52:53.028Z"
      },
      {
        "duration": 48,
        "start_time": "2023-03-06T15:52:53.932Z"
      },
      {
        "duration": 16,
        "start_time": "2023-03-06T15:53:29.499Z"
      },
      {
        "duration": 14,
        "start_time": "2023-03-06T15:54:28.979Z"
      },
      {
        "duration": 22,
        "start_time": "2023-03-06T15:55:58.195Z"
      },
      {
        "duration": 5,
        "start_time": "2023-03-06T15:56:09.979Z"
      },
      {
        "duration": 785,
        "start_time": "2023-03-06T15:56:09.985Z"
      },
      {
        "duration": 711,
        "start_time": "2023-03-06T15:56:10.772Z"
      },
      {
        "duration": 440,
        "start_time": "2023-03-06T15:56:11.484Z"
      },
      {
        "duration": 50,
        "start_time": "2023-03-06T15:56:11.926Z"
      },
      {
        "duration": 86,
        "start_time": "2023-03-06T15:56:11.977Z"
      },
      {
        "duration": 118,
        "start_time": "2023-03-06T15:56:12.065Z"
      },
      {
        "duration": 163,
        "start_time": "2023-03-06T15:56:12.185Z"
      },
      {
        "duration": 148,
        "start_time": "2023-03-06T15:56:31.930Z"
      },
      {
        "duration": 214,
        "start_time": "2023-03-06T15:57:35.191Z"
      },
      {
        "duration": 187,
        "start_time": "2023-03-06T15:57:45.930Z"
      },
      {
        "duration": 1339,
        "start_time": "2023-03-06T15:58:01.817Z"
      },
      {
        "duration": 52,
        "start_time": "2023-03-06T15:59:45.412Z"
      },
      {
        "duration": 63,
        "start_time": "2023-03-06T16:00:07.672Z"
      },
      {
        "duration": 1439,
        "start_time": "2023-03-06T16:01:13.280Z"
      },
      {
        "duration": 201,
        "start_time": "2023-03-06T16:01:22.989Z"
      },
      {
        "duration": 1599,
        "start_time": "2023-03-06T16:01:41.723Z"
      },
      {
        "duration": 808,
        "start_time": "2023-03-06T16:01:43.325Z"
      },
      {
        "duration": 242,
        "start_time": "2023-03-06T16:01:44.135Z"
      },
      {
        "duration": 501,
        "start_time": "2023-03-06T16:01:44.379Z"
      },
      {
        "duration": 74,
        "start_time": "2023-03-06T16:01:44.882Z"
      },
      {
        "duration": 74,
        "start_time": "2023-03-06T16:01:44.958Z"
      },
      {
        "duration": 119,
        "start_time": "2023-03-06T16:01:45.033Z"
      },
      {
        "duration": 157,
        "start_time": "2023-03-06T16:01:45.154Z"
      },
      {
        "duration": 1141,
        "start_time": "2023-03-06T16:01:45.314Z"
      },
      {
        "duration": 17,
        "start_time": "2023-03-06T16:01:46.457Z"
      },
      {
        "duration": 152,
        "start_time": "2023-03-06T16:01:46.475Z"
      },
      {
        "duration": 216,
        "start_time": "2023-03-06T16:01:46.628Z"
      },
      {
        "duration": 100,
        "start_time": "2023-03-06T16:01:46.846Z"
      },
      {
        "duration": 4313,
        "start_time": "2023-03-06T16:01:46.949Z"
      },
      {
        "duration": 1011,
        "start_time": "2023-03-06T16:01:51.264Z"
      },
      {
        "duration": 57,
        "start_time": "2023-03-06T16:01:52.277Z"
      },
      {
        "duration": 97,
        "start_time": "2023-03-06T16:01:52.337Z"
      },
      {
        "duration": 399,
        "start_time": "2023-03-06T16:01:52.436Z"
      },
      {
        "duration": 389,
        "start_time": "2023-03-06T16:01:52.837Z"
      },
      {
        "duration": 389,
        "start_time": "2023-03-06T16:02:11.665Z"
      },
      {
        "duration": 375,
        "start_time": "2023-03-06T16:02:21.038Z"
      },
      {
        "duration": 230,
        "start_time": "2023-03-06T16:03:01.583Z"
      },
      {
        "duration": 69,
        "start_time": "2023-03-06T16:03:28.134Z"
      },
      {
        "duration": 176,
        "start_time": "2023-03-06T16:03:37.801Z"
      },
      {
        "duration": 230,
        "start_time": "2023-03-06T16:03:42.081Z"
      },
      {
        "duration": 5,
        "start_time": "2023-03-06T16:03:53.907Z"
      },
      {
        "duration": 219,
        "start_time": "2023-03-06T16:03:57.107Z"
      },
      {
        "duration": 52,
        "start_time": "2023-03-06T16:04:29.205Z"
      },
      {
        "duration": 13,
        "start_time": "2023-03-06T16:04:43.252Z"
      },
      {
        "duration": 10,
        "start_time": "2023-03-06T16:06:43.502Z"
      },
      {
        "duration": 199,
        "start_time": "2023-03-06T16:07:24.039Z"
      },
      {
        "duration": 199,
        "start_time": "2023-03-06T16:07:34.442Z"
      },
      {
        "duration": 5,
        "start_time": "2023-03-06T16:07:50.688Z"
      },
      {
        "duration": 230,
        "start_time": "2023-03-06T16:07:56.452Z"
      },
      {
        "duration": 4,
        "start_time": "2023-03-06T16:09:11.049Z"
      },
      {
        "duration": 783,
        "start_time": "2023-03-06T16:09:11.055Z"
      },
      {
        "duration": 258,
        "start_time": "2023-03-06T16:09:11.840Z"
      },
      {
        "duration": 435,
        "start_time": "2023-03-06T16:09:12.101Z"
      },
      {
        "duration": 48,
        "start_time": "2023-03-06T16:09:12.538Z"
      },
      {
        "duration": 67,
        "start_time": "2023-03-06T16:09:12.601Z"
      },
      {
        "duration": 124,
        "start_time": "2023-03-06T16:09:12.670Z"
      },
      {
        "duration": 169,
        "start_time": "2023-03-06T16:09:12.796Z"
      },
      {
        "duration": 1240,
        "start_time": "2023-03-06T16:09:12.968Z"
      },
      {
        "duration": 18,
        "start_time": "2023-03-06T16:09:14.210Z"
      },
      {
        "duration": 136,
        "start_time": "2023-03-06T16:09:14.230Z"
      },
      {
        "duration": 211,
        "start_time": "2023-03-06T16:09:14.368Z"
      },
      {
        "duration": 104,
        "start_time": "2023-03-06T16:09:14.581Z"
      },
      {
        "duration": 4571,
        "start_time": "2023-03-06T16:09:14.686Z"
      },
      {
        "duration": 963,
        "start_time": "2023-03-06T16:09:19.259Z"
      },
      {
        "duration": 49,
        "start_time": "2023-03-06T16:09:20.224Z"
      },
      {
        "duration": 114,
        "start_time": "2023-03-06T16:09:20.276Z"
      },
      {
        "duration": 396,
        "start_time": "2023-03-06T16:09:20.392Z"
      },
      {
        "duration": 251,
        "start_time": "2023-03-06T16:09:20.790Z"
      },
      {
        "duration": 49,
        "start_time": "2023-03-06T16:10:30.634Z"
      },
      {
        "duration": 105,
        "start_time": "2023-03-06T16:10:48.826Z"
      },
      {
        "duration": 835,
        "start_time": "2023-03-06T16:10:58.107Z"
      },
      {
        "duration": 251,
        "start_time": "2023-03-06T16:11:02.047Z"
      },
      {
        "duration": 4,
        "start_time": "2023-03-06T16:11:16.766Z"
      },
      {
        "duration": 801,
        "start_time": "2023-03-06T16:11:16.774Z"
      },
      {
        "duration": 289,
        "start_time": "2023-03-06T16:11:17.577Z"
      },
      {
        "duration": 484,
        "start_time": "2023-03-06T16:11:17.868Z"
      },
      {
        "duration": 74,
        "start_time": "2023-03-06T16:11:18.354Z"
      },
      {
        "duration": 85,
        "start_time": "2023-03-06T16:11:18.430Z"
      },
      {
        "duration": 123,
        "start_time": "2023-03-06T16:11:18.517Z"
      },
      {
        "duration": 173,
        "start_time": "2023-03-06T16:11:18.642Z"
      },
      {
        "duration": 1462,
        "start_time": "2023-03-06T16:11:18.818Z"
      },
      {
        "duration": 29,
        "start_time": "2023-03-06T16:11:20.283Z"
      },
      {
        "duration": 141,
        "start_time": "2023-03-06T16:11:20.314Z"
      },
      {
        "duration": 200,
        "start_time": "2023-03-06T16:11:20.457Z"
      },
      {
        "duration": 109,
        "start_time": "2023-03-06T16:11:20.659Z"
      },
      {
        "duration": 4340,
        "start_time": "2023-03-06T16:11:20.771Z"
      },
      {
        "duration": 1036,
        "start_time": "2023-03-06T16:11:25.113Z"
      },
      {
        "duration": 59,
        "start_time": "2023-03-06T16:11:26.151Z"
      },
      {
        "duration": 98,
        "start_time": "2023-03-06T16:11:26.211Z"
      },
      {
        "duration": 414,
        "start_time": "2023-03-06T16:11:26.311Z"
      },
      {
        "duration": 238,
        "start_time": "2023-03-06T16:11:26.726Z"
      },
      {
        "duration": 86,
        "start_time": "2023-03-06T16:12:02.184Z"
      },
      {
        "duration": 128,
        "start_time": "2023-03-06T16:12:23.930Z"
      },
      {
        "duration": 767,
        "start_time": "2023-03-06T16:12:41.027Z"
      },
      {
        "duration": 277,
        "start_time": "2023-03-06T16:12:44.582Z"
      },
      {
        "duration": 499,
        "start_time": "2023-03-06T16:12:55.103Z"
      },
      {
        "duration": 63,
        "start_time": "2023-03-06T16:12:56.749Z"
      },
      {
        "duration": 70,
        "start_time": "2023-03-06T16:12:59.294Z"
      },
      {
        "duration": 95,
        "start_time": "2023-03-06T16:13:00.220Z"
      },
      {
        "duration": 163,
        "start_time": "2023-03-06T16:13:02.298Z"
      },
      {
        "duration": 1224,
        "start_time": "2023-03-06T16:13:04.441Z"
      },
      {
        "duration": 20,
        "start_time": "2023-03-06T16:13:08.569Z"
      },
      {
        "duration": 127,
        "start_time": "2023-03-06T16:13:09.997Z"
      },
      {
        "duration": 188,
        "start_time": "2023-03-06T16:13:14.269Z"
      },
      {
        "duration": 109,
        "start_time": "2023-03-06T16:13:15.460Z"
      },
      {
        "duration": 4582,
        "start_time": "2023-03-06T16:13:17.423Z"
      },
      {
        "duration": 966,
        "start_time": "2023-03-06T16:13:22.007Z"
      },
      {
        "duration": 93,
        "start_time": "2023-03-06T16:13:22.977Z"
      },
      {
        "duration": 88,
        "start_time": "2023-03-06T16:13:24.356Z"
      },
      {
        "duration": 375,
        "start_time": "2023-03-06T16:13:27.234Z"
      },
      {
        "duration": 230,
        "start_time": "2023-03-06T16:13:31.241Z"
      },
      {
        "duration": 294,
        "start_time": "2023-03-06T16:13:54.711Z"
      },
      {
        "duration": 717,
        "start_time": "2023-03-06T16:14:20.946Z"
      },
      {
        "duration": 248,
        "start_time": "2023-03-06T16:14:22.435Z"
      },
      {
        "duration": 525,
        "start_time": "2023-03-06T16:14:23.452Z"
      },
      {
        "duration": 1783,
        "start_time": "2023-03-06T16:14:40.368Z"
      },
      {
        "duration": 1074,
        "start_time": "2023-03-06T16:15:08.142Z"
      },
      {
        "duration": 1397,
        "start_time": "2023-03-06T16:15:54.255Z"
      },
      {
        "duration": 1579,
        "start_time": "2023-03-06T16:16:02.900Z"
      },
      {
        "duration": 291,
        "start_time": "2023-03-06T16:16:18.463Z"
      },
      {
        "duration": 214,
        "start_time": "2023-03-06T16:20:47.410Z"
      },
      {
        "duration": 194,
        "start_time": "2023-03-06T16:20:49.544Z"
      },
      {
        "duration": 1516,
        "start_time": "2023-03-06T16:21:04.453Z"
      },
      {
        "duration": 1005,
        "start_time": "2023-03-06T16:21:05.971Z"
      },
      {
        "duration": 261,
        "start_time": "2023-03-06T16:21:06.978Z"
      },
      {
        "duration": 1905,
        "start_time": "2023-03-06T16:21:07.243Z"
      },
      {
        "duration": 497,
        "start_time": "2023-03-06T16:21:09.150Z"
      },
      {
        "duration": 91,
        "start_time": "2023-03-06T16:21:09.649Z"
      },
      {
        "duration": 99,
        "start_time": "2023-03-06T16:21:09.742Z"
      },
      {
        "duration": 139,
        "start_time": "2023-03-06T16:21:09.844Z"
      },
      {
        "duration": 167,
        "start_time": "2023-03-06T16:21:09.986Z"
      },
      {
        "duration": 1192,
        "start_time": "2023-03-06T16:21:10.156Z"
      },
      {
        "duration": 18,
        "start_time": "2023-03-06T16:21:11.350Z"
      },
      {
        "duration": 149,
        "start_time": "2023-03-06T16:21:11.370Z"
      },
      {
        "duration": 225,
        "start_time": "2023-03-06T16:21:11.522Z"
      },
      {
        "duration": 103,
        "start_time": "2023-03-06T16:21:11.749Z"
      },
      {
        "duration": 4848,
        "start_time": "2023-03-06T16:21:11.854Z"
      },
      {
        "duration": 1141,
        "start_time": "2023-03-06T16:21:16.705Z"
      },
      {
        "duration": 61,
        "start_time": "2023-03-06T16:21:17.848Z"
      },
      {
        "duration": 101,
        "start_time": "2023-03-06T16:21:17.911Z"
      },
      {
        "duration": 457,
        "start_time": "2023-03-06T16:21:18.014Z"
      },
      {
        "duration": 144,
        "start_time": "2023-03-06T16:21:18.472Z"
      },
      {
        "duration": 6783,
        "start_time": "2023-03-06T16:21:18.619Z"
      },
      {
        "duration": 51,
        "start_time": "2023-03-07T02:48:43.022Z"
      },
      {
        "duration": 375,
        "start_time": "2023-03-07T02:48:48.165Z"
      },
      {
        "duration": 1363,
        "start_time": "2023-03-07T02:49:24.985Z"
      },
      {
        "duration": 769,
        "start_time": "2023-03-07T02:49:26.350Z"
      },
      {
        "duration": 241,
        "start_time": "2023-03-07T02:49:43.800Z"
      },
      {
        "duration": 1687,
        "start_time": "2023-03-07T02:49:45.327Z"
      },
      {
        "duration": 1698,
        "start_time": "2023-03-07T02:50:19.900Z"
      },
      {
        "duration": 825,
        "start_time": "2023-03-07T02:50:35.259Z"
      },
      {
        "duration": 243,
        "start_time": "2023-03-07T02:50:39.622Z"
      },
      {
        "duration": 1356,
        "start_time": "2023-03-07T02:50:54.980Z"
      },
      {
        "duration": 407,
        "start_time": "2023-03-07T02:51:54.410Z"
      },
      {
        "duration": 61,
        "start_time": "2023-03-07T02:51:55.499Z"
      },
      {
        "duration": 63,
        "start_time": "2023-03-07T02:51:59.372Z"
      },
      {
        "duration": 98,
        "start_time": "2023-03-07T02:51:59.851Z"
      },
      {
        "duration": 132,
        "start_time": "2023-03-07T02:52:38.625Z"
      },
      {
        "duration": 1042,
        "start_time": "2023-03-07T02:52:42.515Z"
      },
      {
        "duration": 12,
        "start_time": "2023-03-07T02:52:47.397Z"
      },
      {
        "duration": 111,
        "start_time": "2023-03-07T02:52:48.352Z"
      },
      {
        "duration": 9,
        "start_time": "2023-03-07T02:54:16.551Z"
      },
      {
        "duration": 208,
        "start_time": "2023-03-07T02:58:51.619Z"
      },
      {
        "duration": 85,
        "start_time": "2023-03-07T03:01:08.232Z"
      },
      {
        "duration": 98,
        "start_time": "2023-03-07T03:01:08.739Z"
      },
      {
        "duration": 100,
        "start_time": "2023-03-07T03:01:12.946Z"
      },
      {
        "duration": 44,
        "start_time": "2023-03-07T03:01:13.492Z"
      },
      {
        "duration": 348,
        "start_time": "2023-03-07T03:01:21.302Z"
      },
      {
        "duration": 193,
        "start_time": "2023-03-07T03:08:12.551Z"
      },
      {
        "duration": 13,
        "start_time": "2023-03-07T03:08:32.775Z"
      },
      {
        "duration": 140,
        "start_time": "2023-03-07T03:08:36.970Z"
      },
      {
        "duration": 556,
        "start_time": "2023-03-07T03:08:40.115Z"
      },
      {
        "duration": 76,
        "start_time": "2023-03-07T03:23:33.483Z"
      },
      {
        "duration": 3656,
        "start_time": "2023-03-07T03:23:36.075Z"
      },
      {
        "duration": 1017,
        "start_time": "2023-03-07T03:23:39.733Z"
      },
      {
        "duration": 35,
        "start_time": "2023-03-07T03:23:40.752Z"
      },
      {
        "duration": 90,
        "start_time": "2023-03-07T03:23:40.801Z"
      },
      {
        "duration": 60,
        "start_time": "2023-03-07T03:23:40.901Z"
      },
      {
        "duration": 379,
        "start_time": "2023-03-07T03:23:40.964Z"
      },
      {
        "duration": 116,
        "start_time": "2023-03-07T03:23:50.945Z"
      },
      {
        "duration": 3588,
        "start_time": "2023-03-07T03:23:54.042Z"
      },
      {
        "duration": 1615,
        "start_time": "2023-03-07T13:40:43.577Z"
      },
      {
        "duration": 2876,
        "start_time": "2023-03-07T13:40:45.194Z"
      },
      {
        "duration": 256,
        "start_time": "2023-03-07T13:40:48.072Z"
      },
      {
        "duration": 1427,
        "start_time": "2023-03-07T13:40:48.330Z"
      },
      {
        "duration": 452,
        "start_time": "2023-03-07T13:40:49.759Z"
      },
      {
        "duration": 70,
        "start_time": "2023-03-07T13:40:50.213Z"
      },
      {
        "duration": 69,
        "start_time": "2023-03-07T13:40:50.285Z"
      },
      {
        "duration": 127,
        "start_time": "2023-03-07T13:40:50.356Z"
      },
      {
        "duration": 167,
        "start_time": "2023-03-07T13:40:50.485Z"
      },
      {
        "duration": 1037,
        "start_time": "2023-03-07T13:40:50.654Z"
      },
      {
        "duration": 10,
        "start_time": "2023-03-07T13:40:51.693Z"
      },
      {
        "duration": 135,
        "start_time": "2023-03-07T13:40:51.704Z"
      },
      {
        "duration": 4536,
        "start_time": "2023-03-07T13:40:51.841Z"
      },
      {
        "duration": 1010,
        "start_time": "2023-03-07T13:40:56.379Z"
      },
      {
        "duration": 43,
        "start_time": "2023-03-07T13:40:57.390Z"
      },
      {
        "duration": 87,
        "start_time": "2023-03-07T13:40:57.435Z"
      },
      {
        "duration": 24,
        "start_time": "2023-03-07T13:40:57.523Z"
      },
      {
        "duration": 405,
        "start_time": "2023-03-07T13:40:57.549Z"
      },
      {
        "duration": 178,
        "start_time": "2023-03-07T13:40:57.955Z"
      },
      {
        "duration": 82,
        "start_time": "2023-03-07T13:40:58.135Z"
      },
      {
        "duration": 117,
        "start_time": "2023-03-07T13:41:38.692Z"
      },
      {
        "duration": 5,
        "start_time": "2023-03-07T13:41:42.987Z"
      },
      {
        "duration": 768,
        "start_time": "2023-03-07T13:41:42.993Z"
      },
      {
        "duration": 319,
        "start_time": "2023-03-07T13:41:43.763Z"
      },
      {
        "duration": 1530,
        "start_time": "2023-03-07T13:41:44.086Z"
      },
      {
        "duration": 416,
        "start_time": "2023-03-07T13:41:45.618Z"
      },
      {
        "duration": 70,
        "start_time": "2023-03-07T13:41:46.036Z"
      },
      {
        "duration": 125,
        "start_time": "2023-03-07T13:41:46.108Z"
      },
      {
        "duration": 161,
        "start_time": "2023-03-07T13:41:46.235Z"
      },
      {
        "duration": 179,
        "start_time": "2023-03-07T13:41:46.398Z"
      },
      {
        "duration": 9491,
        "start_time": "2023-03-07T13:41:56.476Z"
      },
      {
        "duration": 9,
        "start_time": "2023-03-07T13:42:49.190Z"
      },
      {
        "duration": 117,
        "start_time": "2023-03-07T13:42:51.689Z"
      },
      {
        "duration": 4282,
        "start_time": "2023-03-07T13:43:03.624Z"
      },
      {
        "duration": 849,
        "start_time": "2023-03-07T13:43:07.908Z"
      },
      {
        "duration": 41,
        "start_time": "2023-03-07T13:43:28.156Z"
      },
      {
        "duration": 48,
        "start_time": "2023-03-07T13:43:31.284Z"
      },
      {
        "duration": 24,
        "start_time": "2023-03-07T13:43:31.684Z"
      },
      {
        "duration": 364,
        "start_time": "2023-03-07T13:43:35.493Z"
      },
      {
        "duration": 483,
        "start_time": "2023-03-07T13:44:29.165Z"
      },
      {
        "duration": 103,
        "start_time": "2023-03-07T13:45:09.594Z"
      },
      {
        "duration": 159,
        "start_time": "2023-03-07T13:45:12.749Z"
      },
      {
        "duration": 1141,
        "start_time": "2023-03-07T13:45:13.352Z"
      },
      {
        "duration": 7,
        "start_time": "2023-03-07T13:45:18.254Z"
      },
      {
        "duration": 107,
        "start_time": "2023-03-07T13:45:18.888Z"
      },
      {
        "duration": 3855,
        "start_time": "2023-03-07T13:45:21.289Z"
      },
      {
        "duration": 1018,
        "start_time": "2023-03-07T13:45:25.146Z"
      },
      {
        "duration": 33,
        "start_time": "2023-03-07T13:45:26.165Z"
      },
      {
        "duration": 43,
        "start_time": "2023-03-07T13:45:26.717Z"
      },
      {
        "duration": 23,
        "start_time": "2023-03-07T13:45:27.276Z"
      },
      {
        "duration": 363,
        "start_time": "2023-03-07T13:45:30.225Z"
      },
      {
        "duration": 77,
        "start_time": "2023-03-07T14:06:24.450Z"
      },
      {
        "duration": 155,
        "start_time": "2023-03-07T14:06:31.455Z"
      },
      {
        "duration": 81,
        "start_time": "2023-03-07T14:06:34.336Z"
      },
      {
        "duration": 94,
        "start_time": "2023-03-07T14:06:40.956Z"
      },
      {
        "duration": 3200,
        "start_time": "2023-03-07T14:06:42.899Z"
      },
      {
        "duration": 56,
        "start_time": "2023-03-07T14:14:02.358Z"
      },
      {
        "duration": 4,
        "start_time": "2023-03-07T14:16:48.149Z"
      },
      {
        "duration": 677,
        "start_time": "2023-03-07T14:24:17.954Z"
      },
      {
        "duration": 13,
        "start_time": "2023-03-07T14:25:27.554Z"
      },
      {
        "duration": 37,
        "start_time": "2023-03-07T14:25:58.472Z"
      },
      {
        "duration": 12,
        "start_time": "2023-03-07T14:30:38.708Z"
      },
      {
        "duration": 14,
        "start_time": "2023-03-07T14:32:34.430Z"
      },
      {
        "duration": 84,
        "start_time": "2023-03-07T14:33:01.368Z"
      },
      {
        "duration": 75,
        "start_time": "2023-03-07T14:33:11.170Z"
      },
      {
        "duration": 77,
        "start_time": "2023-03-07T14:33:23.293Z"
      },
      {
        "duration": 68,
        "start_time": "2023-03-07T14:34:03.330Z"
      },
      {
        "duration": 33,
        "start_time": "2023-03-07T14:34:22.779Z"
      },
      {
        "duration": 41,
        "start_time": "2023-03-07T14:34:31.181Z"
      },
      {
        "duration": 706,
        "start_time": "2023-03-07T14:35:57.948Z"
      },
      {
        "duration": 694,
        "start_time": "2023-03-07T14:36:03.192Z"
      },
      {
        "duration": 151,
        "start_time": "2023-03-07T14:37:19.654Z"
      },
      {
        "duration": 857,
        "start_time": "2023-03-07T14:37:29.680Z"
      },
      {
        "duration": 140,
        "start_time": "2023-03-07T14:37:44.175Z"
      },
      {
        "duration": 109,
        "start_time": "2023-03-07T14:38:15.780Z"
      },
      {
        "duration": 3005,
        "start_time": "2023-03-07T14:38:20.768Z"
      },
      {
        "duration": 21,
        "start_time": "2023-03-07T14:38:26.428Z"
      },
      {
        "duration": 99,
        "start_time": "2023-03-07T14:40:02.229Z"
      },
      {
        "duration": 185038,
        "start_time": "2023-03-07T14:40:03.784Z"
      },
      {
        "duration": 1403,
        "start_time": "2023-03-07T14:47:59.989Z"
      },
      {
        "duration": 817,
        "start_time": "2023-03-07T14:48:01.394Z"
      },
      {
        "duration": 261,
        "start_time": "2023-03-07T14:48:02.212Z"
      },
      {
        "duration": 1524,
        "start_time": "2023-03-07T14:48:02.476Z"
      },
      {
        "duration": 494,
        "start_time": "2023-03-07T14:48:04.003Z"
      },
      {
        "duration": 72,
        "start_time": "2023-03-07T14:48:04.499Z"
      },
      {
        "duration": 70,
        "start_time": "2023-03-07T14:48:04.572Z"
      },
      {
        "duration": 137,
        "start_time": "2023-03-07T14:48:04.644Z"
      },
      {
        "duration": 165,
        "start_time": "2023-03-07T14:48:04.783Z"
      },
      {
        "duration": 1011,
        "start_time": "2023-03-07T14:48:04.950Z"
      },
      {
        "duration": 12,
        "start_time": "2023-03-07T14:48:05.968Z"
      },
      {
        "duration": 142,
        "start_time": "2023-03-07T14:48:05.982Z"
      },
      {
        "duration": 4199,
        "start_time": "2023-03-07T14:48:06.127Z"
      },
      {
        "duration": 996,
        "start_time": "2023-03-07T14:48:10.327Z"
      },
      {
        "duration": 56,
        "start_time": "2023-03-07T14:48:11.325Z"
      },
      {
        "duration": 64,
        "start_time": "2023-03-07T14:48:11.383Z"
      },
      {
        "duration": 38,
        "start_time": "2023-03-07T14:48:11.449Z"
      },
      {
        "duration": 367,
        "start_time": "2023-03-07T14:48:11.488Z"
      },
      {
        "duration": 77,
        "start_time": "2023-03-07T14:48:11.857Z"
      },
      {
        "duration": 169,
        "start_time": "2023-03-07T14:48:11.935Z"
      },
      {
        "duration": 82,
        "start_time": "2023-03-07T14:48:12.106Z"
      },
      {
        "duration": 109,
        "start_time": "2023-03-07T14:48:12.190Z"
      },
      {
        "duration": 181,
        "start_time": "2023-03-07T14:48:12.301Z"
      },
      {
        "duration": 113,
        "start_time": "2023-03-07T14:48:12.484Z"
      },
      {
        "duration": 3173,
        "start_time": "2023-03-07T14:48:12.598Z"
      },
      {
        "duration": 101,
        "start_time": "2023-03-07T14:48:15.774Z"
      },
      {
        "duration": 197,
        "start_time": "2023-03-07T14:48:15.878Z"
      },
      {
        "duration": 188338,
        "start_time": "2023-03-07T14:48:16.076Z"
      },
      {
        "duration": 108,
        "start_time": "2023-03-07T14:51:24.417Z"
      },
      {
        "duration": 49,
        "start_time": "2023-03-07T14:53:20.114Z"
      },
      {
        "duration": 1363,
        "start_time": "2023-03-07T14:53:23.586Z"
      },
      {
        "duration": 837,
        "start_time": "2023-03-07T14:53:24.951Z"
      },
      {
        "duration": 311,
        "start_time": "2023-03-07T14:53:25.790Z"
      },
      {
        "duration": 1710,
        "start_time": "2023-03-07T14:53:26.102Z"
      },
      {
        "duration": 556,
        "start_time": "2023-03-07T14:53:27.814Z"
      },
      {
        "duration": 69,
        "start_time": "2023-03-07T14:53:28.371Z"
      },
      {
        "duration": 89,
        "start_time": "2023-03-07T14:53:28.442Z"
      },
      {
        "duration": 163,
        "start_time": "2023-03-07T14:53:28.533Z"
      },
      {
        "duration": 216,
        "start_time": "2023-03-07T14:53:28.698Z"
      },
      {
        "duration": 1182,
        "start_time": "2023-03-07T14:53:28.916Z"
      },
      {
        "duration": 11,
        "start_time": "2023-03-07T14:53:30.100Z"
      },
      {
        "duration": 171,
        "start_time": "2023-03-07T14:53:30.113Z"
      },
      {
        "duration": 4196,
        "start_time": "2023-03-07T14:53:30.286Z"
      },
      {
        "duration": 961,
        "start_time": "2023-03-07T14:53:34.484Z"
      },
      {
        "duration": 50,
        "start_time": "2023-03-07T14:53:35.446Z"
      },
      {
        "duration": 63,
        "start_time": "2023-03-07T14:53:35.498Z"
      },
      {
        "duration": 24,
        "start_time": "2023-03-07T14:53:35.569Z"
      },
      {
        "duration": 363,
        "start_time": "2023-03-07T14:53:35.595Z"
      },
      {
        "duration": 77,
        "start_time": "2023-03-07T14:53:35.960Z"
      },
      {
        "duration": 167,
        "start_time": "2023-03-07T14:53:36.038Z"
      },
      {
        "duration": 80,
        "start_time": "2023-03-07T14:53:36.207Z"
      },
      {
        "duration": 101,
        "start_time": "2023-03-07T14:53:36.289Z"
      },
      {
        "duration": 124,
        "start_time": "2023-03-07T14:54:59.610Z"
      },
      {
        "duration": 112,
        "start_time": "2023-03-07T14:55:08.620Z"
      },
      {
        "duration": 3130,
        "start_time": "2023-03-07T14:55:09.946Z"
      },
      {
        "duration": 104,
        "start_time": "2023-03-07T14:55:13.078Z"
      },
      {
        "duration": 116,
        "start_time": "2023-03-07T15:04:37.272Z"
      },
      {
        "duration": 117,
        "start_time": "2023-03-07T15:06:22.567Z"
      },
      {
        "duration": 44,
        "start_time": "2023-03-07T15:06:52.592Z"
      },
      {
        "duration": 4,
        "start_time": "2023-03-07T15:07:04.646Z"
      },
      {
        "duration": 749,
        "start_time": "2023-03-07T15:07:04.652Z"
      },
      {
        "duration": 277,
        "start_time": "2023-03-07T15:07:05.402Z"
      },
      {
        "duration": 1359,
        "start_time": "2023-03-07T15:07:05.681Z"
      },
      {
        "duration": 418,
        "start_time": "2023-03-07T15:07:07.042Z"
      },
      {
        "duration": 57,
        "start_time": "2023-03-07T15:07:07.461Z"
      },
      {
        "duration": 74,
        "start_time": "2023-03-07T15:07:07.520Z"
      },
      {
        "duration": 128,
        "start_time": "2023-03-07T15:07:07.596Z"
      },
      {
        "duration": 168,
        "start_time": "2023-03-07T15:07:07.725Z"
      },
      {
        "duration": 1115,
        "start_time": "2023-03-07T15:07:07.895Z"
      },
      {
        "duration": 11,
        "start_time": "2023-03-07T15:07:09.012Z"
      },
      {
        "duration": 145,
        "start_time": "2023-03-07T15:07:09.024Z"
      },
      {
        "duration": 4373,
        "start_time": "2023-03-07T15:07:09.171Z"
      },
      {
        "duration": 898,
        "start_time": "2023-03-07T15:07:13.546Z"
      },
      {
        "duration": 50,
        "start_time": "2023-03-07T15:07:14.445Z"
      },
      {
        "duration": 56,
        "start_time": "2023-03-07T15:07:14.496Z"
      },
      {
        "duration": 34,
        "start_time": "2023-03-07T15:07:14.553Z"
      },
      {
        "duration": 373,
        "start_time": "2023-03-07T15:07:14.589Z"
      },
      {
        "duration": 78,
        "start_time": "2023-03-07T15:07:14.963Z"
      },
      {
        "duration": 187,
        "start_time": "2023-03-07T15:07:15.043Z"
      },
      {
        "duration": 108,
        "start_time": "2023-03-07T15:07:15.232Z"
      },
      {
        "duration": 115,
        "start_time": "2023-03-07T15:07:15.342Z"
      },
      {
        "duration": 42,
        "start_time": "2023-03-07T15:07:15.459Z"
      },
      {
        "duration": 88,
        "start_time": "2023-03-07T15:07:36.554Z"
      },
      {
        "duration": 22,
        "start_time": "2023-03-07T15:07:45.476Z"
      },
      {
        "duration": 111,
        "start_time": "2023-03-07T15:08:06.859Z"
      },
      {
        "duration": 27,
        "start_time": "2023-03-07T15:08:12.582Z"
      },
      {
        "duration": 45,
        "start_time": "2023-03-07T15:08:29.056Z"
      },
      {
        "duration": 1430,
        "start_time": "2023-03-07T15:09:02.808Z"
      },
      {
        "duration": 796,
        "start_time": "2023-03-07T15:09:04.240Z"
      },
      {
        "duration": 299,
        "start_time": "2023-03-07T15:09:05.038Z"
      },
      {
        "duration": 1538,
        "start_time": "2023-03-07T15:09:05.339Z"
      },
      {
        "duration": 463,
        "start_time": "2023-03-07T15:09:06.879Z"
      },
      {
        "duration": 68,
        "start_time": "2023-03-07T15:09:07.343Z"
      },
      {
        "duration": 74,
        "start_time": "2023-03-07T15:09:07.413Z"
      },
      {
        "duration": 125,
        "start_time": "2023-03-07T15:09:07.489Z"
      },
      {
        "duration": 168,
        "start_time": "2023-03-07T15:09:07.616Z"
      },
      {
        "duration": 987,
        "start_time": "2023-03-07T15:09:07.786Z"
      },
      {
        "duration": 13,
        "start_time": "2023-03-07T15:09:08.775Z"
      },
      {
        "duration": 139,
        "start_time": "2023-03-07T15:09:08.789Z"
      },
      {
        "duration": 4182,
        "start_time": "2023-03-07T15:09:08.929Z"
      },
      {
        "duration": 1039,
        "start_time": "2023-03-07T15:09:13.113Z"
      },
      {
        "duration": 50,
        "start_time": "2023-03-07T15:09:14.153Z"
      },
      {
        "duration": 80,
        "start_time": "2023-03-07T15:09:14.205Z"
      },
      {
        "duration": 24,
        "start_time": "2023-03-07T15:09:14.287Z"
      },
      {
        "duration": 371,
        "start_time": "2023-03-07T15:09:14.313Z"
      },
      {
        "duration": 87,
        "start_time": "2023-03-07T15:09:14.686Z"
      },
      {
        "duration": 157,
        "start_time": "2023-03-07T15:09:14.775Z"
      },
      {
        "duration": 96,
        "start_time": "2023-03-07T15:09:14.934Z"
      },
      {
        "duration": 129,
        "start_time": "2023-03-07T15:09:15.031Z"
      },
      {
        "duration": 61,
        "start_time": "2023-03-07T15:09:15.162Z"
      },
      {
        "duration": 145,
        "start_time": "2023-03-07T15:09:15.225Z"
      },
      {
        "duration": 5,
        "start_time": "2023-03-07T15:09:24.426Z"
      },
      {
        "duration": 755,
        "start_time": "2023-03-07T15:09:24.433Z"
      },
      {
        "duration": 287,
        "start_time": "2023-03-07T15:09:25.189Z"
      },
      {
        "duration": 1335,
        "start_time": "2023-03-07T15:09:25.479Z"
      },
      {
        "duration": 406,
        "start_time": "2023-03-07T15:09:26.816Z"
      },
      {
        "duration": 66,
        "start_time": "2023-03-07T15:09:27.224Z"
      },
      {
        "duration": 89,
        "start_time": "2023-03-07T15:09:27.292Z"
      },
      {
        "duration": 124,
        "start_time": "2023-03-07T15:09:27.382Z"
      },
      {
        "duration": 170,
        "start_time": "2023-03-07T15:09:27.507Z"
      },
      {
        "duration": 1137,
        "start_time": "2023-03-07T15:09:27.679Z"
      },
      {
        "duration": 12,
        "start_time": "2023-03-07T15:09:28.818Z"
      },
      {
        "duration": 140,
        "start_time": "2023-03-07T15:09:28.832Z"
      },
      {
        "duration": 4244,
        "start_time": "2023-03-07T15:09:28.974Z"
      },
      {
        "duration": 897,
        "start_time": "2023-03-07T15:09:33.220Z"
      },
      {
        "duration": 55,
        "start_time": "2023-03-07T15:09:34.119Z"
      },
      {
        "duration": 58,
        "start_time": "2023-03-07T15:09:34.176Z"
      },
      {
        "duration": 41,
        "start_time": "2023-03-07T15:09:34.236Z"
      },
      {
        "duration": 368,
        "start_time": "2023-03-07T15:09:34.278Z"
      },
      {
        "duration": 80,
        "start_time": "2023-03-07T15:09:34.648Z"
      },
      {
        "duration": 149,
        "start_time": "2023-03-07T15:09:34.729Z"
      },
      {
        "duration": 79,
        "start_time": "2023-03-07T15:09:34.880Z"
      },
      {
        "duration": 112,
        "start_time": "2023-03-07T15:09:34.969Z"
      },
      {
        "duration": 42,
        "start_time": "2023-03-07T15:09:50.465Z"
      },
      {
        "duration": 13,
        "start_time": "2023-03-07T15:09:57.732Z"
      },
      {
        "duration": 111,
        "start_time": "2023-03-07T15:10:00.318Z"
      },
      {
        "duration": 30,
        "start_time": "2023-03-07T15:10:03.174Z"
      },
      {
        "duration": 110,
        "start_time": "2023-03-07T15:11:45.913Z"
      },
      {
        "duration": 27,
        "start_time": "2023-03-07T15:11:49.700Z"
      },
      {
        "duration": 6,
        "start_time": "2023-03-07T15:11:55.123Z"
      },
      {
        "duration": 712,
        "start_time": "2023-03-07T15:11:55.131Z"
      },
      {
        "duration": 271,
        "start_time": "2023-03-07T15:11:55.845Z"
      },
      {
        "duration": 1327,
        "start_time": "2023-03-07T15:11:56.118Z"
      },
      {
        "duration": 424,
        "start_time": "2023-03-07T15:11:57.446Z"
      },
      {
        "duration": 45,
        "start_time": "2023-03-07T15:11:57.871Z"
      },
      {
        "duration": 84,
        "start_time": "2023-03-07T15:11:57.918Z"
      },
      {
        "duration": 138,
        "start_time": "2023-03-07T15:11:58.004Z"
      },
      {
        "duration": 181,
        "start_time": "2023-03-07T15:11:58.144Z"
      },
      {
        "duration": 1261,
        "start_time": "2023-03-07T15:11:58.329Z"
      },
      {
        "duration": 13,
        "start_time": "2023-03-07T15:11:59.591Z"
      },
      {
        "duration": 140,
        "start_time": "2023-03-07T15:11:59.605Z"
      },
      {
        "duration": 4168,
        "start_time": "2023-03-07T15:11:59.746Z"
      },
      {
        "duration": 976,
        "start_time": "2023-03-07T15:12:03.915Z"
      },
      {
        "duration": 40,
        "start_time": "2023-03-07T15:12:04.892Z"
      },
      {
        "duration": 67,
        "start_time": "2023-03-07T15:12:04.933Z"
      },
      {
        "duration": 24,
        "start_time": "2023-03-07T15:12:05.001Z"
      },
      {
        "duration": 389,
        "start_time": "2023-03-07T15:12:05.027Z"
      },
      {
        "duration": 83,
        "start_time": "2023-03-07T15:12:05.418Z"
      },
      {
        "duration": 154,
        "start_time": "2023-03-07T15:12:05.503Z"
      },
      {
        "duration": 102,
        "start_time": "2023-03-07T15:12:05.659Z"
      },
      {
        "duration": 114,
        "start_time": "2023-03-07T15:12:05.762Z"
      },
      {
        "duration": 14,
        "start_time": "2023-03-07T15:12:05.878Z"
      },
      {
        "duration": 124,
        "start_time": "2023-03-07T15:12:05.894Z"
      },
      {
        "duration": 30,
        "start_time": "2023-03-07T15:12:06.021Z"
      },
      {
        "duration": 1590,
        "start_time": "2023-03-07T15:13:22.244Z"
      },
      {
        "duration": 105,
        "start_time": "2023-03-07T15:13:56.060Z"
      },
      {
        "duration": 172,
        "start_time": "2023-03-07T15:14:29.821Z"
      },
      {
        "duration": 418,
        "start_time": "2023-03-07T15:15:16.849Z"
      },
      {
        "duration": 649,
        "start_time": "2023-03-07T15:16:01.031Z"
      },
      {
        "duration": 29253,
        "start_time": "2023-03-07T15:16:06.768Z"
      },
      {
        "duration": 47,
        "start_time": "2023-03-07T15:16:58.938Z"
      },
      {
        "duration": 675,
        "start_time": "2023-03-07T15:17:03.156Z"
      },
      {
        "duration": 684,
        "start_time": "2023-03-07T15:22:34.873Z"
      },
      {
        "duration": 29144,
        "start_time": "2023-03-07T15:22:40.496Z"
      },
      {
        "duration": 656,
        "start_time": "2023-03-07T15:23:09.642Z"
      },
      {
        "duration": 655,
        "start_time": "2023-03-07T15:23:25.753Z"
      },
      {
        "duration": 637,
        "start_time": "2023-03-07T15:23:37.562Z"
      },
      {
        "duration": 61,
        "start_time": "2023-03-07T15:23:51.156Z"
      },
      {
        "duration": 55,
        "start_time": "2023-03-07T15:24:34.211Z"
      },
      {
        "duration": 8,
        "start_time": "2023-03-07T15:39:04.645Z"
      },
      {
        "duration": 1347,
        "start_time": "2023-03-07T15:39:28.395Z"
      },
      {
        "duration": 841,
        "start_time": "2023-03-07T15:39:29.744Z"
      },
      {
        "duration": 265,
        "start_time": "2023-03-07T15:39:30.587Z"
      },
      {
        "duration": 1576,
        "start_time": "2023-03-07T15:39:30.854Z"
      },
      {
        "duration": 466,
        "start_time": "2023-03-07T15:39:32.432Z"
      },
      {
        "duration": 70,
        "start_time": "2023-03-07T15:39:32.900Z"
      },
      {
        "duration": 70,
        "start_time": "2023-03-07T15:39:32.971Z"
      },
      {
        "duration": 138,
        "start_time": "2023-03-07T15:39:33.043Z"
      },
      {
        "duration": 188,
        "start_time": "2023-03-07T15:39:33.183Z"
      },
      {
        "duration": 1101,
        "start_time": "2023-03-07T15:39:33.374Z"
      },
      {
        "duration": 18,
        "start_time": "2023-03-07T15:39:34.477Z"
      },
      {
        "duration": 139,
        "start_time": "2023-03-07T15:39:34.497Z"
      },
      {
        "duration": 4301,
        "start_time": "2023-03-07T15:39:34.637Z"
      },
      {
        "duration": 1001,
        "start_time": "2023-03-07T15:39:38.940Z"
      },
      {
        "duration": 48,
        "start_time": "2023-03-07T15:39:39.943Z"
      },
      {
        "duration": 87,
        "start_time": "2023-03-07T15:39:39.992Z"
      },
      {
        "duration": 27,
        "start_time": "2023-03-07T15:39:40.081Z"
      },
      {
        "duration": 400,
        "start_time": "2023-03-07T15:39:40.110Z"
      },
      {
        "duration": 100,
        "start_time": "2023-03-07T15:41:39.050Z"
      },
      {
        "duration": 112,
        "start_time": "2023-03-07T15:45:05.474Z"
      },
      {
        "duration": 4,
        "start_time": "2023-03-07T15:45:23.917Z"
      },
      {
        "duration": 34,
        "start_time": "2023-03-07T15:45:31.389Z"
      },
      {
        "duration": 27,
        "start_time": "2023-03-07T15:47:23.635Z"
      },
      {
        "duration": 25,
        "start_time": "2023-03-07T15:47:43.026Z"
      },
      {
        "duration": 61,
        "start_time": "2023-03-07T15:49:01.110Z"
      },
      {
        "duration": 46,
        "start_time": "2023-03-07T15:49:07.266Z"
      },
      {
        "duration": 49,
        "start_time": "2023-03-07T15:49:10.841Z"
      },
      {
        "duration": 141,
        "start_time": "2023-03-07T15:49:21.949Z"
      },
      {
        "duration": 46,
        "start_time": "2023-03-07T15:51:19.901Z"
      },
      {
        "duration": 50,
        "start_time": "2023-03-07T15:52:03.098Z"
      },
      {
        "duration": 14,
        "start_time": "2023-03-07T15:53:45.348Z"
      },
      {
        "duration": 19,
        "start_time": "2023-03-07T15:54:22.758Z"
      },
      {
        "duration": 47,
        "start_time": "2023-03-07T15:55:14.140Z"
      },
      {
        "duration": 710,
        "start_time": "2023-03-07T15:55:17.851Z"
      },
      {
        "duration": 55,
        "start_time": "2023-03-07T15:55:33.628Z"
      },
      {
        "duration": 18,
        "start_time": "2023-03-07T15:55:36.380Z"
      },
      {
        "duration": 15,
        "start_time": "2023-03-07T15:55:51.613Z"
      },
      {
        "duration": 19,
        "start_time": "2023-03-07T15:57:14.925Z"
      },
      {
        "duration": 19,
        "start_time": "2023-03-07T15:57:23.099Z"
      },
      {
        "duration": 42,
        "start_time": "2023-03-07T15:57:45.400Z"
      },
      {
        "duration": 48,
        "start_time": "2023-03-07T15:58:25.163Z"
      },
      {
        "duration": 46,
        "start_time": "2023-03-07T16:01:53.100Z"
      },
      {
        "duration": 108,
        "start_time": "2023-03-07T16:03:13.872Z"
      },
      {
        "duration": 620,
        "start_time": "2023-03-07T16:05:04.990Z"
      },
      {
        "duration": 9414,
        "start_time": "2023-03-07T16:05:46.277Z"
      },
      {
        "duration": 5,
        "start_time": "2023-03-07T16:05:55.693Z"
      },
      {
        "duration": 34,
        "start_time": "2023-03-07T16:06:08.621Z"
      },
      {
        "duration": 589,
        "start_time": "2023-03-07T16:06:16.907Z"
      },
      {
        "duration": 11,
        "start_time": "2023-03-07T16:07:18.960Z"
      },
      {
        "duration": 16,
        "start_time": "2023-03-07T16:07:45.643Z"
      },
      {
        "duration": 737,
        "start_time": "2023-03-07T16:08:05.249Z"
      },
      {
        "duration": 12,
        "start_time": "2023-03-07T16:08:23.715Z"
      },
      {
        "duration": 21,
        "start_time": "2023-03-07T16:16:30.199Z"
      },
      {
        "duration": 1240,
        "start_time": "2023-03-07T16:16:43.319Z"
      },
      {
        "duration": 1107,
        "start_time": "2023-03-07T16:18:42.627Z"
      },
      {
        "duration": 1101,
        "start_time": "2023-03-07T16:19:15.641Z"
      },
      {
        "duration": 12,
        "start_time": "2023-03-07T16:21:13.624Z"
      },
      {
        "duration": 33,
        "start_time": "2023-03-07T16:21:20.700Z"
      },
      {
        "duration": 551,
        "start_time": "2023-03-07T16:21:36.445Z"
      },
      {
        "duration": 576,
        "start_time": "2023-03-07T16:21:58.062Z"
      },
      {
        "duration": 619,
        "start_time": "2023-03-07T16:22:02.820Z"
      },
      {
        "duration": 12,
        "start_time": "2023-03-07T16:22:48.372Z"
      },
      {
        "duration": 45,
        "start_time": "2023-03-07T16:26:25.351Z"
      },
      {
        "duration": 126,
        "start_time": "2023-03-07T16:26:26.698Z"
      },
      {
        "duration": 24,
        "start_time": "2023-03-07T16:26:28.952Z"
      },
      {
        "duration": 100,
        "start_time": "2023-03-07T16:26:40.602Z"
      },
      {
        "duration": 230,
        "start_time": "2023-03-07T16:26:42.660Z"
      },
      {
        "duration": 97,
        "start_time": "2023-03-07T16:26:58.850Z"
      },
      {
        "duration": 102,
        "start_time": "2023-03-07T16:27:08.558Z"
      },
      {
        "duration": 186,
        "start_time": "2023-03-07T16:27:10.677Z"
      },
      {
        "duration": 159,
        "start_time": "2023-03-07T16:27:28.135Z"
      },
      {
        "duration": 65,
        "start_time": "2023-03-07T16:27:44.298Z"
      },
      {
        "duration": 2160,
        "start_time": "2023-03-07T16:27:55.916Z"
      },
      {
        "duration": 8,
        "start_time": "2023-03-07T16:27:58.080Z"
      },
      {
        "duration": 809,
        "start_time": "2023-03-07T16:27:58.091Z"
      },
      {
        "duration": 295,
        "start_time": "2023-03-07T16:27:58.901Z"
      },
      {
        "duration": 1438,
        "start_time": "2023-03-07T16:27:59.199Z"
      },
      {
        "duration": 443,
        "start_time": "2023-03-07T16:28:00.639Z"
      },
      {
        "duration": 57,
        "start_time": "2023-03-07T16:28:01.084Z"
      },
      {
        "duration": 86,
        "start_time": "2023-03-07T16:28:01.143Z"
      },
      {
        "duration": 139,
        "start_time": "2023-03-07T16:28:01.231Z"
      },
      {
        "duration": 181,
        "start_time": "2023-03-07T16:28:01.372Z"
      },
      {
        "duration": 1171,
        "start_time": "2023-03-07T16:28:01.555Z"
      },
      {
        "duration": 19,
        "start_time": "2023-03-07T16:28:02.728Z"
      },
      {
        "duration": 154,
        "start_time": "2023-03-07T16:28:02.748Z"
      },
      {
        "duration": 4527,
        "start_time": "2023-03-07T16:28:02.905Z"
      },
      {
        "duration": 889,
        "start_time": "2023-03-07T16:28:07.433Z"
      },
      {
        "duration": 52,
        "start_time": "2023-03-07T16:28:08.324Z"
      },
      {
        "duration": 58,
        "start_time": "2023-03-07T16:28:08.378Z"
      },
      {
        "duration": 38,
        "start_time": "2023-03-07T16:28:08.438Z"
      },
      {
        "duration": 374,
        "start_time": "2023-03-07T16:28:08.478Z"
      },
      {
        "duration": 93,
        "start_time": "2023-03-07T16:28:08.854Z"
      },
      {
        "duration": 164,
        "start_time": "2023-03-07T16:28:08.948Z"
      },
      {
        "duration": 88,
        "start_time": "2023-03-07T16:28:14.698Z"
      },
      {
        "duration": 116,
        "start_time": "2023-03-07T16:28:21.145Z"
      },
      {
        "duration": 39,
        "start_time": "2023-03-07T16:28:22.299Z"
      },
      {
        "duration": 32,
        "start_time": "2023-03-07T16:28:36.797Z"
      },
      {
        "duration": 122,
        "start_time": "2023-03-07T16:28:36.911Z"
      },
      {
        "duration": 26,
        "start_time": "2023-03-07T16:28:37.764Z"
      },
      {
        "duration": 110,
        "start_time": "2023-03-07T16:28:38.363Z"
      },
      {
        "duration": 3992,
        "start_time": "2023-03-07T16:28:41.576Z"
      },
      {
        "duration": 16,
        "start_time": "2023-03-07T16:28:45.571Z"
      },
      {
        "duration": 90,
        "start_time": "2023-03-07T16:29:33.585Z"
      },
      {
        "duration": 25,
        "start_time": "2023-03-07T16:29:34.699Z"
      },
      {
        "duration": 2234,
        "start_time": "2023-03-07T16:31:33.267Z"
      },
      {
        "duration": 5,
        "start_time": "2023-03-07T16:31:35.504Z"
      },
      {
        "duration": 764,
        "start_time": "2023-03-07T16:31:35.511Z"
      },
      {
        "duration": 301,
        "start_time": "2023-03-07T16:31:36.276Z"
      },
      {
        "duration": 1398,
        "start_time": "2023-03-07T16:31:36.580Z"
      },
      {
        "duration": 420,
        "start_time": "2023-03-07T16:31:37.980Z"
      },
      {
        "duration": 68,
        "start_time": "2023-03-07T16:31:38.402Z"
      },
      {
        "duration": 71,
        "start_time": "2023-03-07T16:31:38.472Z"
      },
      {
        "duration": 153,
        "start_time": "2023-03-07T16:31:38.544Z"
      },
      {
        "duration": 185,
        "start_time": "2023-03-07T16:31:38.699Z"
      },
      {
        "duration": 1319,
        "start_time": "2023-03-07T16:31:38.886Z"
      },
      {
        "duration": 22,
        "start_time": "2023-03-07T16:31:40.207Z"
      },
      {
        "duration": 155,
        "start_time": "2023-03-07T16:31:40.231Z"
      },
      {
        "duration": 4169,
        "start_time": "2023-03-07T16:31:40.388Z"
      },
      {
        "duration": 983,
        "start_time": "2023-03-07T16:31:44.559Z"
      },
      {
        "duration": 55,
        "start_time": "2023-03-07T16:31:45.543Z"
      },
      {
        "duration": 58,
        "start_time": "2023-03-07T16:31:45.600Z"
      },
      {
        "duration": 24,
        "start_time": "2023-03-07T16:31:45.669Z"
      },
      {
        "duration": 387,
        "start_time": "2023-03-07T16:31:45.695Z"
      },
      {
        "duration": 94,
        "start_time": "2023-03-07T16:31:46.084Z"
      },
      {
        "duration": 99,
        "start_time": "2023-03-07T16:31:46.180Z"
      },
      {
        "duration": 72,
        "start_time": "2023-03-07T16:31:46.282Z"
      },
      {
        "duration": 25,
        "start_time": "2023-03-07T16:31:50.699Z"
      },
      {
        "duration": 12,
        "start_time": "2023-03-07T16:32:04.194Z"
      },
      {
        "duration": 2226,
        "start_time": "2023-03-07T16:37:58.107Z"
      },
      {
        "duration": 5,
        "start_time": "2023-03-07T16:38:02.676Z"
      },
      {
        "duration": 22,
        "start_time": "2023-03-07T16:38:08.181Z"
      },
      {
        "duration": 11,
        "start_time": "2023-03-07T16:38:25.872Z"
      },
      {
        "duration": 11,
        "start_time": "2023-03-07T16:40:33.500Z"
      },
      {
        "duration": 2096,
        "start_time": "2023-03-07T23:38:03.015Z"
      },
      {
        "duration": 6,
        "start_time": "2023-03-07T23:38:05.114Z"
      },
      {
        "duration": 752,
        "start_time": "2023-03-07T23:38:05.122Z"
      },
      {
        "duration": 294,
        "start_time": "2023-03-07T23:38:05.876Z"
      },
      {
        "duration": 1311,
        "start_time": "2023-03-07T23:38:06.172Z"
      },
      {
        "duration": 400,
        "start_time": "2023-03-07T23:38:07.485Z"
      },
      {
        "duration": 45,
        "start_time": "2023-03-07T23:38:07.887Z"
      },
      {
        "duration": 78,
        "start_time": "2023-03-07T23:38:07.934Z"
      },
      {
        "duration": 138,
        "start_time": "2023-03-07T23:38:08.014Z"
      },
      {
        "duration": 172,
        "start_time": "2023-03-07T23:38:08.154Z"
      },
      {
        "duration": 1109,
        "start_time": "2023-03-07T23:38:08.328Z"
      },
      {
        "duration": 19,
        "start_time": "2023-03-07T23:38:09.439Z"
      },
      {
        "duration": 135,
        "start_time": "2023-03-07T23:38:09.468Z"
      },
      {
        "duration": 4195,
        "start_time": "2023-03-07T23:38:09.606Z"
      },
      {
        "duration": 873,
        "start_time": "2023-03-07T23:38:13.803Z"
      },
      {
        "duration": 42,
        "start_time": "2023-03-07T23:38:14.678Z"
      },
      {
        "duration": 77,
        "start_time": "2023-03-07T23:38:14.722Z"
      },
      {
        "duration": 25,
        "start_time": "2023-03-07T23:38:14.801Z"
      },
      {
        "duration": 402,
        "start_time": "2023-03-07T23:38:14.828Z"
      },
      {
        "duration": 95,
        "start_time": "2023-03-07T23:38:15.232Z"
      },
      {
        "duration": 88,
        "start_time": "2023-03-07T23:38:21.591Z"
      },
      {
        "duration": 87,
        "start_time": "2023-03-07T23:38:48.642Z"
      },
      {
        "duration": 69,
        "start_time": "2023-03-07T23:38:50.152Z"
      },
      {
        "duration": 12,
        "start_time": "2023-03-07T23:39:17.956Z"
      },
      {
        "duration": 6596,
        "start_time": "2023-03-09T13:10:24.113Z"
      },
      {
        "duration": 1589,
        "start_time": "2023-03-09T13:10:38.932Z"
      },
      {
        "duration": 3332,
        "start_time": "2023-03-09T13:10:40.528Z"
      },
      {
        "duration": 319,
        "start_time": "2023-03-09T13:10:43.862Z"
      },
      {
        "duration": 1720,
        "start_time": "2023-03-09T13:10:44.183Z"
      },
      {
        "duration": 538,
        "start_time": "2023-03-09T13:10:45.905Z"
      },
      {
        "duration": 60,
        "start_time": "2023-03-09T13:10:50.045Z"
      },
      {
        "duration": 96,
        "start_time": "2023-03-09T13:10:52.042Z"
      },
      {
        "duration": 150,
        "start_time": "2023-03-09T13:10:54.137Z"
      },
      {
        "duration": 184,
        "start_time": "2023-03-09T13:10:57.437Z"
      },
      {
        "duration": 1222,
        "start_time": "2023-03-09T13:10:58.939Z"
      },
      {
        "duration": 24,
        "start_time": "2023-03-09T13:11:04.558Z"
      },
      {
        "duration": 187,
        "start_time": "2023-03-09T13:11:05.406Z"
      },
      {
        "duration": 4863,
        "start_time": "2023-03-09T13:11:15.709Z"
      },
      {
        "duration": 1050,
        "start_time": "2023-03-09T13:11:20.573Z"
      },
      {
        "duration": 51,
        "start_time": "2023-03-09T13:11:21.624Z"
      },
      {
        "duration": 48,
        "start_time": "2023-03-09T13:11:50.393Z"
      },
      {
        "duration": 81,
        "start_time": "2023-03-09T13:11:51.277Z"
      },
      {
        "duration": 28,
        "start_time": "2023-03-09T13:11:53.243Z"
      },
      {
        "duration": 435,
        "start_time": "2023-03-09T13:11:56.355Z"
      },
      {
        "duration": 108,
        "start_time": "2023-03-09T13:12:01.079Z"
      },
      {
        "duration": 131,
        "start_time": "2023-03-09T13:12:07.008Z"
      },
      {
        "duration": 106,
        "start_time": "2023-03-09T13:12:11.889Z"
      },
      {
        "duration": 135,
        "start_time": "2023-03-09T13:12:21.801Z"
      },
      {
        "duration": 3,
        "start_time": "2023-03-09T13:41:23.166Z"
      },
      {
        "duration": 103,
        "start_time": "2023-03-09T13:48:48.257Z"
      },
      {
        "duration": 3354,
        "start_time": "2023-03-09T13:49:37.232Z"
      },
      {
        "duration": 1422,
        "start_time": "2023-03-09T13:49:40.588Z"
      },
      {
        "duration": 989,
        "start_time": "2023-03-09T13:49:42.012Z"
      },
      {
        "duration": 322,
        "start_time": "2023-03-09T13:49:43.003Z"
      },
      {
        "duration": 1678,
        "start_time": "2023-03-09T13:49:43.329Z"
      },
      {
        "duration": 507,
        "start_time": "2023-03-09T13:49:45.009Z"
      },
      {
        "duration": 64,
        "start_time": "2023-03-09T13:49:45.518Z"
      },
      {
        "duration": 105,
        "start_time": "2023-03-09T13:49:45.583Z"
      },
      {
        "duration": 152,
        "start_time": "2023-03-09T13:49:45.690Z"
      },
      {
        "duration": 203,
        "start_time": "2023-03-09T13:49:45.844Z"
      },
      {
        "duration": 1205,
        "start_time": "2023-03-09T13:49:46.049Z"
      },
      {
        "duration": 36,
        "start_time": "2023-03-09T13:49:47.256Z"
      },
      {
        "duration": 203,
        "start_time": "2023-03-09T13:49:47.294Z"
      },
      {
        "duration": 4906,
        "start_time": "2023-03-09T13:49:47.501Z"
      },
      {
        "duration": 976,
        "start_time": "2023-03-09T13:49:52.408Z"
      },
      {
        "duration": 159,
        "start_time": "2023-03-09T13:49:53.386Z"
      },
      {
        "duration": 83,
        "start_time": "2023-03-09T13:49:53.547Z"
      },
      {
        "duration": 29,
        "start_time": "2023-03-09T13:49:53.632Z"
      },
      {
        "duration": 445,
        "start_time": "2023-03-09T13:49:53.663Z"
      },
      {
        "duration": 115,
        "start_time": "2023-03-09T13:49:54.109Z"
      },
      {
        "duration": 3,
        "start_time": "2023-03-09T13:49:54.226Z"
      },
      {
        "duration": 134,
        "start_time": "2023-03-09T13:49:54.231Z"
      },
      {
        "duration": 3,
        "start_time": "2023-03-09T13:49:58.806Z"
      },
      {
        "duration": 121,
        "start_time": "2023-03-09T13:49:59.298Z"
      },
      {
        "duration": 100,
        "start_time": "2023-03-09T13:50:00.190Z"
      },
      {
        "duration": 21,
        "start_time": "2023-03-09T13:50:22.794Z"
      },
      {
        "duration": 135,
        "start_time": "2023-03-09T13:50:30.990Z"
      },
      {
        "duration": 96,
        "start_time": "2023-03-09T13:50:37.600Z"
      },
      {
        "duration": 129,
        "start_time": "2023-03-09T13:50:39.199Z"
      },
      {
        "duration": 144,
        "start_time": "2023-03-09T13:50:51.421Z"
      },
      {
        "duration": 8181,
        "start_time": "2023-03-11T19:06:52.479Z"
      },
      {
        "duration": 1758,
        "start_time": "2023-03-11T19:07:00.663Z"
      },
      {
        "duration": 1410,
        "start_time": "2023-03-11T19:07:02.423Z"
      },
      {
        "duration": 2868,
        "start_time": "2023-03-11T19:07:03.835Z"
      },
      {
        "duration": 218,
        "start_time": "2023-03-11T19:07:06.705Z"
      },
      {
        "duration": 1329,
        "start_time": "2023-03-11T19:07:06.924Z"
      },
      {
        "duration": 429,
        "start_time": "2023-03-11T19:07:08.254Z"
      },
      {
        "duration": 43,
        "start_time": "2023-03-11T19:07:08.684Z"
      },
      {
        "duration": 68,
        "start_time": "2023-03-11T19:07:08.740Z"
      },
      {
        "duration": 111,
        "start_time": "2023-03-11T19:07:08.810Z"
      },
      {
        "duration": 131,
        "start_time": "2023-03-11T19:07:08.923Z"
      },
      {
        "duration": 948,
        "start_time": "2023-03-11T19:07:09.055Z"
      },
      {
        "duration": 10,
        "start_time": "2023-03-11T19:07:10.005Z"
      },
      {
        "duration": 109,
        "start_time": "2023-03-11T19:07:10.018Z"
      },
      {
        "duration": 4016,
        "start_time": "2023-03-11T19:07:10.140Z"
      },
      {
        "duration": 916,
        "start_time": "2023-03-11T19:07:14.157Z"
      },
      {
        "duration": 38,
        "start_time": "2023-03-11T19:07:15.075Z"
      },
      {
        "duration": 63,
        "start_time": "2023-03-11T19:07:15.115Z"
      },
      {
        "duration": 23,
        "start_time": "2023-03-11T19:07:15.180Z"
      },
      {
        "duration": 354,
        "start_time": "2023-03-11T19:07:15.204Z"
      },
      {
        "duration": 67,
        "start_time": "2023-03-11T19:07:15.559Z"
      },
      {
        "duration": 81,
        "start_time": "2023-03-11T19:07:15.628Z"
      },
      {
        "duration": 145,
        "start_time": "2023-03-11T19:07:15.710Z"
      },
      {
        "duration": 40,
        "start_time": "2023-03-11T19:07:15.857Z"
      },
      {
        "duration": 70,
        "start_time": "2023-03-11T19:07:15.899Z"
      },
      {
        "duration": 5220,
        "start_time": "2023-03-11T19:07:15.971Z"
      },
      {
        "duration": 2155,
        "start_time": "2023-03-11T19:07:21.193Z"
      },
      {
        "duration": 1688,
        "start_time": "2023-03-11T19:07:23.349Z"
      },
      {
        "duration": 38,
        "start_time": "2023-03-11T19:07:25.039Z"
      },
      {
        "duration": 115322,
        "start_time": "2023-03-11T19:07:25.080Z"
      },
      {
        "duration": 1478,
        "start_time": "2023-03-11T19:09:20.403Z"
      },
      {
        "duration": 32,
        "start_time": "2023-03-11T19:09:21.882Z"
      },
      {
        "duration": 320627,
        "start_time": "2023-03-11T19:09:21.916Z"
      },
      {
        "duration": 2,
        "start_time": "2023-03-11T19:14:42.544Z"
      },
      {
        "duration": 68930,
        "start_time": "2023-03-11T19:14:42.547Z"
      },
      {
        "duration": 5914,
        "start_time": "2023-03-11T19:15:51.479Z"
      },
      {
        "duration": 188,
        "start_time": "2023-03-11T19:15:57.394Z"
      },
      {
        "duration": 6465,
        "start_time": "2023-03-11T19:15:57.583Z"
      },
      {
        "duration": 505,
        "start_time": "2023-03-11T19:16:04.050Z"
      },
      {
        "duration": 225886,
        "start_time": "2023-03-11T19:16:04.557Z"
      },
      {
        "duration": 7906,
        "start_time": "2023-03-11T19:19:50.447Z"
      },
      {
        "duration": 591,
        "start_time": "2023-03-11T19:19:58.354Z"
      },
      {
        "duration": 45,
        "start_time": "2023-03-11T19:19:58.947Z"
      },
      {
        "duration": 0,
        "start_time": "2023-03-11T19:19:58.994Z"
      },
      {
        "duration": 0,
        "start_time": "2023-03-11T19:19:58.995Z"
      },
      {
        "duration": 154,
        "start_time": "2023-03-12T02:06:14.273Z"
      },
      {
        "duration": 11174,
        "start_time": "2023-03-12T02:06:24.045Z"
      },
      {
        "duration": 2147,
        "start_time": "2023-03-12T02:06:35.221Z"
      },
      {
        "duration": 1447,
        "start_time": "2023-03-12T02:06:37.370Z"
      },
      {
        "duration": 1311,
        "start_time": "2023-03-12T02:06:38.819Z"
      },
      {
        "duration": 267,
        "start_time": "2023-03-12T02:06:40.132Z"
      },
      {
        "duration": 1511,
        "start_time": "2023-03-12T02:06:40.414Z"
      },
      {
        "duration": 435,
        "start_time": "2023-03-12T02:06:41.927Z"
      },
      {
        "duration": 59,
        "start_time": "2023-03-12T02:06:42.363Z"
      },
      {
        "duration": 91,
        "start_time": "2023-03-12T02:06:42.423Z"
      },
      {
        "duration": 130,
        "start_time": "2023-03-12T02:06:42.519Z"
      },
      {
        "duration": 175,
        "start_time": "2023-03-12T02:06:42.650Z"
      },
      {
        "duration": 1021,
        "start_time": "2023-03-12T02:06:42.827Z"
      },
      {
        "duration": 13,
        "start_time": "2023-03-12T02:06:43.850Z"
      },
      {
        "duration": 158,
        "start_time": "2023-03-12T02:06:43.866Z"
      },
      {
        "duration": 4728,
        "start_time": "2023-03-12T02:06:44.026Z"
      },
      {
        "duration": 881,
        "start_time": "2023-03-12T02:06:48.755Z"
      },
      {
        "duration": 45,
        "start_time": "2023-03-12T02:06:49.637Z"
      },
      {
        "duration": 60,
        "start_time": "2023-03-12T02:06:49.684Z"
      },
      {
        "duration": 23,
        "start_time": "2023-03-12T02:06:49.746Z"
      },
      {
        "duration": 360,
        "start_time": "2023-03-12T02:06:49.771Z"
      },
      {
        "duration": 92,
        "start_time": "2023-03-12T02:06:50.133Z"
      },
      {
        "duration": 97,
        "start_time": "2023-03-12T02:06:50.227Z"
      },
      {
        "duration": 124,
        "start_time": "2023-03-12T02:06:50.326Z"
      },
      {
        "duration": 70,
        "start_time": "2023-03-12T02:06:50.451Z"
      },
      {
        "duration": 70,
        "start_time": "2023-03-12T02:06:50.523Z"
      },
      {
        "duration": 4419,
        "start_time": "2023-03-12T02:06:50.600Z"
      },
      {
        "duration": 3076,
        "start_time": "2023-03-12T02:06:55.021Z"
      },
      {
        "duration": 1349,
        "start_time": "2023-03-12T02:06:58.098Z"
      },
      {
        "duration": 43,
        "start_time": "2023-03-12T02:06:59.449Z"
      },
      {
        "duration": 124743,
        "start_time": "2023-03-12T02:06:59.501Z"
      },
      {
        "duration": 1600,
        "start_time": "2023-03-12T02:09:04.246Z"
      },
      {
        "duration": 55,
        "start_time": "2023-03-12T02:09:05.847Z"
      },
      {
        "duration": 425648,
        "start_time": "2023-03-12T02:09:05.921Z"
      },
      {
        "duration": 2,
        "start_time": "2023-03-12T02:16:11.570Z"
      },
      {
        "duration": 81337,
        "start_time": "2023-03-12T02:16:11.574Z"
      },
      {
        "duration": 7004,
        "start_time": "2023-03-12T02:17:32.914Z"
      },
      {
        "duration": 33,
        "start_time": "2023-03-12T02:17:39.919Z"
      },
      {
        "duration": 667055,
        "start_time": "2023-03-12T02:17:39.954Z"
      },
      {
        "duration": 688,
        "start_time": "2023-03-12T02:28:47.012Z"
      },
      {
        "duration": 318,
        "start_time": "2023-03-12T08:01:08.907Z"
      },
      {
        "duration": 215,
        "start_time": "2023-03-12T08:01:10.090Z"
      },
      {
        "duration": 218,
        "start_time": "2023-03-12T08:01:10.399Z"
      },
      {
        "duration": 3308,
        "start_time": "2023-03-12T08:01:20.469Z"
      },
      {
        "duration": 4253,
        "start_time": "2023-03-12T08:01:31.224Z"
      },
      {
        "duration": 3163,
        "start_time": "2023-03-12T08:01:35.479Z"
      },
      {
        "duration": 1812,
        "start_time": "2023-03-12T08:01:38.644Z"
      },
      {
        "duration": 1356,
        "start_time": "2023-03-12T08:01:40.458Z"
      },
      {
        "duration": 488,
        "start_time": "2023-03-12T08:01:41.817Z"
      },
      {
        "duration": 2277,
        "start_time": "2023-03-12T08:01:42.314Z"
      },
      {
        "duration": 849,
        "start_time": "2023-03-12T08:01:44.596Z"
      },
      {
        "duration": 71,
        "start_time": "2023-03-12T08:01:45.446Z"
      },
      {
        "duration": 214,
        "start_time": "2023-03-12T08:01:45.523Z"
      },
      {
        "duration": 331,
        "start_time": "2023-03-12T08:01:45.746Z"
      },
      {
        "duration": 551,
        "start_time": "2023-03-12T08:01:46.102Z"
      },
      {
        "duration": 1440,
        "start_time": "2023-03-12T08:01:46.665Z"
      },
      {
        "duration": 23,
        "start_time": "2023-03-12T08:01:48.110Z"
      },
      {
        "duration": 324,
        "start_time": "2023-03-12T08:01:48.139Z"
      },
      {
        "duration": 7256,
        "start_time": "2023-03-12T08:01:48.465Z"
      },
      {
        "duration": 1551,
        "start_time": "2023-03-12T08:01:55.730Z"
      },
      {
        "duration": 207,
        "start_time": "2023-03-12T08:01:57.286Z"
      },
      {
        "duration": 81,
        "start_time": "2023-03-12T08:01:57.498Z"
      },
      {
        "duration": 46,
        "start_time": "2023-03-12T08:01:57.585Z"
      },
      {
        "duration": 740,
        "start_time": "2023-03-12T08:01:57.644Z"
      },
      {
        "duration": 207,
        "start_time": "2023-03-12T08:01:58.410Z"
      },
      {
        "duration": 138,
        "start_time": "2023-03-12T08:01:58.622Z"
      },
      {
        "duration": 640,
        "start_time": "2023-03-12T08:01:58.764Z"
      },
      {
        "duration": 74,
        "start_time": "2023-03-12T08:01:59.409Z"
      },
      {
        "duration": 98,
        "start_time": "2023-03-12T08:01:59.488Z"
      },
      {
        "duration": 6942,
        "start_time": "2023-03-12T08:01:59.591Z"
      },
      {
        "duration": 2919,
        "start_time": "2023-03-12T08:02:06.539Z"
      },
      {
        "duration": 1830,
        "start_time": "2023-03-12T08:02:09.463Z"
      },
      {
        "duration": 70,
        "start_time": "2023-03-12T08:02:11.298Z"
      },
      {
        "duration": 160979,
        "start_time": "2023-03-12T08:02:11.375Z"
      },
      {
        "duration": 2000,
        "start_time": "2023-03-12T08:04:52.356Z"
      },
      {
        "duration": 35,
        "start_time": "2023-03-12T08:04:54.358Z"
      },
      {
        "duration": 622309,
        "start_time": "2023-03-12T08:04:54.394Z"
      },
      {
        "duration": 12,
        "start_time": "2023-03-12T08:15:16.718Z"
      },
      {
        "duration": 105315,
        "start_time": "2023-03-12T08:15:16.745Z"
      },
      {
        "duration": 9584,
        "start_time": "2023-03-12T08:17:02.062Z"
      },
      {
        "duration": 58,
        "start_time": "2023-03-12T08:17:11.647Z"
      },
      {
        "duration": 1044867,
        "start_time": "2023-03-12T08:17:11.722Z"
      },
      {
        "duration": 640,
        "start_time": "2023-03-12T08:34:36.598Z"
      },
      {
        "duration": 3056,
        "start_time": "2023-03-12T09:09:19.409Z"
      },
      {
        "duration": 2434,
        "start_time": "2023-03-12T09:09:22.467Z"
      },
      {
        "duration": 1411,
        "start_time": "2023-03-12T09:09:24.903Z"
      },
      {
        "duration": 990,
        "start_time": "2023-03-12T09:09:26.315Z"
      },
      {
        "duration": 332,
        "start_time": "2023-03-12T09:09:27.324Z"
      },
      {
        "duration": 1765,
        "start_time": "2023-03-12T09:09:27.658Z"
      },
      {
        "duration": 541,
        "start_time": "2023-03-12T09:09:29.428Z"
      },
      {
        "duration": 58,
        "start_time": "2023-03-12T09:09:29.971Z"
      },
      {
        "duration": 105,
        "start_time": "2023-03-12T09:09:30.031Z"
      },
      {
        "duration": 187,
        "start_time": "2023-03-12T09:09:30.137Z"
      },
      {
        "duration": 217,
        "start_time": "2023-03-12T09:09:30.334Z"
      },
      {
        "duration": 1245,
        "start_time": "2023-03-12T09:09:30.553Z"
      },
      {
        "duration": 33,
        "start_time": "2023-03-12T09:09:31.806Z"
      },
      {
        "duration": 194,
        "start_time": "2023-03-12T09:09:31.844Z"
      },
      {
        "duration": 4830,
        "start_time": "2023-03-12T09:09:32.040Z"
      },
      {
        "duration": 852,
        "start_time": "2023-03-12T09:09:36.871Z"
      },
      {
        "duration": 132,
        "start_time": "2023-03-12T09:09:37.728Z"
      },
      {
        "duration": 62,
        "start_time": "2023-03-12T09:09:37.861Z"
      },
      {
        "duration": 24,
        "start_time": "2023-03-12T09:09:37.928Z"
      },
      {
        "duration": 391,
        "start_time": "2023-03-12T09:09:37.954Z"
      },
      {
        "duration": 98,
        "start_time": "2023-03-12T09:09:38.346Z"
      },
      {
        "duration": 101,
        "start_time": "2023-03-12T09:09:38.446Z"
      },
      {
        "duration": 126,
        "start_time": "2023-03-12T09:09:38.549Z"
      },
      {
        "duration": 73,
        "start_time": "2023-03-12T09:09:38.676Z"
      },
      {
        "duration": 96,
        "start_time": "2023-03-12T09:09:38.751Z"
      },
      {
        "duration": 4491,
        "start_time": "2023-03-12T09:09:38.849Z"
      },
      {
        "duration": 2968,
        "start_time": "2023-03-12T09:09:43.342Z"
      },
      {
        "duration": 1394,
        "start_time": "2023-03-12T09:09:46.319Z"
      },
      {
        "duration": 29,
        "start_time": "2023-03-12T09:09:47.720Z"
      },
      {
        "duration": 133851,
        "start_time": "2023-03-12T09:09:47.751Z"
      },
      {
        "duration": 1963,
        "start_time": "2023-03-12T09:12:01.603Z"
      },
      {
        "duration": 36,
        "start_time": "2023-03-12T09:12:03.568Z"
      },
      {
        "duration": 496770,
        "start_time": "2023-03-12T09:12:03.607Z"
      },
      {
        "duration": 30,
        "start_time": "2023-03-12T09:20:20.381Z"
      },
      {
        "duration": 90136,
        "start_time": "2023-03-12T09:20:20.418Z"
      },
      {
        "duration": 7708,
        "start_time": "2023-03-12T09:21:50.555Z"
      },
      {
        "duration": 64,
        "start_time": "2023-03-12T09:21:58.264Z"
      },
      {
        "duration": 970285,
        "start_time": "2023-03-12T09:21:58.332Z"
      },
      {
        "duration": 597,
        "start_time": "2023-03-12T09:38:08.619Z"
      },
      {
        "duration": 1985134,
        "start_time": "2023-03-12T09:38:09.217Z"
      },
      {
        "duration": 81,
        "start_time": "2023-03-12T10:11:14.354Z"
      },
      {
        "duration": 82,
        "start_time": "2023-03-12T10:11:14.436Z"
      },
      {
        "duration": 96,
        "start_time": "2023-03-12T10:11:14.520Z"
      },
      {
        "duration": 0,
        "start_time": "2023-03-12T10:11:14.617Z"
      },
      {
        "duration": 0,
        "start_time": "2023-03-12T10:11:14.618Z"
      },
      {
        "duration": 11907,
        "start_time": "2023-03-12T10:11:17.572Z"
      },
      {
        "duration": 7417519,
        "start_time": "2023-03-12T10:11:56.369Z"
      },
      {
        "duration": 8793,
        "start_time": "2023-03-12T12:15:33.890Z"
      },
      {
        "duration": 795,
        "start_time": "2023-03-12T12:15:42.684Z"
      },
      {
        "duration": 70,
        "start_time": "2023-03-12T12:22:54.173Z"
      },
      {
        "duration": 1192,
        "start_time": "2023-03-12T12:24:40.658Z"
      },
      {
        "duration": 48,
        "start_time": "2023-03-12T12:24:55.079Z"
      },
      {
        "duration": 774,
        "start_time": "2023-03-12T12:25:07.707Z"
      },
      {
        "duration": 8447,
        "start_time": "2023-03-13T11:33:16.100Z"
      },
      {
        "duration": 2725,
        "start_time": "2023-03-13T11:33:24.551Z"
      },
      {
        "duration": 1678,
        "start_time": "2023-03-13T11:33:27.278Z"
      },
      {
        "duration": 1378,
        "start_time": "2023-03-13T11:33:28.958Z"
      },
      {
        "duration": 353,
        "start_time": "2023-03-13T11:33:30.340Z"
      },
      {
        "duration": 1810,
        "start_time": "2023-03-13T11:33:30.696Z"
      },
      {
        "duration": 513,
        "start_time": "2023-03-13T11:33:32.508Z"
      },
      {
        "duration": 66,
        "start_time": "2023-03-13T11:33:33.023Z"
      },
      {
        "duration": 85,
        "start_time": "2023-03-13T11:33:33.091Z"
      },
      {
        "duration": 152,
        "start_time": "2023-03-13T11:33:33.178Z"
      },
      {
        "duration": 198,
        "start_time": "2023-03-13T11:33:33.333Z"
      },
      {
        "duration": 1217,
        "start_time": "2023-03-13T11:33:33.533Z"
      },
      {
        "duration": 35,
        "start_time": "2023-03-13T11:33:34.752Z"
      },
      {
        "duration": 222,
        "start_time": "2023-03-13T11:33:34.791Z"
      },
      {
        "duration": 4618,
        "start_time": "2023-03-13T11:33:35.016Z"
      },
      {
        "duration": 1146,
        "start_time": "2023-03-13T11:33:39.636Z"
      },
      {
        "duration": 61,
        "start_time": "2023-03-13T11:33:40.784Z"
      },
      {
        "duration": 71,
        "start_time": "2023-03-13T11:33:40.847Z"
      },
      {
        "duration": 53,
        "start_time": "2023-03-13T11:33:40.920Z"
      },
      {
        "duration": 455,
        "start_time": "2023-03-13T11:33:40.976Z"
      },
      {
        "duration": 104,
        "start_time": "2023-03-13T11:33:41.433Z"
      },
      {
        "duration": 100,
        "start_time": "2023-03-13T11:33:41.539Z"
      },
      {
        "duration": 180,
        "start_time": "2023-03-13T11:33:41.641Z"
      },
      {
        "duration": 61,
        "start_time": "2023-03-13T11:33:41.823Z"
      },
      {
        "duration": 87,
        "start_time": "2023-03-13T11:33:41.886Z"
      },
      {
        "duration": 5667,
        "start_time": "2023-03-13T11:33:41.975Z"
      },
      {
        "duration": 3120,
        "start_time": "2023-03-13T11:33:47.644Z"
      },
      {
        "duration": 1736,
        "start_time": "2023-03-13T11:33:50.766Z"
      },
      {
        "duration": 66,
        "start_time": "2023-03-13T11:33:52.504Z"
      },
      {
        "duration": 152644,
        "start_time": "2023-03-13T11:33:52.572Z"
      },
      {
        "duration": 1941,
        "start_time": "2023-03-13T11:36:25.218Z"
      },
      {
        "duration": 39,
        "start_time": "2023-03-13T11:36:27.165Z"
      },
      {
        "duration": 393465,
        "start_time": "2023-03-13T11:36:27.206Z"
      },
      {
        "duration": 3,
        "start_time": "2023-03-13T11:43:00.674Z"
      },
      {
        "duration": 82804,
        "start_time": "2023-03-13T11:43:00.679Z"
      },
      {
        "duration": 7071,
        "start_time": "2023-03-13T11:44:23.485Z"
      },
      {
        "duration": 40,
        "start_time": "2023-03-13T11:44:30.558Z"
      },
      {
        "duration": 108672,
        "start_time": "2023-03-13T11:44:30.600Z"
      },
      {
        "duration": 602,
        "start_time": "2023-03-13T11:46:19.273Z"
      },
      {
        "duration": 130690,
        "start_time": "2023-03-13T11:46:19.876Z"
      },
      {
        "duration": 11302,
        "start_time": "2023-03-13T11:48:30.570Z"
      },
      {
        "duration": 792,
        "start_time": "2023-03-13T11:48:41.874Z"
      },
      {
        "duration": 2234,
        "start_time": "2023-03-13T11:48:42.667Z"
      },
      {
        "duration": 764,
        "start_time": "2023-03-13T11:48:44.903Z"
      },
      {
        "duration": 7951,
        "start_time": "2023-03-13T13:03:28.344Z"
      },
      {
        "duration": 2493,
        "start_time": "2023-03-13T13:03:36.301Z"
      },
      {
        "duration": 1634,
        "start_time": "2023-03-13T13:03:38.796Z"
      },
      {
        "duration": 1288,
        "start_time": "2023-03-13T13:03:40.432Z"
      },
      {
        "duration": 275,
        "start_time": "2023-03-13T13:03:41.723Z"
      },
      {
        "duration": 1884,
        "start_time": "2023-03-13T13:03:42.000Z"
      },
      {
        "duration": 544,
        "start_time": "2023-03-13T13:03:43.887Z"
      },
      {
        "duration": 72,
        "start_time": "2023-03-13T13:03:44.432Z"
      },
      {
        "duration": 89,
        "start_time": "2023-03-13T13:03:44.506Z"
      },
      {
        "duration": 136,
        "start_time": "2023-03-13T13:03:44.597Z"
      },
      {
        "duration": 172,
        "start_time": "2023-03-13T13:03:44.735Z"
      },
      {
        "duration": 1262,
        "start_time": "2023-03-13T13:03:44.909Z"
      },
      {
        "duration": 18,
        "start_time": "2023-03-13T13:03:46.174Z"
      },
      {
        "duration": 207,
        "start_time": "2023-03-13T13:03:46.199Z"
      },
      {
        "duration": 4724,
        "start_time": "2023-03-13T13:03:46.408Z"
      },
      {
        "duration": 1133,
        "start_time": "2023-03-13T13:03:51.134Z"
      },
      {
        "duration": 63,
        "start_time": "2023-03-13T13:03:52.269Z"
      },
      {
        "duration": 19,
        "start_time": "2023-03-13T13:04:02.278Z"
      },
      {
        "duration": 21,
        "start_time": "2023-03-13T13:04:44.085Z"
      },
      {
        "duration": 8,
        "start_time": "2023-03-13T13:05:03.096Z"
      },
      {
        "duration": 12,
        "start_time": "2023-03-13T13:05:20.176Z"
      },
      {
        "duration": 7,
        "start_time": "2023-03-13T13:05:42.809Z"
      },
      {
        "duration": 10,
        "start_time": "2023-03-13T13:06:42.175Z"
      },
      {
        "duration": 26,
        "start_time": "2023-03-13T13:07:08.449Z"
      },
      {
        "duration": 1879,
        "start_time": "2023-03-13T13:07:29.832Z"
      },
      {
        "duration": 96,
        "start_time": "2023-03-13T13:07:54.772Z"
      },
      {
        "duration": 40,
        "start_time": "2023-03-13T13:07:59.879Z"
      },
      {
        "duration": 27,
        "start_time": "2023-03-13T13:08:22.901Z"
      },
      {
        "duration": 23,
        "start_time": "2023-03-13T13:09:09.861Z"
      },
      {
        "duration": 28,
        "start_time": "2023-03-13T13:10:05.829Z"
      },
      {
        "duration": 33,
        "start_time": "2023-03-13T13:10:13.568Z"
      },
      {
        "duration": 25,
        "start_time": "2023-03-13T13:11:29.402Z"
      },
      {
        "duration": 17,
        "start_time": "2023-03-13T13:14:31.148Z"
      },
      {
        "duration": 20,
        "start_time": "2023-03-13T13:14:56.108Z"
      },
      {
        "duration": 16,
        "start_time": "2023-03-13T13:15:03.517Z"
      },
      {
        "duration": 16,
        "start_time": "2023-03-13T13:15:28.195Z"
      },
      {
        "duration": 29,
        "start_time": "2023-03-13T13:15:56.381Z"
      },
      {
        "duration": 36,
        "start_time": "2023-03-13T13:16:13.796Z"
      },
      {
        "duration": 46,
        "start_time": "2023-03-13T13:16:50.900Z"
      },
      {
        "duration": 47,
        "start_time": "2023-03-13T13:16:57.016Z"
      },
      {
        "duration": 43,
        "start_time": "2023-03-13T13:18:17.542Z"
      },
      {
        "duration": 38,
        "start_time": "2023-03-13T13:18:56.169Z"
      },
      {
        "duration": 2993,
        "start_time": "2023-03-13T13:20:24.302Z"
      },
      {
        "duration": 2321,
        "start_time": "2023-03-13T13:20:27.300Z"
      },
      {
        "duration": 6,
        "start_time": "2023-03-13T13:20:29.623Z"
      },
      {
        "duration": 1010,
        "start_time": "2023-03-13T13:20:29.631Z"
      },
      {
        "duration": 340,
        "start_time": "2023-03-13T13:20:30.643Z"
      },
      {
        "duration": 1739,
        "start_time": "2023-03-13T13:20:30.995Z"
      },
      {
        "duration": 493,
        "start_time": "2023-03-13T13:20:32.736Z"
      },
      {
        "duration": 61,
        "start_time": "2023-03-13T13:20:33.230Z"
      },
      {
        "duration": 96,
        "start_time": "2023-03-13T13:20:33.295Z"
      },
      {
        "duration": 148,
        "start_time": "2023-03-13T13:20:33.394Z"
      },
      {
        "duration": 177,
        "start_time": "2023-03-13T13:20:33.544Z"
      },
      {
        "duration": 1379,
        "start_time": "2023-03-13T13:20:33.723Z"
      },
      {
        "duration": 12,
        "start_time": "2023-03-13T13:20:35.104Z"
      },
      {
        "duration": 154,
        "start_time": "2023-03-13T13:20:35.118Z"
      },
      {
        "duration": 4963,
        "start_time": "2023-03-13T13:20:35.274Z"
      },
      {
        "duration": 1180,
        "start_time": "2023-03-13T13:20:40.239Z"
      },
      {
        "duration": 69,
        "start_time": "2023-03-13T13:20:41.420Z"
      },
      {
        "duration": 59,
        "start_time": "2023-03-13T13:20:41.490Z"
      },
      {
        "duration": 16,
        "start_time": "2023-03-13T13:25:39.873Z"
      },
      {
        "duration": 3067,
        "start_time": "2023-03-13T13:25:44.109Z"
      },
      {
        "duration": 2428,
        "start_time": "2023-03-13T13:25:47.180Z"
      },
      {
        "duration": 6,
        "start_time": "2023-03-13T13:25:49.611Z"
      },
      {
        "duration": 1084,
        "start_time": "2023-03-13T13:25:49.619Z"
      },
      {
        "duration": 310,
        "start_time": "2023-03-13T13:25:50.706Z"
      },
      {
        "duration": 1730,
        "start_time": "2023-03-13T13:25:51.018Z"
      },
      {
        "duration": 462,
        "start_time": "2023-03-13T13:25:52.750Z"
      },
      {
        "duration": 48,
        "start_time": "2023-03-13T13:25:53.214Z"
      },
      {
        "duration": 90,
        "start_time": "2023-03-13T13:25:53.264Z"
      },
      {
        "duration": 151,
        "start_time": "2023-03-13T13:25:53.355Z"
      },
      {
        "duration": 167,
        "start_time": "2023-03-13T13:25:53.508Z"
      },
      {
        "duration": 1338,
        "start_time": "2023-03-13T13:25:53.690Z"
      },
      {
        "duration": 13,
        "start_time": "2023-03-13T13:25:55.030Z"
      },
      {
        "duration": 154,
        "start_time": "2023-03-13T13:25:55.046Z"
      },
      {
        "duration": 5047,
        "start_time": "2023-03-13T13:25:55.202Z"
      },
      {
        "duration": 1088,
        "start_time": "2023-03-13T13:26:00.251Z"
      },
      {
        "duration": 60,
        "start_time": "2023-03-13T13:26:01.341Z"
      },
      {
        "duration": 80,
        "start_time": "2023-03-13T13:26:01.403Z"
      },
      {
        "duration": 45,
        "start_time": "2023-03-13T13:26:01.491Z"
      },
      {
        "duration": 49,
        "start_time": "2023-03-13T13:26:01.537Z"
      },
      {
        "duration": 470,
        "start_time": "2023-03-13T13:26:01.591Z"
      },
      {
        "duration": 100,
        "start_time": "2023-03-13T13:26:02.064Z"
      },
      {
        "duration": 96,
        "start_time": "2023-03-13T13:26:02.166Z"
      },
      {
        "duration": 197,
        "start_time": "2023-03-13T13:26:02.264Z"
      },
      {
        "duration": 67,
        "start_time": "2023-03-13T13:26:02.464Z"
      },
      {
        "duration": 1281,
        "start_time": "2023-03-13T13:26:58.548Z"
      },
      {
        "duration": 7,
        "start_time": "2023-03-13T13:27:09.643Z"
      },
      {
        "duration": 6,
        "start_time": "2023-03-13T13:27:23.051Z"
      },
      {
        "duration": 8,
        "start_time": "2023-03-13T13:28:28.204Z"
      },
      {
        "duration": 21,
        "start_time": "2023-03-13T13:29:07.193Z"
      },
      {
        "duration": 15,
        "start_time": "2023-03-13T13:30:38.311Z"
      },
      {
        "duration": 28,
        "start_time": "2023-03-13T13:30:44.172Z"
      },
      {
        "duration": 2855,
        "start_time": "2023-03-13T13:30:57.841Z"
      },
      {
        "duration": 2395,
        "start_time": "2023-03-13T13:31:00.699Z"
      },
      {
        "duration": 5,
        "start_time": "2023-03-13T13:31:03.099Z"
      },
      {
        "duration": 965,
        "start_time": "2023-03-13T13:31:03.107Z"
      },
      {
        "duration": 496,
        "start_time": "2023-03-13T13:31:04.075Z"
      },
      {
        "duration": 1841,
        "start_time": "2023-03-13T13:31:04.573Z"
      },
      {
        "duration": 606,
        "start_time": "2023-03-13T13:31:06.416Z"
      },
      {
        "duration": 83,
        "start_time": "2023-03-13T13:31:07.024Z"
      },
      {
        "duration": 123,
        "start_time": "2023-03-13T13:31:07.109Z"
      },
      {
        "duration": 146,
        "start_time": "2023-03-13T13:31:07.234Z"
      },
      {
        "duration": 168,
        "start_time": "2023-03-13T13:31:07.394Z"
      },
      {
        "duration": 1418,
        "start_time": "2023-03-13T13:31:07.564Z"
      },
      {
        "duration": 17,
        "start_time": "2023-03-13T13:31:08.986Z"
      },
      {
        "duration": 132,
        "start_time": "2023-03-13T13:31:09.007Z"
      },
      {
        "duration": 4960,
        "start_time": "2023-03-13T13:31:09.141Z"
      },
      {
        "duration": 1157,
        "start_time": "2023-03-13T13:31:14.103Z"
      },
      {
        "duration": 64,
        "start_time": "2023-03-13T13:31:15.262Z"
      },
      {
        "duration": 85,
        "start_time": "2023-03-13T13:31:15.329Z"
      },
      {
        "duration": 39,
        "start_time": "2023-03-13T13:31:15.416Z"
      },
      {
        "duration": 46,
        "start_time": "2023-03-13T13:31:15.457Z"
      },
      {
        "duration": 482,
        "start_time": "2023-03-13T13:31:15.509Z"
      },
      {
        "duration": 116,
        "start_time": "2023-03-13T13:31:15.996Z"
      },
      {
        "duration": 116,
        "start_time": "2023-03-13T13:31:16.116Z"
      },
      {
        "duration": 214,
        "start_time": "2023-03-13T13:31:16.235Z"
      },
      {
        "duration": 72,
        "start_time": "2023-03-13T13:31:16.451Z"
      },
      {
        "duration": 8,
        "start_time": "2023-03-13T13:31:16.525Z"
      },
      {
        "duration": 111,
        "start_time": "2023-03-13T13:31:16.536Z"
      },
      {
        "duration": 181,
        "start_time": "2023-03-13T13:37:43.895Z"
      },
      {
        "duration": 536,
        "start_time": "2023-03-13T13:42:26.760Z"
      },
      {
        "duration": 219,
        "start_time": "2023-03-13T13:43:40.841Z"
      },
      {
        "duration": 533,
        "start_time": "2023-03-13T13:44:24.272Z"
      },
      {
        "duration": 131,
        "start_time": "2023-03-13T13:48:07.580Z"
      },
      {
        "duration": 2918,
        "start_time": "2023-03-13T13:49:34.804Z"
      },
      {
        "duration": 2482,
        "start_time": "2023-03-13T13:49:37.726Z"
      },
      {
        "duration": 1528,
        "start_time": "2023-03-13T13:49:40.210Z"
      },
      {
        "duration": 961,
        "start_time": "2023-03-13T13:49:41.740Z"
      },
      {
        "duration": 289,
        "start_time": "2023-03-13T13:49:42.704Z"
      },
      {
        "duration": 1934,
        "start_time": "2023-03-13T13:49:42.995Z"
      },
      {
        "duration": 570,
        "start_time": "2023-03-13T13:49:44.931Z"
      },
      {
        "duration": 59,
        "start_time": "2023-03-13T13:49:45.503Z"
      },
      {
        "duration": 89,
        "start_time": "2023-03-13T13:49:45.564Z"
      },
      {
        "duration": 157,
        "start_time": "2023-03-13T13:49:45.655Z"
      },
      {
        "duration": 200,
        "start_time": "2023-03-13T13:49:45.813Z"
      },
      {
        "duration": 1282,
        "start_time": "2023-03-13T13:49:46.016Z"
      },
      {
        "duration": 11,
        "start_time": "2023-03-13T13:49:47.300Z"
      },
      {
        "duration": 139,
        "start_time": "2023-03-13T13:49:47.314Z"
      },
      {
        "duration": 4782,
        "start_time": "2023-03-13T13:49:47.455Z"
      },
      {
        "duration": 1059,
        "start_time": "2023-03-13T13:49:52.239Z"
      },
      {
        "duration": 220,
        "start_time": "2023-03-13T13:49:53.300Z"
      },
      {
        "duration": 78,
        "start_time": "2023-03-13T13:49:53.521Z"
      },
      {
        "duration": 32,
        "start_time": "2023-03-13T13:49:53.602Z"
      },
      {
        "duration": 49,
        "start_time": "2023-03-13T13:49:53.636Z"
      },
      {
        "duration": 433,
        "start_time": "2023-03-13T13:49:53.687Z"
      },
      {
        "duration": 98,
        "start_time": "2023-03-13T13:49:54.122Z"
      },
      {
        "duration": 95,
        "start_time": "2023-03-13T13:49:54.222Z"
      },
      {
        "duration": 211,
        "start_time": "2023-03-13T13:49:54.319Z"
      },
      {
        "duration": 72,
        "start_time": "2023-03-13T13:49:54.532Z"
      },
      {
        "duration": 7,
        "start_time": "2023-03-13T13:49:54.606Z"
      },
      {
        "duration": 107,
        "start_time": "2023-03-13T13:49:54.615Z"
      },
      {
        "duration": 239,
        "start_time": "2023-03-13T13:49:54.723Z"
      },
      {
        "duration": 6672,
        "start_time": "2023-03-13T13:49:54.964Z"
      },
      {
        "duration": 3848,
        "start_time": "2023-03-13T13:50:01.639Z"
      },
      {
        "duration": 2271,
        "start_time": "2023-03-13T13:50:05.493Z"
      },
      {
        "duration": 44,
        "start_time": "2023-03-13T13:50:07.766Z"
      },
      {
        "duration": 175971,
        "start_time": "2023-03-13T13:50:07.813Z"
      },
      {
        "duration": 2543,
        "start_time": "2023-03-13T13:53:03.786Z"
      },
      {
        "duration": 33,
        "start_time": "2023-03-13T13:53:06.331Z"
      },
      {
        "duration": 240,
        "start_time": "2023-03-13T13:53:06.367Z"
      },
      {
        "duration": 580,
        "start_time": "2023-03-13T13:53:06.612Z"
      },
      {
        "duration": 320,
        "start_time": "2023-03-13T13:53:07.194Z"
      },
      {
        "duration": 0,
        "start_time": "2023-03-13T13:53:07.521Z"
      },
      {
        "duration": 0,
        "start_time": "2023-03-13T13:53:07.522Z"
      },
      {
        "duration": 0,
        "start_time": "2023-03-13T13:53:07.523Z"
      },
      {
        "duration": 0,
        "start_time": "2023-03-13T13:53:07.524Z"
      },
      {
        "duration": 0,
        "start_time": "2023-03-13T13:53:07.525Z"
      },
      {
        "duration": 0,
        "start_time": "2023-03-13T13:53:07.525Z"
      },
      {
        "duration": 0,
        "start_time": "2023-03-13T13:53:07.532Z"
      },
      {
        "duration": 0,
        "start_time": "2023-03-13T13:53:07.534Z"
      },
      {
        "duration": 0,
        "start_time": "2023-03-13T13:53:07.535Z"
      },
      {
        "duration": 0,
        "start_time": "2023-03-13T13:53:07.536Z"
      },
      {
        "duration": 0,
        "start_time": "2023-03-13T13:53:07.537Z"
      },
      {
        "duration": 0,
        "start_time": "2023-03-13T13:53:07.538Z"
      },
      {
        "duration": 33,
        "start_time": "2023-03-13T15:01:14.572Z"
      },
      {
        "duration": 19,
        "start_time": "2023-03-13T15:01:24.131Z"
      },
      {
        "duration": 2725,
        "start_time": "2023-03-13T15:03:01.715Z"
      },
      {
        "duration": 2481,
        "start_time": "2023-03-13T15:03:04.443Z"
      },
      {
        "duration": 1368,
        "start_time": "2023-03-13T15:03:06.926Z"
      },
      {
        "duration": 913,
        "start_time": "2023-03-13T15:03:08.296Z"
      },
      {
        "duration": 263,
        "start_time": "2023-03-13T15:03:09.212Z"
      },
      {
        "duration": 1962,
        "start_time": "2023-03-13T15:03:09.481Z"
      },
      {
        "duration": 527,
        "start_time": "2023-03-13T15:03:11.445Z"
      },
      {
        "duration": 58,
        "start_time": "2023-03-13T15:03:11.974Z"
      },
      {
        "duration": 99,
        "start_time": "2023-03-13T15:03:12.034Z"
      },
      {
        "duration": 130,
        "start_time": "2023-03-13T15:03:12.135Z"
      },
      {
        "duration": 173,
        "start_time": "2023-03-13T15:03:12.267Z"
      },
      {
        "duration": 1174,
        "start_time": "2023-03-13T15:03:12.442Z"
      },
      {
        "duration": 18,
        "start_time": "2023-03-13T15:03:13.618Z"
      },
      {
        "duration": 146,
        "start_time": "2023-03-13T15:03:13.639Z"
      },
      {
        "duration": 4766,
        "start_time": "2023-03-13T15:03:13.791Z"
      },
      {
        "duration": 997,
        "start_time": "2023-03-13T15:03:18.559Z"
      },
      {
        "duration": 178,
        "start_time": "2023-03-13T15:03:19.558Z"
      },
      {
        "duration": 88,
        "start_time": "2023-03-13T15:03:19.738Z"
      },
      {
        "duration": 32,
        "start_time": "2023-03-13T15:03:19.828Z"
      },
      {
        "duration": 34,
        "start_time": "2023-03-13T15:03:19.862Z"
      },
      {
        "duration": 425,
        "start_time": "2023-03-13T15:03:19.898Z"
      },
      {
        "duration": 91,
        "start_time": "2023-03-13T15:03:20.325Z"
      },
      {
        "duration": 99,
        "start_time": "2023-03-13T15:03:20.418Z"
      },
      {
        "duration": 214,
        "start_time": "2023-03-13T15:03:20.519Z"
      },
      {
        "duration": 7,
        "start_time": "2023-03-13T15:03:20.735Z"
      },
      {
        "duration": 102,
        "start_time": "2023-03-13T15:03:20.744Z"
      },
      {
        "duration": 63,
        "start_time": "2023-03-13T15:03:20.848Z"
      },
      {
        "duration": 2965,
        "start_time": "2023-03-13T15:04:33.596Z"
      },
      {
        "duration": 2345,
        "start_time": "2023-03-13T15:04:36.564Z"
      },
      {
        "duration": 6,
        "start_time": "2023-03-13T15:04:38.912Z"
      },
      {
        "duration": 974,
        "start_time": "2023-03-13T15:04:38.920Z"
      },
      {
        "duration": 303,
        "start_time": "2023-03-13T15:04:39.897Z"
      },
      {
        "duration": 1615,
        "start_time": "2023-03-13T15:04:40.202Z"
      },
      {
        "duration": 486,
        "start_time": "2023-03-13T15:04:41.819Z"
      },
      {
        "duration": 53,
        "start_time": "2023-03-13T15:04:42.307Z"
      },
      {
        "duration": 90,
        "start_time": "2023-03-13T15:04:42.362Z"
      },
      {
        "duration": 147,
        "start_time": "2023-03-13T15:04:42.455Z"
      },
      {
        "duration": 177,
        "start_time": "2023-03-13T15:04:42.603Z"
      },
      {
        "duration": 1246,
        "start_time": "2023-03-13T15:04:42.792Z"
      },
      {
        "duration": 22,
        "start_time": "2023-03-13T15:04:44.040Z"
      },
      {
        "duration": 163,
        "start_time": "2023-03-13T15:04:44.066Z"
      },
      {
        "duration": 4790,
        "start_time": "2023-03-13T15:04:44.231Z"
      },
      {
        "duration": 1105,
        "start_time": "2023-03-13T15:04:49.023Z"
      },
      {
        "duration": 59,
        "start_time": "2023-03-13T15:04:50.130Z"
      },
      {
        "duration": 71,
        "start_time": "2023-03-13T15:04:50.192Z"
      },
      {
        "duration": 38,
        "start_time": "2023-03-13T15:04:50.265Z"
      },
      {
        "duration": 29,
        "start_time": "2023-03-13T15:04:50.305Z"
      },
      {
        "duration": 416,
        "start_time": "2023-03-13T15:04:50.336Z"
      },
      {
        "duration": 96,
        "start_time": "2023-03-13T15:04:50.754Z"
      },
      {
        "duration": 104,
        "start_time": "2023-03-13T15:04:50.851Z"
      },
      {
        "duration": 8,
        "start_time": "2023-03-13T15:04:50.959Z"
      },
      {
        "duration": 92,
        "start_time": "2023-03-13T15:04:50.969Z"
      },
      {
        "duration": 200,
        "start_time": "2023-03-13T15:04:51.063Z"
      },
      {
        "duration": 51,
        "start_time": "2023-03-13T15:04:53.921Z"
      },
      {
        "duration": 2747,
        "start_time": "2023-03-13T15:05:12.742Z"
      },
      {
        "duration": 2263,
        "start_time": "2023-03-13T15:05:15.492Z"
      },
      {
        "duration": 1385,
        "start_time": "2023-03-13T15:05:17.757Z"
      },
      {
        "duration": 930,
        "start_time": "2023-03-13T15:05:19.144Z"
      },
      {
        "duration": 293,
        "start_time": "2023-03-13T15:05:20.077Z"
      },
      {
        "duration": 1847,
        "start_time": "2023-03-13T15:05:20.372Z"
      },
      {
        "duration": 524,
        "start_time": "2023-03-13T15:05:22.221Z"
      },
      {
        "duration": 63,
        "start_time": "2023-03-13T15:05:22.747Z"
      },
      {
        "duration": 83,
        "start_time": "2023-03-13T15:05:22.812Z"
      },
      {
        "duration": 134,
        "start_time": "2023-03-13T15:05:22.898Z"
      },
      {
        "duration": 177,
        "start_time": "2023-03-13T15:05:23.034Z"
      },
      {
        "duration": 1171,
        "start_time": "2023-03-13T15:05:23.213Z"
      },
      {
        "duration": 15,
        "start_time": "2023-03-13T15:05:24.386Z"
      },
      {
        "duration": 140,
        "start_time": "2023-03-13T15:05:24.404Z"
      },
      {
        "duration": 4616,
        "start_time": "2023-03-13T15:05:24.546Z"
      },
      {
        "duration": 1069,
        "start_time": "2023-03-13T15:05:29.164Z"
      },
      {
        "duration": 206,
        "start_time": "2023-03-13T15:05:30.235Z"
      },
      {
        "duration": 75,
        "start_time": "2023-03-13T15:05:30.442Z"
      },
      {
        "duration": 33,
        "start_time": "2023-03-13T15:05:30.520Z"
      },
      {
        "duration": 41,
        "start_time": "2023-03-13T15:05:30.556Z"
      },
      {
        "duration": 464,
        "start_time": "2023-03-13T15:05:30.599Z"
      },
      {
        "duration": 99,
        "start_time": "2023-03-13T15:05:31.066Z"
      },
      {
        "duration": 126,
        "start_time": "2023-03-13T15:05:31.167Z"
      },
      {
        "duration": 8,
        "start_time": "2023-03-13T15:05:31.295Z"
      },
      {
        "duration": 119,
        "start_time": "2023-03-13T15:05:31.305Z"
      },
      {
        "duration": 202,
        "start_time": "2023-03-13T15:05:31.426Z"
      },
      {
        "duration": 62,
        "start_time": "2023-03-13T15:05:31.630Z"
      },
      {
        "duration": 268,
        "start_time": "2023-03-13T15:05:31.694Z"
      },
      {
        "duration": 6345,
        "start_time": "2023-03-13T15:05:31.964Z"
      },
      {
        "duration": 3873,
        "start_time": "2023-03-13T15:05:38.311Z"
      },
      {
        "duration": 2279,
        "start_time": "2023-03-13T15:05:42.187Z"
      },
      {
        "duration": 39,
        "start_time": "2023-03-13T15:05:44.468Z"
      },
      {
        "duration": 162664,
        "start_time": "2023-03-13T15:05:44.509Z"
      },
      {
        "duration": 2086,
        "start_time": "2023-03-13T15:08:27.183Z"
      },
      {
        "duration": 35,
        "start_time": "2023-03-13T15:08:29.271Z"
      },
      {
        "duration": 193,
        "start_time": "2023-03-13T15:08:29.308Z"
      },
      {
        "duration": 499,
        "start_time": "2023-03-13T15:08:29.503Z"
      },
      {
        "duration": 249,
        "start_time": "2023-03-13T15:08:30.004Z"
      },
      {
        "duration": 425875,
        "start_time": "2023-03-13T15:08:30.255Z"
      },
      {
        "duration": 4,
        "start_time": "2023-03-13T15:15:36.132Z"
      },
      {
        "duration": 135,
        "start_time": "2023-03-13T15:15:36.140Z"
      },
      {
        "duration": 0,
        "start_time": "2023-03-13T15:15:36.276Z"
      },
      {
        "duration": 0,
        "start_time": "2023-03-13T15:15:36.278Z"
      },
      {
        "duration": 0,
        "start_time": "2023-03-13T15:15:36.279Z"
      },
      {
        "duration": 0,
        "start_time": "2023-03-13T15:15:36.280Z"
      },
      {
        "duration": 0,
        "start_time": "2023-03-13T15:15:36.281Z"
      },
      {
        "duration": 0,
        "start_time": "2023-03-13T15:15:36.284Z"
      },
      {
        "duration": 0,
        "start_time": "2023-03-13T15:15:36.285Z"
      },
      {
        "duration": 0,
        "start_time": "2023-03-13T15:15:36.286Z"
      },
      {
        "duration": 0,
        "start_time": "2023-03-13T15:15:36.289Z"
      },
      {
        "duration": 6632,
        "start_time": "2023-03-14T05:14:10.809Z"
      },
      {
        "duration": 2294,
        "start_time": "2023-03-14T05:14:17.443Z"
      },
      {
        "duration": 1654,
        "start_time": "2023-03-14T05:14:19.739Z"
      },
      {
        "duration": 1204,
        "start_time": "2023-03-14T05:14:21.395Z"
      },
      {
        "duration": 294,
        "start_time": "2023-03-14T05:14:22.601Z"
      },
      {
        "duration": 1675,
        "start_time": "2023-03-14T05:14:22.897Z"
      },
      {
        "duration": 539,
        "start_time": "2023-03-14T05:14:24.574Z"
      },
      {
        "duration": 65,
        "start_time": "2023-03-14T05:14:25.114Z"
      },
      {
        "duration": 86,
        "start_time": "2023-03-14T05:14:25.181Z"
      },
      {
        "duration": 169,
        "start_time": "2023-03-14T05:14:25.269Z"
      },
      {
        "duration": 268,
        "start_time": "2023-03-14T05:14:25.440Z"
      },
      {
        "duration": 1125,
        "start_time": "2023-03-14T05:14:25.711Z"
      },
      {
        "duration": 38,
        "start_time": "2023-03-14T05:14:26.838Z"
      },
      {
        "duration": 168,
        "start_time": "2023-03-14T05:14:26.879Z"
      },
      {
        "duration": 4804,
        "start_time": "2023-03-14T05:14:27.048Z"
      },
      {
        "duration": 1062,
        "start_time": "2023-03-14T05:14:31.853Z"
      },
      {
        "duration": 60,
        "start_time": "2023-03-14T05:14:32.917Z"
      },
      {
        "duration": 51,
        "start_time": "2023-03-14T05:14:32.979Z"
      },
      {
        "duration": 47,
        "start_time": "2023-03-14T05:14:33.032Z"
      },
      {
        "duration": 25,
        "start_time": "2023-03-14T05:14:33.081Z"
      },
      {
        "duration": 429,
        "start_time": "2023-03-14T05:14:33.107Z"
      },
      {
        "duration": 101,
        "start_time": "2023-03-14T05:14:33.538Z"
      },
      {
        "duration": 104,
        "start_time": "2023-03-14T05:14:33.641Z"
      },
      {
        "duration": 7,
        "start_time": "2023-03-14T05:14:33.766Z"
      },
      {
        "duration": 100,
        "start_time": "2023-03-14T05:14:33.775Z"
      },
      {
        "duration": 157,
        "start_time": "2023-03-14T05:14:33.877Z"
      },
      {
        "duration": 68,
        "start_time": "2023-03-14T05:14:34.036Z"
      },
      {
        "duration": 228,
        "start_time": "2023-03-14T05:14:34.106Z"
      },
      {
        "duration": 5569,
        "start_time": "2023-03-14T05:14:34.336Z"
      },
      {
        "duration": 3255,
        "start_time": "2023-03-14T05:14:39.907Z"
      },
      {
        "duration": 1760,
        "start_time": "2023-03-14T05:14:43.164Z"
      },
      {
        "duration": 50,
        "start_time": "2023-03-14T05:14:44.925Z"
      },
      {
        "duration": 132639,
        "start_time": "2023-03-14T05:14:44.977Z"
      },
      {
        "duration": 1705,
        "start_time": "2023-03-14T05:16:57.617Z"
      },
      {
        "duration": 24,
        "start_time": "2023-03-14T05:16:59.324Z"
      },
      {
        "duration": 139,
        "start_time": "2023-03-14T05:16:59.358Z"
      },
      {
        "duration": 511,
        "start_time": "2023-03-14T05:16:59.498Z"
      },
      {
        "duration": 200,
        "start_time": "2023-03-14T05:17:00.011Z"
      },
      {
        "duration": 389257,
        "start_time": "2023-03-14T05:17:00.213Z"
      },
      {
        "duration": 3,
        "start_time": "2023-03-14T05:23:29.472Z"
      },
      {
        "duration": 129,
        "start_time": "2023-03-14T05:23:29.478Z"
      },
      {
        "duration": 0,
        "start_time": "2023-03-14T05:23:29.609Z"
      },
      {
        "duration": 0,
        "start_time": "2023-03-14T05:23:29.610Z"
      },
      {
        "duration": 0,
        "start_time": "2023-03-14T05:23:29.611Z"
      },
      {
        "duration": 0,
        "start_time": "2023-03-14T05:23:29.612Z"
      },
      {
        "duration": 0,
        "start_time": "2023-03-14T05:23:29.613Z"
      },
      {
        "duration": 0,
        "start_time": "2023-03-14T05:23:29.615Z"
      },
      {
        "duration": 0,
        "start_time": "2023-03-14T05:23:29.616Z"
      },
      {
        "duration": 0,
        "start_time": "2023-03-14T05:23:29.616Z"
      },
      {
        "duration": 0,
        "start_time": "2023-03-14T05:23:29.618Z"
      },
      {
        "duration": 11,
        "start_time": "2023-03-14T06:53:34.696Z"
      },
      {
        "duration": 121,
        "start_time": "2023-03-14T06:53:47.316Z"
      },
      {
        "duration": 16941,
        "start_time": "2023-03-14T06:53:57.944Z"
      },
      {
        "duration": 497952,
        "start_time": "2023-03-14T06:55:06.174Z"
      },
      {
        "duration": 7084,
        "start_time": "2023-03-14T07:03:24.128Z"
      },
      {
        "duration": 31,
        "start_time": "2023-03-14T07:03:31.214Z"
      },
      {
        "duration": 10810,
        "start_time": "2023-03-14T07:03:31.247Z"
      },
      {
        "duration": 299,
        "start_time": "2023-03-14T07:03:42.059Z"
      },
      {
        "duration": 121617,
        "start_time": "2023-03-14T07:03:42.360Z"
      },
      {
        "duration": 9985,
        "start_time": "2023-03-14T07:05:43.979Z"
      },
      {
        "duration": 303,
        "start_time": "2023-03-14T07:05:53.966Z"
      },
      {
        "duration": 13,
        "start_time": "2023-03-14T07:05:54.272Z"
      },
      {
        "duration": 0,
        "start_time": "2023-03-14T07:05:54.286Z"
      },
      {
        "duration": 128,
        "start_time": "2023-03-14T07:08:13.646Z"
      },
      {
        "duration": 680,
        "start_time": "2023-03-14T07:08:14.708Z"
      },
      {
        "duration": 126,
        "start_time": "2023-03-14T07:08:28.378Z"
      },
      {
        "duration": 246,
        "start_time": "2023-03-14T07:08:31.815Z"
      },
      {
        "duration": 40,
        "start_time": "2023-03-14T07:08:55.450Z"
      },
      {
        "duration": 47,
        "start_time": "2023-03-14T07:09:35.300Z"
      },
      {
        "duration": 127,
        "start_time": "2023-03-14T07:09:51.782Z"
      },
      {
        "duration": 618,
        "start_time": "2023-03-14T07:09:52.920Z"
      },
      {
        "duration": 176,
        "start_time": "2023-03-14T07:09:57.004Z"
      },
      {
        "duration": 464292,
        "start_time": "2023-03-14T07:10:02.746Z"
      },
      {
        "duration": 2,
        "start_time": "2023-03-14T07:17:47.040Z"
      },
      {
        "duration": 500481,
        "start_time": "2023-03-14T07:17:47.044Z"
      },
      {
        "duration": 6442,
        "start_time": "2023-03-14T07:26:07.527Z"
      },
      {
        "duration": 30,
        "start_time": "2023-03-14T07:26:13.971Z"
      },
      {
        "duration": 4466,
        "start_time": "2023-03-14T07:26:14.003Z"
      },
      {
        "duration": 587,
        "start_time": "2023-03-14T07:26:18.471Z"
      },
      {
        "duration": 111009,
        "start_time": "2023-03-14T07:26:19.060Z"
      },
      {
        "duration": 11092,
        "start_time": "2023-03-14T07:28:10.070Z"
      },
      {
        "duration": 610,
        "start_time": "2023-03-14T07:28:21.165Z"
      },
      {
        "duration": 257,
        "start_time": "2023-03-14T07:28:21.777Z"
      },
      {
        "duration": 633,
        "start_time": "2023-03-14T07:28:22.036Z"
      },
      {
        "duration": 8871,
        "start_time": "2023-03-14T21:20:50.443Z"
      },
      {
        "duration": 2477,
        "start_time": "2023-03-14T21:20:59.317Z"
      },
      {
        "duration": 1459,
        "start_time": "2023-03-14T21:21:01.796Z"
      },
      {
        "duration": 943,
        "start_time": "2023-03-14T21:21:03.258Z"
      },
      {
        "duration": 380,
        "start_time": "2023-03-14T21:21:04.203Z"
      },
      {
        "duration": 1987,
        "start_time": "2023-03-14T21:21:04.586Z"
      },
      {
        "duration": 600,
        "start_time": "2023-03-14T21:21:06.575Z"
      },
      {
        "duration": 54,
        "start_time": "2023-03-14T21:21:07.177Z"
      },
      {
        "duration": 97,
        "start_time": "2023-03-14T21:21:07.233Z"
      },
      {
        "duration": 163,
        "start_time": "2023-03-14T21:21:07.333Z"
      },
      {
        "duration": 217,
        "start_time": "2023-03-14T21:21:07.498Z"
      },
      {
        "duration": 1239,
        "start_time": "2023-03-14T21:21:07.718Z"
      },
      {
        "duration": 20,
        "start_time": "2023-03-14T21:21:08.964Z"
      },
      {
        "duration": 185,
        "start_time": "2023-03-14T21:21:08.986Z"
      },
      {
        "duration": 5202,
        "start_time": "2023-03-14T21:21:09.173Z"
      },
      {
        "duration": 1311,
        "start_time": "2023-03-14T21:21:14.378Z"
      },
      {
        "duration": 205,
        "start_time": "2023-03-14T21:21:15.691Z"
      },
      {
        "duration": 71,
        "start_time": "2023-03-14T21:21:15.897Z"
      },
      {
        "duration": 32,
        "start_time": "2023-03-14T21:21:15.970Z"
      },
      {
        "duration": 27,
        "start_time": "2023-03-14T21:21:16.004Z"
      },
      {
        "duration": 465,
        "start_time": "2023-03-14T21:21:16.033Z"
      },
      {
        "duration": 103,
        "start_time": "2023-03-14T21:21:16.501Z"
      },
      {
        "duration": 192,
        "start_time": "2023-03-14T21:21:16.606Z"
      },
      {
        "duration": 11,
        "start_time": "2023-03-14T21:21:16.800Z"
      },
      {
        "duration": 124,
        "start_time": "2023-03-14T21:21:16.814Z"
      },
      {
        "duration": 172,
        "start_time": "2023-03-14T21:21:16.940Z"
      },
      {
        "duration": 71,
        "start_time": "2023-03-14T21:21:17.114Z"
      },
      {
        "duration": 214,
        "start_time": "2023-03-14T21:21:17.190Z"
      },
      {
        "duration": 6004,
        "start_time": "2023-03-14T21:21:17.406Z"
      },
      {
        "duration": 2854,
        "start_time": "2023-03-14T21:21:23.412Z"
      },
      {
        "duration": 1944,
        "start_time": "2023-03-14T21:21:26.268Z"
      },
      {
        "duration": 56,
        "start_time": "2023-03-14T21:21:28.213Z"
      },
      {
        "duration": 142348,
        "start_time": "2023-03-14T21:21:28.272Z"
      },
      {
        "duration": 1851,
        "start_time": "2023-03-14T21:23:50.622Z"
      },
      {
        "duration": 25,
        "start_time": "2023-03-14T21:23:52.476Z"
      },
      {
        "duration": 160,
        "start_time": "2023-03-14T21:23:52.504Z"
      },
      {
        "duration": 649,
        "start_time": "2023-03-14T21:23:52.666Z"
      },
      {
        "duration": 220,
        "start_time": "2023-03-14T21:23:53.317Z"
      },
      {
        "duration": 152762,
        "start_time": "2023-03-14T21:23:53.539Z"
      },
      {
        "duration": 12,
        "start_time": "2023-03-14T21:26:26.302Z"
      },
      {
        "duration": 0,
        "start_time": "2023-03-14T21:26:26.316Z"
      },
      {
        "duration": 0,
        "start_time": "2023-03-14T21:26:26.317Z"
      },
      {
        "duration": 0,
        "start_time": "2023-03-14T21:26:26.318Z"
      },
      {
        "duration": 0,
        "start_time": "2023-03-14T21:26:26.320Z"
      },
      {
        "duration": 0,
        "start_time": "2023-03-14T21:26:26.321Z"
      },
      {
        "duration": 0,
        "start_time": "2023-03-14T21:26:26.323Z"
      },
      {
        "duration": 0,
        "start_time": "2023-03-14T21:26:26.324Z"
      },
      {
        "duration": 0,
        "start_time": "2023-03-14T21:26:26.325Z"
      },
      {
        "duration": 0,
        "start_time": "2023-03-14T21:26:26.326Z"
      },
      {
        "duration": 0,
        "start_time": "2023-03-14T21:26:26.327Z"
      }
    ],
    "kernelspec": {
      "display_name": "Python 3 (ipykernel)",
      "language": "python",
      "name": "python3"
    },
    "language_info": {
      "codemirror_mode": {
        "name": "ipython",
        "version": 3
      },
      "file_extension": ".py",
      "mimetype": "text/x-python",
      "name": "python",
      "nbconvert_exporter": "python",
      "pygments_lexer": "ipython3",
      "version": "3.9.5"
    },
    "toc": {
      "base_numbering": 1,
      "nav_menu": {
        "height": "175px",
        "width": "486.4px"
      },
      "number_sections": true,
      "sideBar": true,
      "skip_h1_title": true,
      "title_cell": "Table of Contents",
      "title_sidebar": "Contents",
      "toc_cell": false,
      "toc_position": {
        "height": "calc(100% - 180px)",
        "left": "10px",
        "top": "150px",
        "width": "371px"
      },
      "toc_section_display": true,
      "toc_window_display": false
    },
    "colab": {
      "provenance": [],
      "toc_visible": true
    }
  },
  "nbformat": 4,
  "nbformat_minor": 0
}